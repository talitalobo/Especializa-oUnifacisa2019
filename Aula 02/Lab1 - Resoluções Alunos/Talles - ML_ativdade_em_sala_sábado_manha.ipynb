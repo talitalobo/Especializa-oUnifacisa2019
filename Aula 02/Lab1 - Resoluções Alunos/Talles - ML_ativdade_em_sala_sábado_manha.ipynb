{
  "nbformat": 4,
  "nbformat_minor": 0,
  "metadata": {
    "colab": {
      "name": "ML_ativdade em sala-sábado-manha",
      "provenance": [],
      "collapsed_sections": [],
      "toc_visible": true
    },
    "kernelspec": {
      "name": "python3",
      "display_name": "Python 3"
    },
    "accelerator": "GPU"
  },
  "cells": [
    {
      "cell_type": "markdown",
      "metadata": {
        "id": "uCES-gS3UFGN",
        "colab_type": "text"
      },
      "source": [
        "**Aluno: Talles Henrique Sousa Gomes**"
      ]
    },
    {
      "cell_type": "code",
      "metadata": {
        "id": "9R5DKVE4DgwZ",
        "colab_type": "code",
        "colab": {}
      },
      "source": [
        "# Importação das bibliotecas necessárias\n",
        "\n",
        "import pandas as pd # para criação do data frame\n",
        "from sklearn.model_selection import train_test_split # para separação dos conjuntos de treino e teste\n",
        "from sklearn.linear_model import LogisticRegression # para construção do modelo de Regressão Logística\n",
        "from sklearn import metrics # para computação das métricas de avaliação\n",
        "from sklearn.metrics import confusion_matrix\n",
        "import seaborn as sn # para visualização dos resultados"
      ],
      "execution_count": 0,
      "outputs": []
    },
    {
      "cell_type": "code",
      "metadata": {
        "id": "dh-yZKPgGkgP",
        "colab_type": "code",
        "outputId": "0f52a8ac-ba58-402b-d95e-c7fe0f272231",
        "colab": {
          "base_uri": "https://localhost:8080/",
          "height": 530
        }
      },
      "source": [
        "# Importando os dados de contratos\n",
        "titanic_data = pd.read_csv(\"titanic3.csv\")\n",
        "titanic_data.head()"
      ],
      "execution_count": 8,
      "outputs": [
        {
          "output_type": "execute_result",
          "data": {
            "text/html": [
              "<div>\n",
              "<style scoped>\n",
              "    .dataframe tbody tr th:only-of-type {\n",
              "        vertical-align: middle;\n",
              "    }\n",
              "\n",
              "    .dataframe tbody tr th {\n",
              "        vertical-align: top;\n",
              "    }\n",
              "\n",
              "    .dataframe thead th {\n",
              "        text-align: right;\n",
              "    }\n",
              "</style>\n",
              "<table border=\"1\" class=\"dataframe\">\n",
              "  <thead>\n",
              "    <tr style=\"text-align: right;\">\n",
              "      <th></th>\n",
              "      <th>pclass</th>\n",
              "      <th>survived</th>\n",
              "      <th>name</th>\n",
              "      <th>sex</th>\n",
              "      <th>age</th>\n",
              "      <th>sibsp</th>\n",
              "      <th>parch</th>\n",
              "      <th>ticket</th>\n",
              "      <th>fare</th>\n",
              "      <th>cabin</th>\n",
              "      <th>embarked</th>\n",
              "      <th>boat</th>\n",
              "      <th>body</th>\n",
              "      <th>home.dest</th>\n",
              "    </tr>\n",
              "  </thead>\n",
              "  <tbody>\n",
              "    <tr>\n",
              "      <th>0</th>\n",
              "      <td>1</td>\n",
              "      <td>1</td>\n",
              "      <td>Allen, Miss. Elisabeth Walton</td>\n",
              "      <td>female</td>\n",
              "      <td>29.00</td>\n",
              "      <td>0</td>\n",
              "      <td>0</td>\n",
              "      <td>24160</td>\n",
              "      <td>211.3375</td>\n",
              "      <td>B5</td>\n",
              "      <td>S</td>\n",
              "      <td>2</td>\n",
              "      <td>NaN</td>\n",
              "      <td>St Louis, MO</td>\n",
              "    </tr>\n",
              "    <tr>\n",
              "      <th>1</th>\n",
              "      <td>1</td>\n",
              "      <td>1</td>\n",
              "      <td>Allison, Master. Hudson Trevor</td>\n",
              "      <td>male</td>\n",
              "      <td>0.92</td>\n",
              "      <td>1</td>\n",
              "      <td>2</td>\n",
              "      <td>113781</td>\n",
              "      <td>151.5500</td>\n",
              "      <td>C22 C26</td>\n",
              "      <td>S</td>\n",
              "      <td>11</td>\n",
              "      <td>NaN</td>\n",
              "      <td>Montreal, PQ / Chesterville, ON</td>\n",
              "    </tr>\n",
              "    <tr>\n",
              "      <th>2</th>\n",
              "      <td>1</td>\n",
              "      <td>0</td>\n",
              "      <td>Allison, Miss. Helen Loraine</td>\n",
              "      <td>female</td>\n",
              "      <td>2.00</td>\n",
              "      <td>1</td>\n",
              "      <td>2</td>\n",
              "      <td>113781</td>\n",
              "      <td>151.5500</td>\n",
              "      <td>C22 C26</td>\n",
              "      <td>S</td>\n",
              "      <td>NaN</td>\n",
              "      <td>NaN</td>\n",
              "      <td>Montreal, PQ / Chesterville, ON</td>\n",
              "    </tr>\n",
              "    <tr>\n",
              "      <th>3</th>\n",
              "      <td>1</td>\n",
              "      <td>0</td>\n",
              "      <td>Allison, Mr. Hudson Joshua Creighton</td>\n",
              "      <td>male</td>\n",
              "      <td>30.00</td>\n",
              "      <td>1</td>\n",
              "      <td>2</td>\n",
              "      <td>113781</td>\n",
              "      <td>151.5500</td>\n",
              "      <td>C22 C26</td>\n",
              "      <td>S</td>\n",
              "      <td>NaN</td>\n",
              "      <td>135.0</td>\n",
              "      <td>Montreal, PQ / Chesterville, ON</td>\n",
              "    </tr>\n",
              "    <tr>\n",
              "      <th>4</th>\n",
              "      <td>1</td>\n",
              "      <td>0</td>\n",
              "      <td>Allison, Mrs. Hudson J C (Bessie Waldo Daniels)</td>\n",
              "      <td>female</td>\n",
              "      <td>25.00</td>\n",
              "      <td>1</td>\n",
              "      <td>2</td>\n",
              "      <td>113781</td>\n",
              "      <td>151.5500</td>\n",
              "      <td>C22 C26</td>\n",
              "      <td>S</td>\n",
              "      <td>NaN</td>\n",
              "      <td>NaN</td>\n",
              "      <td>Montreal, PQ / Chesterville, ON</td>\n",
              "    </tr>\n",
              "  </tbody>\n",
              "</table>\n",
              "</div>"
            ],
            "text/plain": [
              "   pclass  survived  ...   body                        home.dest\n",
              "0       1         1  ...    NaN                     St Louis, MO\n",
              "1       1         1  ...    NaN  Montreal, PQ / Chesterville, ON\n",
              "2       1         0  ...    NaN  Montreal, PQ / Chesterville, ON\n",
              "3       1         0  ...  135.0  Montreal, PQ / Chesterville, ON\n",
              "4       1         0  ...    NaN  Montreal, PQ / Chesterville, ON\n",
              "\n",
              "[5 rows x 14 columns]"
            ]
          },
          "metadata": {
            "tags": []
          },
          "execution_count": 8
        }
      ]
    },
    {
      "cell_type": "markdown",
      "metadata": {
        "id": "vbICFZxxHEql",
        "colab_type": "text"
      },
      "source": [
        "##Quais as minhas variáveis?"
      ]
    },
    {
      "cell_type": "code",
      "metadata": {
        "id": "6IxJflyXG4kn",
        "colab_type": "code",
        "outputId": "e6f3a692-b22b-4d51-e871-da51399eaec6",
        "colab": {
          "base_uri": "https://localhost:8080/",
          "height": 340
        }
      },
      "source": [
        "titanic_data.info()"
      ],
      "execution_count": 9,
      "outputs": [
        {
          "output_type": "stream",
          "text": [
            "<class 'pandas.core.frame.DataFrame'>\n",
            "RangeIndex: 1309 entries, 0 to 1308\n",
            "Data columns (total 14 columns):\n",
            "pclass       1309 non-null int64\n",
            "survived     1309 non-null int64\n",
            "name         1309 non-null object\n",
            "sex          1309 non-null object\n",
            "age          1046 non-null float64\n",
            "sibsp        1309 non-null int64\n",
            "parch        1309 non-null int64\n",
            "ticket       1309 non-null object\n",
            "fare         1308 non-null float64\n",
            "cabin        295 non-null object\n",
            "embarked     1307 non-null object\n",
            "boat         486 non-null object\n",
            "body         121 non-null float64\n",
            "home.dest    745 non-null object\n",
            "dtypes: float64(3), int64(4), object(7)\n",
            "memory usage: 143.3+ KB\n"
          ],
          "name": "stdout"
        }
      ]
    },
    {
      "cell_type": "markdown",
      "metadata": {
        "id": "MDyLQ5XsHUKV",
        "colab_type": "text"
      },
      "source": [
        "## Quais os tipos das minhas variáveis?"
      ]
    },
    {
      "cell_type": "markdown",
      "metadata": {
        "id": "MJE4dvdxIFTq",
        "colab_type": "text"
      },
      "source": [
        "* pclass - Qualitativa ordinal;\n",
        "* survived - Qualitativa ordinal;\n",
        "* name - Qualitativa nominal\n",
        "* sex - Qualitativa nominal\n",
        "* age - quantitativa discreta\n",
        "* sibsp - quantitativa discreta\n",
        "* parch - quantitativa discreta\n",
        "* ticket - Qualitativa nominal\n",
        "* fare - quantitativa continua\n",
        "* cabin - qualitativa nominal\n",
        "* embarked - qualitativa nominal\n",
        "* boat -\n",
        "* body - quantitativa continua\n",
        "* home.dest - qualitativa nominal\n"
      ]
    },
    {
      "cell_type": "markdown",
      "metadata": {
        "id": "K98BOUgpJ-uy",
        "colab_type": "text"
      },
      "source": [
        "## Tenho valores faltantes ou nulos?"
      ]
    },
    {
      "cell_type": "code",
      "metadata": {
        "id": "FDnaknoPHPsC",
        "colab_type": "code",
        "outputId": "bde1479a-f77c-46bf-a5f5-1ac0a468cf8e",
        "colab": {
          "base_uri": "https://localhost:8080/",
          "height": 272
        }
      },
      "source": [
        "print(titanic_data.isnull().sum())"
      ],
      "execution_count": 10,
      "outputs": [
        {
          "output_type": "stream",
          "text": [
            "pclass          0\n",
            "survived        0\n",
            "name            0\n",
            "sex             0\n",
            "age           263\n",
            "sibsp           0\n",
            "parch           0\n",
            "ticket          0\n",
            "fare            1\n",
            "cabin        1014\n",
            "embarked        2\n",
            "boat          823\n",
            "body         1188\n",
            "home.dest     564\n",
            "dtype: int64\n"
          ],
          "name": "stdout"
        }
      ]
    },
    {
      "cell_type": "code",
      "metadata": {
        "id": "QZ0n6OlpYbZL",
        "colab_type": "code",
        "colab": {}
      },
      "source": [
        "titanic_data = titanic_data.fillna(titanic_data.median())"
      ],
      "execution_count": 0,
      "outputs": []
    },
    {
      "cell_type": "code",
      "metadata": {
        "id": "DEzJufb8YIq6",
        "colab_type": "code",
        "outputId": "34da8a62-89ba-404b-9614-35b765462f7b",
        "colab": {
          "base_uri": "https://localhost:8080/",
          "height": 255
        }
      },
      "source": [
        "data = pd.DataFrame(titanic_data[['sex']])\n",
        "\n",
        "print(pd.get_dummies(data))"
      ],
      "execution_count": 12,
      "outputs": [
        {
          "output_type": "stream",
          "text": [
            "      sex_female  sex_male\n",
            "0              1         0\n",
            "1              0         1\n",
            "2              1         0\n",
            "3              0         1\n",
            "4              1         0\n",
            "...          ...       ...\n",
            "1304           1         0\n",
            "1305           1         0\n",
            "1306           0         1\n",
            "1307           0         1\n",
            "1308           0         1\n",
            "\n",
            "[1309 rows x 2 columns]\n"
          ],
          "name": "stdout"
        }
      ]
    },
    {
      "cell_type": "markdown",
      "metadata": {
        "id": "r9SthXuDKPiI",
        "colab_type": "text"
      },
      "source": [
        "Interpretação do sumário"
      ]
    },
    {
      "cell_type": "code",
      "metadata": {
        "id": "p9ngqbR6HcgH",
        "colab_type": "code",
        "outputId": "34e97396-99cc-49fd-ed9e-055fb57a7ff3",
        "colab": {
          "base_uri": "https://localhost:8080/",
          "height": 297
        }
      },
      "source": [
        "titanic_data.describe()"
      ],
      "execution_count": 13,
      "outputs": [
        {
          "output_type": "execute_result",
          "data": {
            "text/html": [
              "<div>\n",
              "<style scoped>\n",
              "    .dataframe tbody tr th:only-of-type {\n",
              "        vertical-align: middle;\n",
              "    }\n",
              "\n",
              "    .dataframe tbody tr th {\n",
              "        vertical-align: top;\n",
              "    }\n",
              "\n",
              "    .dataframe thead th {\n",
              "        text-align: right;\n",
              "    }\n",
              "</style>\n",
              "<table border=\"1\" class=\"dataframe\">\n",
              "  <thead>\n",
              "    <tr style=\"text-align: right;\">\n",
              "      <th></th>\n",
              "      <th>pclass</th>\n",
              "      <th>survived</th>\n",
              "      <th>age</th>\n",
              "      <th>sibsp</th>\n",
              "      <th>parch</th>\n",
              "      <th>fare</th>\n",
              "      <th>body</th>\n",
              "    </tr>\n",
              "  </thead>\n",
              "  <tbody>\n",
              "    <tr>\n",
              "      <th>count</th>\n",
              "      <td>1309.000000</td>\n",
              "      <td>1309.000000</td>\n",
              "      <td>1309.000000</td>\n",
              "      <td>1309.000000</td>\n",
              "      <td>1309.000000</td>\n",
              "      <td>1309.000000</td>\n",
              "      <td>1309.000000</td>\n",
              "    </tr>\n",
              "    <tr>\n",
              "      <th>mean</th>\n",
              "      <td>2.294882</td>\n",
              "      <td>0.381971</td>\n",
              "      <td>29.503186</td>\n",
              "      <td>0.498854</td>\n",
              "      <td>0.385027</td>\n",
              "      <td>33.281086</td>\n",
              "      <td>155.537051</td>\n",
              "    </tr>\n",
              "    <tr>\n",
              "      <th>std</th>\n",
              "      <td>0.837836</td>\n",
              "      <td>0.486055</td>\n",
              "      <td>12.905241</td>\n",
              "      <td>1.041658</td>\n",
              "      <td>0.865560</td>\n",
              "      <td>51.741500</td>\n",
              "      <td>29.639390</td>\n",
              "    </tr>\n",
              "    <tr>\n",
              "      <th>min</th>\n",
              "      <td>1.000000</td>\n",
              "      <td>0.000000</td>\n",
              "      <td>0.170000</td>\n",
              "      <td>0.000000</td>\n",
              "      <td>0.000000</td>\n",
              "      <td>0.000000</td>\n",
              "      <td>1.000000</td>\n",
              "    </tr>\n",
              "    <tr>\n",
              "      <th>25%</th>\n",
              "      <td>2.000000</td>\n",
              "      <td>0.000000</td>\n",
              "      <td>22.000000</td>\n",
              "      <td>0.000000</td>\n",
              "      <td>0.000000</td>\n",
              "      <td>7.895800</td>\n",
              "      <td>155.000000</td>\n",
              "    </tr>\n",
              "    <tr>\n",
              "      <th>50%</th>\n",
              "      <td>3.000000</td>\n",
              "      <td>0.000000</td>\n",
              "      <td>28.000000</td>\n",
              "      <td>0.000000</td>\n",
              "      <td>0.000000</td>\n",
              "      <td>14.454200</td>\n",
              "      <td>155.000000</td>\n",
              "    </tr>\n",
              "    <tr>\n",
              "      <th>75%</th>\n",
              "      <td>3.000000</td>\n",
              "      <td>1.000000</td>\n",
              "      <td>35.000000</td>\n",
              "      <td>1.000000</td>\n",
              "      <td>0.000000</td>\n",
              "      <td>31.275000</td>\n",
              "      <td>155.000000</td>\n",
              "    </tr>\n",
              "    <tr>\n",
              "      <th>max</th>\n",
              "      <td>3.000000</td>\n",
              "      <td>1.000000</td>\n",
              "      <td>80.000000</td>\n",
              "      <td>8.000000</td>\n",
              "      <td>9.000000</td>\n",
              "      <td>512.329200</td>\n",
              "      <td>328.000000</td>\n",
              "    </tr>\n",
              "  </tbody>\n",
              "</table>\n",
              "</div>"
            ],
            "text/plain": [
              "            pclass     survived  ...         fare         body\n",
              "count  1309.000000  1309.000000  ...  1309.000000  1309.000000\n",
              "mean      2.294882     0.381971  ...    33.281086   155.537051\n",
              "std       0.837836     0.486055  ...    51.741500    29.639390\n",
              "min       1.000000     0.000000  ...     0.000000     1.000000\n",
              "25%       2.000000     0.000000  ...     7.895800   155.000000\n",
              "50%       3.000000     0.000000  ...    14.454200   155.000000\n",
              "75%       3.000000     1.000000  ...    31.275000   155.000000\n",
              "max       3.000000     1.000000  ...   512.329200   328.000000\n",
              "\n",
              "[8 rows x 7 columns]"
            ]
          },
          "metadata": {
            "tags": []
          },
          "execution_count": 13
        }
      ]
    },
    {
      "cell_type": "markdown",
      "metadata": {
        "id": "Hqdc4ADFMDWV",
        "colab_type": "text"
      },
      "source": [
        "## tenho relação/correlação forte entre variáveis do meu dataset?"
      ]
    },
    {
      "cell_type": "code",
      "metadata": {
        "id": "RkOE2RhuKXor",
        "colab_type": "code",
        "outputId": "c30e236e-8e14-403b-9891-051463eae070",
        "colab": {
          "base_uri": "https://localhost:8080/",
          "height": 266
        }
      },
      "source": [
        "titanic_data.corr()"
      ],
      "execution_count": 14,
      "outputs": [
        {
          "output_type": "execute_result",
          "data": {
            "text/html": [
              "<div>\n",
              "<style scoped>\n",
              "    .dataframe tbody tr th:only-of-type {\n",
              "        vertical-align: middle;\n",
              "    }\n",
              "\n",
              "    .dataframe tbody tr th {\n",
              "        vertical-align: top;\n",
              "    }\n",
              "\n",
              "    .dataframe thead th {\n",
              "        text-align: right;\n",
              "    }\n",
              "</style>\n",
              "<table border=\"1\" class=\"dataframe\">\n",
              "  <thead>\n",
              "    <tr style=\"text-align: right;\">\n",
              "      <th></th>\n",
              "      <th>pclass</th>\n",
              "      <th>survived</th>\n",
              "      <th>age</th>\n",
              "      <th>sibsp</th>\n",
              "      <th>parch</th>\n",
              "      <th>fare</th>\n",
              "      <th>body</th>\n",
              "    </tr>\n",
              "  </thead>\n",
              "  <tbody>\n",
              "    <tr>\n",
              "      <th>pclass</th>\n",
              "      <td>1.000000</td>\n",
              "      <td>-0.312469</td>\n",
              "      <td>-0.377908</td>\n",
              "      <td>0.060832</td>\n",
              "      <td>0.018322</td>\n",
              "      <td>-0.558683</td>\n",
              "      <td>-0.013432</td>\n",
              "    </tr>\n",
              "    <tr>\n",
              "      <th>survived</th>\n",
              "      <td>-0.312469</td>\n",
              "      <td>1.000000</td>\n",
              "      <td>-0.043817</td>\n",
              "      <td>-0.027825</td>\n",
              "      <td>0.082660</td>\n",
              "      <td>0.244414</td>\n",
              "      <td>-0.014250</td>\n",
              "    </tr>\n",
              "    <tr>\n",
              "      <th>age</th>\n",
              "      <td>-0.377908</td>\n",
              "      <td>-0.043817</td>\n",
              "      <td>1.000000</td>\n",
              "      <td>-0.189972</td>\n",
              "      <td>-0.125851</td>\n",
              "      <td>0.178182</td>\n",
              "      <td>0.029037</td>\n",
              "    </tr>\n",
              "    <tr>\n",
              "      <th>sibsp</th>\n",
              "      <td>0.060832</td>\n",
              "      <td>-0.027825</td>\n",
              "      <td>-0.189972</td>\n",
              "      <td>1.000000</td>\n",
              "      <td>0.373587</td>\n",
              "      <td>0.160349</td>\n",
              "      <td>-0.028519</td>\n",
              "    </tr>\n",
              "    <tr>\n",
              "      <th>parch</th>\n",
              "      <td>0.018322</td>\n",
              "      <td>0.082660</td>\n",
              "      <td>-0.125851</td>\n",
              "      <td>0.373587</td>\n",
              "      <td>1.000000</td>\n",
              "      <td>0.221635</td>\n",
              "      <td>0.012973</td>\n",
              "    </tr>\n",
              "    <tr>\n",
              "      <th>fare</th>\n",
              "      <td>-0.558683</td>\n",
              "      <td>0.244414</td>\n",
              "      <td>0.178182</td>\n",
              "      <td>0.160349</td>\n",
              "      <td>0.221635</td>\n",
              "      <td>1.000000</td>\n",
              "      <td>-0.011995</td>\n",
              "    </tr>\n",
              "    <tr>\n",
              "      <th>body</th>\n",
              "      <td>-0.013432</td>\n",
              "      <td>-0.014250</td>\n",
              "      <td>0.029037</td>\n",
              "      <td>-0.028519</td>\n",
              "      <td>0.012973</td>\n",
              "      <td>-0.011995</td>\n",
              "      <td>1.000000</td>\n",
              "    </tr>\n",
              "  </tbody>\n",
              "</table>\n",
              "</div>"
            ],
            "text/plain": [
              "            pclass  survived       age     sibsp     parch      fare      body\n",
              "pclass    1.000000 -0.312469 -0.377908  0.060832  0.018322 -0.558683 -0.013432\n",
              "survived -0.312469  1.000000 -0.043817 -0.027825  0.082660  0.244414 -0.014250\n",
              "age      -0.377908 -0.043817  1.000000 -0.189972 -0.125851  0.178182  0.029037\n",
              "sibsp     0.060832 -0.027825 -0.189972  1.000000  0.373587  0.160349 -0.028519\n",
              "parch     0.018322  0.082660 -0.125851  0.373587  1.000000  0.221635  0.012973\n",
              "fare     -0.558683  0.244414  0.178182  0.160349  0.221635  1.000000 -0.011995\n",
              "body     -0.013432 -0.014250  0.029037 -0.028519  0.012973 -0.011995  1.000000"
            ]
          },
          "metadata": {
            "tags": []
          },
          "execution_count": 14
        }
      ]
    },
    {
      "cell_type": "code",
      "metadata": {
        "id": "Jy9wMKHiZ7NQ",
        "colab_type": "code",
        "outputId": "80c345e0-93d3-431c-dba1-2c55ae8cea01",
        "colab": {
          "base_uri": "https://localhost:8080/",
          "height": 287
        }
      },
      "source": [
        "# Gera o gráfico da matriz de confusão\n",
        "sn.heatmap(titanic_data.corr(), annot=True)"
      ],
      "execution_count": 15,
      "outputs": [
        {
          "output_type": "execute_result",
          "data": {
            "text/plain": [
              "<matplotlib.axes._subplots.AxesSubplot at 0x7fbe14ad9a20>"
            ]
          },
          "metadata": {
            "tags": []
          },
          "execution_count": 15
        },
        {
          "output_type": "display_data",
          "data": {
            "image/png": "[encoded data removed]",
            "text/plain": [
              "<Figure size 432x288 with 2 Axes>"
            ]
          },
          "metadata": {
            "tags": []
          }
        }
      ]
    },
    {
      "cell_type": "markdown",
      "metadata": {
        "id": "6QpWWj2NNUgJ",
        "colab_type": "text"
      },
      "source": [
        "## Quais variáveis imagino que terão influencia na pergunta que desejo responder?"
      ]
    },
    {
      "cell_type": "markdown",
      "metadata": {
        "id": "-2gaijqSQYvi",
        "colab_type": "text"
      },
      "source": [
        "* fare, pclass, age e classe"
      ]
    },
    {
      "cell_type": "markdown",
      "metadata": {
        "id": "DHJckDdQQsVi",
        "colab_type": "text"
      },
      "source": [
        "## Qual o modelo que utilizarei para prever a chance de sobrevivencia?"
      ]
    },
    {
      "cell_type": "markdown",
      "metadata": {
        "id": "I7sMWtTyS5Wq",
        "colab_type": "text"
      },
      "source": [
        "* regressão logistica\n",
        "* Árvore de decisão\n",
        "* Floresta aleatória"
      ]
    },
    {
      "cell_type": "markdown",
      "metadata": {
        "id": "fLbsW75XS83r",
        "colab_type": "text"
      },
      "source": [
        "## Quais métricas utilizarei para avaliar meu modelo?"
      ]
    },
    {
      "cell_type": "markdown",
      "metadata": {
        "id": "QBO0WYICTGuI",
        "colab_type": "text"
      },
      "source": [
        "Acurácia"
      ]
    },
    {
      "cell_type": "markdown",
      "metadata": {
        "id": "S1mWzmC_WxBy",
        "colab_type": "text"
      },
      "source": [
        "Código:"
      ]
    },
    {
      "cell_type": "code",
      "metadata": {
        "id": "GCGJemsXQWwo",
        "colab_type": "code",
        "colab": {}
      },
      "source": [
        "preditores = titanic_data[['fare', 'pclass','age','parch']]\n",
        "alvo = titanic_data['survived']"
      ],
      "execution_count": 0,
      "outputs": []
    },
    {
      "cell_type": "code",
      "metadata": {
        "id": "aYC20loIXBfv",
        "colab_type": "code",
        "colab": {}
      },
      "source": [
        "preditores_treino, preditores_teste, alvo_treino, alvo_teste = train_test_split(preditores, alvo, test_size=0.30, random_state=0)"
      ],
      "execution_count": 0,
      "outputs": []
    },
    {
      "cell_type": "code",
      "metadata": {
        "id": "FgzLUiF5XIGu",
        "colab_type": "code",
        "outputId": "f57d5261-a06e-432f-bcf8-77a2df3eff47",
        "colab": {
          "base_uri": "https://localhost:8080/",
          "height": 71
        }
      },
      "source": [
        "# Instancia o modelo de regressão logística com parâmetros default\n",
        "modelo_reglog = LogisticRegression()\n",
        "\n",
        "# Treina o modelo com base nos preditores e variável alvo\n",
        "modelo_reglog.fit(preditores_treino, alvo_treino)\n",
        "\n",
        "# Prevê, para os dados do conjunto de teste, resultados para a variável alvo\n",
        "alvo_pred = modelo_reglog.predict(preditores_teste)"
      ],
      "execution_count": 18,
      "outputs": [
        {
          "output_type": "stream",
          "text": [
            "/usr/local/lib/python3.6/dist-packages/sklearn/linear_model/logistic.py:432: FutureWarning: Default solver will be changed to 'lbfgs' in 0.22. Specify a solver to silence this warning.\n",
            "  FutureWarning)\n"
          ],
          "name": "stderr"
        }
      ]
    },
    {
      "cell_type": "code",
      "metadata": {
        "id": "E_k8dC5DXtrW",
        "colab_type": "code",
        "outputId": "26a68d08-56d7-45ef-8aaa-09089989c148",
        "colab": {
          "base_uri": "https://localhost:8080/",
          "height": 51
        }
      },
      "source": [
        "# Matriz de confusão\n",
        "print(confusion_matrix(alvo_teste, alvo_pred))"
      ],
      "execution_count": 19,
      "outputs": [
        {
          "output_type": "stream",
          "text": [
            "[[213  33]\n",
            " [ 85  62]]\n"
          ],
          "name": "stdout"
        }
      ]
    },
    {
      "cell_type": "code",
      "metadata": {
        "id": "Hae0Sj7ZX1wU",
        "colab_type": "code",
        "outputId": "0fc57b33-964d-495e-a912-8ec25c9fc6cf",
        "colab": {
          "base_uri": "https://localhost:8080/",
          "height": 301
        }
      },
      "source": [
        "matriz_confusao = pd.crosstab(alvo_teste, alvo_pred, rownames=['Atual'], colnames=['Previsto'])\n",
        "\n",
        "# Gera o gráfico da matriz de confusão\n",
        "sn.heatmap(matriz_confusao, annot=True)"
      ],
      "execution_count": 20,
      "outputs": [
        {
          "output_type": "execute_result",
          "data": {
            "text/plain": [
              "<matplotlib.axes._subplots.AxesSubplot at 0x7fbe10f65da0>"
            ]
          },
          "metadata": {
            "tags": []
          },
          "execution_count": 20
        },
        {
          "output_type": "display_data",
          "data": {
            "image/png": "[encoded data removed]",
            "text/plain": [
              "<Figure size 432x288 with 2 Axes>"
            ]
          },
          "metadata": {
            "tags": []
          }
        }
      ]
    },
    {
      "cell_type": "code",
      "metadata": {
        "id": "bXp2Fpa0YGD6",
        "colab_type": "code",
        "outputId": "e067567d-5129-4c1f-937f-7131dcc98d19",
        "colab": {
          "base_uri": "https://localhost:8080/",
          "height": 102
        }
      },
      "source": [
        "# Acurácia do modelo\n",
        "print('Acurácia: ', metrics.accuracy_score(alvo_teste, alvo_pred))\n",
        "\n",
        "print('Precisão: ', metrics.precision_score(alvo_teste, alvo_pred))\n",
        "\n",
        "print('Revocação: ', metrics.recall_score(alvo_teste, alvo_pred))\n",
        "\n",
        "print('F1-Measure: ', metrics.f1_score(alvo_teste, alvo_pred))\n",
        "\n",
        "print('ROC AUC: ', metrics.roc_auc_score(alvo_teste, alvo_pred))"
      ],
      "execution_count": 21,
      "outputs": [
        {
          "output_type": "stream",
          "text": [
            "Acurácia:  0.6997455470737913\n",
            "Precisão:  0.6526315789473685\n",
            "Revocação:  0.4217687074829932\n",
            "F1-Measure:  0.512396694214876\n",
            "ROC AUC:  0.6438111830097893\n"
          ],
          "name": "stdout"
        }
      ]
    },
    {
      "cell_type": "markdown",
      "metadata": {
        "id": "YSnnKY8FfnnT",
        "colab_type": "text"
      },
      "source": [
        "Árvore de decisão:"
      ]
    },
    {
      "cell_type": "code",
      "metadata": {
        "id": "QH26VjJ5f3Je",
        "colab_type": "code",
        "colab": {}
      },
      "source": [
        "preditores_tree = titanic_data[['fare', 'pclass']]\n",
        "alvo_tree = titanic_data['survived']\n",
        "\n",
        "preditores_treino_tree, preditores_teste_tree, alvo_treino_tree, alvo_teste_tree = train_test_split(preditores_tree, alvo_tree, test_size=0.30, random_state=0)"
      ],
      "execution_count": 0,
      "outputs": []
    },
    {
      "cell_type": "code",
      "metadata": {
        "id": "mrOg-6L_fZcN",
        "colab_type": "code",
        "colab": {}
      },
      "source": [
        "from sklearn.tree import DecisionTreeClassifier\n",
        "\n",
        "# Cria uma instância default\n",
        "dt = DecisionTreeClassifier()\n",
        "\n",
        "# Treina o modelo com os dados dos alunos\n",
        "arvore_decisao = dt.fit(preditores_treino_tree, alvo_treino_tree)"
      ],
      "execution_count": 0,
      "outputs": []
    },
    {
      "cell_type": "code",
      "metadata": {
        "id": "fCHcDnSAfrfU",
        "colab_type": "code",
        "colab": {}
      },
      "source": [
        "# Realiza a previsão nos dados de teste\n",
        "arvore_previsao = arvore_decisao.predict(preditores_teste_tree)"
      ],
      "execution_count": 0,
      "outputs": []
    },
    {
      "cell_type": "code",
      "metadata": {
        "id": "pWlZYHKyft2V",
        "colab_type": "code",
        "outputId": "679a4ee5-203d-48d8-b536-44cc1925a8f7",
        "colab": {
          "base_uri": "https://localhost:8080/",
          "height": 102
        }
      },
      "source": [
        "print(\"Acurácia: \", metrics.accuracy_score(alvo_teste_tree, arvore_previsao))\n",
        "\n",
        "print('Precisão: ', metrics.precision_score(alvo_teste_tree, arvore_previsao))\n",
        "\n",
        "print('Revocação: ', metrics.recall_score(alvo_teste_tree, arvore_previsao))\n",
        "\n",
        "print('F1-Measure: ', metrics.f1_score(alvo_teste_tree, arvore_previsao))\n",
        "\n",
        "print('ROC AUC: ', metrics.roc_auc_score(alvo_teste_tree, arvore_previsao))"
      ],
      "execution_count": 25,
      "outputs": [
        {
          "output_type": "stream",
          "text": [
            "Acurácia:  0.7150127226463104\n",
            "Precisão:  0.6804123711340206\n",
            "Revocação:  0.4489795918367347\n",
            "F1-Measure:  0.5409836065573771\n",
            "ROC AUC:  0.6614816658370666\n"
          ],
          "name": "stdout"
        }
      ]
    },
    {
      "cell_type": "code",
      "metadata": {
        "id": "1hmwzJvXfx8H",
        "colab_type": "code",
        "colab": {}
      },
      "source": [
        "# Código para treinamento da Floresta Aleatória\n",
        "\n",
        "from sklearn.ensemble import RandomForestClassifier "
      ],
      "execution_count": 0,
      "outputs": []
    },
    {
      "cell_type": "code",
      "metadata": {
        "id": "48RzVCxaWBjV",
        "colab_type": "code",
        "colab": {}
      },
      "source": [
        "preditores_random_tree = titanic_data[['sibsp', 'pclass','parch']]\n",
        "alvo_random_tree = titanic_data['survived']\n",
        "preditores_treino_random_tree, preditores_teste_random_tree, alvo_treino_random_tree, alvo_teste_random_tree = train_test_split(preditores_random_tree, alvo_random_tree, test_size=0.30, random_state=0)"
      ],
      "execution_count": 0,
      "outputs": []
    },
    {
      "cell_type": "code",
      "metadata": {
        "id": "gIcGy_XVVnxS",
        "colab_type": "code",
        "colab": {}
      },
      "source": [
        "# Instanciao objeto da Floresta Aleatória e define o número de árvores a serem utilizadas\n",
        "floresta = RandomForestClassifier(n_estimators=1000)\n",
        "\n",
        "# x_train, x_test, y_train, y_test\n",
        "\n",
        "# Treinamento do modelo\n",
        "floresta.fit(preditores_treino_random_tree, alvo_treino_random_tree)\n",
        "\n",
        "# Prevê a partir dos preditores de testes\n",
        "predicted = floresta.predict(preditores_teste_random_tree)"
      ],
      "execution_count": 0,
      "outputs": []
    },
    {
      "cell_type": "code",
      "metadata": {
        "id": "e3LufWK4W0mz",
        "colab_type": "code",
        "outputId": "92b2fd02-16da-403e-d132-6b9401dbda47",
        "colab": {
          "base_uri": "https://localhost:8080/",
          "height": 323
        }
      },
      "source": [
        "predicted"
      ],
      "execution_count": 29,
      "outputs": [
        {
          "output_type": "execute_result",
          "data": {
            "text/plain": [
              "array([0, 1, 0, 0, 0, 0, 1, 1, 0, 0, 0, 1, 1, 0, 1, 0, 1, 1, 1, 0, 0, 0,\n",
              "       0, 1, 0, 0, 0, 0, 0, 0, 1, 1, 0, 1, 1, 0, 0, 1, 0, 0, 0, 0, 1, 1,\n",
              "       0, 0, 0, 1, 1, 0, 0, 0, 0, 0, 0, 0, 1, 0, 0, 0, 0, 1, 0, 0, 0, 1,\n",
              "       0, 0, 0, 0, 1, 0, 1, 0, 0, 1, 0, 1, 0, 0, 1, 0, 0, 1, 0, 1, 0, 0,\n",
              "       0, 0, 0, 0, 0, 0, 0, 1, 0, 0, 0, 1, 0, 0, 0, 0, 0, 0, 1, 0, 0, 1,\n",
              "       1, 1, 0, 1, 0, 0, 0, 1, 0, 1, 1, 1, 1, 1, 0, 0, 0, 0, 0, 0, 0, 1,\n",
              "       0, 1, 1, 0, 0, 0, 0, 0, 0, 1, 0, 0, 1, 1, 1, 0, 1, 1, 0, 1, 0, 1,\n",
              "       0, 0, 1, 1, 0, 0, 0, 1, 0, 1, 0, 0, 0, 0, 0, 0, 0, 1, 0, 0, 1, 0,\n",
              "       0, 1, 1, 1, 1, 0, 0, 0, 0, 0, 1, 0, 0, 0, 1, 0, 1, 1, 1, 0, 1, 1,\n",
              "       0, 0, 0, 0, 0, 1, 1, 0, 1, 0, 0, 0, 0, 1, 0, 0, 0, 0, 0, 0, 0, 0,\n",
              "       1, 0, 0, 1, 1, 0, 0, 1, 1, 0, 1, 1, 0, 0, 0, 0, 0, 0, 0, 0, 0, 0,\n",
              "       0, 0, 0, 0, 1, 1, 0, 0, 0, 0, 1, 0, 1, 0, 1, 0, 0, 0, 0, 0, 0, 1,\n",
              "       0, 0, 0, 0, 0, 0, 1, 1, 0, 0, 0, 0, 0, 1, 0, 1, 1, 1, 1, 0, 0, 0,\n",
              "       0, 0, 1, 1, 0, 0, 0, 0, 1, 0, 0, 0, 0, 0, 0, 0, 0, 0, 0, 0, 1, 0,\n",
              "       0, 0, 1, 1, 0, 0, 0, 0, 0, 1, 1, 1, 0, 1, 0, 0, 1, 0, 0, 0, 1, 0,\n",
              "       1, 0, 0, 0, 1, 0, 1, 0, 1, 0, 1, 0, 1, 1, 1, 1, 0, 1, 0, 0, 1, 1,\n",
              "       0, 0, 1, 0, 1, 0, 0, 0, 0, 1, 0, 0, 0, 0, 1, 0, 0, 0, 1, 0, 1, 0,\n",
              "       1, 0, 0, 0, 0, 1, 0, 1, 1, 1, 0, 0, 0, 0, 0, 0, 0, 0, 1])"
            ]
          },
          "metadata": {
            "tags": []
          },
          "execution_count": 29
        }
      ]
    },
    {
      "cell_type": "code",
      "metadata": {
        "id": "V3wXNxSJdLCr",
        "colab_type": "code",
        "outputId": "72c169d2-405d-4448-c324-690e07c29134",
        "colab": {
          "base_uri": "https://localhost:8080/",
          "height": 51
        }
      },
      "source": [
        "print(confusion_matrix(alvo_teste_random_tree, predicted))"
      ],
      "execution_count": 30,
      "outputs": [
        {
          "output_type": "stream",
          "text": [
            "[[199  47]\n",
            " [ 64  83]]\n"
          ],
          "name": "stdout"
        }
      ]
    },
    {
      "cell_type": "code",
      "metadata": {
        "id": "Ch2aTv4Sd0CN",
        "colab_type": "code",
        "outputId": "0f477984-ea26-4be7-bba7-1010502b7377",
        "colab": {
          "base_uri": "https://localhost:8080/",
          "height": 287
        }
      },
      "source": [
        "sn.heatmap(confusion_matrix(alvo_teste_random_tree, predicted), annot=True)"
      ],
      "execution_count": 31,
      "outputs": [
        {
          "output_type": "execute_result",
          "data": {
            "text/plain": [
              "<matplotlib.axes._subplots.AxesSubplot at 0x7fbe0ed50be0>"
            ]
          },
          "metadata": {
            "tags": []
          },
          "execution_count": 31
        },
        {
          "output_type": "display_data",
          "data": {
            "image/png": "[encoded data removed]",
            "text/plain": [
              "<Figure size 432x288 with 2 Axes>"
            ]
          },
          "metadata": {
            "tags": []
          }
        }
      ]
    },
    {
      "cell_type": "code",
      "metadata": {
        "id": "awSASgp9W22E",
        "colab_type": "code",
        "outputId": "9d2ccdd6-deda-4a52-e6d7-ac79e7c4e33e",
        "colab": {
          "base_uri": "https://localhost:8080/",
          "height": 102
        }
      },
      "source": [
        "print('Acurácia: ', metrics.accuracy_score(alvo_teste_random_tree, predicted))\n",
        "\n",
        "print('Precisão: ', metrics.precision_score(alvo_teste_random_tree, predicted))\n",
        "\n",
        "print('Revocação: ', metrics.recall_score(alvo_teste_random_tree, predicted))\n",
        "\n",
        "print('F1-Measure: ', metrics.f1_score(alvo_teste_random_tree, predicted))\n",
        "\n",
        "print('ROC AUC: ', metrics.roc_auc_score(alvo_teste_random_tree, predicted))"
      ],
      "execution_count": 32,
      "outputs": [
        {
          "output_type": "stream",
          "text": [
            "Acurácia:  0.7175572519083969\n",
            "Precisão:  0.6384615384615384\n",
            "Revocação:  0.564625850340136\n",
            "F1-Measure:  0.5992779783393501\n",
            "ROC AUC:  0.6867844698855152\n"
          ],
          "name": "stdout"
        }
      ]
    },
    {
      "cell_type": "code",
      "metadata": {
        "id": "eHMl_8_IXG6L",
        "colab_type": "code",
        "colab": {}
      },
      "source": [
        ""
      ],
      "execution_count": 0,
      "outputs": []
    }
  ]
}