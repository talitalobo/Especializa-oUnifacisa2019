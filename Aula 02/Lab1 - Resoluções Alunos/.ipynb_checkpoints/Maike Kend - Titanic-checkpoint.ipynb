{
 "cells": [
  {
   "cell_type": "markdown",
   "metadata": {},
   "source": [
    "**UNIFACISA**\n",
    "\n",
    "**ALUNO: MAYKE KEND GOMES DELGADO**\n",
    "\n",
    "**MATRÍCULA: 1691690020**\n",
    "\n",
    "**DISCIPLINA: MACHINE LEARNING I**\n",
    "\n",
    "**PÓS-GRADUAÇÃO: DATA SCIENCE**\n",
    "\n",
    "**PROFESSORA: TALITA LOBO**\n",
    "\n",
    "**GITHUB: https://github.com/talitalobo**"
   ]
  },
  {
   "cell_type": "code",
   "execution_count": 143,
   "metadata": {},
   "outputs": [],
   "source": [
    "# Importação das bibliotecas necessárias\n",
    "\n",
    "import pandas as pd # para criação do data frame\n",
    "from sklearn.model_selection import train_test_split # para separação dos conjuntos de treino e teste\n",
    "from sklearn.linear_model import LogisticRegression # para construção do modelo de Regressão Logística\n",
    "from sklearn import metrics # para computação das métricas de avaliação\n",
    "from sklearn.metrics import confusion_matrix\n",
    "import seaborn as sn # para visualização dos resultados\n",
    "\n",
    "import matplotlib.pyplot as plt # para visualização de gráficos\n",
    "import numpy as np\n",
    "\n",
    "import statsmodels.api as sm"
   ]
  },
  {
   "cell_type": "markdown",
   "metadata": {},
   "source": [
    "### Nosso Problema"
   ]
  },
  {
   "cell_type": "markdown",
   "metadata": {},
   "source": [
    "Neste problema, desejamos descobrir o grau de sobrevivência do passageiro."
   ]
  },
  {
   "cell_type": "markdown",
   "metadata": {},
   "source": [
    "### Dataset: Titanic\n",
    "\n",
    "#### Dados\n",
    "\n",
    "* **PassengerId:** Número de identificação do passageiro;\n",
    "* **Survived:** Indica se o passageiro sobreviveu ao desastre. É atribuído o valor de 0 para aqueles que não sobreviveram, e 1 para quem sobreviveu;\n",
    "* **Pclass:** Classe na qual o passageiro viajou. É informado 1 para primeira classe; 2 para segunda; e 3 para terceira;\n",
    "* **Name:** Nome do passageiro;\n",
    "* **Sex:** Sexo do passageiro;\n",
    "* **Age:** Idade do passageiro em anos;\n",
    "* **SibSp:** Quantidade de irmãos e cônjuges a bordo ;\n",
    "* **Parch:** Quantidade de pais e filhos a bordo;\n",
    "* **Ticket:** Número da passagem;\n",
    "* **Fare:** Preço da passagem;\n",
    "* **Cabin:** Número da cabine do passageiro;\n",
    "* **Embarked:** Indica o porto no qual o passageiro embarcou. Há apenas três valores possíveis: Cherbourg, Queenstown e Southampton, indicados pelas letras “C”, “Q” e “S”, respectivamente."
   ]
  },
  {
   "cell_type": "code",
   "execution_count": 144,
   "metadata": {},
   "outputs": [],
   "source": [
    "# Importando os dados de contratos\n",
    "titanic = pd.read_csv(\"titanic3.csv\")"
   ]
  },
  {
   "cell_type": "code",
   "execution_count": 145,
   "metadata": {},
   "outputs": [],
   "source": [
    "df = pd.DataFrame(titanic) # inserindo em um DataFrame"
   ]
  },
  {
   "cell_type": "code",
   "execution_count": 146,
   "metadata": {},
   "outputs": [
    {
     "data": {
      "text/html": [
       "<div>\n",
       "<style scoped>\n",
       "    .dataframe tbody tr th:only-of-type {\n",
       "        vertical-align: middle;\n",
       "    }\n",
       "\n",
       "    .dataframe tbody tr th {\n",
       "        vertical-align: top;\n",
       "    }\n",
       "\n",
       "    .dataframe thead th {\n",
       "        text-align: right;\n",
       "    }\n",
       "</style>\n",
       "<table border=\"1\" class=\"dataframe\">\n",
       "  <thead>\n",
       "    <tr style=\"text-align: right;\">\n",
       "      <th></th>\n",
       "      <th>pclass</th>\n",
       "      <th>survived</th>\n",
       "      <th>name</th>\n",
       "      <th>sex</th>\n",
       "      <th>age</th>\n",
       "      <th>sibsp</th>\n",
       "      <th>parch</th>\n",
       "      <th>ticket</th>\n",
       "      <th>fare</th>\n",
       "      <th>cabin</th>\n",
       "      <th>embarked</th>\n",
       "      <th>boat</th>\n",
       "      <th>body</th>\n",
       "      <th>home.dest</th>\n",
       "    </tr>\n",
       "  </thead>\n",
       "  <tbody>\n",
       "    <tr>\n",
       "      <th>0</th>\n",
       "      <td>1</td>\n",
       "      <td>1</td>\n",
       "      <td>Allen, Miss. Elisabeth Walton</td>\n",
       "      <td>female</td>\n",
       "      <td>29.00</td>\n",
       "      <td>0</td>\n",
       "      <td>0</td>\n",
       "      <td>24160</td>\n",
       "      <td>211.3375</td>\n",
       "      <td>B5</td>\n",
       "      <td>S</td>\n",
       "      <td>2</td>\n",
       "      <td>NaN</td>\n",
       "      <td>St Louis, MO</td>\n",
       "    </tr>\n",
       "    <tr>\n",
       "      <th>1</th>\n",
       "      <td>1</td>\n",
       "      <td>1</td>\n",
       "      <td>Allison, Master. Hudson Trevor</td>\n",
       "      <td>male</td>\n",
       "      <td>0.92</td>\n",
       "      <td>1</td>\n",
       "      <td>2</td>\n",
       "      <td>113781</td>\n",
       "      <td>151.5500</td>\n",
       "      <td>C22 C26</td>\n",
       "      <td>S</td>\n",
       "      <td>11</td>\n",
       "      <td>NaN</td>\n",
       "      <td>Montreal, PQ / Chesterville, ON</td>\n",
       "    </tr>\n",
       "    <tr>\n",
       "      <th>2</th>\n",
       "      <td>1</td>\n",
       "      <td>0</td>\n",
       "      <td>Allison, Miss. Helen Loraine</td>\n",
       "      <td>female</td>\n",
       "      <td>2.00</td>\n",
       "      <td>1</td>\n",
       "      <td>2</td>\n",
       "      <td>113781</td>\n",
       "      <td>151.5500</td>\n",
       "      <td>C22 C26</td>\n",
       "      <td>S</td>\n",
       "      <td>NaN</td>\n",
       "      <td>NaN</td>\n",
       "      <td>Montreal, PQ / Chesterville, ON</td>\n",
       "    </tr>\n",
       "    <tr>\n",
       "      <th>3</th>\n",
       "      <td>1</td>\n",
       "      <td>0</td>\n",
       "      <td>Allison, Mr. Hudson Joshua Creighton</td>\n",
       "      <td>male</td>\n",
       "      <td>30.00</td>\n",
       "      <td>1</td>\n",
       "      <td>2</td>\n",
       "      <td>113781</td>\n",
       "      <td>151.5500</td>\n",
       "      <td>C22 C26</td>\n",
       "      <td>S</td>\n",
       "      <td>NaN</td>\n",
       "      <td>135.0</td>\n",
       "      <td>Montreal, PQ / Chesterville, ON</td>\n",
       "    </tr>\n",
       "    <tr>\n",
       "      <th>4</th>\n",
       "      <td>1</td>\n",
       "      <td>0</td>\n",
       "      <td>Allison, Mrs. Hudson J C (Bessie Waldo Daniels)</td>\n",
       "      <td>female</td>\n",
       "      <td>25.00</td>\n",
       "      <td>1</td>\n",
       "      <td>2</td>\n",
       "      <td>113781</td>\n",
       "      <td>151.5500</td>\n",
       "      <td>C22 C26</td>\n",
       "      <td>S</td>\n",
       "      <td>NaN</td>\n",
       "      <td>NaN</td>\n",
       "      <td>Montreal, PQ / Chesterville, ON</td>\n",
       "    </tr>\n",
       "  </tbody>\n",
       "</table>\n",
       "</div>"
      ],
      "text/plain": [
       "   pclass  survived                                             name     sex  \\\n",
       "0       1         1                    Allen, Miss. Elisabeth Walton  female   \n",
       "1       1         1                   Allison, Master. Hudson Trevor    male   \n",
       "2       1         0                     Allison, Miss. Helen Loraine  female   \n",
       "3       1         0             Allison, Mr. Hudson Joshua Creighton    male   \n",
       "4       1         0  Allison, Mrs. Hudson J C (Bessie Waldo Daniels)  female   \n",
       "\n",
       "     age  sibsp  parch  ticket      fare    cabin embarked boat   body  \\\n",
       "0  29.00      0      0   24160  211.3375       B5        S    2    NaN   \n",
       "1   0.92      1      2  113781  151.5500  C22 C26        S   11    NaN   \n",
       "2   2.00      1      2  113781  151.5500  C22 C26        S  NaN    NaN   \n",
       "3  30.00      1      2  113781  151.5500  C22 C26        S  NaN  135.0   \n",
       "4  25.00      1      2  113781  151.5500  C22 C26        S  NaN    NaN   \n",
       "\n",
       "                         home.dest  \n",
       "0                     St Louis, MO  \n",
       "1  Montreal, PQ / Chesterville, ON  \n",
       "2  Montreal, PQ / Chesterville, ON  \n",
       "3  Montreal, PQ / Chesterville, ON  \n",
       "4  Montreal, PQ / Chesterville, ON  "
      ]
     },
     "execution_count": 146,
     "metadata": {},
     "output_type": "execute_result"
    }
   ],
   "source": [
    "df.head() # lendo o DataFrame"
   ]
  },
  {
   "cell_type": "markdown",
   "metadata": {},
   "source": [
    "**Quais as minhas variáveis e tipos**"
   ]
  },
  {
   "cell_type": "code",
   "execution_count": 147,
   "metadata": {},
   "outputs": [
    {
     "data": {
      "text/plain": [
       "Index(['pclass', 'survived', 'name', 'sex', 'age', 'sibsp', 'parch', 'ticket',\n",
       "       'fare', 'cabin', 'embarked', 'boat', 'body', 'home.dest'],\n",
       "      dtype='object')"
      ]
     },
     "execution_count": 147,
     "metadata": {},
     "output_type": "execute_result"
    }
   ],
   "source": [
    "df.columns # listando todas as colunas do DataFrame"
   ]
  },
  {
   "cell_type": "code",
   "execution_count": 148,
   "metadata": {},
   "outputs": [
    {
     "data": {
      "text/plain": [
       "pclass         int64\n",
       "survived       int64\n",
       "name          object\n",
       "sex           object\n",
       "age          float64\n",
       "sibsp          int64\n",
       "parch          int64\n",
       "ticket        object\n",
       "fare         float64\n",
       "cabin         object\n",
       "embarked      object\n",
       "boat          object\n",
       "body         float64\n",
       "home.dest     object\n",
       "dtype: object"
      ]
     },
     "execution_count": 148,
     "metadata": {},
     "output_type": "execute_result"
    }
   ],
   "source": [
    "df.dtypes # tipos de variáveis"
   ]
  },
  {
   "cell_type": "code",
   "execution_count": 149,
   "metadata": {},
   "outputs": [
    {
     "name": "stdout",
     "output_type": "stream",
     "text": [
      "<class 'pandas.core.frame.DataFrame'>\n",
      "RangeIndex: 1309 entries, 0 to 1308\n",
      "Data columns (total 14 columns):\n",
      "pclass       1309 non-null int64\n",
      "survived     1309 non-null int64\n",
      "name         1309 non-null object\n",
      "sex          1309 non-null object\n",
      "age          1046 non-null float64\n",
      "sibsp        1309 non-null int64\n",
      "parch        1309 non-null int64\n",
      "ticket       1309 non-null object\n",
      "fare         1308 non-null float64\n",
      "cabin        295 non-null object\n",
      "embarked     1307 non-null object\n",
      "boat         486 non-null object\n",
      "body         121 non-null float64\n",
      "home.dest    745 non-null object\n",
      "dtypes: float64(3), int64(4), object(7)\n",
      "memory usage: 143.2+ KB\n"
     ]
    }
   ],
   "source": [
    "df.info() # informações detalhadas sobre as variáveis"
   ]
  },
  {
   "cell_type": "code",
   "execution_count": 150,
   "metadata": {},
   "outputs": [
    {
     "name": "stdout",
     "output_type": "stream",
     "text": [
      "   color_blue  color_green  color_red\n",
      "0           1            0          0\n",
      "1           0            1          0\n",
      "2           0            1          0\n",
      "3           0            0          1\n"
     ]
    }
   ],
   "source": [
    "# Exemplo de conversão para dummie variable\n",
    "\n",
    "data = pd.DataFrame({'color': ['blue', 'green', 'green', 'red']})\n",
    "\n",
    "print(pd.get_dummies(data))"
   ]
  },
  {
   "cell_type": "code",
   "execution_count": 159,
   "metadata": {},
   "outputs": [
    {
     "data": {
      "text/plain": [
       "3    709\n",
       "1    323\n",
       "2    277\n",
       "Name: pclass, dtype: int64"
      ]
     },
     "execution_count": 159,
     "metadata": {},
     "output_type": "execute_result"
    }
   ],
   "source": [
    "# Contagem dos passageiros por classe \n",
    "titanic[\"pclass\"].value_counts()"
   ]
  },
  {
   "cell_type": "code",
   "execution_count": 160,
   "metadata": {},
   "outputs": [
    {
     "data": {
      "text/plain": [
       "<matplotlib.axes._subplots.AxesSubplot at 0x25e8a5df278>"
      ]
     },
     "execution_count": 160,
     "metadata": {},
     "output_type": "execute_result"
    },
    {
     "data": {
      "image/png": "[encoded data removed]",
      "text/plain": [
       "<Figure size 432x288 with 1 Axes>"
      ]
     },
     "metadata": {
      "needs_background": "light"
     },
     "output_type": "display_data"
    }
   ],
   "source": [
    "# Gráfico de barras sobre o número de passageiros em cada classe\n",
    "titanic[\"pclass\"].value_counts().plot(kind=\"bar\")"
   ]
  },
  {
   "cell_type": "code",
   "execution_count": 161,
   "metadata": {},
   "outputs": [
    {
     "data": {
      "text/plain": [
       "0    809\n",
       "1    500\n",
       "Name: survived, dtype: int64"
      ]
     },
     "execution_count": 161,
     "metadata": {},
     "output_type": "execute_result"
    }
   ],
   "source": [
    "# Contagem dos passageiros pela coluna sobrevivência \n",
    "titanic[\"survived\"].value_counts()"
   ]
  },
  {
   "cell_type": "code",
   "execution_count": 162,
   "metadata": {},
   "outputs": [
    {
     "data": {
      "text/plain": [
       "male      843\n",
       "female    466\n",
       "Name: sex, dtype: int64"
      ]
     },
     "execution_count": 162,
     "metadata": {},
     "output_type": "execute_result"
    }
   ],
   "source": [
    "# Contagem dos passageiros por sexo \n",
    "titanic[\"sex\"].value_counts()"
   ]
  },
  {
   "cell_type": "code",
   "execution_count": 164,
   "metadata": {},
   "outputs": [
    {
     "data": {
      "text/plain": [
       "<matplotlib.axes._subplots.AxesSubplot at 0x25e8a6ae320>"
      ]
     },
     "execution_count": 164,
     "metadata": {},
     "output_type": "execute_result"
    },
    {
     "data": {
      "image/png": "[encoded data removed]",
      "text/plain": [
       "<Figure size 432x288 with 1 Axes>"
      ]
     },
     "metadata": {
      "needs_background": "light"
     },
     "output_type": "display_data"
    }
   ],
   "source": [
    "# Gráfico de barras sobre a distribuição de mortes entre homens e mulheres\n",
    "titanic[\"sex\"].value_counts().plot(kind=\"bar\")"
   ]
  },
  {
   "cell_type": "code",
   "execution_count": 166,
   "metadata": {},
   "outputs": [
    {
     "data": {
      "text/plain": [
       "<matplotlib.axes._subplots.AxesSubplot at 0x25e8a7a7d68>"
      ]
     },
     "execution_count": 166,
     "metadata": {},
     "output_type": "execute_result"
    },
    {
     "data": {
      "image/png": "[encoded data removed]",
      "text/plain": [
       "<Figure size 432x288 with 1 Axes>"
      ]
     },
     "metadata": {
      "needs_background": "light"
     },
     "output_type": "display_data"
    }
   ],
   "source": [
    "# Histograma da distribuição de idade dos passageiros\n",
    "titanic[\"age\"].hist(width=6)"
   ]
  },
  {
   "cell_type": "markdown",
   "metadata": {},
   "source": [
    "**Comparando a taxa de sobreviventes pra diferentes variáveis:**"
   ]
  },
  {
   "cell_type": "code",
   "execution_count": 168,
   "metadata": {},
   "outputs": [],
   "source": [
    "def survival_stacked_bar(variable):\n",
    "    Died = titanic[titanic[\"survived\"]==0][variable].value_counts()/len(titanic[\"survived\"]==0)\n",
    "    Survived = titanic[titanic[\"survived\"]==1][variable].value_counts()/len(titanic[\"survived\"]==1)\n",
    "    \n",
    "    data = pd.DataFrame([Died,Survived])\n",
    "    data.index=[\"Não sobreviveu\",\"Sobreviveu\"]\n",
    "    data.plot(kind=\"bar\",stacked=True,title=\"Porcentagem\")\n",
    "    \n",
    "    return data.head()"
   ]
  },
  {
   "cell_type": "code",
   "execution_count": 169,
   "metadata": {},
   "outputs": [
    {
     "data": {
      "text/html": [
       "<div>\n",
       "<style scoped>\n",
       "    .dataframe tbody tr th:only-of-type {\n",
       "        vertical-align: middle;\n",
       "    }\n",
       "\n",
       "    .dataframe tbody tr th {\n",
       "        vertical-align: top;\n",
       "    }\n",
       "\n",
       "    .dataframe thead th {\n",
       "        text-align: right;\n",
       "    }\n",
       "</style>\n",
       "<table border=\"1\" class=\"dataframe\">\n",
       "  <thead>\n",
       "    <tr style=\"text-align: right;\">\n",
       "      <th></th>\n",
       "      <th>1</th>\n",
       "      <th>2</th>\n",
       "      <th>3</th>\n",
       "    </tr>\n",
       "  </thead>\n",
       "  <tbody>\n",
       "    <tr>\n",
       "      <th>Não sobreviveu</th>\n",
       "      <td>0.093965</td>\n",
       "      <td>0.120703</td>\n",
       "      <td>0.403361</td>\n",
       "    </tr>\n",
       "    <tr>\n",
       "      <th>Sobreviveu</th>\n",
       "      <td>0.152788</td>\n",
       "      <td>0.090909</td>\n",
       "      <td>0.138273</td>\n",
       "    </tr>\n",
       "  </tbody>\n",
       "</table>\n",
       "</div>"
      ],
      "text/plain": [
       "                       1         2         3\n",
       "Não sobreviveu  0.093965  0.120703  0.403361\n",
       "Sobreviveu      0.152788  0.090909  0.138273"
      ]
     },
     "execution_count": 169,
     "metadata": {},
     "output_type": "execute_result"
    },
    {
     "data": {
      "image/png": "[encoded data removed]",
      "text/plain": [
       "<Figure size 432x288 with 1 Axes>"
      ]
     },
     "metadata": {
      "needs_background": "light"
     },
     "output_type": "display_data"
    }
   ],
   "source": [
    "# Utiliza a função criada acima com a variável Classe\n",
    "survival_stacked_bar(\"pclass\")"
   ]
  },
  {
   "cell_type": "code",
   "execution_count": 170,
   "metadata": {},
   "outputs": [
    {
     "data": {
      "text/html": [
       "<div>\n",
       "<style scoped>\n",
       "    .dataframe tbody tr th:only-of-type {\n",
       "        vertical-align: middle;\n",
       "    }\n",
       "\n",
       "    .dataframe tbody tr th {\n",
       "        vertical-align: top;\n",
       "    }\n",
       "\n",
       "    .dataframe thead th {\n",
       "        text-align: right;\n",
       "    }\n",
       "</style>\n",
       "<table border=\"1\" class=\"dataframe\">\n",
       "  <thead>\n",
       "    <tr style=\"text-align: right;\">\n",
       "      <th></th>\n",
       "      <th>male</th>\n",
       "      <th>female</th>\n",
       "    </tr>\n",
       "  </thead>\n",
       "  <tbody>\n",
       "    <tr>\n",
       "      <th>Não sobreviveu</th>\n",
       "      <td>0.521008</td>\n",
       "      <td>0.097021</td>\n",
       "    </tr>\n",
       "    <tr>\n",
       "      <th>Sobreviveu</th>\n",
       "      <td>0.122995</td>\n",
       "      <td>0.258976</td>\n",
       "    </tr>\n",
       "  </tbody>\n",
       "</table>\n",
       "</div>"
      ],
      "text/plain": [
       "                    male    female\n",
       "Não sobreviveu  0.521008  0.097021\n",
       "Sobreviveu      0.122995  0.258976"
      ]
     },
     "execution_count": 170,
     "metadata": {},
     "output_type": "execute_result"
    },
    {
     "data": {
      "image/png": "[encoded data removed]",
      "text/plain": [
       "<Figure size 432x288 with 1 Axes>"
      ]
     },
     "metadata": {
      "needs_background": "light"
     },
     "output_type": "display_data"
    }
   ],
   "source": [
    "# Utiliza a função criada acima com a variável Sexo\n",
    "survival_stacked_bar(\"sex\")"
   ]
  },
  {
   "cell_type": "code",
   "execution_count": 172,
   "metadata": {},
   "outputs": [
    {
     "data": {
      "text/html": [
       "<div>\n",
       "<style scoped>\n",
       "    .dataframe tbody tr th:only-of-type {\n",
       "        vertical-align: middle;\n",
       "    }\n",
       "\n",
       "    .dataframe tbody tr th {\n",
       "        vertical-align: top;\n",
       "    }\n",
       "\n",
       "    .dataframe thead th {\n",
       "        text-align: right;\n",
       "    }\n",
       "</style>\n",
       "<table border=\"1\" class=\"dataframe\">\n",
       "  <thead>\n",
       "    <tr style=\"text-align: right;\">\n",
       "      <th></th>\n",
       "      <th>S</th>\n",
       "      <th>C</th>\n",
       "      <th>Q</th>\n",
       "    </tr>\n",
       "  </thead>\n",
       "  <tbody>\n",
       "    <tr>\n",
       "      <th>Não sobreviveu</th>\n",
       "      <td>0.466005</td>\n",
       "      <td>0.091673</td>\n",
       "      <td>0.060351</td>\n",
       "    </tr>\n",
       "    <tr>\n",
       "      <th>Sobreviveu</th>\n",
       "      <td>0.232238</td>\n",
       "      <td>0.114591</td>\n",
       "      <td>0.033613</td>\n",
       "    </tr>\n",
       "  </tbody>\n",
       "</table>\n",
       "</div>"
      ],
      "text/plain": [
       "                       S         C         Q\n",
       "Não sobreviveu  0.466005  0.091673  0.060351\n",
       "Sobreviveu      0.232238  0.114591  0.033613"
      ]
     },
     "execution_count": 172,
     "metadata": {},
     "output_type": "execute_result"
    },
    {
     "data": {
      "image/png": "[encoded data removed]",
      "text/plain": [
       "<Figure size 432x288 with 1 Axes>"
      ]
     },
     "metadata": {
      "needs_background": "light"
     },
     "output_type": "display_data"
    }
   ],
   "source": [
    "# Utiliza a função criada acima com a variável Porto\n",
    "survival_stacked_bar(\"embarked\")"
   ]
  },
  {
   "cell_type": "code",
   "execution_count": 173,
   "metadata": {},
   "outputs": [
    {
     "data": {
      "text/html": [
       "<div>\n",
       "<style scoped>\n",
       "    .dataframe tbody tr th:only-of-type {\n",
       "        vertical-align: middle;\n",
       "    }\n",
       "\n",
       "    .dataframe tbody tr th {\n",
       "        vertical-align: top;\n",
       "    }\n",
       "\n",
       "    .dataframe thead th {\n",
       "        text-align: right;\n",
       "    }\n",
       "</style>\n",
       "<table border=\"1\" class=\"dataframe\">\n",
       "  <thead>\n",
       "    <tr style=\"text-align: right;\">\n",
       "      <th></th>\n",
       "      <th>0</th>\n",
       "      <th>1</th>\n",
       "      <th>2</th>\n",
       "      <th>3</th>\n",
       "      <th>4</th>\n",
       "      <th>5</th>\n",
       "      <th>8</th>\n",
       "    </tr>\n",
       "  </thead>\n",
       "  <tbody>\n",
       "    <tr>\n",
       "      <th>Não sobreviveu</th>\n",
       "      <td>0.444614</td>\n",
       "      <td>0.119175</td>\n",
       "      <td>0.017571</td>\n",
       "      <td>0.010695</td>\n",
       "      <td>0.014515</td>\n",
       "      <td>0.004584</td>\n",
       "      <td>0.006875</td>\n",
       "    </tr>\n",
       "    <tr>\n",
       "      <th>Sobreviveu</th>\n",
       "      <td>0.236058</td>\n",
       "      <td>0.124523</td>\n",
       "      <td>0.014515</td>\n",
       "      <td>0.004584</td>\n",
       "      <td>0.002292</td>\n",
       "      <td>NaN</td>\n",
       "      <td>NaN</td>\n",
       "    </tr>\n",
       "  </tbody>\n",
       "</table>\n",
       "</div>"
      ],
      "text/plain": [
       "                       0         1         2         3         4         5  \\\n",
       "Não sobreviveu  0.444614  0.119175  0.017571  0.010695  0.014515  0.004584   \n",
       "Sobreviveu      0.236058  0.124523  0.014515  0.004584  0.002292       NaN   \n",
       "\n",
       "                       8  \n",
       "Não sobreviveu  0.006875  \n",
       "Sobreviveu           NaN  "
      ]
     },
     "execution_count": 173,
     "metadata": {},
     "output_type": "execute_result"
    },
    {
     "data": {
      "image/png": "[encoded data removed]",
      "text/plain": [
       "<Figure size 432x288 with 1 Axes>"
      ]
     },
     "metadata": {
      "needs_background": "light"
     },
     "output_type": "display_data"
    }
   ],
   "source": [
    "# Utiliza a função criada acima com a variável sibsp\n",
    "survival_stacked_bar(\"sibsp\")"
   ]
  },
  {
   "cell_type": "markdown",
   "metadata": {},
   "source": [
    "Em seguida, podemos buscar por valores faltantes nos dados, com o objetivo de decidir qual estratégia \n",
    "utilizaremos para lidar com eles:"
   ]
  },
  {
   "cell_type": "code",
   "execution_count": 174,
   "metadata": {},
   "outputs": [
    {
     "name": "stdout",
     "output_type": "stream",
     "text": [
      "pclass: 0 Valores faltantes\n",
      "survived: 0 Valores faltantes\n",
      "name: 0 Valores faltantes\n",
      "sex: 0 Valores faltantes\n",
      "age: 263 Valores faltantes\n",
      "sibsp: 0 Valores faltantes\n",
      "parch: 0 Valores faltantes\n",
      "ticket: 0 Valores faltantes\n",
      "fare: 1 Valores faltantes\n",
      "cabin: 1014 Valores faltantes\n",
      "embarked: 2 Valores faltantes\n",
      "boat: 823 Valores faltantes\n",
      "body: 1188 Valores faltantes\n",
      "home.dest: 564 Valores faltantes\n"
     ]
    }
   ],
   "source": [
    "# \n",
    "for i in titanic.columns:\n",
    "    print (i + \": \"+str(sum(titanic[i].isnull()))+\" Valores faltantes\")"
   ]
  },
  {
   "cell_type": "code",
   "execution_count": 176,
   "metadata": {},
   "outputs": [],
   "source": [
    "# filtrando apenas as variáveis desejadas\n",
    "filtradas = ['pclass', 'survived', 'sibsp', 'parch']\n",
    "titanic_f = titanic[filtradas]"
   ]
  },
  {
   "cell_type": "code",
   "execution_count": 177,
   "metadata": {},
   "outputs": [
    {
     "data": {
      "text/html": [
       "<div>\n",
       "<style scoped>\n",
       "    .dataframe tbody tr th:only-of-type {\n",
       "        vertical-align: middle;\n",
       "    }\n",
       "\n",
       "    .dataframe tbody tr th {\n",
       "        vertical-align: top;\n",
       "    }\n",
       "\n",
       "    .dataframe thead th {\n",
       "        text-align: right;\n",
       "    }\n",
       "</style>\n",
       "<table border=\"1\" class=\"dataframe\">\n",
       "  <thead>\n",
       "    <tr style=\"text-align: right;\">\n",
       "      <th></th>\n",
       "      <th>pclass</th>\n",
       "      <th>survived</th>\n",
       "      <th>sibsp</th>\n",
       "      <th>parch</th>\n",
       "    </tr>\n",
       "  </thead>\n",
       "  <tbody>\n",
       "    <tr>\n",
       "      <th>0</th>\n",
       "      <td>1</td>\n",
       "      <td>1</td>\n",
       "      <td>0</td>\n",
       "      <td>0</td>\n",
       "    </tr>\n",
       "    <tr>\n",
       "      <th>1</th>\n",
       "      <td>1</td>\n",
       "      <td>1</td>\n",
       "      <td>1</td>\n",
       "      <td>2</td>\n",
       "    </tr>\n",
       "    <tr>\n",
       "      <th>2</th>\n",
       "      <td>1</td>\n",
       "      <td>0</td>\n",
       "      <td>1</td>\n",
       "      <td>2</td>\n",
       "    </tr>\n",
       "    <tr>\n",
       "      <th>3</th>\n",
       "      <td>1</td>\n",
       "      <td>0</td>\n",
       "      <td>1</td>\n",
       "      <td>2</td>\n",
       "    </tr>\n",
       "    <tr>\n",
       "      <th>4</th>\n",
       "      <td>1</td>\n",
       "      <td>0</td>\n",
       "      <td>1</td>\n",
       "      <td>2</td>\n",
       "    </tr>\n",
       "  </tbody>\n",
       "</table>\n",
       "</div>"
      ],
      "text/plain": [
       "   pclass  survived  sibsp  parch\n",
       "0       1         1      0      0\n",
       "1       1         1      1      2\n",
       "2       1         0      1      2\n",
       "3       1         0      1      2\n",
       "4       1         0      1      2"
      ]
     },
     "execution_count": 177,
     "metadata": {},
     "output_type": "execute_result"
    }
   ],
   "source": [
    "titanic_f.head()"
   ]
  },
  {
   "cell_type": "markdown",
   "metadata": {},
   "source": [
    "**Valor faltante**"
   ]
  },
  {
   "cell_type": "code",
   "execution_count": 180,
   "metadata": {},
   "outputs": [
    {
     "data": {
      "text/plain": [
       "pclass          0\n",
       "survived        0\n",
       "name            0\n",
       "sex             0\n",
       "age           263\n",
       "sibsp           0\n",
       "parch           0\n",
       "ticket          0\n",
       "fare            1\n",
       "cabin        1014\n",
       "embarked        2\n",
       "boat          823\n",
       "body         1188\n",
       "home.dest     564\n",
       "dtype: int64"
      ]
     },
     "execution_count": 180,
     "metadata": {},
     "output_type": "execute_result"
    }
   ],
   "source": [
    "df.isnull().sum() # Identificando linhas nulas"
   ]
  },
  {
   "cell_type": "markdown",
   "metadata": {},
   "source": [
    "**Construindo o Modelo**"
   ]
  },
  {
   "cell_type": "code",
   "execution_count": 183,
   "metadata": {},
   "outputs": [
    {
     "data": {
      "text/html": [
       "<div>\n",
       "<style scoped>\n",
       "    .dataframe tbody tr th:only-of-type {\n",
       "        vertical-align: middle;\n",
       "    }\n",
       "\n",
       "    .dataframe tbody tr th {\n",
       "        vertical-align: top;\n",
       "    }\n",
       "\n",
       "    .dataframe thead th {\n",
       "        text-align: right;\n",
       "    }\n",
       "</style>\n",
       "<table border=\"1\" class=\"dataframe\">\n",
       "  <thead>\n",
       "    <tr style=\"text-align: right;\">\n",
       "      <th></th>\n",
       "      <th>pclass</th>\n",
       "      <th>survived</th>\n",
       "      <th>sibsp</th>\n",
       "      <th>parch</th>\n",
       "    </tr>\n",
       "  </thead>\n",
       "  <tbody>\n",
       "    <tr>\n",
       "      <th>0</th>\n",
       "      <td>1</td>\n",
       "      <td>1</td>\n",
       "      <td>0</td>\n",
       "      <td>0</td>\n",
       "    </tr>\n",
       "    <tr>\n",
       "      <th>1</th>\n",
       "      <td>1</td>\n",
       "      <td>1</td>\n",
       "      <td>1</td>\n",
       "      <td>2</td>\n",
       "    </tr>\n",
       "    <tr>\n",
       "      <th>2</th>\n",
       "      <td>1</td>\n",
       "      <td>0</td>\n",
       "      <td>1</td>\n",
       "      <td>2</td>\n",
       "    </tr>\n",
       "    <tr>\n",
       "      <th>3</th>\n",
       "      <td>1</td>\n",
       "      <td>0</td>\n",
       "      <td>1</td>\n",
       "      <td>2</td>\n",
       "    </tr>\n",
       "    <tr>\n",
       "      <th>4</th>\n",
       "      <td>1</td>\n",
       "      <td>0</td>\n",
       "      <td>1</td>\n",
       "      <td>2</td>\n",
       "    </tr>\n",
       "    <tr>\n",
       "      <th>5</th>\n",
       "      <td>1</td>\n",
       "      <td>1</td>\n",
       "      <td>0</td>\n",
       "      <td>0</td>\n",
       "    </tr>\n",
       "    <tr>\n",
       "      <th>6</th>\n",
       "      <td>1</td>\n",
       "      <td>1</td>\n",
       "      <td>1</td>\n",
       "      <td>0</td>\n",
       "    </tr>\n",
       "    <tr>\n",
       "      <th>7</th>\n",
       "      <td>1</td>\n",
       "      <td>0</td>\n",
       "      <td>0</td>\n",
       "      <td>0</td>\n",
       "    </tr>\n",
       "    <tr>\n",
       "      <th>8</th>\n",
       "      <td>1</td>\n",
       "      <td>1</td>\n",
       "      <td>2</td>\n",
       "      <td>0</td>\n",
       "    </tr>\n",
       "    <tr>\n",
       "      <th>9</th>\n",
       "      <td>1</td>\n",
       "      <td>0</td>\n",
       "      <td>0</td>\n",
       "      <td>0</td>\n",
       "    </tr>\n",
       "    <tr>\n",
       "      <th>10</th>\n",
       "      <td>1</td>\n",
       "      <td>0</td>\n",
       "      <td>1</td>\n",
       "      <td>0</td>\n",
       "    </tr>\n",
       "    <tr>\n",
       "      <th>11</th>\n",
       "      <td>1</td>\n",
       "      <td>1</td>\n",
       "      <td>1</td>\n",
       "      <td>0</td>\n",
       "    </tr>\n",
       "    <tr>\n",
       "      <th>12</th>\n",
       "      <td>1</td>\n",
       "      <td>1</td>\n",
       "      <td>0</td>\n",
       "      <td>0</td>\n",
       "    </tr>\n",
       "    <tr>\n",
       "      <th>13</th>\n",
       "      <td>1</td>\n",
       "      <td>1</td>\n",
       "      <td>0</td>\n",
       "      <td>0</td>\n",
       "    </tr>\n",
       "    <tr>\n",
       "      <th>14</th>\n",
       "      <td>1</td>\n",
       "      <td>1</td>\n",
       "      <td>0</td>\n",
       "      <td>0</td>\n",
       "    </tr>\n",
       "    <tr>\n",
       "      <th>15</th>\n",
       "      <td>1</td>\n",
       "      <td>0</td>\n",
       "      <td>0</td>\n",
       "      <td>0</td>\n",
       "    </tr>\n",
       "    <tr>\n",
       "      <th>16</th>\n",
       "      <td>1</td>\n",
       "      <td>0</td>\n",
       "      <td>0</td>\n",
       "      <td>1</td>\n",
       "    </tr>\n",
       "    <tr>\n",
       "      <th>17</th>\n",
       "      <td>1</td>\n",
       "      <td>1</td>\n",
       "      <td>0</td>\n",
       "      <td>1</td>\n",
       "    </tr>\n",
       "    <tr>\n",
       "      <th>18</th>\n",
       "      <td>1</td>\n",
       "      <td>1</td>\n",
       "      <td>0</td>\n",
       "      <td>0</td>\n",
       "    </tr>\n",
       "    <tr>\n",
       "      <th>19</th>\n",
       "      <td>1</td>\n",
       "      <td>0</td>\n",
       "      <td>0</td>\n",
       "      <td>0</td>\n",
       "    </tr>\n",
       "    <tr>\n",
       "      <th>20</th>\n",
       "      <td>1</td>\n",
       "      <td>1</td>\n",
       "      <td>1</td>\n",
       "      <td>1</td>\n",
       "    </tr>\n",
       "    <tr>\n",
       "      <th>21</th>\n",
       "      <td>1</td>\n",
       "      <td>1</td>\n",
       "      <td>1</td>\n",
       "      <td>1</td>\n",
       "    </tr>\n",
       "    <tr>\n",
       "      <th>22</th>\n",
       "      <td>1</td>\n",
       "      <td>1</td>\n",
       "      <td>0</td>\n",
       "      <td>0</td>\n",
       "    </tr>\n",
       "    <tr>\n",
       "      <th>23</th>\n",
       "      <td>1</td>\n",
       "      <td>1</td>\n",
       "      <td>0</td>\n",
       "      <td>0</td>\n",
       "    </tr>\n",
       "    <tr>\n",
       "      <th>24</th>\n",
       "      <td>1</td>\n",
       "      <td>1</td>\n",
       "      <td>0</td>\n",
       "      <td>0</td>\n",
       "    </tr>\n",
       "    <tr>\n",
       "      <th>25</th>\n",
       "      <td>1</td>\n",
       "      <td>0</td>\n",
       "      <td>0</td>\n",
       "      <td>0</td>\n",
       "    </tr>\n",
       "    <tr>\n",
       "      <th>26</th>\n",
       "      <td>1</td>\n",
       "      <td>1</td>\n",
       "      <td>1</td>\n",
       "      <td>0</td>\n",
       "    </tr>\n",
       "    <tr>\n",
       "      <th>27</th>\n",
       "      <td>1</td>\n",
       "      <td>1</td>\n",
       "      <td>1</td>\n",
       "      <td>0</td>\n",
       "    </tr>\n",
       "    <tr>\n",
       "      <th>28</th>\n",
       "      <td>1</td>\n",
       "      <td>1</td>\n",
       "      <td>0</td>\n",
       "      <td>0</td>\n",
       "    </tr>\n",
       "    <tr>\n",
       "      <th>29</th>\n",
       "      <td>1</td>\n",
       "      <td>1</td>\n",
       "      <td>0</td>\n",
       "      <td>0</td>\n",
       "    </tr>\n",
       "    <tr>\n",
       "      <th>...</th>\n",
       "      <td>...</td>\n",
       "      <td>...</td>\n",
       "      <td>...</td>\n",
       "      <td>...</td>\n",
       "    </tr>\n",
       "    <tr>\n",
       "      <th>1279</th>\n",
       "      <td>3</td>\n",
       "      <td>0</td>\n",
       "      <td>0</td>\n",
       "      <td>0</td>\n",
       "    </tr>\n",
       "    <tr>\n",
       "      <th>1280</th>\n",
       "      <td>3</td>\n",
       "      <td>0</td>\n",
       "      <td>0</td>\n",
       "      <td>0</td>\n",
       "    </tr>\n",
       "    <tr>\n",
       "      <th>1281</th>\n",
       "      <td>3</td>\n",
       "      <td>0</td>\n",
       "      <td>0</td>\n",
       "      <td>0</td>\n",
       "    </tr>\n",
       "    <tr>\n",
       "      <th>1282</th>\n",
       "      <td>3</td>\n",
       "      <td>0</td>\n",
       "      <td>0</td>\n",
       "      <td>0</td>\n",
       "    </tr>\n",
       "    <tr>\n",
       "      <th>1283</th>\n",
       "      <td>3</td>\n",
       "      <td>0</td>\n",
       "      <td>0</td>\n",
       "      <td>0</td>\n",
       "    </tr>\n",
       "    <tr>\n",
       "      <th>1284</th>\n",
       "      <td>3</td>\n",
       "      <td>0</td>\n",
       "      <td>0</td>\n",
       "      <td>0</td>\n",
       "    </tr>\n",
       "    <tr>\n",
       "      <th>1285</th>\n",
       "      <td>3</td>\n",
       "      <td>0</td>\n",
       "      <td>0</td>\n",
       "      <td>0</td>\n",
       "    </tr>\n",
       "    <tr>\n",
       "      <th>1286</th>\n",
       "      <td>3</td>\n",
       "      <td>1</td>\n",
       "      <td>0</td>\n",
       "      <td>0</td>\n",
       "    </tr>\n",
       "    <tr>\n",
       "      <th>1287</th>\n",
       "      <td>3</td>\n",
       "      <td>0</td>\n",
       "      <td>0</td>\n",
       "      <td>0</td>\n",
       "    </tr>\n",
       "    <tr>\n",
       "      <th>1288</th>\n",
       "      <td>3</td>\n",
       "      <td>0</td>\n",
       "      <td>1</td>\n",
       "      <td>0</td>\n",
       "    </tr>\n",
       "    <tr>\n",
       "      <th>1289</th>\n",
       "      <td>3</td>\n",
       "      <td>0</td>\n",
       "      <td>1</td>\n",
       "      <td>0</td>\n",
       "    </tr>\n",
       "    <tr>\n",
       "      <th>1290</th>\n",
       "      <td>3</td>\n",
       "      <td>1</td>\n",
       "      <td>1</td>\n",
       "      <td>0</td>\n",
       "    </tr>\n",
       "    <tr>\n",
       "      <th>1291</th>\n",
       "      <td>3</td>\n",
       "      <td>0</td>\n",
       "      <td>0</td>\n",
       "      <td>0</td>\n",
       "    </tr>\n",
       "    <tr>\n",
       "      <th>1292</th>\n",
       "      <td>3</td>\n",
       "      <td>0</td>\n",
       "      <td>0</td>\n",
       "      <td>0</td>\n",
       "    </tr>\n",
       "    <tr>\n",
       "      <th>1293</th>\n",
       "      <td>3</td>\n",
       "      <td>0</td>\n",
       "      <td>0</td>\n",
       "      <td>0</td>\n",
       "    </tr>\n",
       "    <tr>\n",
       "      <th>1294</th>\n",
       "      <td>3</td>\n",
       "      <td>0</td>\n",
       "      <td>0</td>\n",
       "      <td>0</td>\n",
       "    </tr>\n",
       "    <tr>\n",
       "      <th>1295</th>\n",
       "      <td>3</td>\n",
       "      <td>0</td>\n",
       "      <td>0</td>\n",
       "      <td>0</td>\n",
       "    </tr>\n",
       "    <tr>\n",
       "      <th>1296</th>\n",
       "      <td>3</td>\n",
       "      <td>0</td>\n",
       "      <td>0</td>\n",
       "      <td>0</td>\n",
       "    </tr>\n",
       "    <tr>\n",
       "      <th>1297</th>\n",
       "      <td>3</td>\n",
       "      <td>0</td>\n",
       "      <td>0</td>\n",
       "      <td>0</td>\n",
       "    </tr>\n",
       "    <tr>\n",
       "      <th>1298</th>\n",
       "      <td>3</td>\n",
       "      <td>0</td>\n",
       "      <td>0</td>\n",
       "      <td>0</td>\n",
       "    </tr>\n",
       "    <tr>\n",
       "      <th>1299</th>\n",
       "      <td>3</td>\n",
       "      <td>0</td>\n",
       "      <td>1</td>\n",
       "      <td>0</td>\n",
       "    </tr>\n",
       "    <tr>\n",
       "      <th>1300</th>\n",
       "      <td>3</td>\n",
       "      <td>1</td>\n",
       "      <td>1</td>\n",
       "      <td>0</td>\n",
       "    </tr>\n",
       "    <tr>\n",
       "      <th>1301</th>\n",
       "      <td>3</td>\n",
       "      <td>0</td>\n",
       "      <td>0</td>\n",
       "      <td>0</td>\n",
       "    </tr>\n",
       "    <tr>\n",
       "      <th>1302</th>\n",
       "      <td>3</td>\n",
       "      <td>0</td>\n",
       "      <td>0</td>\n",
       "      <td>0</td>\n",
       "    </tr>\n",
       "    <tr>\n",
       "      <th>1303</th>\n",
       "      <td>3</td>\n",
       "      <td>0</td>\n",
       "      <td>0</td>\n",
       "      <td>0</td>\n",
       "    </tr>\n",
       "    <tr>\n",
       "      <th>1304</th>\n",
       "      <td>3</td>\n",
       "      <td>0</td>\n",
       "      <td>1</td>\n",
       "      <td>0</td>\n",
       "    </tr>\n",
       "    <tr>\n",
       "      <th>1305</th>\n",
       "      <td>3</td>\n",
       "      <td>0</td>\n",
       "      <td>1</td>\n",
       "      <td>0</td>\n",
       "    </tr>\n",
       "    <tr>\n",
       "      <th>1306</th>\n",
       "      <td>3</td>\n",
       "      <td>0</td>\n",
       "      <td>0</td>\n",
       "      <td>0</td>\n",
       "    </tr>\n",
       "    <tr>\n",
       "      <th>1307</th>\n",
       "      <td>3</td>\n",
       "      <td>0</td>\n",
       "      <td>0</td>\n",
       "      <td>0</td>\n",
       "    </tr>\n",
       "    <tr>\n",
       "      <th>1308</th>\n",
       "      <td>3</td>\n",
       "      <td>0</td>\n",
       "      <td>0</td>\n",
       "      <td>0</td>\n",
       "    </tr>\n",
       "  </tbody>\n",
       "</table>\n",
       "<p>1309 rows × 4 columns</p>\n",
       "</div>"
      ],
      "text/plain": [
       "      pclass  survived  sibsp  parch\n",
       "0          1         1      0      0\n",
       "1          1         1      1      2\n",
       "2          1         0      1      2\n",
       "3          1         0      1      2\n",
       "4          1         0      1      2\n",
       "5          1         1      0      0\n",
       "6          1         1      1      0\n",
       "7          1         0      0      0\n",
       "8          1         1      2      0\n",
       "9          1         0      0      0\n",
       "10         1         0      1      0\n",
       "11         1         1      1      0\n",
       "12         1         1      0      0\n",
       "13         1         1      0      0\n",
       "14         1         1      0      0\n",
       "15         1         0      0      0\n",
       "16         1         0      0      1\n",
       "17         1         1      0      1\n",
       "18         1         1      0      0\n",
       "19         1         0      0      0\n",
       "20         1         1      1      1\n",
       "21         1         1      1      1\n",
       "22         1         1      0      0\n",
       "23         1         1      0      0\n",
       "24         1         1      0      0\n",
       "25         1         0      0      0\n",
       "26         1         1      1      0\n",
       "27         1         1      1      0\n",
       "28         1         1      0      0\n",
       "29         1         1      0      0\n",
       "...      ...       ...    ...    ...\n",
       "1279       3         0      0      0\n",
       "1280       3         0      0      0\n",
       "1281       3         0      0      0\n",
       "1282       3         0      0      0\n",
       "1283       3         0      0      0\n",
       "1284       3         0      0      0\n",
       "1285       3         0      0      0\n",
       "1286       3         1      0      0\n",
       "1287       3         0      0      0\n",
       "1288       3         0      1      0\n",
       "1289       3         0      1      0\n",
       "1290       3         1      1      0\n",
       "1291       3         0      0      0\n",
       "1292       3         0      0      0\n",
       "1293       3         0      0      0\n",
       "1294       3         0      0      0\n",
       "1295       3         0      0      0\n",
       "1296       3         0      0      0\n",
       "1297       3         0      0      0\n",
       "1298       3         0      0      0\n",
       "1299       3         0      1      0\n",
       "1300       3         1      1      0\n",
       "1301       3         0      0      0\n",
       "1302       3         0      0      0\n",
       "1303       3         0      0      0\n",
       "1304       3         0      1      0\n",
       "1305       3         0      1      0\n",
       "1306       3         0      0      0\n",
       "1307       3         0      0      0\n",
       "1308       3         0      0      0\n",
       "\n",
       "[1309 rows x 4 columns]"
      ]
     },
     "execution_count": 183,
     "metadata": {},
     "output_type": "execute_result"
    }
   ],
   "source": [
    "titanic_f.dropna()"
   ]
  },
  {
   "cell_type": "code",
   "execution_count": 184,
   "metadata": {},
   "outputs": [],
   "source": [
    "# Separando a variável alvo das variáveis independentes\n",
    "x = titanic_f.drop([\"survived\"],axis=1)\n",
    "y = titanic_f[\"survived\"]"
   ]
  },
  {
   "cell_type": "code",
   "execution_count": 187,
   "metadata": {},
   "outputs": [],
   "source": [
    "# Dividindo o conjunto entre treino e teste\n",
    "x_train, x_test, y_train, y_test = train_test_split(x, y, test_size = 0.25, random_state=0)"
   ]
  },
  {
   "cell_type": "markdown",
   "metadata": {},
   "source": [
    "Através das métricas vistas através da matriz de confusão (precisão, revocação, etc) e da curva ROC, poderemos avaliar o modelo."
   ]
  },
  {
   "cell_type": "code",
   "execution_count": 186,
   "metadata": {},
   "outputs": [],
   "source": [
    "# algumas funções para auxiliar na visulização:\n",
    "\n",
    "def confusion_matrix_model(model_used):\n",
    "    cm = confusion_matrix(y_test, model_used.predict(x_test))\n",
    "    col = [\"Previsto Morto\",\"Previsto Sobrevivente\"]\n",
    "    cm = pd.DataFrame(cm)\n",
    "    cm.columns = [\"Previsto Morto\",\"Previsto Sobrevivente\"]\n",
    "    cm.index=[\"Realmente Morto\",\"Realmente Sobrevivente\"]\n",
    "    cm[col]=np.around(cm[col].div(cm[col].sum(axis=1),axis=0),decimals=2)\n",
    "    return cm"
   ]
  },
  {
   "cell_type": "code",
   "execution_count": 198,
   "metadata": {},
   "outputs": [
    {
     "name": "stderr",
     "output_type": "stream",
     "text": [
      "C:\\ProgramData\\Anaconda3\\lib\\site-packages\\sklearn\\linear_model\\logistic.py:432: FutureWarning: Default solver will be changed to 'lbfgs' in 0.22. Specify a solver to silence this warning.\n",
      "  FutureWarning)\n"
     ]
    },
    {
     "data": {
      "text/plain": [
       "LogisticRegression(C=1.0, class_weight=None, dual=False, fit_intercept=True,\n",
       "                   intercept_scaling=1, l1_ratio=None, max_iter=100,\n",
       "                   multi_class='warn', n_jobs=None, penalty='l2',\n",
       "                   random_state=None, solver='warn', tol=0.0001, verbose=0,\n",
       "                   warm_start=False)"
      ]
     },
     "execution_count": 198,
     "metadata": {},
     "output_type": "execute_result"
    }
   ],
   "source": [
    "log_reg = LogisticRegression()\n",
    "\n",
    "log_reg = log_reg.fit(x_train, y_train)\n",
    "\n",
    "log_reg"
   ]
  },
  {
   "cell_type": "code",
   "execution_count": 200,
   "metadata": {},
   "outputs": [
    {
     "name": "stdout",
     "output_type": "stream",
     "text": [
      "Coeficientes: \n",
      " [[-0.74319746 -0.17980297  0.23805692]]\n",
      "Interfacept: \n",
      " [1.20162046]\n"
     ]
    }
   ],
   "source": [
    "# Coeficientes relativos as variáveis independentes/preditoras\n",
    "print('Coeficientes: \\n', log_reg.coef_)\n",
    "\n",
    "\n",
    "print('Interfacept: \\n', log_reg.intercept_)"
   ]
  },
  {
   "cell_type": "code",
   "execution_count": 201,
   "metadata": {},
   "outputs": [],
   "source": [
    "# Prevê, para os dados do conjunto de teste, resultados para a variável alvo\n",
    "predicao_reglog = log_reg.predict(x_test)"
   ]
  },
  {
   "cell_type": "code",
   "execution_count": 202,
   "metadata": {},
   "outputs": [
    {
     "name": "stdout",
     "output_type": "stream",
     "text": [
      "Acurácia:  0.7073170731707317\n"
     ]
    }
   ],
   "source": [
    "print('Acurácia: ', metrics.accuracy_score(y_test, predicao_reglog))"
   ]
  },
  {
   "cell_type": "code",
   "execution_count": 203,
   "metadata": {},
   "outputs": [
    {
     "name": "stdout",
     "output_type": "stream",
     "text": [
      "[[177  31]\n",
      " [ 65  55]]\n"
     ]
    }
   ],
   "source": [
    "# Matriz de Confusão simples\n",
    "print(confusion_matrix(y_test, predicao_reglog))"
   ]
  },
  {
   "cell_type": "code",
   "execution_count": 204,
   "metadata": {},
   "outputs": [
    {
     "data": {
      "text/html": [
       "<div>\n",
       "<style scoped>\n",
       "    .dataframe tbody tr th:only-of-type {\n",
       "        vertical-align: middle;\n",
       "    }\n",
       "\n",
       "    .dataframe tbody tr th {\n",
       "        vertical-align: top;\n",
       "    }\n",
       "\n",
       "    .dataframe thead th {\n",
       "        text-align: right;\n",
       "    }\n",
       "</style>\n",
       "<table border=\"1\" class=\"dataframe\">\n",
       "  <thead>\n",
       "    <tr style=\"text-align: right;\">\n",
       "      <th></th>\n",
       "      <th>Previsto Morto</th>\n",
       "      <th>Previsto Sobrevivente</th>\n",
       "    </tr>\n",
       "  </thead>\n",
       "  <tbody>\n",
       "    <tr>\n",
       "      <th>Realmente Morto</th>\n",
       "      <td>0.85</td>\n",
       "      <td>0.15</td>\n",
       "    </tr>\n",
       "    <tr>\n",
       "      <th>Realmente Sobrevivente</th>\n",
       "      <td>0.54</td>\n",
       "      <td>0.46</td>\n",
       "    </tr>\n",
       "  </tbody>\n",
       "</table>\n",
       "</div>"
      ],
      "text/plain": [
       "                        Previsto Morto  Previsto Sobrevivente\n",
       "Realmente Morto                   0.85                   0.15\n",
       "Realmente Sobrevivente            0.54                   0.46"
      ]
     },
     "execution_count": 204,
     "metadata": {},
     "output_type": "execute_result"
    }
   ],
   "source": [
    "# Matriz de Confusão com proporções\n",
    "confusion_matrix_model(log_reg)"
   ]
  },
  {
   "cell_type": "code",
   "execution_count": 206,
   "metadata": {},
   "outputs": [
    {
     "name": "stdout",
     "output_type": "stream",
     "text": [
      "Precisão:  0.6395348837209303\n",
      "Revocação:  0.4583333333333333\n",
      "F1-Measure:  0.5339805825242719\n",
      "ROC AUC:  0.6546474358974359\n"
     ]
    }
   ],
   "source": [
    "print('Precisão: ', metrics.precision_score(y_test, predicao_reglog))\n",
    "\n",
    "print('Revocação: ', metrics.recall_score(y_test, predicao_reglog))\n",
    "\n",
    "print('F1-Measure: ', metrics.f1_score(y_test, predicao_reglog))\n",
    "\n",
    "print('ROC AUC: ', metrics.roc_auc_score(y_test, predicao_reglog))"
   ]
  },
  {
   "cell_type": "code",
   "execution_count": 207,
   "metadata": {},
   "outputs": [],
   "source": [
    "# Calcula o \"False Positive Rate\" e o \"True Positive Rate\"\n",
    "fpr, tpr, thresholds = metrics.roc_curve(y_test, predicao_reglog, pos_label=1)\n",
    "\n",
    "\n",
    "AUC = metrics.auc(fpr, tpr)"
   ]
  },
  {
   "cell_type": "code",
   "execution_count": 208,
   "metadata": {},
   "outputs": [
    {
     "name": "stdout",
     "output_type": "stream",
     "text": [
      "Area Under the Curve:  0.6546474358974359\n"
     ]
    }
   ],
   "source": [
    "print('Area Under the Curve: ', AUC)"
   ]
  },
  {
   "cell_type": "code",
   "execution_count": 209,
   "metadata": {},
   "outputs": [],
   "source": [
    "# Código para treinamento da Floresta Aleatória\n",
    "\n",
    "from sklearn.ensemble import RandomForestClassifier "
   ]
  },
  {
   "cell_type": "code",
   "execution_count": 210,
   "metadata": {},
   "outputs": [],
   "source": [
    "# Instanciao objeto da Floresta Aleatória e define o número de árvores a serem utilizadas\n",
    "floresta = RandomForestClassifier(n_estimators=1000)\n",
    "\n",
    "x_train, x_test, y_train, y_test\n",
    "\n",
    "# Treinamento do modelo\n",
    "floresta.fit(x_train, y_train)\n",
    "\n",
    "# Prevê a partir dos preditores de testes\n",
    "predicted = floresta.predict(x_test)"
   ]
  },
  {
   "cell_type": "code",
   "execution_count": 155,
   "metadata": {},
   "outputs": [
    {
     "data": {
      "text/plain": [
       "pclass        3.0000\n",
       "survived      0.0000\n",
       "age          28.0000\n",
       "sibsp         0.0000\n",
       "parch         0.0000\n",
       "fare         14.4542\n",
       "body        155.0000\n",
       "dtype: float64"
      ]
     },
     "execution_count": 155,
     "metadata": {},
     "output_type": "execute_result"
    }
   ],
   "source": [
    "df.median() # efetuando a mediana da base"
   ]
  },
  {
   "cell_type": "code",
   "execution_count": 156,
   "metadata": {},
   "outputs": [
    {
     "data": {
      "text/plain": [
       "pclass        2.294882\n",
       "survived      0.381971\n",
       "age          29.881138\n",
       "sibsp         0.498854\n",
       "parch         0.385027\n",
       "fare         33.295479\n",
       "body        160.809917\n",
       "dtype: float64"
      ]
     },
     "execution_count": 156,
     "metadata": {},
     "output_type": "execute_result"
    }
   ],
   "source": [
    "df.mean() # efetuando a média da base"
   ]
  },
  {
   "cell_type": "code",
   "execution_count": 84,
   "metadata": {},
   "outputs": [
    {
     "data": {
      "text/html": [
       "<div>\n",
       "<style scoped>\n",
       "    .dataframe tbody tr th:only-of-type {\n",
       "        vertical-align: middle;\n",
       "    }\n",
       "\n",
       "    .dataframe tbody tr th {\n",
       "        vertical-align: top;\n",
       "    }\n",
       "\n",
       "    .dataframe thead th {\n",
       "        text-align: right;\n",
       "    }\n",
       "</style>\n",
       "<table border=\"1\" class=\"dataframe\">\n",
       "  <thead>\n",
       "    <tr style=\"text-align: right;\">\n",
       "      <th></th>\n",
       "      <th>pclass</th>\n",
       "      <th>survived</th>\n",
       "      <th>name</th>\n",
       "      <th>sex</th>\n",
       "      <th>age</th>\n",
       "      <th>sibsp</th>\n",
       "      <th>parch</th>\n",
       "      <th>ticket</th>\n",
       "      <th>fare</th>\n",
       "      <th>cabin</th>\n",
       "      <th>embarked</th>\n",
       "      <th>boat</th>\n",
       "      <th>body</th>\n",
       "      <th>home.dest</th>\n",
       "    </tr>\n",
       "  </thead>\n",
       "  <tbody>\n",
       "    <tr>\n",
       "      <th>0</th>\n",
       "      <td>1</td>\n",
       "      <td>1</td>\n",
       "      <td>Allen, Miss. Elisabeth Walton</td>\n",
       "      <td>female</td>\n",
       "      <td>29.00</td>\n",
       "      <td>0</td>\n",
       "      <td>0</td>\n",
       "      <td>24160</td>\n",
       "      <td>211.3375</td>\n",
       "      <td>B5</td>\n",
       "      <td>S</td>\n",
       "      <td>2</td>\n",
       "      <td>NaN</td>\n",
       "      <td>St Louis, MO</td>\n",
       "    </tr>\n",
       "    <tr>\n",
       "      <th>1</th>\n",
       "      <td>1</td>\n",
       "      <td>1</td>\n",
       "      <td>Allison, Master. Hudson Trevor</td>\n",
       "      <td>male</td>\n",
       "      <td>0.92</td>\n",
       "      <td>1</td>\n",
       "      <td>2</td>\n",
       "      <td>113781</td>\n",
       "      <td>151.5500</td>\n",
       "      <td>C22 C26</td>\n",
       "      <td>S</td>\n",
       "      <td>11</td>\n",
       "      <td>NaN</td>\n",
       "      <td>Montreal, PQ / Chesterville, ON</td>\n",
       "    </tr>\n",
       "    <tr>\n",
       "      <th>2</th>\n",
       "      <td>1</td>\n",
       "      <td>0</td>\n",
       "      <td>Allison, Miss. Helen Loraine</td>\n",
       "      <td>female</td>\n",
       "      <td>2.00</td>\n",
       "      <td>1</td>\n",
       "      <td>2</td>\n",
       "      <td>113781</td>\n",
       "      <td>151.5500</td>\n",
       "      <td>C22 C26</td>\n",
       "      <td>S</td>\n",
       "      <td>NaN</td>\n",
       "      <td>NaN</td>\n",
       "      <td>Montreal, PQ / Chesterville, ON</td>\n",
       "    </tr>\n",
       "    <tr>\n",
       "      <th>3</th>\n",
       "      <td>1</td>\n",
       "      <td>0</td>\n",
       "      <td>Allison, Mr. Hudson Joshua Creighton</td>\n",
       "      <td>male</td>\n",
       "      <td>30.00</td>\n",
       "      <td>1</td>\n",
       "      <td>2</td>\n",
       "      <td>113781</td>\n",
       "      <td>151.5500</td>\n",
       "      <td>C22 C26</td>\n",
       "      <td>S</td>\n",
       "      <td>NaN</td>\n",
       "      <td>135.0</td>\n",
       "      <td>Montreal, PQ / Chesterville, ON</td>\n",
       "    </tr>\n",
       "    <tr>\n",
       "      <th>4</th>\n",
       "      <td>1</td>\n",
       "      <td>0</td>\n",
       "      <td>Allison, Mrs. Hudson J C (Bessie Waldo Daniels)</td>\n",
       "      <td>female</td>\n",
       "      <td>25.00</td>\n",
       "      <td>1</td>\n",
       "      <td>2</td>\n",
       "      <td>113781</td>\n",
       "      <td>151.5500</td>\n",
       "      <td>C22 C26</td>\n",
       "      <td>S</td>\n",
       "      <td>NaN</td>\n",
       "      <td>NaN</td>\n",
       "      <td>Montreal, PQ / Chesterville, ON</td>\n",
       "    </tr>\n",
       "  </tbody>\n",
       "</table>\n",
       "</div>"
      ],
      "text/plain": [
       "   pclass  survived                                             name     sex  \\\n",
       "0       1         1                    Allen, Miss. Elisabeth Walton  female   \n",
       "1       1         1                   Allison, Master. Hudson Trevor    male   \n",
       "2       1         0                     Allison, Miss. Helen Loraine  female   \n",
       "3       1         0             Allison, Mr. Hudson Joshua Creighton    male   \n",
       "4       1         0  Allison, Mrs. Hudson J C (Bessie Waldo Daniels)  female   \n",
       "\n",
       "     age  sibsp  parch  ticket      fare    cabin embarked boat   body  \\\n",
       "0  29.00      0      0   24160  211.3375       B5        S    2    NaN   \n",
       "1   0.92      1      2  113781  151.5500  C22 C26        S   11    NaN   \n",
       "2   2.00      1      2  113781  151.5500  C22 C26        S  NaN    NaN   \n",
       "3  30.00      1      2  113781  151.5500  C22 C26        S  NaN  135.0   \n",
       "4  25.00      1      2  113781  151.5500  C22 C26        S  NaN    NaN   \n",
       "\n",
       "                         home.dest  \n",
       "0                     St Louis, MO  \n",
       "1  Montreal, PQ / Chesterville, ON  \n",
       "2  Montreal, PQ / Chesterville, ON  \n",
       "3  Montreal, PQ / Chesterville, ON  \n",
       "4  Montreal, PQ / Chesterville, ON  "
      ]
     },
     "execution_count": 84,
     "metadata": {},
     "output_type": "execute_result"
    }
   ],
   "source": [
    "df2 = df.head()\n",
    "df2 = df2.replace({\"age\": {28.0000: np.nan}}) # substituindo na coluna Age os valores nulos usando a mediana: 29.881138\n",
    "df2"
   ]
  },
  {
   "cell_type": "code",
   "execution_count": 85,
   "metadata": {},
   "outputs": [
    {
     "data": {
      "text/plain": [
       "pclass       0\n",
       "survived     0\n",
       "name         0\n",
       "sex          0\n",
       "age          0\n",
       "sibsp        0\n",
       "parch        0\n",
       "ticket       0\n",
       "fare         0\n",
       "cabin        0\n",
       "embarked     0\n",
       "boat         3\n",
       "body         4\n",
       "home.dest    0\n",
       "dtype: int64"
      ]
     },
     "execution_count": 85,
     "metadata": {},
     "output_type": "execute_result"
    }
   ],
   "source": [
    "df2.isnull().sum() # foi verificado que foram para todas as colunas. Assim, não sendo necessário realizar dessa maneira"
   ]
  },
  {
   "cell_type": "code",
   "execution_count": 86,
   "metadata": {},
   "outputs": [
    {
     "data": {
      "text/html": [
       "<div>\n",
       "<style scoped>\n",
       "    .dataframe tbody tr th:only-of-type {\n",
       "        vertical-align: middle;\n",
       "    }\n",
       "\n",
       "    .dataframe tbody tr th {\n",
       "        vertical-align: top;\n",
       "    }\n",
       "\n",
       "    .dataframe thead th {\n",
       "        text-align: right;\n",
       "    }\n",
       "</style>\n",
       "<table border=\"1\" class=\"dataframe\">\n",
       "  <thead>\n",
       "    <tr style=\"text-align: right;\">\n",
       "      <th></th>\n",
       "      <th>pclass</th>\n",
       "      <th>survived</th>\n",
       "      <th>name</th>\n",
       "      <th>sex</th>\n",
       "      <th>age</th>\n",
       "      <th>sibsp</th>\n",
       "      <th>parch</th>\n",
       "      <th>ticket</th>\n",
       "      <th>fare</th>\n",
       "      <th>cabin</th>\n",
       "      <th>embarked</th>\n",
       "      <th>boat</th>\n",
       "      <th>body</th>\n",
       "      <th>home.dest</th>\n",
       "    </tr>\n",
       "  </thead>\n",
       "  <tbody>\n",
       "  </tbody>\n",
       "</table>\n",
       "</div>"
      ],
      "text/plain": [
       "Empty DataFrame\n",
       "Columns: [pclass, survived, name, sex, age, sibsp, parch, ticket, fare, cabin, embarked, boat, body, home.dest]\n",
       "Index: []"
      ]
     },
     "execution_count": 86,
     "metadata": {},
     "output_type": "execute_result"
    }
   ],
   "source": [
    "df2.dropna() # não foi um método necessário para minha análise, visto que o dropana simplifica na remoção de quaiquer linhas ou colunas que possuem um np.nan, por padrão o .dropna() retorna as linhas que não contém um NaN:"
   ]
  },
  {
   "cell_type": "code",
   "execution_count": 87,
   "metadata": {},
   "outputs": [
    {
     "data": {
      "text/html": [
       "<div>\n",
       "<style scoped>\n",
       "    .dataframe tbody tr th:only-of-type {\n",
       "        vertical-align: middle;\n",
       "    }\n",
       "\n",
       "    .dataframe tbody tr th {\n",
       "        vertical-align: top;\n",
       "    }\n",
       "\n",
       "    .dataframe thead th {\n",
       "        text-align: right;\n",
       "    }\n",
       "</style>\n",
       "<table border=\"1\" class=\"dataframe\">\n",
       "  <thead>\n",
       "    <tr style=\"text-align: right;\">\n",
       "      <th></th>\n",
       "      <th>pclass</th>\n",
       "      <th>survived</th>\n",
       "      <th>name</th>\n",
       "      <th>sex</th>\n",
       "      <th>age</th>\n",
       "      <th>sibsp</th>\n",
       "      <th>parch</th>\n",
       "      <th>ticket</th>\n",
       "      <th>fare</th>\n",
       "      <th>cabin</th>\n",
       "      <th>embarked</th>\n",
       "      <th>boat</th>\n",
       "      <th>body</th>\n",
       "      <th>home.dest</th>\n",
       "    </tr>\n",
       "  </thead>\n",
       "  <tbody>\n",
       "    <tr>\n",
       "      <th>0</th>\n",
       "      <td>False</td>\n",
       "      <td>False</td>\n",
       "      <td>False</td>\n",
       "      <td>False</td>\n",
       "      <td>False</td>\n",
       "      <td>False</td>\n",
       "      <td>False</td>\n",
       "      <td>False</td>\n",
       "      <td>False</td>\n",
       "      <td>False</td>\n",
       "      <td>False</td>\n",
       "      <td>False</td>\n",
       "      <td>True</td>\n",
       "      <td>False</td>\n",
       "    </tr>\n",
       "    <tr>\n",
       "      <th>1</th>\n",
       "      <td>False</td>\n",
       "      <td>False</td>\n",
       "      <td>False</td>\n",
       "      <td>False</td>\n",
       "      <td>False</td>\n",
       "      <td>False</td>\n",
       "      <td>False</td>\n",
       "      <td>False</td>\n",
       "      <td>False</td>\n",
       "      <td>False</td>\n",
       "      <td>False</td>\n",
       "      <td>False</td>\n",
       "      <td>True</td>\n",
       "      <td>False</td>\n",
       "    </tr>\n",
       "    <tr>\n",
       "      <th>2</th>\n",
       "      <td>False</td>\n",
       "      <td>False</td>\n",
       "      <td>False</td>\n",
       "      <td>False</td>\n",
       "      <td>False</td>\n",
       "      <td>False</td>\n",
       "      <td>False</td>\n",
       "      <td>False</td>\n",
       "      <td>False</td>\n",
       "      <td>False</td>\n",
       "      <td>False</td>\n",
       "      <td>True</td>\n",
       "      <td>True</td>\n",
       "      <td>False</td>\n",
       "    </tr>\n",
       "    <tr>\n",
       "      <th>3</th>\n",
       "      <td>False</td>\n",
       "      <td>False</td>\n",
       "      <td>False</td>\n",
       "      <td>False</td>\n",
       "      <td>False</td>\n",
       "      <td>False</td>\n",
       "      <td>False</td>\n",
       "      <td>False</td>\n",
       "      <td>False</td>\n",
       "      <td>False</td>\n",
       "      <td>False</td>\n",
       "      <td>True</td>\n",
       "      <td>False</td>\n",
       "      <td>False</td>\n",
       "    </tr>\n",
       "    <tr>\n",
       "      <th>4</th>\n",
       "      <td>False</td>\n",
       "      <td>False</td>\n",
       "      <td>False</td>\n",
       "      <td>False</td>\n",
       "      <td>False</td>\n",
       "      <td>False</td>\n",
       "      <td>False</td>\n",
       "      <td>False</td>\n",
       "      <td>False</td>\n",
       "      <td>False</td>\n",
       "      <td>False</td>\n",
       "      <td>True</td>\n",
       "      <td>True</td>\n",
       "      <td>False</td>\n",
       "    </tr>\n",
       "  </tbody>\n",
       "</table>\n",
       "</div>"
      ],
      "text/plain": [
       "   pclass  survived   name    sex    age  sibsp  parch  ticket   fare  cabin  \\\n",
       "0   False     False  False  False  False  False  False   False  False  False   \n",
       "1   False     False  False  False  False  False  False   False  False  False   \n",
       "2   False     False  False  False  False  False  False   False  False  False   \n",
       "3   False     False  False  False  False  False  False   False  False  False   \n",
       "4   False     False  False  False  False  False  False   False  False  False   \n",
       "\n",
       "   embarked   boat   body  home.dest  \n",
       "0     False  False   True      False  \n",
       "1     False  False   True      False  \n",
       "2     False   True   True      False  \n",
       "3     False   True  False      False  \n",
       "4     False   True   True      False  "
      ]
     },
     "execution_count": 87,
     "metadata": {},
     "output_type": "execute_result"
    }
   ],
   "source": [
    "df2.isna() # valores de um dataframe são NaN e quais não são"
   ]
  },
  {
   "cell_type": "code",
   "execution_count": 88,
   "metadata": {},
   "outputs": [
    {
     "data": {
      "text/plain": [
       "0"
      ]
     },
     "execution_count": 88,
     "metadata": {},
     "output_type": "execute_result"
    }
   ],
   "source": [
    "# fui atrás de mais informações para inserir os dados faltantes\n",
    "\n",
    "# extraido a mediana da coluna Age\n",
    "mediana = df[\"age\"].median() \n",
    "# preencher a coluba Age com a mediana\n",
    "df.fillna(mediana, inplace = True)\n",
    "# checar se possui variáveis ausentes\n",
    "df[\"age\"].isnull().sum()"
   ]
  },
  {
   "cell_type": "code",
   "execution_count": 89,
   "metadata": {},
   "outputs": [
    {
     "data": {
      "text/html": [
       "<div>\n",
       "<style scoped>\n",
       "    .dataframe tbody tr th:only-of-type {\n",
       "        vertical-align: middle;\n",
       "    }\n",
       "\n",
       "    .dataframe tbody tr th {\n",
       "        vertical-align: top;\n",
       "    }\n",
       "\n",
       "    .dataframe thead th {\n",
       "        text-align: right;\n",
       "    }\n",
       "</style>\n",
       "<table border=\"1\" class=\"dataframe\">\n",
       "  <thead>\n",
       "    <tr style=\"text-align: right;\">\n",
       "      <th></th>\n",
       "      <th>pclass</th>\n",
       "      <th>survived</th>\n",
       "      <th>age</th>\n",
       "      <th>sibsp</th>\n",
       "      <th>parch</th>\n",
       "      <th>fare</th>\n",
       "      <th>body</th>\n",
       "    </tr>\n",
       "  </thead>\n",
       "  <tbody>\n",
       "    <tr>\n",
       "      <th>count</th>\n",
       "      <td>1309.000000</td>\n",
       "      <td>1309.000000</td>\n",
       "      <td>1309.000000</td>\n",
       "      <td>1309.000000</td>\n",
       "      <td>1309.000000</td>\n",
       "      <td>1309.000000</td>\n",
       "      <td>1309.000000</td>\n",
       "    </tr>\n",
       "    <tr>\n",
       "      <th>mean</th>\n",
       "      <td>2.294882</td>\n",
       "      <td>0.381971</td>\n",
       "      <td>29.503186</td>\n",
       "      <td>0.498854</td>\n",
       "      <td>0.385027</td>\n",
       "      <td>33.291434</td>\n",
       "      <td>40.276547</td>\n",
       "    </tr>\n",
       "    <tr>\n",
       "      <th>std</th>\n",
       "      <td>0.837836</td>\n",
       "      <td>0.486055</td>\n",
       "      <td>12.905241</td>\n",
       "      <td>1.041658</td>\n",
       "      <td>0.865560</td>\n",
       "      <td>51.739086</td>\n",
       "      <td>48.544046</td>\n",
       "    </tr>\n",
       "    <tr>\n",
       "      <th>min</th>\n",
       "      <td>1.000000</td>\n",
       "      <td>0.000000</td>\n",
       "      <td>0.170000</td>\n",
       "      <td>0.000000</td>\n",
       "      <td>0.000000</td>\n",
       "      <td>0.000000</td>\n",
       "      <td>1.000000</td>\n",
       "    </tr>\n",
       "    <tr>\n",
       "      <th>25%</th>\n",
       "      <td>2.000000</td>\n",
       "      <td>0.000000</td>\n",
       "      <td>22.000000</td>\n",
       "      <td>0.000000</td>\n",
       "      <td>0.000000</td>\n",
       "      <td>7.895800</td>\n",
       "      <td>28.000000</td>\n",
       "    </tr>\n",
       "    <tr>\n",
       "      <th>50%</th>\n",
       "      <td>3.000000</td>\n",
       "      <td>0.000000</td>\n",
       "      <td>28.000000</td>\n",
       "      <td>0.000000</td>\n",
       "      <td>0.000000</td>\n",
       "      <td>14.454200</td>\n",
       "      <td>28.000000</td>\n",
       "    </tr>\n",
       "    <tr>\n",
       "      <th>75%</th>\n",
       "      <td>3.000000</td>\n",
       "      <td>1.000000</td>\n",
       "      <td>35.000000</td>\n",
       "      <td>1.000000</td>\n",
       "      <td>0.000000</td>\n",
       "      <td>31.275000</td>\n",
       "      <td>28.000000</td>\n",
       "    </tr>\n",
       "    <tr>\n",
       "      <th>max</th>\n",
       "      <td>3.000000</td>\n",
       "      <td>1.000000</td>\n",
       "      <td>80.000000</td>\n",
       "      <td>8.000000</td>\n",
       "      <td>9.000000</td>\n",
       "      <td>512.329200</td>\n",
       "      <td>328.000000</td>\n",
       "    </tr>\n",
       "  </tbody>\n",
       "</table>\n",
       "</div>"
      ],
      "text/plain": [
       "            pclass     survived          age        sibsp        parch  \\\n",
       "count  1309.000000  1309.000000  1309.000000  1309.000000  1309.000000   \n",
       "mean      2.294882     0.381971    29.503186     0.498854     0.385027   \n",
       "std       0.837836     0.486055    12.905241     1.041658     0.865560   \n",
       "min       1.000000     0.000000     0.170000     0.000000     0.000000   \n",
       "25%       2.000000     0.000000    22.000000     0.000000     0.000000   \n",
       "50%       3.000000     0.000000    28.000000     0.000000     0.000000   \n",
       "75%       3.000000     1.000000    35.000000     1.000000     0.000000   \n",
       "max       3.000000     1.000000    80.000000     8.000000     9.000000   \n",
       "\n",
       "              fare         body  \n",
       "count  1309.000000  1309.000000  \n",
       "mean     33.291434    40.276547  \n",
       "std      51.739086    48.544046  \n",
       "min       0.000000     1.000000  \n",
       "25%       7.895800    28.000000  \n",
       "50%      14.454200    28.000000  \n",
       "75%      31.275000    28.000000  \n",
       "max     512.329200   328.000000  "
      ]
     },
     "execution_count": 89,
     "metadata": {},
     "output_type": "execute_result"
    }
   ],
   "source": [
    "df.describe() # descrição da base de dados em contagens, média, desvio padrão, minimo, máximo e os quartis de 25,50,75% da base de dados"
   ]
  },
  {
   "cell_type": "markdown",
   "metadata": {},
   "source": [
    "**Interpretação do sumário para uma possível regressão linear**"
   ]
  },
  {
   "cell_type": "code",
   "execution_count": 90,
   "metadata": {},
   "outputs": [],
   "source": [
    "from sklearn.linear_model import LinearRegression\n",
    "import statsmodels.api as sm\n",
    "\n",
    "# variável preditora\n",
    "x = df[['pclass','age', 'sibsp','fare']]\n",
    "# variável alvo\n",
    "y = df['survived']"
   ]
  },
  {
   "cell_type": "code",
   "execution_count": 91,
   "metadata": {},
   "outputs": [
    {
     "name": "stderr",
     "output_type": "stream",
     "text": [
      "C:\\ProgramData\\Anaconda3\\lib\\site-packages\\numpy\\core\\fromnumeric.py:2389: FutureWarning: Method .ptp is deprecated and will be removed in a future version. Use numpy.ptp instead.\n",
      "  return ptp(axis=axis, out=out, **kwargs)\n"
     ]
    },
    {
     "data": {
      "text/plain": [
       "0       0.825999\n",
       "1       0.943098\n",
       "2       0.935082\n",
       "3       0.727275\n",
       "4       0.764384\n",
       "5       0.494107\n",
       "6       0.406342\n",
       "7       0.533477\n",
       "8       0.423664\n",
       "9       0.347120\n",
       "10      0.679587\n",
       "11      0.894815\n",
       "12      0.716387\n",
       "13      0.711408\n",
       "14      0.260177\n",
       "15      0.641895\n",
       "16      0.900483\n",
       "17      0.707520\n",
       "18      0.664236\n",
       "19      0.633464\n",
       "20      0.573064\n",
       "21      0.498847\n",
       "22      0.660948\n",
       "23      0.746238\n",
       "24      0.836785\n",
       "25      0.664238\n",
       "26      0.701919\n",
       "27      0.746449\n",
       "28      0.703269\n",
       "29      0.642541\n",
       "          ...   \n",
       "1279    0.353909\n",
       "1280    0.294579\n",
       "1281    0.295720\n",
       "1282    0.250208\n",
       "1283    0.249692\n",
       "1284    0.250208\n",
       "1285    0.218308\n",
       "1286    0.175144\n",
       "1287    0.079200\n",
       "1288    0.293276\n",
       "1289    0.271011\n",
       "1290    0.078569\n",
       "1291    0.250892\n",
       "1292    0.249692\n",
       "1293    0.250208\n",
       "1294    0.254813\n",
       "1295    0.301334\n",
       "1296    0.258263\n",
       "1297    0.249382\n",
       "1298    0.192333\n",
       "1299    0.234702\n",
       "1300    0.323762\n",
       "1301    0.119477\n",
       "1302    0.249356\n",
       "1303    0.256828\n",
       "1304    0.327473\n",
       "1305    0.227280\n",
       "1306    0.260488\n",
       "1307    0.256778\n",
       "1308    0.242606\n",
       "Length: 1309, dtype: float64"
      ]
     },
     "execution_count": 91,
     "metadata": {},
     "output_type": "execute_result"
    }
   ],
   "source": [
    "# é necessário adicionar uma constante a matriz X\n",
    "X_sm = sm.add_constant(x)\n",
    "# OLS vem de Ordinary Least Squares e o método fit irá treinar o modelo\n",
    "results = sm.OLS(y, X_sm).fit()\n",
    "# mostrando as estatísticas do modelo\n",
    "results.summary()\n",
    "# mostrando as previsões para o mesmo conjunto passado\n",
    "results.predict(X_sm)"
   ]
  },
  {
   "cell_type": "code",
   "execution_count": 92,
   "metadata": {},
   "outputs": [
    {
     "name": "stdout",
     "output_type": "stream",
     "text": [
      "                            OLS Regression Results                            \n",
      "==============================================================================\n",
      "Dep. Variable:               survived   R-squared:                       0.138\n",
      "Model:                            OLS   Adj. R-squared:                  0.135\n",
      "Method:                 Least Squares   F-statistic:                     52.09\n",
      "Date:                Sat, 23 Nov 2019   Prob (F-statistic):           9.67e-41\n",
      "Time:                        18:34:44   Log-Likelihood:                -815.52\n",
      "No. Observations:                1309   AIC:                             1641.\n",
      "Df Residuals:                    1304   BIC:                             1667.\n",
      "Df Model:                           4                                         \n",
      "Covariance Type:            nonrobust                                         \n",
      "==============================================================================\n",
      "                 coef    std err          t      P>|t|      [0.025      0.975]\n",
      "------------------------------------------------------------------------------\n",
      "const          1.0095      0.068     14.952      0.000       0.877       1.142\n",
      "pclass        -0.1866      0.019     -9.689      0.000      -0.224      -0.149\n",
      "age           -0.0074      0.001     -6.978      0.000      -0.010      -0.005\n",
      "sibsp         -0.0295      0.013     -2.352      0.019      -0.054      -0.005\n",
      "fare           0.0010      0.000      3.448      0.001       0.000       0.002\n",
      "==============================================================================\n",
      "Omnibus:                     1115.676   Durbin-Watson:                   1.858\n",
      "Prob(Omnibus):                  0.000   Jarque-Bera (JB):              124.710\n",
      "Skew:                           0.455   Prob(JB):                     8.31e-28\n",
      "Kurtosis:                       1.792   Cond. No.                         360.\n",
      "==============================================================================\n",
      "\n",
      "Warnings:\n",
      "[1] Standard Errors assume that the covariance matrix of the errors is correctly specified.\n"
     ]
    }
   ],
   "source": [
    "print(results.summary())"
   ]
  },
  {
   "cell_type": "markdown",
   "metadata": {},
   "source": [
    "**Relação ou Correlação**"
   ]
  },
  {
   "cell_type": "code",
   "execution_count": 93,
   "metadata": {},
   "outputs": [
    {
     "data": {
      "text/html": [
       "<div>\n",
       "<style scoped>\n",
       "    .dataframe tbody tr th:only-of-type {\n",
       "        vertical-align: middle;\n",
       "    }\n",
       "\n",
       "    .dataframe tbody tr th {\n",
       "        vertical-align: top;\n",
       "    }\n",
       "\n",
       "    .dataframe thead th {\n",
       "        text-align: right;\n",
       "    }\n",
       "</style>\n",
       "<table border=\"1\" class=\"dataframe\">\n",
       "  <thead>\n",
       "    <tr style=\"text-align: right;\">\n",
       "      <th></th>\n",
       "      <th>pclass</th>\n",
       "      <th>survived</th>\n",
       "      <th>age</th>\n",
       "      <th>sibsp</th>\n",
       "      <th>parch</th>\n",
       "      <th>fare</th>\n",
       "      <th>body</th>\n",
       "    </tr>\n",
       "  </thead>\n",
       "  <tbody>\n",
       "    <tr>\n",
       "      <th>pclass</th>\n",
       "      <td>1.000000</td>\n",
       "      <td>-0.312469</td>\n",
       "      <td>-0.377908</td>\n",
       "      <td>0.060832</td>\n",
       "      <td>0.018322</td>\n",
       "      <td>-0.558541</td>\n",
       "      <td>-0.045635</td>\n",
       "    </tr>\n",
       "    <tr>\n",
       "      <th>survived</th>\n",
       "      <td>-0.312469</td>\n",
       "      <td>1.000000</td>\n",
       "      <td>-0.043817</td>\n",
       "      <td>-0.027825</td>\n",
       "      <td>0.082660</td>\n",
       "      <td>0.244268</td>\n",
       "      <td>-0.198892</td>\n",
       "    </tr>\n",
       "    <tr>\n",
       "      <th>age</th>\n",
       "      <td>-0.377908</td>\n",
       "      <td>-0.043817</td>\n",
       "      <td>1.000000</td>\n",
       "      <td>-0.189972</td>\n",
       "      <td>-0.125851</td>\n",
       "      <td>0.178671</td>\n",
       "      <td>0.143596</td>\n",
       "    </tr>\n",
       "    <tr>\n",
       "      <th>sibsp</th>\n",
       "      <td>0.060832</td>\n",
       "      <td>-0.027825</td>\n",
       "      <td>-0.189972</td>\n",
       "      <td>1.000000</td>\n",
       "      <td>0.373587</td>\n",
       "      <td>0.160261</td>\n",
       "      <td>-0.052669</td>\n",
       "    </tr>\n",
       "    <tr>\n",
       "      <th>parch</th>\n",
       "      <td>0.018322</td>\n",
       "      <td>0.082660</td>\n",
       "      <td>-0.125851</td>\n",
       "      <td>0.373587</td>\n",
       "      <td>1.000000</td>\n",
       "      <td>0.221556</td>\n",
       "      <td>-0.021168</td>\n",
       "    </tr>\n",
       "    <tr>\n",
       "      <th>fare</th>\n",
       "      <td>-0.558541</td>\n",
       "      <td>0.244268</td>\n",
       "      <td>0.178671</td>\n",
       "      <td>0.160261</td>\n",
       "      <td>0.221556</td>\n",
       "      <td>1.000000</td>\n",
       "      <td>-0.012930</td>\n",
       "    </tr>\n",
       "    <tr>\n",
       "      <th>body</th>\n",
       "      <td>-0.045635</td>\n",
       "      <td>-0.198892</td>\n",
       "      <td>0.143596</td>\n",
       "      <td>-0.052669</td>\n",
       "      <td>-0.021168</td>\n",
       "      <td>-0.012930</td>\n",
       "      <td>1.000000</td>\n",
       "    </tr>\n",
       "  </tbody>\n",
       "</table>\n",
       "</div>"
      ],
      "text/plain": [
       "            pclass  survived       age     sibsp     parch      fare      body\n",
       "pclass    1.000000 -0.312469 -0.377908  0.060832  0.018322 -0.558541 -0.045635\n",
       "survived -0.312469  1.000000 -0.043817 -0.027825  0.082660  0.244268 -0.198892\n",
       "age      -0.377908 -0.043817  1.000000 -0.189972 -0.125851  0.178671  0.143596\n",
       "sibsp     0.060832 -0.027825 -0.189972  1.000000  0.373587  0.160261 -0.052669\n",
       "parch     0.018322  0.082660 -0.125851  0.373587  1.000000  0.221556 -0.021168\n",
       "fare     -0.558541  0.244268  0.178671  0.160261  0.221556  1.000000 -0.012930\n",
       "body     -0.045635 -0.198892  0.143596 -0.052669 -0.021168 -0.012930  1.000000"
      ]
     },
     "execution_count": 93,
     "metadata": {},
     "output_type": "execute_result"
    }
   ],
   "source": [
    "df.corr() # Este coeficiente assume valores entre -1 e 1, onde um valor 1 significa uma correlação positiva perfeita entre as variáveis e um valor -1 uma correlação negativa perfeita entre as variáveis."
   ]
  },
  {
   "cell_type": "code",
   "execution_count": 94,
   "metadata": {},
   "outputs": [
    {
     "data": {
      "text/html": [
       "<div>\n",
       "<style scoped>\n",
       "    .dataframe tbody tr th:only-of-type {\n",
       "        vertical-align: middle;\n",
       "    }\n",
       "\n",
       "    .dataframe tbody tr th {\n",
       "        vertical-align: top;\n",
       "    }\n",
       "\n",
       "    .dataframe thead th {\n",
       "        text-align: right;\n",
       "    }\n",
       "</style>\n",
       "<table border=\"1\" class=\"dataframe\">\n",
       "  <thead>\n",
       "    <tr style=\"text-align: right;\">\n",
       "      <th></th>\n",
       "      <th>pclass</th>\n",
       "      <th>survived</th>\n",
       "      <th>age</th>\n",
       "      <th>sibsp</th>\n",
       "      <th>parch</th>\n",
       "      <th>fare</th>\n",
       "      <th>body</th>\n",
       "    </tr>\n",
       "  </thead>\n",
       "  <tbody>\n",
       "    <tr>\n",
       "      <th>pclass</th>\n",
       "      <td>1.000000</td>\n",
       "      <td>-0.309734</td>\n",
       "      <td>-0.345030</td>\n",
       "      <td>-0.066679</td>\n",
       "      <td>-0.028752</td>\n",
       "      <td>-0.708178</td>\n",
       "      <td>-0.048058</td>\n",
       "    </tr>\n",
       "    <tr>\n",
       "      <th>survived</th>\n",
       "      <td>-0.309734</td>\n",
       "      <td>1.000000</td>\n",
       "      <td>-0.030737</td>\n",
       "      <td>0.083620</td>\n",
       "      <td>0.162086</td>\n",
       "      <td>0.293439</td>\n",
       "      <td>-0.204958</td>\n",
       "    </tr>\n",
       "    <tr>\n",
       "      <th>age</th>\n",
       "      <td>-0.345030</td>\n",
       "      <td>-0.030737</td>\n",
       "      <td>1.000000</td>\n",
       "      <td>-0.102364</td>\n",
       "      <td>-0.182357</td>\n",
       "      <td>0.174044</td>\n",
       "      <td>0.139020</td>\n",
       "    </tr>\n",
       "    <tr>\n",
       "      <th>sibsp</th>\n",
       "      <td>-0.066679</td>\n",
       "      <td>0.083620</td>\n",
       "      <td>-0.102364</td>\n",
       "      <td>1.000000</td>\n",
       "      <td>0.438373</td>\n",
       "      <td>0.444958</td>\n",
       "      <td>-0.057287</td>\n",
       "    </tr>\n",
       "    <tr>\n",
       "      <th>parch</th>\n",
       "      <td>-0.028752</td>\n",
       "      <td>0.162086</td>\n",
       "      <td>-0.182357</td>\n",
       "      <td>0.438373</td>\n",
       "      <td>1.000000</td>\n",
       "      <td>0.399842</td>\n",
       "      <td>-0.065338</td>\n",
       "    </tr>\n",
       "    <tr>\n",
       "      <th>fare</th>\n",
       "      <td>-0.708178</td>\n",
       "      <td>0.293439</td>\n",
       "      <td>0.174044</td>\n",
       "      <td>0.444958</td>\n",
       "      <td>0.399842</td>\n",
       "      <td>1.000000</td>\n",
       "      <td>0.004421</td>\n",
       "    </tr>\n",
       "    <tr>\n",
       "      <th>body</th>\n",
       "      <td>-0.048058</td>\n",
       "      <td>-0.204958</td>\n",
       "      <td>0.139020</td>\n",
       "      <td>-0.057287</td>\n",
       "      <td>-0.065338</td>\n",
       "      <td>0.004421</td>\n",
       "      <td>1.000000</td>\n",
       "    </tr>\n",
       "  </tbody>\n",
       "</table>\n",
       "</div>"
      ],
      "text/plain": [
       "            pclass  survived       age     sibsp     parch      fare      body\n",
       "pclass    1.000000 -0.309734 -0.345030 -0.066679 -0.028752 -0.708178 -0.048058\n",
       "survived -0.309734  1.000000 -0.030737  0.083620  0.162086  0.293439 -0.204958\n",
       "age      -0.345030 -0.030737  1.000000 -0.102364 -0.182357  0.174044  0.139020\n",
       "sibsp    -0.066679  0.083620 -0.102364  1.000000  0.438373  0.444958 -0.057287\n",
       "parch    -0.028752  0.162086 -0.182357  0.438373  1.000000  0.399842 -0.065338\n",
       "fare     -0.708178  0.293439  0.174044  0.444958  0.399842  1.000000  0.004421\n",
       "body     -0.048058 -0.204958  0.139020 -0.057287 -0.065338  0.004421  1.000000"
      ]
     },
     "execution_count": 94,
     "metadata": {},
     "output_type": "execute_result"
    }
   ],
   "source": [
    "df.corr(method='spearman') #  A diferença aqui é que essa calcula a correlação não linear entre as variáveis."
   ]
  },
  {
   "cell_type": "code",
   "execution_count": 95,
   "metadata": {},
   "outputs": [
    {
     "data": {
      "text/html": [
       "<style  type=\"text/css\" >\n",
       "    #T_af1fafba_0e30_11ea_aaf3_d09466a0511crow0_col0 {\n",
       "            background-color:  #b40426;\n",
       "            color:  #f1f1f1;\n",
       "        }    #T_af1fafba_0e30_11ea_aaf3_d09466a0511crow0_col1 {\n",
       "            background-color:  #6c8ff1;\n",
       "            color:  #000000;\n",
       "        }    #T_af1fafba_0e30_11ea_aaf3_d09466a0511crow0_col2 {\n",
       "            background-color:  #5e7de7;\n",
       "            color:  #000000;\n",
       "        }    #T_af1fafba_0e30_11ea_aaf3_d09466a0511crow0_col3 {\n",
       "            background-color:  #bfd3f6;\n",
       "            color:  #000000;\n",
       "        }    #T_af1fafba_0e30_11ea_aaf3_d09466a0511crow0_col4 {\n",
       "            background-color:  #b6cefa;\n",
       "            color:  #000000;\n",
       "        }    #T_af1fafba_0e30_11ea_aaf3_d09466a0511crow0_col5 {\n",
       "            background-color:  #3b4cc0;\n",
       "            color:  #f1f1f1;\n",
       "        }    #T_af1fafba_0e30_11ea_aaf3_d09466a0511crow0_col6 {\n",
       "            background-color:  #a9c6fd;\n",
       "            color:  #000000;\n",
       "        }    #T_af1fafba_0e30_11ea_aaf3_d09466a0511crow1_col0 {\n",
       "            background-color:  #3b4cc0;\n",
       "            color:  #f1f1f1;\n",
       "        }    #T_af1fafba_0e30_11ea_aaf3_d09466a0511crow1_col1 {\n",
       "            background-color:  #b40426;\n",
       "            color:  #f1f1f1;\n",
       "        }    #T_af1fafba_0e30_11ea_aaf3_d09466a0511crow1_col2 {\n",
       "            background-color:  #7da0f9;\n",
       "            color:  #000000;\n",
       "        }    #T_af1fafba_0e30_11ea_aaf3_d09466a0511crow1_col3 {\n",
       "            background-color:  #81a4fb;\n",
       "            color:  #000000;\n",
       "        }    #T_af1fafba_0e30_11ea_aaf3_d09466a0511crow1_col4 {\n",
       "            background-color:  #9fbfff;\n",
       "            color:  #000000;\n",
       "        }    #T_af1fafba_0e30_11ea_aaf3_d09466a0511crow1_col5 {\n",
       "            background-color:  #c7d7f0;\n",
       "            color:  #000000;\n",
       "        }    #T_af1fafba_0e30_11ea_aaf3_d09466a0511crow1_col6 {\n",
       "            background-color:  #5572df;\n",
       "            color:  #000000;\n",
       "        }    #T_af1fafba_0e30_11ea_aaf3_d09466a0511crow2_col0 {\n",
       "            background-color:  #3b4cc0;\n",
       "            color:  #f1f1f1;\n",
       "        }    #T_af1fafba_0e30_11ea_aaf3_d09466a0511crow2_col1 {\n",
       "            background-color:  #8badfd;\n",
       "            color:  #000000;\n",
       "        }    #T_af1fafba_0e30_11ea_aaf3_d09466a0511crow2_col2 {\n",
       "            background-color:  #b40426;\n",
       "            color:  #f1f1f1;\n",
       "        }    #T_af1fafba_0e30_11ea_aaf3_d09466a0511crow2_col3 {\n",
       "            background-color:  #6485ec;\n",
       "            color:  #000000;\n",
       "        }    #T_af1fafba_0e30_11ea_aaf3_d09466a0511crow2_col4 {\n",
       "            background-color:  #7597f6;\n",
       "            color:  #000000;\n",
       "        }    #T_af1fafba_0e30_11ea_aaf3_d09466a0511crow2_col5 {\n",
       "            background-color:  #c1d4f4;\n",
       "            color:  #000000;\n",
       "        }    #T_af1fafba_0e30_11ea_aaf3_d09466a0511crow2_col6 {\n",
       "            background-color:  #b9d0f9;\n",
       "            color:  #000000;\n",
       "        }    #T_af1fafba_0e30_11ea_aaf3_d09466a0511crow3_col0 {\n",
       "            background-color:  #7ea1fa;\n",
       "            color:  #000000;\n",
       "        }    #T_af1fafba_0e30_11ea_aaf3_d09466a0511crow3_col1 {\n",
       "            background-color:  #6485ec;\n",
       "            color:  #000000;\n",
       "        }    #T_af1fafba_0e30_11ea_aaf3_d09466a0511crow3_col2 {\n",
       "            background-color:  #3b4cc0;\n",
       "            color:  #f1f1f1;\n",
       "        }    #T_af1fafba_0e30_11ea_aaf3_d09466a0511crow3_col3 {\n",
       "            background-color:  #b40426;\n",
       "            color:  #f1f1f1;\n",
       "        }    #T_af1fafba_0e30_11ea_aaf3_d09466a0511crow3_col4 {\n",
       "            background-color:  #d6dce4;\n",
       "            color:  #000000;\n",
       "        }    #T_af1fafba_0e30_11ea_aaf3_d09466a0511crow3_col5 {\n",
       "            background-color:  #9dbdff;\n",
       "            color:  #000000;\n",
       "        }    #T_af1fafba_0e30_11ea_aaf3_d09466a0511crow3_col6 {\n",
       "            background-color:  #5e7de7;\n",
       "            color:  #000000;\n",
       "        }    #T_af1fafba_0e30_11ea_aaf3_d09466a0511crow4_col0 {\n",
       "            background-color:  #6282ea;\n",
       "            color:  #000000;\n",
       "        }    #T_af1fafba_0e30_11ea_aaf3_d09466a0511crow4_col1 {\n",
       "            background-color:  #7699f6;\n",
       "            color:  #000000;\n",
       "        }    #T_af1fafba_0e30_11ea_aaf3_d09466a0511crow4_col2 {\n",
       "            background-color:  #3b4cc0;\n",
       "            color:  #f1f1f1;\n",
       "        }    #T_af1fafba_0e30_11ea_aaf3_d09466a0511crow4_col3 {\n",
       "            background-color:  #cdd9ec;\n",
       "            color:  #000000;\n",
       "        }    #T_af1fafba_0e30_11ea_aaf3_d09466a0511crow4_col4 {\n",
       "            background-color:  #b40426;\n",
       "            color:  #f1f1f1;\n",
       "        }    #T_af1fafba_0e30_11ea_aaf3_d09466a0511crow4_col5 {\n",
       "            background-color:  #a1c0ff;\n",
       "            color:  #000000;\n",
       "        }    #T_af1fafba_0e30_11ea_aaf3_d09466a0511crow4_col6 {\n",
       "            background-color:  #5673e0;\n",
       "            color:  #000000;\n",
       "        }    #T_af1fafba_0e30_11ea_aaf3_d09466a0511crow5_col0 {\n",
       "            background-color:  #3b4cc0;\n",
       "            color:  #f1f1f1;\n",
       "        }    #T_af1fafba_0e30_11ea_aaf3_d09466a0511crow5_col1 {\n",
       "            background-color:  #e0dbd8;\n",
       "            color:  #000000;\n",
       "        }    #T_af1fafba_0e30_11ea_aaf3_d09466a0511crow5_col2 {\n",
       "            background-color:  #d6dce4;\n",
       "            color:  #000000;\n",
       "        }    #T_af1fafba_0e30_11ea_aaf3_d09466a0511crow5_col3 {\n",
       "            background-color:  #d3dbe7;\n",
       "            color:  #000000;\n",
       "        }    #T_af1fafba_0e30_11ea_aaf3_d09466a0511crow5_col4 {\n",
       "            background-color:  #dddcdc;\n",
       "            color:  #000000;\n",
       "        }    #T_af1fafba_0e30_11ea_aaf3_d09466a0511crow5_col5 {\n",
       "            background-color:  #b40426;\n",
       "            color:  #f1f1f1;\n",
       "        }    #T_af1fafba_0e30_11ea_aaf3_d09466a0511crow5_col6 {\n",
       "            background-color:  #afcafc;\n",
       "            color:  #000000;\n",
       "        }    #T_af1fafba_0e30_11ea_aaf3_d09466a0511crow6_col0 {\n",
       "            background-color:  #6282ea;\n",
       "            color:  #000000;\n",
       "        }    #T_af1fafba_0e30_11ea_aaf3_d09466a0511crow6_col1 {\n",
       "            background-color:  #3b4cc0;\n",
       "            color:  #f1f1f1;\n",
       "        }    #T_af1fafba_0e30_11ea_aaf3_d09466a0511crow6_col2 {\n",
       "            background-color:  #9abbff;\n",
       "            color:  #000000;\n",
       "        }    #T_af1fafba_0e30_11ea_aaf3_d09466a0511crow6_col3 {\n",
       "            background-color:  #6180e9;\n",
       "            color:  #000000;\n",
       "        }    #T_af1fafba_0e30_11ea_aaf3_d09466a0511crow6_col4 {\n",
       "            background-color:  #688aef;\n",
       "            color:  #000000;\n",
       "        }    #T_af1fafba_0e30_11ea_aaf3_d09466a0511crow6_col5 {\n",
       "            background-color:  #6b8df0;\n",
       "            color:  #000000;\n",
       "        }    #T_af1fafba_0e30_11ea_aaf3_d09466a0511crow6_col6 {\n",
       "            background-color:  #b40426;\n",
       "            color:  #f1f1f1;\n",
       "        }</style><table id=\"T_af1fafba_0e30_11ea_aaf3_d09466a0511c\" ><thead>    <tr>        <th class=\"blank level0\" ></th>        <th class=\"col_heading level0 col0\" >pclass</th>        <th class=\"col_heading level0 col1\" >survived</th>        <th class=\"col_heading level0 col2\" >age</th>        <th class=\"col_heading level0 col3\" >sibsp</th>        <th class=\"col_heading level0 col4\" >parch</th>        <th class=\"col_heading level0 col5\" >fare</th>        <th class=\"col_heading level0 col6\" >body</th>    </tr></thead><tbody>\n",
       "                <tr>\n",
       "                        <th id=\"T_af1fafba_0e30_11ea_aaf3_d09466a0511clevel0_row0\" class=\"row_heading level0 row0\" >pclass</th>\n",
       "                        <td id=\"T_af1fafba_0e30_11ea_aaf3_d09466a0511crow0_col0\" class=\"data row0 col0\" >1.0</td>\n",
       "                        <td id=\"T_af1fafba_0e30_11ea_aaf3_d09466a0511crow0_col1\" class=\"data row0 col1\" >-0.31</td>\n",
       "                        <td id=\"T_af1fafba_0e30_11ea_aaf3_d09466a0511crow0_col2\" class=\"data row0 col2\" >-0.38</td>\n",
       "                        <td id=\"T_af1fafba_0e30_11ea_aaf3_d09466a0511crow0_col3\" class=\"data row0 col3\" >0.061</td>\n",
       "                        <td id=\"T_af1fafba_0e30_11ea_aaf3_d09466a0511crow0_col4\" class=\"data row0 col4\" >0.018</td>\n",
       "                        <td id=\"T_af1fafba_0e30_11ea_aaf3_d09466a0511crow0_col5\" class=\"data row0 col5\" >-0.56</td>\n",
       "                        <td id=\"T_af1fafba_0e30_11ea_aaf3_d09466a0511crow0_col6\" class=\"data row0 col6\" >-0.046</td>\n",
       "            </tr>\n",
       "            <tr>\n",
       "                        <th id=\"T_af1fafba_0e30_11ea_aaf3_d09466a0511clevel0_row1\" class=\"row_heading level0 row1\" >survived</th>\n",
       "                        <td id=\"T_af1fafba_0e30_11ea_aaf3_d09466a0511crow1_col0\" class=\"data row1 col0\" >-0.31</td>\n",
       "                        <td id=\"T_af1fafba_0e30_11ea_aaf3_d09466a0511crow1_col1\" class=\"data row1 col1\" >1.0</td>\n",
       "                        <td id=\"T_af1fafba_0e30_11ea_aaf3_d09466a0511crow1_col2\" class=\"data row1 col2\" >-0.044</td>\n",
       "                        <td id=\"T_af1fafba_0e30_11ea_aaf3_d09466a0511crow1_col3\" class=\"data row1 col3\" >-0.028</td>\n",
       "                        <td id=\"T_af1fafba_0e30_11ea_aaf3_d09466a0511crow1_col4\" class=\"data row1 col4\" >0.083</td>\n",
       "                        <td id=\"T_af1fafba_0e30_11ea_aaf3_d09466a0511crow1_col5\" class=\"data row1 col5\" >0.24</td>\n",
       "                        <td id=\"T_af1fafba_0e30_11ea_aaf3_d09466a0511crow1_col6\" class=\"data row1 col6\" >-0.2</td>\n",
       "            </tr>\n",
       "            <tr>\n",
       "                        <th id=\"T_af1fafba_0e30_11ea_aaf3_d09466a0511clevel0_row2\" class=\"row_heading level0 row2\" >age</th>\n",
       "                        <td id=\"T_af1fafba_0e30_11ea_aaf3_d09466a0511crow2_col0\" class=\"data row2 col0\" >-0.38</td>\n",
       "                        <td id=\"T_af1fafba_0e30_11ea_aaf3_d09466a0511crow2_col1\" class=\"data row2 col1\" >-0.044</td>\n",
       "                        <td id=\"T_af1fafba_0e30_11ea_aaf3_d09466a0511crow2_col2\" class=\"data row2 col2\" >1.0</td>\n",
       "                        <td id=\"T_af1fafba_0e30_11ea_aaf3_d09466a0511crow2_col3\" class=\"data row2 col3\" >-0.19</td>\n",
       "                        <td id=\"T_af1fafba_0e30_11ea_aaf3_d09466a0511crow2_col4\" class=\"data row2 col4\" >-0.13</td>\n",
       "                        <td id=\"T_af1fafba_0e30_11ea_aaf3_d09466a0511crow2_col5\" class=\"data row2 col5\" >0.18</td>\n",
       "                        <td id=\"T_af1fafba_0e30_11ea_aaf3_d09466a0511crow2_col6\" class=\"data row2 col6\" >0.14</td>\n",
       "            </tr>\n",
       "            <tr>\n",
       "                        <th id=\"T_af1fafba_0e30_11ea_aaf3_d09466a0511clevel0_row3\" class=\"row_heading level0 row3\" >sibsp</th>\n",
       "                        <td id=\"T_af1fafba_0e30_11ea_aaf3_d09466a0511crow3_col0\" class=\"data row3 col0\" >0.061</td>\n",
       "                        <td id=\"T_af1fafba_0e30_11ea_aaf3_d09466a0511crow3_col1\" class=\"data row3 col1\" >-0.028</td>\n",
       "                        <td id=\"T_af1fafba_0e30_11ea_aaf3_d09466a0511crow3_col2\" class=\"data row3 col2\" >-0.19</td>\n",
       "                        <td id=\"T_af1fafba_0e30_11ea_aaf3_d09466a0511crow3_col3\" class=\"data row3 col3\" >1.0</td>\n",
       "                        <td id=\"T_af1fafba_0e30_11ea_aaf3_d09466a0511crow3_col4\" class=\"data row3 col4\" >0.37</td>\n",
       "                        <td id=\"T_af1fafba_0e30_11ea_aaf3_d09466a0511crow3_col5\" class=\"data row3 col5\" >0.16</td>\n",
       "                        <td id=\"T_af1fafba_0e30_11ea_aaf3_d09466a0511crow3_col6\" class=\"data row3 col6\" >-0.053</td>\n",
       "            </tr>\n",
       "            <tr>\n",
       "                        <th id=\"T_af1fafba_0e30_11ea_aaf3_d09466a0511clevel0_row4\" class=\"row_heading level0 row4\" >parch</th>\n",
       "                        <td id=\"T_af1fafba_0e30_11ea_aaf3_d09466a0511crow4_col0\" class=\"data row4 col0\" >0.018</td>\n",
       "                        <td id=\"T_af1fafba_0e30_11ea_aaf3_d09466a0511crow4_col1\" class=\"data row4 col1\" >0.083</td>\n",
       "                        <td id=\"T_af1fafba_0e30_11ea_aaf3_d09466a0511crow4_col2\" class=\"data row4 col2\" >-0.13</td>\n",
       "                        <td id=\"T_af1fafba_0e30_11ea_aaf3_d09466a0511crow4_col3\" class=\"data row4 col3\" >0.37</td>\n",
       "                        <td id=\"T_af1fafba_0e30_11ea_aaf3_d09466a0511crow4_col4\" class=\"data row4 col4\" >1.0</td>\n",
       "                        <td id=\"T_af1fafba_0e30_11ea_aaf3_d09466a0511crow4_col5\" class=\"data row4 col5\" >0.22</td>\n",
       "                        <td id=\"T_af1fafba_0e30_11ea_aaf3_d09466a0511crow4_col6\" class=\"data row4 col6\" >-0.021</td>\n",
       "            </tr>\n",
       "            <tr>\n",
       "                        <th id=\"T_af1fafba_0e30_11ea_aaf3_d09466a0511clevel0_row5\" class=\"row_heading level0 row5\" >fare</th>\n",
       "                        <td id=\"T_af1fafba_0e30_11ea_aaf3_d09466a0511crow5_col0\" class=\"data row5 col0\" >-0.56</td>\n",
       "                        <td id=\"T_af1fafba_0e30_11ea_aaf3_d09466a0511crow5_col1\" class=\"data row5 col1\" >0.24</td>\n",
       "                        <td id=\"T_af1fafba_0e30_11ea_aaf3_d09466a0511crow5_col2\" class=\"data row5 col2\" >0.18</td>\n",
       "                        <td id=\"T_af1fafba_0e30_11ea_aaf3_d09466a0511crow5_col3\" class=\"data row5 col3\" >0.16</td>\n",
       "                        <td id=\"T_af1fafba_0e30_11ea_aaf3_d09466a0511crow5_col4\" class=\"data row5 col4\" >0.22</td>\n",
       "                        <td id=\"T_af1fafba_0e30_11ea_aaf3_d09466a0511crow5_col5\" class=\"data row5 col5\" >1.0</td>\n",
       "                        <td id=\"T_af1fafba_0e30_11ea_aaf3_d09466a0511crow5_col6\" class=\"data row5 col6\" >-0.013</td>\n",
       "            </tr>\n",
       "            <tr>\n",
       "                        <th id=\"T_af1fafba_0e30_11ea_aaf3_d09466a0511clevel0_row6\" class=\"row_heading level0 row6\" >body</th>\n",
       "                        <td id=\"T_af1fafba_0e30_11ea_aaf3_d09466a0511crow6_col0\" class=\"data row6 col0\" >-0.046</td>\n",
       "                        <td id=\"T_af1fafba_0e30_11ea_aaf3_d09466a0511crow6_col1\" class=\"data row6 col1\" >-0.2</td>\n",
       "                        <td id=\"T_af1fafba_0e30_11ea_aaf3_d09466a0511crow6_col2\" class=\"data row6 col2\" >0.14</td>\n",
       "                        <td id=\"T_af1fafba_0e30_11ea_aaf3_d09466a0511crow6_col3\" class=\"data row6 col3\" >-0.053</td>\n",
       "                        <td id=\"T_af1fafba_0e30_11ea_aaf3_d09466a0511crow6_col4\" class=\"data row6 col4\" >-0.021</td>\n",
       "                        <td id=\"T_af1fafba_0e30_11ea_aaf3_d09466a0511crow6_col5\" class=\"data row6 col5\" >-0.013</td>\n",
       "                        <td id=\"T_af1fafba_0e30_11ea_aaf3_d09466a0511crow6_col6\" class=\"data row6 col6\" >1.0</td>\n",
       "            </tr>\n",
       "    </tbody></table>"
      ],
      "text/plain": [
       "<pandas.io.formats.style.Styler at 0x25e8a21fb70>"
      ]
     },
     "execution_count": 95,
     "metadata": {},
     "output_type": "execute_result"
    }
   ],
   "source": [
    "df.corr().style.format(\"{:.2}\").background_gradient(cmap=plt.get_cmap('coolwarm'),axis=1)"
   ]
  },
  {
   "cell_type": "markdown",
   "metadata": {},
   "source": [
    "### Objetivo"
   ]
  },
  {
   "cell_type": "markdown",
   "metadata": {},
   "source": [
    "Quais variáveis imagino que terão influência na pergunta que desejo responder? \n",
    "\n",
    "**Mediante ao meu objetivo, pode-se perceber que será realizado uma análise sobre quais variáveis tiveram maior influência na probabilidade de sobrevivência (ou seja, que tipo de pessoa teve mais chance de escapar com vida).**"
   ]
  },
  {
   "cell_type": "code",
   "execution_count": 96,
   "metadata": {},
   "outputs": [],
   "source": [
    "# variável preditores \n",
    "preditores = df[['pclass','age', 'sibsp','fare']] \n",
    "# variável alvo\n",
    "alvo = df['survived']"
   ]
  },
  {
   "cell_type": "code",
   "execution_count": 97,
   "metadata": {},
   "outputs": [
    {
     "data": {
      "text/html": [
       "<div>\n",
       "<style scoped>\n",
       "    .dataframe tbody tr th:only-of-type {\n",
       "        vertical-align: middle;\n",
       "    }\n",
       "\n",
       "    .dataframe tbody tr th {\n",
       "        vertical-align: top;\n",
       "    }\n",
       "\n",
       "    .dataframe thead th {\n",
       "        text-align: right;\n",
       "    }\n",
       "</style>\n",
       "<table border=\"1\" class=\"dataframe\">\n",
       "  <thead>\n",
       "    <tr style=\"text-align: right;\">\n",
       "      <th></th>\n",
       "      <th>pclass</th>\n",
       "      <th>age</th>\n",
       "      <th>sibsp</th>\n",
       "      <th>fare</th>\n",
       "    </tr>\n",
       "  </thead>\n",
       "  <tbody>\n",
       "    <tr>\n",
       "      <th>0</th>\n",
       "      <td>1</td>\n",
       "      <td>29.00</td>\n",
       "      <td>0</td>\n",
       "      <td>211.3375</td>\n",
       "    </tr>\n",
       "    <tr>\n",
       "      <th>1</th>\n",
       "      <td>1</td>\n",
       "      <td>0.92</td>\n",
       "      <td>1</td>\n",
       "      <td>151.5500</td>\n",
       "    </tr>\n",
       "    <tr>\n",
       "      <th>2</th>\n",
       "      <td>1</td>\n",
       "      <td>2.00</td>\n",
       "      <td>1</td>\n",
       "      <td>151.5500</td>\n",
       "    </tr>\n",
       "    <tr>\n",
       "      <th>3</th>\n",
       "      <td>1</td>\n",
       "      <td>30.00</td>\n",
       "      <td>1</td>\n",
       "      <td>151.5500</td>\n",
       "    </tr>\n",
       "    <tr>\n",
       "      <th>4</th>\n",
       "      <td>1</td>\n",
       "      <td>25.00</td>\n",
       "      <td>1</td>\n",
       "      <td>151.5500</td>\n",
       "    </tr>\n",
       "  </tbody>\n",
       "</table>\n",
       "</div>"
      ],
      "text/plain": [
       "   pclass    age  sibsp      fare\n",
       "0       1  29.00      0  211.3375\n",
       "1       1   0.92      1  151.5500\n",
       "2       1   2.00      1  151.5500\n",
       "3       1  30.00      1  151.5500\n",
       "4       1  25.00      1  151.5500"
      ]
     },
     "execution_count": 97,
     "metadata": {},
     "output_type": "execute_result"
    }
   ],
   "source": [
    "preditores.head() # lendo os dados preditores"
   ]
  },
  {
   "cell_type": "code",
   "execution_count": 98,
   "metadata": {},
   "outputs": [
    {
     "data": {
      "text/plain": [
       "0    1\n",
       "1    1\n",
       "2    0\n",
       "3    0\n",
       "4    0\n",
       "Name: survived, dtype: int64"
      ]
     },
     "execution_count": 98,
     "metadata": {},
     "output_type": "execute_result"
    }
   ],
   "source": [
    "alvo.head() # lendo os dados alvo"
   ]
  },
  {
   "cell_type": "code",
   "execution_count": 99,
   "metadata": {},
   "outputs": [],
   "source": [
    "df[\"sex\"] = pd.get_dummies(df.sex) # conversão para binários para que eu possa rodar modelo_reglog = LogisticRegression()"
   ]
  },
  {
   "cell_type": "code",
   "execution_count": 100,
   "metadata": {},
   "outputs": [
    {
     "data": {
      "text/plain": [
       "0    1\n",
       "1    0\n",
       "2    1\n",
       "3    0\n",
       "4    1\n",
       "Name: sex, dtype: uint8"
      ]
     },
     "execution_count": 100,
     "metadata": {},
     "output_type": "execute_result"
    }
   ],
   "source": [
    "df[\"sex\"].head() # visto que eu não usei a variável sex nesse modelo pelo fato que eu não consegui converter mediante a execução  modelo_reglog = LogisticRegression()"
   ]
  },
  {
   "cell_type": "code",
   "execution_count": 101,
   "metadata": {},
   "outputs": [],
   "source": [
    "# Divisão dos conjuntos de treino e teste\n",
    "\n",
    "preditores_treino, preditores_teste, alvo_treino, alvo_teste = train_test_split(preditores, alvo, test_size=0.30, random_state=0)"
   ]
  },
  {
   "cell_type": "code",
   "execution_count": 102,
   "metadata": {},
   "outputs": [
    {
     "name": "stderr",
     "output_type": "stream",
     "text": [
      "C:\\ProgramData\\Anaconda3\\lib\\site-packages\\sklearn\\linear_model\\logistic.py:432: FutureWarning: Default solver will be changed to 'lbfgs' in 0.22. Specify a solver to silence this warning.\n",
      "  FutureWarning)\n"
     ]
    }
   ],
   "source": [
    "# Instancia o modelo de regressão logística com parâmetros default\n",
    "modelo_reglog = LogisticRegression()\n",
    "\n",
    "# Treina o modelo com base nos preditores e variável alvo\n",
    "modelo_reglog.fit(preditores_treino, alvo_treino)\n",
    "\n",
    "# Prevê, para os dados do conjunto de teste, resultados para a variável alvo\n",
    "alvo_pred = modelo_reglog.predict(preditores_teste)"
   ]
  },
  {
   "cell_type": "code",
   "execution_count": 103,
   "metadata": {},
   "outputs": [
    {
     "name": "stdout",
     "output_type": "stream",
     "text": [
      "[[212  34]\n",
      " [ 86  61]]\n"
     ]
    }
   ],
   "source": [
    "# Matriz de confusão\n",
    "print(confusion_matrix(alvo_teste, alvo_pred))"
   ]
  },
  {
   "cell_type": "code",
   "execution_count": 104,
   "metadata": {},
   "outputs": [
    {
     "data": {
      "text/plain": [
       "<matplotlib.axes._subplots.AxesSubplot at 0x25e8a259518>"
      ]
     },
     "execution_count": 104,
     "metadata": {},
     "output_type": "execute_result"
    },
    {
     "data": {
      "image/png": "[encoded data removed]",
      "text/plain": [
       "<Figure size 432x288 with 2 Axes>"
      ]
     },
     "metadata": {
      "needs_background": "light"
     },
     "output_type": "display_data"
    }
   ],
   "source": [
    "matriz_confusao = pd.crosstab(alvo_teste, alvo_pred, rownames=['Atual'], colnames=['Previsto'])\n",
    "\n",
    "# Gera o gráfico da matriz de confusão\n",
    "sn.heatmap(matriz_confusao, annot=True)"
   ]
  },
  {
   "cell_type": "code",
   "execution_count": 105,
   "metadata": {},
   "outputs": [
    {
     "name": "stdout",
     "output_type": "stream",
     "text": [
      "Acurácia:  0.6946564885496184\n"
     ]
    }
   ],
   "source": [
    "# Acurácia do modelo\n",
    "print('Acurácia: ', metrics.accuracy_score(alvo_teste, alvo_pred))"
   ]
  },
  {
   "cell_type": "code",
   "execution_count": 106,
   "metadata": {},
   "outputs": [
    {
     "name": "stdout",
     "output_type": "stream",
     "text": [
      "Precisão:  0.6421052631578947\n",
      "Revocação:  0.41496598639455784\n",
      "F1-Measure:  0.5041322314049587\n",
      "ROC AUC:  0.6383773021403684\n"
     ]
    }
   ],
   "source": [
    "print('Precisão: ', metrics.precision_score(alvo_teste, alvo_pred))\n",
    "\n",
    "print('Revocação: ', metrics.recall_score(alvo_teste, alvo_pred))\n",
    "\n",
    "print('F1-Measure: ', metrics.f1_score(alvo_teste, alvo_pred))\n",
    "\n",
    "print('ROC AUC: ', metrics.roc_auc_score(alvo_teste, alvo_pred))"
   ]
  },
  {
   "cell_type": "code",
   "execution_count": 107,
   "metadata": {},
   "outputs": [
    {
     "name": "stdout",
     "output_type": "stream",
     "text": [
      "1139    0\n",
      "533     1\n",
      "459     0\n",
      "1150    0\n",
      "393     0\n",
      "1189    1\n",
      "5       1\n",
      "231     1\n",
      "330     0\n",
      "887     1\n",
      "531     0\n",
      "790     0\n",
      "427     1\n",
      "1260    1\n",
      "251     1\n",
      "486     0\n",
      "436     1\n",
      "31      1\n",
      "186     1\n",
      "1051    0\n",
      "769     0\n",
      "642     0\n",
      "1087    0\n",
      "55      1\n",
      "678     0\n",
      "358     1\n",
      "503     1\n",
      "995     0\n",
      "1005    0\n",
      "1279    0\n",
      "       ..\n",
      "1157    0\n",
      "936     1\n",
      "467     1\n",
      "97      1\n",
      "1003    1\n",
      "1253    0\n",
      "1140    0\n",
      "196     1\n",
      "883     0\n",
      "183     1\n",
      "1270    0\n",
      "431     0\n",
      "526     1\n",
      "815     0\n",
      "933     0\n",
      "1206    0\n",
      "175     0\n",
      "1292    0\n",
      "81      0\n",
      "267     0\n",
      "77      0\n",
      "1225    0\n",
      "452     1\n",
      "895     1\n",
      "900     0\n",
      "914     0\n",
      "580     1\n",
      "1080    1\n",
      "1249    0\n",
      "88      1\n",
      "Name: survived, Length: 393, dtype: int64\n",
      "[0 0 0 0 0 0 0 0 0 0 0 0 1 0 1 0 0 1 0 0 0 0 0 1 0 0 0 0 0 0 0 1 0 1 0 0 0\n",
      " 1 0 0 0 0 1 1 0 0 0 1 0 0 1 0 0 0 0 0 1 0 0 1 0 1 0 0 0 0 0 0 0 0 0 0 1 0\n",
      " 0 1 0 1 0 0 1 0 0 1 0 1 0 0 0 0 0 0 0 0 0 1 0 0 0 1 1 0 0 0 0 0 1 0 0 1 1\n",
      " 1 1 0 0 0 1 1 0 0 1 0 1 1 0 0 0 0 0 0 0 1 0 1 0 0 0 0 0 0 1 1 0 0 0 1 0 0\n",
      " 1 1 0 0 0 1 0 0 0 1 0 0 0 0 0 1 0 0 0 0 0 0 0 1 0 0 0 0 0 1 0 1 1 0 0 1 0\n",
      " 0 0 0 0 0 1 0 1 1 1 0 0 0 0 0 0 0 0 1 1 0 0 0 0 0 0 1 0 0 0 0 0 0 0 0 1 0\n",
      " 0 1 0 0 0 1 0 0 0 1 0 0 0 0 0 0 0 0 0 0 0 0 0 0 1 1 0 0 0 0 1 0 1 0 0 0 0\n",
      " 0 0 0 0 1 0 0 0 0 0 0 1 1 0 0 0 0 0 1 0 0 1 0 1 0 0 0 0 0 1 1 0 0 0 0 0 0\n",
      " 0 0 0 0 0 0 0 0 0 0 1 0 0 0 1 1 0 0 0 0 0 1 1 1 0 1 0 0 0 0 0 0 0 0 1 0 0\n",
      " 0 0 0 1 0 1 0 1 0 1 0 1 0 0 1 0 0 1 1 0 0 1 0 1 0 0 0 0 0 0 0 0 0 1 0 0 0\n",
      " 1 0 1 0 0 0 0 0 0 1 0 0 0 1 0 0 0 0 0 0 0 0 1]\n"
     ]
    }
   ],
   "source": [
    "print(alvo_teste)\n",
    "print(alvo_pred)"
   ]
  },
  {
   "cell_type": "code",
   "execution_count": 108,
   "metadata": {},
   "outputs": [
    {
     "name": "stdout",
     "output_type": "stream",
     "text": [
      "      pclass    age  sibsp      fare\n",
      "1139       3  38.00      0    7.8958\n",
      "533        2  21.00      0   21.0000\n",
      "459        2  42.00      1   27.0000\n",
      "1150       3  28.00      0   14.5000\n",
      "393        2  25.00      0   31.5000\n",
      "1189       3   4.00      1   16.7000\n",
      "5          1  48.00      0   26.5500\n",
      "231        1  52.00      0   30.5000\n",
      "330        2  57.00      0   13.0000\n",
      "887        3  28.00      0    8.1125\n",
      "531        2  28.00      0   15.0500\n",
      "790        3  39.00      0    7.2292\n",
      "427        2   0.67      1   14.5000\n",
      "1260       3  18.00      0    9.8417\n",
      "251        1  21.00      2  262.3750\n",
      "486        2  24.00      0   10.5000\n",
      "436        2  45.00      1   26.2500\n",
      "31         1  40.00      0   31.0000\n",
      "186        1  55.00      0   27.7208\n",
      "1051       3  33.00      0    8.0500\n",
      "769        3  22.00      0    7.2500\n",
      "642        3  13.00      4   31.3875\n",
      "1087       3  28.00      0    7.8542\n",
      "55         1  14.00      1  120.0000\n",
      "678        3   6.00      1   15.2458\n",
      "358        2  42.00      0   13.0000\n",
      "503        2  19.00      0   10.5000\n",
      "995        3  35.00      0    7.8958\n",
      "1005       3  28.00      0   15.5000\n",
      "1279       3  14.00      0    7.8542\n",
      "...      ...    ...    ...       ...\n",
      "1157       3  18.00      1   20.2125\n",
      "936        3  26.00      1   22.0250\n",
      "467        2  24.00      1   26.0000\n",
      "97         1  27.00      1  247.5208\n",
      "1003       3  28.00      2   23.2500\n",
      "1253       3  28.00      0    7.2292\n",
      "1140       3  21.00      0    8.0500\n",
      "196        1  28.00      0   29.7000\n",
      "883        3  20.00      0    7.8542\n",
      "183        1  35.00      0  512.3292\n",
      "1270       3  28.00      0    9.5000\n",
      "431        2  28.00      0   33.0000\n",
      "526        2  29.00      0   13.8583\n",
      "815        3  28.00      0   14.5000\n",
      "933        3  26.00      2    8.6625\n",
      "1206       3   4.00      3   27.9000\n",
      "175        1  41.00      1   51.8625\n",
      "1292       3  28.00      0    7.5500\n",
      "81         1  70.00      1   71.0000\n",
      "267        1  56.00      0   30.6958\n",
      "77         1  37.00      1   83.1583\n",
      "1225       3  60.50      0   28.0000\n",
      "452        2  29.00      1   26.0000\n",
      "895        3   1.00      1   11.1333\n",
      "900        3  28.00      1   23.4500\n",
      "914        3  33.00      0    7.8542\n",
      "580        2  31.00      0   21.0000\n",
      "1080       3  28.00      0    7.7500\n",
      "1249       3  28.00      0    7.7500\n",
      "88         1  33.00      0  151.5500\n",
      "\n",
      "[393 rows x 4 columns]\n",
      "1139    0\n",
      "533     1\n",
      "459     0\n",
      "1150    0\n",
      "393     0\n",
      "1189    1\n",
      "5       1\n",
      "231     1\n",
      "330     0\n",
      "887     1\n",
      "531     0\n",
      "790     0\n",
      "427     1\n",
      "1260    1\n",
      "251     1\n",
      "486     0\n",
      "436     1\n",
      "31      1\n",
      "186     1\n",
      "1051    0\n",
      "769     0\n",
      "642     0\n",
      "1087    0\n",
      "55      1\n",
      "678     0\n",
      "358     1\n",
      "503     1\n",
      "995     0\n",
      "1005    0\n",
      "1279    0\n",
      "       ..\n",
      "1157    0\n",
      "936     1\n",
      "467     1\n",
      "97      1\n",
      "1003    1\n",
      "1253    0\n",
      "1140    0\n",
      "196     1\n",
      "883     0\n",
      "183     1\n",
      "1270    0\n",
      "431     0\n",
      "526     1\n",
      "815     0\n",
      "933     0\n",
      "1206    0\n",
      "175     0\n",
      "1292    0\n",
      "81      0\n",
      "267     0\n",
      "77      0\n",
      "1225    0\n",
      "452     1\n",
      "895     1\n",
      "900     0\n",
      "914     0\n",
      "580     1\n",
      "1080    1\n",
      "1249    0\n",
      "88      1\n",
      "Name: survived, Length: 393, dtype: int64\n",
      "[0 0 0 0 0 0 0 0 0 0 0 0 1 0 1 0 0 1 0 0 0 0 0 1 0 0 0 0 0 0 0 1 0 1 0 0 0\n",
      " 1 0 0 0 0 1 1 0 0 0 1 0 0 1 0 0 0 0 0 1 0 0 1 0 1 0 0 0 0 0 0 0 0 0 0 1 0\n",
      " 0 1 0 1 0 0 1 0 0 1 0 1 0 0 0 0 0 0 0 0 0 1 0 0 0 1 1 0 0 0 0 0 1 0 0 1 1\n",
      " 1 1 0 0 0 1 1 0 0 1 0 1 1 0 0 0 0 0 0 0 1 0 1 0 0 0 0 0 0 1 1 0 0 0 1 0 0\n",
      " 1 1 0 0 0 1 0 0 0 1 0 0 0 0 0 1 0 0 0 0 0 0 0 1 0 0 0 0 0 1 0 1 1 0 0 1 0\n",
      " 0 0 0 0 0 1 0 1 1 1 0 0 0 0 0 0 0 0 1 1 0 0 0 0 0 0 1 0 0 0 0 0 0 0 0 1 0\n",
      " 0 1 0 0 0 1 0 0 0 1 0 0 0 0 0 0 0 0 0 0 0 0 0 0 1 1 0 0 0 0 1 0 1 0 0 0 0\n",
      " 0 0 0 0 1 0 0 0 0 0 0 1 1 0 0 0 0 0 1 0 0 1 0 1 0 0 0 0 0 1 1 0 0 0 0 0 0\n",
      " 0 0 0 0 0 0 0 0 0 0 1 0 0 0 1 1 0 0 0 0 0 1 1 1 0 1 0 0 0 0 0 0 0 0 1 0 0\n",
      " 0 0 0 1 0 1 0 1 0 1 0 1 0 0 1 0 0 1 1 0 0 1 0 1 0 0 0 0 0 0 0 0 0 1 0 0 0\n",
      " 1 0 1 0 0 0 0 0 0 1 0 0 0 1 0 0 0 0 0 0 0 0 1]\n"
     ]
    }
   ],
   "source": [
    "# Só pra conferir:\n",
    "\n",
    "# A predição foi feita para os seguintes registros:\n",
    "print(preditores_teste) \n",
    "\n",
    "# Que possuíam a seguinte classificação:\n",
    "print(alvo_teste)\n",
    "\n",
    "# E Que obtiveram o seguinte resultado do modelo:\n",
    "print(alvo_pred)"
   ]
  },
  {
   "cell_type": "code",
   "execution_count": 109,
   "metadata": {},
   "outputs": [],
   "source": [
    "# Foi usado algumas métricas para minha análise ser realizada "
   ]
  },
  {
   "cell_type": "markdown",
   "metadata": {},
   "source": [
    "### 2 - Árvore de Decisão"
   ]
  },
  {
   "cell_type": "code",
   "execution_count": 110,
   "metadata": {},
   "outputs": [
    {
     "name": "stdout",
     "output_type": "stream",
     "text": [
      "Preditores Treino\n",
      "      pclass    age  sibsp      fare\n",
      "501        2  13.00      0   19.5000\n",
      "588        2   4.00      1   23.0000\n",
      "402        2  30.00      1   13.8583\n",
      "1193       3  28.00      0    7.7250\n",
      "686        3  22.00      0    7.7250\n",
      "971        3  28.00      0    7.8792\n",
      "117        1  30.00      0   56.9292\n",
      "540        2   2.00      1   26.0000\n",
      "294        1  49.00      1  110.8833\n",
      "261        1  35.00      0   26.2875\n",
      "587        2   2.00      1   23.0000\n",
      "489        2  42.00      1   26.0000\n",
      "2          1   2.00      1  151.5500\n",
      "405        2  18.00      0   13.0000\n",
      "1284       3  28.00      0    8.0500\n",
      "338        2  28.00      0   26.0000\n",
      "356        2  25.00      0   13.0000\n",
      "985        3  24.00      0    7.1417\n",
      "182        1  30.00      0  106.4250\n",
      "1027       3  28.00      0    8.0500\n",
      "1023       3  28.00      0    7.8792\n",
      "657        3   0.75      2   19.2583\n",
      "891        3  33.00      0    8.6542\n",
      "716        3  26.00      1   14.4542\n",
      "1142       3   4.00      4   29.1250\n",
      "520        2  20.00      0   13.8625\n",
      "1267       3  30.00      1   24.1500\n",
      "395        2  18.00      0   23.0000\n",
      "905        3  32.00      0    7.8542\n",
      "278        1  32.00      0   30.5000\n",
      "...      ...    ...    ...       ...\n",
      "659        3   5.00      2   19.2583\n",
      "797        3  40.50      0    7.7500\n",
      "1286       3  38.00      0    7.2292\n",
      "1201       3  22.00      0    7.2292\n",
      "99         1  48.00      1   39.6000\n",
      "850        3  21.00      0    7.8542\n",
      "448        2  36.00      0   13.0000\n",
      "755        3  17.00      2    8.0500\n",
      "976        3  28.00      0    7.8792\n",
      "115        1  64.00      1  263.0000\n",
      "777        3  19.00      0    8.0500\n",
      "72         1  26.00      1  136.7792\n",
      "845        3  24.00      1   15.8500\n",
      "537        2  34.00      0   13.0000\n",
      "849        3  26.00      1    7.8542\n",
      "174        1  58.00      0   29.7000\n",
      "87         1  27.00      0   30.5000\n",
      "551        2  50.00      0   10.5000\n",
      "705        3  28.00      1   14.4583\n",
      "314        1  50.00      1  211.5000\n",
      "600        3  42.00      0    7.5500\n",
      "1094       3  31.00      0    8.6833\n",
      "599        2  24.00      0   13.0000\n",
      "277        1  28.00      1  146.5208\n",
      "1033       3  28.00      0    7.7750\n",
      "763        3   0.17      1   20.5750\n",
      "835        3  28.00      0    8.0500\n",
      "1216       3  28.00      0    7.7333\n",
      "559        2  20.00      0   36.7500\n",
      "684        3  32.00      1   15.5000\n",
      "\n",
      "[916 rows x 4 columns]\n",
      "Preditores Teste\n",
      "      pclass    age  sibsp      fare\n",
      "1139       3  38.00      0    7.8958\n",
      "533        2  21.00      0   21.0000\n",
      "459        2  42.00      1   27.0000\n",
      "1150       3  28.00      0   14.5000\n",
      "393        2  25.00      0   31.5000\n",
      "1189       3   4.00      1   16.7000\n",
      "5          1  48.00      0   26.5500\n",
      "231        1  52.00      0   30.5000\n",
      "330        2  57.00      0   13.0000\n",
      "887        3  28.00      0    8.1125\n",
      "531        2  28.00      0   15.0500\n",
      "790        3  39.00      0    7.2292\n",
      "427        2   0.67      1   14.5000\n",
      "1260       3  18.00      0    9.8417\n",
      "251        1  21.00      2  262.3750\n",
      "486        2  24.00      0   10.5000\n",
      "436        2  45.00      1   26.2500\n",
      "31         1  40.00      0   31.0000\n",
      "186        1  55.00      0   27.7208\n",
      "1051       3  33.00      0    8.0500\n",
      "769        3  22.00      0    7.2500\n",
      "642        3  13.00      4   31.3875\n",
      "1087       3  28.00      0    7.8542\n",
      "55         1  14.00      1  120.0000\n",
      "678        3   6.00      1   15.2458\n",
      "358        2  42.00      0   13.0000\n",
      "503        2  19.00      0   10.5000\n",
      "995        3  35.00      0    7.8958\n",
      "1005       3  28.00      0   15.5000\n",
      "1279       3  14.00      0    7.8542\n",
      "...      ...    ...    ...       ...\n",
      "1157       3  18.00      1   20.2125\n",
      "936        3  26.00      1   22.0250\n",
      "467        2  24.00      1   26.0000\n",
      "97         1  27.00      1  247.5208\n",
      "1003       3  28.00      2   23.2500\n",
      "1253       3  28.00      0    7.2292\n",
      "1140       3  21.00      0    8.0500\n",
      "196        1  28.00      0   29.7000\n",
      "883        3  20.00      0    7.8542\n",
      "183        1  35.00      0  512.3292\n",
      "1270       3  28.00      0    9.5000\n",
      "431        2  28.00      0   33.0000\n",
      "526        2  29.00      0   13.8583\n",
      "815        3  28.00      0   14.5000\n",
      "933        3  26.00      2    8.6625\n",
      "1206       3   4.00      3   27.9000\n",
      "175        1  41.00      1   51.8625\n",
      "1292       3  28.00      0    7.5500\n",
      "81         1  70.00      1   71.0000\n",
      "267        1  56.00      0   30.6958\n",
      "77         1  37.00      1   83.1583\n",
      "1225       3  60.50      0   28.0000\n",
      "452        2  29.00      1   26.0000\n",
      "895        3   1.00      1   11.1333\n",
      "900        3  28.00      1   23.4500\n",
      "914        3  33.00      0    7.8542\n",
      "580        2  31.00      0   21.0000\n",
      "1080       3  28.00      0    7.7500\n",
      "1249       3  28.00      0    7.7500\n",
      "88         1  33.00      0  151.5500\n",
      "\n",
      "[393 rows x 4 columns]\n",
      "Alvo Treino\n",
      "501     1\n",
      "588     1\n",
      "402     1\n",
      "1193    0\n",
      "686     1\n",
      "971     0\n",
      "117     1\n",
      "540     1\n",
      "294     0\n",
      "261     1\n",
      "587     1\n",
      "489     1\n",
      "2       0\n",
      "405     0\n",
      "1284    0\n",
      "338     0\n",
      "356     0\n",
      "985     1\n",
      "182     1\n",
      "1027    0\n",
      "1023    1\n",
      "657     1\n",
      "891     0\n",
      "716     0\n",
      "1142    0\n",
      "520     1\n",
      "1267    0\n",
      "395     1\n",
      "905     1\n",
      "278     1\n",
      "       ..\n",
      "659     1\n",
      "797     0\n",
      "1286    1\n",
      "1201    0\n",
      "99      1\n",
      "850     0\n",
      "448     0\n",
      "755     0\n",
      "976     0\n",
      "115     0\n",
      "777     1\n",
      "72      1\n",
      "845     1\n",
      "537     0\n",
      "849     0\n",
      "174     0\n",
      "87      1\n",
      "551     1\n",
      "705     0\n",
      "314     1\n",
      "600     0\n",
      "1094    1\n",
      "599     0\n",
      "277     1\n",
      "1033    1\n",
      "763     1\n",
      "835     0\n",
      "1216    1\n",
      "559     1\n",
      "684     0\n",
      "Name: survived, Length: 916, dtype: int64\n",
      "Alvo Teste\n",
      "1139    0\n",
      "533     1\n",
      "459     0\n",
      "1150    0\n",
      "393     0\n",
      "1189    1\n",
      "5       1\n",
      "231     1\n",
      "330     0\n",
      "887     1\n",
      "531     0\n",
      "790     0\n",
      "427     1\n",
      "1260    1\n",
      "251     1\n",
      "486     0\n",
      "436     1\n",
      "31      1\n",
      "186     1\n",
      "1051    0\n",
      "769     0\n",
      "642     0\n",
      "1087    0\n",
      "55      1\n",
      "678     0\n",
      "358     1\n",
      "503     1\n",
      "995     0\n",
      "1005    0\n",
      "1279    0\n",
      "       ..\n",
      "1157    0\n",
      "936     1\n",
      "467     1\n",
      "97      1\n",
      "1003    1\n",
      "1253    0\n",
      "1140    0\n",
      "196     1\n",
      "883     0\n",
      "183     1\n",
      "1270    0\n",
      "431     0\n",
      "526     1\n",
      "815     0\n",
      "933     0\n",
      "1206    0\n",
      "175     0\n",
      "1292    0\n",
      "81      0\n",
      "267     0\n",
      "77      0\n",
      "1225    0\n",
      "452     1\n",
      "895     1\n",
      "900     0\n",
      "914     0\n",
      "580     1\n",
      "1080    1\n",
      "1249    0\n",
      "88      1\n",
      "Name: survived, Length: 393, dtype: int64\n"
     ]
    }
   ],
   "source": [
    "print(\"Preditores Treino\")\n",
    "print(preditores_treino)\n",
    "\n",
    "print(\"Preditores Teste\")\n",
    "print(preditores_teste)\n",
    "\n",
    "print(\"Alvo Treino\")\n",
    "print(alvo_treino)\n",
    "\n",
    "print(\"Alvo Teste\")\n",
    "print(alvo_teste)"
   ]
  },
  {
   "cell_type": "code",
   "execution_count": 111,
   "metadata": {},
   "outputs": [],
   "source": [
    "from sklearn.tree import DecisionTreeClassifier\n",
    "\n",
    "# Cria uma instância default\n",
    "dt = DecisionTreeClassifier()\n",
    "\n",
    "# Treina o modelo com os dados dos alunos\n",
    "arvore_decisao = dt.fit(preditores_treino, alvo_treino)"
   ]
  },
  {
   "cell_type": "code",
   "execution_count": 112,
   "metadata": {},
   "outputs": [],
   "source": [
    "# Realiza a previsão nos dados de teste\n",
    "arvore_previsao = arvore_decisao.predict(preditores_teste)"
   ]
  },
  {
   "cell_type": "code",
   "execution_count": 113,
   "metadata": {},
   "outputs": [
    {
     "name": "stdout",
     "output_type": "stream",
     "text": [
      "Acurácia:  0.6717557251908397\n",
      "Precisão:  0.5692307692307692\n",
      "Revocação:  0.5034013605442177\n",
      "F1-Measure:  0.5342960288808665\n",
      "ROC AUC:  0.6378795420607267\n"
     ]
    }
   ],
   "source": [
    "print(\"Acurácia: \", metrics.accuracy_score(alvo_teste, arvore_previsao))\n",
    "\n",
    "print('Precisão: ', metrics.precision_score(alvo_teste, arvore_previsao))\n",
    "\n",
    "print('Revocação: ', metrics.recall_score(alvo_teste, arvore_previsao))\n",
    "\n",
    "print('F1-Measure: ', metrics.f1_score(alvo_teste, arvore_previsao))\n",
    "\n",
    "print('ROC AUC: ', metrics.roc_auc_score(alvo_teste, arvore_previsao))"
   ]
  },
  {
   "cell_type": "code",
   "execution_count": 114,
   "metadata": {},
   "outputs": [
    {
     "name": "stdout",
     "output_type": "stream",
     "text": [
      "[[190  56]\n",
      " [ 73  74]]\n"
     ]
    },
    {
     "data": {
      "text/plain": [
       "<matplotlib.axes._subplots.AxesSubplot at 0x25e8a2c8f28>"
      ]
     },
     "execution_count": 114,
     "metadata": {},
     "output_type": "execute_result"
    },
    {
     "data": {
      "image/png": "[encoded data removed]",
      "text/plain": [
       "<Figure size 432x288 with 2 Axes>"
      ]
     },
     "metadata": {
      "needs_background": "light"
     },
     "output_type": "display_data"
    }
   ],
   "source": [
    "# Matriz de Confusão\n",
    "print(confusion_matrix(alvo_teste, arvore_previsao))\n",
    "\n",
    "\n",
    "matriz_confusao_arvore = pd.crosstab(alvo_teste, arvore_previsao, rownames=['Atual'], colnames=['Previsto'])\n",
    "\n",
    "# Gera o gráfico da matriz de confusão\n",
    "sn.heatmap(matriz_confusao_arvore, annot=True)"
   ]
  },
  {
   "cell_type": "code",
   "execution_count": 213,
   "metadata": {},
   "outputs": [],
   "source": [
    "# variável preditores \n",
    "x = df[['survived']] \n",
    "# variável alvo\n",
    "y = df['survived']"
   ]
  },
  {
   "cell_type": "code",
   "execution_count": 216,
   "metadata": {},
   "outputs": [],
   "source": [
    "# Dividindo o conjunto entre treino e teste\n",
    "x_train, x_test, y_train, y_test = train_test_split(x, y, test_size = 0.25, random_state=0)"
   ]
  },
  {
   "cell_type": "code",
   "execution_count": 217,
   "metadata": {},
   "outputs": [],
   "source": [
    "# algumas funções para auxiliar na visulização:\n",
    "\n",
    "def confusion_matrix_model(model_used):\n",
    "    cm = confusion_matrix(y_test, model_used.predict(x_test))\n",
    "    col = [\"Previsto Morto\",\"Previsto Sobrevivente\"]\n",
    "    cm = pd.DataFrame(cm)\n",
    "    cm.columns = [\"Previsto Morto\",\"Previsto Sobrevivente\"]\n",
    "    cm.index=[\"Realmente Morto\",\"Realmente Sobrevivente\"]\n",
    "    cm[col]=np.around(cm[col].div(cm[col].sum(axis=1),axis=0),decimals=2)\n",
    "    return cm"
   ]
  }
 ],
 "metadata": {
  "kernelspec": {
   "display_name": "Python 3",
   "language": "python",
   "name": "python3"
  },
  "language_info": {
   "codemirror_mode": {
    "name": "ipython",
    "version": 3
   },
   "file_extension": ".py",
   "mimetype": "text/x-python",
   "name": "python",
   "nbconvert_exporter": "python",
   "pygments_lexer": "ipython3",
   "version": "3.6.4"
  }
 },
 "nbformat": 4,
 "nbformat_minor": 2
}
