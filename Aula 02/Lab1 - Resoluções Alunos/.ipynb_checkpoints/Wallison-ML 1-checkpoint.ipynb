{
 "cells": [
  {
   "cell_type": "code",
   "execution_count": 1,
   "metadata": {},
   "outputs": [],
   "source": [
    "# Importação das bibliotecas necessárias\n",
    "\n",
    "import pandas as pd # para criação do data frame\n",
    "from sklearn.model_selection import train_test_split # para separação dos conjuntos de treino e teste\n",
    "from sklearn.linear_model import LogisticRegression # para construção do modelo de Regressão Logística\n",
    "from sklearn import metrics # para computação das métricas de avaliação\n",
    "from sklearn.metrics import confusion_matrix\n",
    "import seaborn as sn # para visualização dos resultados\n",
    "import statsmodels.api as sm\n",
    "import matplotlib.pyplot as plt"
   ]
  },
  {
   "cell_type": "code",
   "execution_count": 4,
   "metadata": {},
   "outputs": [
    {
     "data": {
      "text/html": [
       "<div>\n",
       "<style scoped>\n",
       "    .dataframe tbody tr th:only-of-type {\n",
       "        vertical-align: middle;\n",
       "    }\n",
       "\n",
       "    .dataframe tbody tr th {\n",
       "        vertical-align: top;\n",
       "    }\n",
       "\n",
       "    .dataframe thead th {\n",
       "        text-align: right;\n",
       "    }\n",
       "</style>\n",
       "<table border=\"1\" class=\"dataframe\">\n",
       "  <thead>\n",
       "    <tr style=\"text-align: right;\">\n",
       "      <th></th>\n",
       "      <th>pclass</th>\n",
       "      <th>survived</th>\n",
       "      <th>name</th>\n",
       "      <th>sex</th>\n",
       "      <th>age</th>\n",
       "      <th>sibsp</th>\n",
       "      <th>parch</th>\n",
       "      <th>ticket</th>\n",
       "      <th>fare</th>\n",
       "      <th>cabin</th>\n",
       "      <th>embarked</th>\n",
       "      <th>boat</th>\n",
       "      <th>body</th>\n",
       "      <th>home.dest</th>\n",
       "    </tr>\n",
       "  </thead>\n",
       "  <tbody>\n",
       "    <tr>\n",
       "      <th>0</th>\n",
       "      <td>1</td>\n",
       "      <td>1</td>\n",
       "      <td>Allen, Miss. Elisabeth Walton</td>\n",
       "      <td>female</td>\n",
       "      <td>29.00</td>\n",
       "      <td>0</td>\n",
       "      <td>0</td>\n",
       "      <td>24160</td>\n",
       "      <td>211.3375</td>\n",
       "      <td>B5</td>\n",
       "      <td>S</td>\n",
       "      <td>2</td>\n",
       "      <td>NaN</td>\n",
       "      <td>St Louis, MO</td>\n",
       "    </tr>\n",
       "    <tr>\n",
       "      <th>1</th>\n",
       "      <td>1</td>\n",
       "      <td>1</td>\n",
       "      <td>Allison, Master. Hudson Trevor</td>\n",
       "      <td>male</td>\n",
       "      <td>0.92</td>\n",
       "      <td>1</td>\n",
       "      <td>2</td>\n",
       "      <td>113781</td>\n",
       "      <td>151.5500</td>\n",
       "      <td>C22 C26</td>\n",
       "      <td>S</td>\n",
       "      <td>11</td>\n",
       "      <td>NaN</td>\n",
       "      <td>Montreal, PQ / Chesterville, ON</td>\n",
       "    </tr>\n",
       "    <tr>\n",
       "      <th>2</th>\n",
       "      <td>1</td>\n",
       "      <td>0</td>\n",
       "      <td>Allison, Miss. Helen Loraine</td>\n",
       "      <td>female</td>\n",
       "      <td>2.00</td>\n",
       "      <td>1</td>\n",
       "      <td>2</td>\n",
       "      <td>113781</td>\n",
       "      <td>151.5500</td>\n",
       "      <td>C22 C26</td>\n",
       "      <td>S</td>\n",
       "      <td>NaN</td>\n",
       "      <td>NaN</td>\n",
       "      <td>Montreal, PQ / Chesterville, ON</td>\n",
       "    </tr>\n",
       "    <tr>\n",
       "      <th>3</th>\n",
       "      <td>1</td>\n",
       "      <td>0</td>\n",
       "      <td>Allison, Mr. Hudson Joshua Creighton</td>\n",
       "      <td>male</td>\n",
       "      <td>30.00</td>\n",
       "      <td>1</td>\n",
       "      <td>2</td>\n",
       "      <td>113781</td>\n",
       "      <td>151.5500</td>\n",
       "      <td>C22 C26</td>\n",
       "      <td>S</td>\n",
       "      <td>NaN</td>\n",
       "      <td>135.0</td>\n",
       "      <td>Montreal, PQ / Chesterville, ON</td>\n",
       "    </tr>\n",
       "    <tr>\n",
       "      <th>4</th>\n",
       "      <td>1</td>\n",
       "      <td>0</td>\n",
       "      <td>Allison, Mrs. Hudson J C (Bessie Waldo Daniels)</td>\n",
       "      <td>female</td>\n",
       "      <td>25.00</td>\n",
       "      <td>1</td>\n",
       "      <td>2</td>\n",
       "      <td>113781</td>\n",
       "      <td>151.5500</td>\n",
       "      <td>C22 C26</td>\n",
       "      <td>S</td>\n",
       "      <td>NaN</td>\n",
       "      <td>NaN</td>\n",
       "      <td>Montreal, PQ / Chesterville, ON</td>\n",
       "    </tr>\n",
       "  </tbody>\n",
       "</table>\n",
       "</div>"
      ],
      "text/plain": [
       "   pclass  survived                                             name     sex  \\\n",
       "0       1         1                    Allen, Miss. Elisabeth Walton  female   \n",
       "1       1         1                   Allison, Master. Hudson Trevor    male   \n",
       "2       1         0                     Allison, Miss. Helen Loraine  female   \n",
       "3       1         0             Allison, Mr. Hudson Joshua Creighton    male   \n",
       "4       1         0  Allison, Mrs. Hudson J C (Bessie Waldo Daniels)  female   \n",
       "\n",
       "     age  sibsp  parch  ticket      fare    cabin embarked boat   body  \\\n",
       "0  29.00      0      0   24160  211.3375       B5        S    2    NaN   \n",
       "1   0.92      1      2  113781  151.5500  C22 C26        S   11    NaN   \n",
       "2   2.00      1      2  113781  151.5500  C22 C26        S  NaN    NaN   \n",
       "3  30.00      1      2  113781  151.5500  C22 C26        S  NaN  135.0   \n",
       "4  25.00      1      2  113781  151.5500  C22 C26        S  NaN    NaN   \n",
       "\n",
       "                         home.dest  \n",
       "0                     St Louis, MO  \n",
       "1  Montreal, PQ / Chesterville, ON  \n",
       "2  Montreal, PQ / Chesterville, ON  \n",
       "3  Montreal, PQ / Chesterville, ON  \n",
       "4  Montreal, PQ / Chesterville, ON  "
      ]
     },
     "execution_count": 4,
     "metadata": {},
     "output_type": "execute_result"
    }
   ],
   "source": [
    "# Importando os dados sobre os passageiros do Titanic\n",
    "titanic = pd.read_csv(\"titanic3.csv\")\n",
    "\n",
    "# Exibindo as primeiras linhas do dado\n",
    "titanic.head()"
   ]
  },
  {
   "cell_type": "code",
   "execution_count": 5,
   "metadata": {},
   "outputs": [
    {
     "data": {
      "text/html": [
       "<div>\n",
       "<style scoped>\n",
       "    .dataframe tbody tr th:only-of-type {\n",
       "        vertical-align: middle;\n",
       "    }\n",
       "\n",
       "    .dataframe tbody tr th {\n",
       "        vertical-align: top;\n",
       "    }\n",
       "\n",
       "    .dataframe thead th {\n",
       "        text-align: right;\n",
       "    }\n",
       "</style>\n",
       "<table border=\"1\" class=\"dataframe\">\n",
       "  <thead>\n",
       "    <tr style=\"text-align: right;\">\n",
       "      <th></th>\n",
       "      <th>sex</th>\n",
       "      <th>age</th>\n",
       "      <th>fare</th>\n",
       "      <th>survived</th>\n",
       "    </tr>\n",
       "  </thead>\n",
       "  <tbody>\n",
       "    <tr>\n",
       "      <th>0</th>\n",
       "      <td>female</td>\n",
       "      <td>29.00</td>\n",
       "      <td>211.3375</td>\n",
       "      <td>1</td>\n",
       "    </tr>\n",
       "    <tr>\n",
       "      <th>1</th>\n",
       "      <td>male</td>\n",
       "      <td>0.92</td>\n",
       "      <td>151.5500</td>\n",
       "      <td>1</td>\n",
       "    </tr>\n",
       "    <tr>\n",
       "      <th>2</th>\n",
       "      <td>female</td>\n",
       "      <td>2.00</td>\n",
       "      <td>151.5500</td>\n",
       "      <td>0</td>\n",
       "    </tr>\n",
       "  </tbody>\n",
       "</table>\n",
       "</div>"
      ],
      "text/plain": [
       "      sex    age      fare  survived\n",
       "0  female  29.00  211.3375         1\n",
       "1    male   0.92  151.5500         1\n",
       "2  female   2.00  151.5500         0"
      ]
     },
     "execution_count": 5,
     "metadata": {},
     "output_type": "execute_result"
    }
   ],
   "source": [
    "# Cria um dataframe com algumas variáveis escolhidas\n",
    "titanic_df = pd.DataFrame(titanic, columns=['sex','age','fare','survived'])\n",
    "titanic_df.head(3)"
   ]
  },
  {
   "cell_type": "code",
   "execution_count": 6,
   "metadata": {},
   "outputs": [
    {
     "data": {
      "text/plain": [
       "sex          object\n",
       "age         float64\n",
       "fare        float64\n",
       "survived      int64\n",
       "dtype: object"
      ]
     },
     "execution_count": 6,
     "metadata": {},
     "output_type": "execute_result"
    }
   ],
   "source": [
    "# Tipos dos dados\n",
    "titanic_df.dtypes"
   ]
  },
  {
   "cell_type": "code",
   "execution_count": 23,
   "metadata": {},
   "outputs": [
    {
     "data": {
      "text/html": [
       "<div>\n",
       "<style scoped>\n",
       "    .dataframe tbody tr th:only-of-type {\n",
       "        vertical-align: middle;\n",
       "    }\n",
       "\n",
       "    .dataframe tbody tr th {\n",
       "        vertical-align: top;\n",
       "    }\n",
       "\n",
       "    .dataframe thead th {\n",
       "        text-align: right;\n",
       "    }\n",
       "</style>\n",
       "<table border=\"1\" class=\"dataframe\">\n",
       "  <thead>\n",
       "    <tr style=\"text-align: right;\">\n",
       "      <th></th>\n",
       "      <th>age</th>\n",
       "      <th>fare</th>\n",
       "      <th>survived</th>\n",
       "    </tr>\n",
       "  </thead>\n",
       "  <tbody>\n",
       "    <tr>\n",
       "      <th>count</th>\n",
       "      <td>1046.000000</td>\n",
       "      <td>1308.000000</td>\n",
       "      <td>1309.000000</td>\n",
       "    </tr>\n",
       "    <tr>\n",
       "      <th>mean</th>\n",
       "      <td>29.881138</td>\n",
       "      <td>33.295479</td>\n",
       "      <td>0.381971</td>\n",
       "    </tr>\n",
       "    <tr>\n",
       "      <th>std</th>\n",
       "      <td>14.413493</td>\n",
       "      <td>51.758668</td>\n",
       "      <td>0.486055</td>\n",
       "    </tr>\n",
       "    <tr>\n",
       "      <th>min</th>\n",
       "      <td>0.170000</td>\n",
       "      <td>0.000000</td>\n",
       "      <td>0.000000</td>\n",
       "    </tr>\n",
       "    <tr>\n",
       "      <th>25%</th>\n",
       "      <td>21.000000</td>\n",
       "      <td>7.895800</td>\n",
       "      <td>0.000000</td>\n",
       "    </tr>\n",
       "    <tr>\n",
       "      <th>50%</th>\n",
       "      <td>28.000000</td>\n",
       "      <td>14.454200</td>\n",
       "      <td>0.000000</td>\n",
       "    </tr>\n",
       "    <tr>\n",
       "      <th>75%</th>\n",
       "      <td>39.000000</td>\n",
       "      <td>31.275000</td>\n",
       "      <td>1.000000</td>\n",
       "    </tr>\n",
       "    <tr>\n",
       "      <th>max</th>\n",
       "      <td>80.000000</td>\n",
       "      <td>512.329200</td>\n",
       "      <td>1.000000</td>\n",
       "    </tr>\n",
       "  </tbody>\n",
       "</table>\n",
       "</div>"
      ],
      "text/plain": [
       "               age         fare     survived\n",
       "count  1046.000000  1308.000000  1309.000000\n",
       "mean     29.881138    33.295479     0.381971\n",
       "std      14.413493    51.758668     0.486055\n",
       "min       0.170000     0.000000     0.000000\n",
       "25%      21.000000     7.895800     0.000000\n",
       "50%      28.000000    14.454200     0.000000\n",
       "75%      39.000000    31.275000     1.000000\n",
       "max      80.000000   512.329200     1.000000"
      ]
     },
     "execution_count": 23,
     "metadata": {},
     "output_type": "execute_result"
    }
   ],
   "source": [
    "titanic_df.describe()"
   ]
  },
  {
   "cell_type": "code",
   "execution_count": 24,
   "metadata": {},
   "outputs": [
    {
     "data": {
      "text/plain": [
       "sex           0\n",
       "age         263\n",
       "fare          1\n",
       "survived      0\n",
       "dtype: int64"
      ]
     },
     "execution_count": 24,
     "metadata": {},
     "output_type": "execute_result"
    }
   ],
   "source": [
    "# Mostra os valores nulos em cada coluna\n",
    "titanic_df.isnull().sum()"
   ]
  },
  {
   "cell_type": "code",
   "execution_count": 13,
   "metadata": {},
   "outputs": [
    {
     "data": {
      "text/html": [
       "<div>\n",
       "<style scoped>\n",
       "    .dataframe tbody tr th:only-of-type {\n",
       "        vertical-align: middle;\n",
       "    }\n",
       "\n",
       "    .dataframe tbody tr th {\n",
       "        vertical-align: top;\n",
       "    }\n",
       "\n",
       "    .dataframe thead th {\n",
       "        text-align: right;\n",
       "    }\n",
       "</style>\n",
       "<table border=\"1\" class=\"dataframe\">\n",
       "  <thead>\n",
       "    <tr style=\"text-align: right;\">\n",
       "      <th></th>\n",
       "      <th>sex</th>\n",
       "      <th>age</th>\n",
       "      <th>fare</th>\n",
       "      <th>survived</th>\n",
       "    </tr>\n",
       "  </thead>\n",
       "  <tbody>\n",
       "    <tr>\n",
       "      <th>0</th>\n",
       "      <td>female</td>\n",
       "      <td>29.00</td>\n",
       "      <td>211.3375</td>\n",
       "      <td>1</td>\n",
       "    </tr>\n",
       "    <tr>\n",
       "      <th>1</th>\n",
       "      <td>male</td>\n",
       "      <td>0.92</td>\n",
       "      <td>151.5500</td>\n",
       "      <td>1</td>\n",
       "    </tr>\n",
       "    <tr>\n",
       "      <th>2</th>\n",
       "      <td>female</td>\n",
       "      <td>2.00</td>\n",
       "      <td>151.5500</td>\n",
       "      <td>0</td>\n",
       "    </tr>\n",
       "    <tr>\n",
       "      <th>3</th>\n",
       "      <td>male</td>\n",
       "      <td>30.00</td>\n",
       "      <td>151.5500</td>\n",
       "      <td>0</td>\n",
       "    </tr>\n",
       "    <tr>\n",
       "      <th>4</th>\n",
       "      <td>female</td>\n",
       "      <td>25.00</td>\n",
       "      <td>151.5500</td>\n",
       "      <td>0</td>\n",
       "    </tr>\n",
       "  </tbody>\n",
       "</table>\n",
       "</div>"
      ],
      "text/plain": [
       "      sex    age      fare  survived\n",
       "0  female  29.00  211.3375         1\n",
       "1    male   0.92  151.5500         1\n",
       "2  female   2.00  151.5500         0\n",
       "3    male  30.00  151.5500         0\n",
       "4  female  25.00  151.5500         0"
      ]
     },
     "execution_count": 13,
     "metadata": {},
     "output_type": "execute_result"
    }
   ],
   "source": [
    "# Utilizando a mediana nos dados faltantes\n",
    "titanic_mediana = titanic_df.fillna(titanic_df[['age','fare']].median())\n",
    "titanic_mediana.head()"
   ]
  },
  {
   "cell_type": "code",
   "execution_count": 14,
   "metadata": {},
   "outputs": [
    {
     "data": {
      "text/plain": [
       "sex         0\n",
       "age         0\n",
       "fare        0\n",
       "survived    0\n",
       "dtype: int64"
      ]
     },
     "execution_count": 14,
     "metadata": {},
     "output_type": "execute_result"
    }
   ],
   "source": [
    "# Mostra os valores nulos em cada coluna\n",
    "titanic_mediana.isnull().sum()"
   ]
  },
  {
   "cell_type": "code",
   "execution_count": 16,
   "metadata": {},
   "outputs": [
    {
     "data": {
      "text/html": [
       "<div>\n",
       "<style scoped>\n",
       "    .dataframe tbody tr th:only-of-type {\n",
       "        vertical-align: middle;\n",
       "    }\n",
       "\n",
       "    .dataframe tbody tr th {\n",
       "        vertical-align: top;\n",
       "    }\n",
       "\n",
       "    .dataframe thead th {\n",
       "        text-align: right;\n",
       "    }\n",
       "</style>\n",
       "<table border=\"1\" class=\"dataframe\">\n",
       "  <thead>\n",
       "    <tr style=\"text-align: right;\">\n",
       "      <th></th>\n",
       "      <th>sex</th>\n",
       "      <th>age</th>\n",
       "      <th>fare</th>\n",
       "      <th>survived</th>\n",
       "    </tr>\n",
       "  </thead>\n",
       "  <tbody>\n",
       "    <tr>\n",
       "      <th>0</th>\n",
       "      <td>0</td>\n",
       "      <td>29.00</td>\n",
       "      <td>211.3375</td>\n",
       "      <td>1</td>\n",
       "    </tr>\n",
       "    <tr>\n",
       "      <th>1</th>\n",
       "      <td>1</td>\n",
       "      <td>0.92</td>\n",
       "      <td>151.5500</td>\n",
       "      <td>1</td>\n",
       "    </tr>\n",
       "    <tr>\n",
       "      <th>2</th>\n",
       "      <td>0</td>\n",
       "      <td>2.00</td>\n",
       "      <td>151.5500</td>\n",
       "      <td>0</td>\n",
       "    </tr>\n",
       "    <tr>\n",
       "      <th>3</th>\n",
       "      <td>1</td>\n",
       "      <td>30.00</td>\n",
       "      <td>151.5500</td>\n",
       "      <td>0</td>\n",
       "    </tr>\n",
       "    <tr>\n",
       "      <th>4</th>\n",
       "      <td>0</td>\n",
       "      <td>25.00</td>\n",
       "      <td>151.5500</td>\n",
       "      <td>0</td>\n",
       "    </tr>\n",
       "  </tbody>\n",
       "</table>\n",
       "</div>"
      ],
      "text/plain": [
       "   sex    age      fare  survived\n",
       "0    0  29.00  211.3375         1\n",
       "1    1   0.92  151.5500         1\n",
       "2    0   2.00  151.5500         0\n",
       "3    1  30.00  151.5500         0\n",
       "4    0  25.00  151.5500         0"
      ]
     },
     "execution_count": 16,
     "metadata": {},
     "output_type": "execute_result"
    }
   ],
   "source": [
    "# Conversão da coluna sexo em binário\n",
    "titanic_mediana['sex']=pd.get_dummies(titanic_mediana.sex)\n",
    "titanic_mediana.head()"
   ]
  },
  {
   "cell_type": "code",
   "execution_count": 18,
   "metadata": {},
   "outputs": [
    {
     "data": {
      "text/plain": [
       "0    809\n",
       "1    500\n",
       "Name: survived, dtype: int64"
      ]
     },
     "execution_count": 18,
     "metadata": {},
     "output_type": "execute_result"
    }
   ],
   "source": [
    "# Visualizar a contagem de sobreviventes = 1 e não sobreviventes = 0\n",
    "titanic_mediana['survived'].value_counts()"
   ]
  },
  {
   "cell_type": "code",
   "execution_count": 19,
   "metadata": {},
   "outputs": [
    {
     "data": {
      "text/plain": [
       "<matplotlib.axes._subplots.AxesSubplot at 0x195b64088d0>"
      ]
     },
     "execution_count": 19,
     "metadata": {},
     "output_type": "execute_result"
    },
    {
     "data": {
      "image/png": "[encoded data removed]",
      "text/plain": [
       "<Figure size 432x288 with 1 Axes>"
      ]
     },
     "metadata": {
      "needs_background": "light"
     },
     "output_type": "display_data"
    }
   ],
   "source": [
    "titanic_mediana['survived'].value_counts().plot(kind=\"bar\", color = [\"b\",\"g\"])"
   ]
  },
  {
   "cell_type": "code",
   "execution_count": 20,
   "metadata": {},
   "outputs": [
    {
     "data": {
      "text/plain": [
       "1    843\n",
       "0    466\n",
       "Name: sex, dtype: int64"
      ]
     },
     "execution_count": 20,
     "metadata": {},
     "output_type": "execute_result"
    }
   ],
   "source": [
    "# Visualizar a contagem de sexo\n",
    "titanic_mediana['sex'].value_counts()"
   ]
  },
  {
   "cell_type": "code",
   "execution_count": 21,
   "metadata": {},
   "outputs": [
    {
     "data": {
      "text/plain": [
       "<matplotlib.axes._subplots.AxesSubplot at 0x195b5e2be10>"
      ]
     },
     "execution_count": 21,
     "metadata": {},
     "output_type": "execute_result"
    },
    {
     "data": {
      "image/png": "[encoded data removed]",
      "text/plain": [
       "<Figure size 432x288 with 1 Axes>"
      ]
     },
     "metadata": {
      "needs_background": "light"
     },
     "output_type": "display_data"
    }
   ],
   "source": [
    "titanic_mediana['sex'].value_counts().plot(kind=\"bar\", color = [\"orange\", \"r\"])"
   ]
  },
  {
   "cell_type": "code",
   "execution_count": 22,
   "metadata": {},
   "outputs": [
    {
     "data": {
      "text/plain": [
       "<matplotlib.axes._subplots.AxesSubplot at 0x195b5eacac8>"
      ]
     },
     "execution_count": 22,
     "metadata": {},
     "output_type": "execute_result"
    },
    {
     "data": {
      "image/png": "[encoded data removed]",
      "text/plain": [
       "<Figure size 432x288 with 1 Axes>"
      ]
     },
     "metadata": {
      "needs_background": "light"
     },
     "output_type": "display_data"
    }
   ],
   "source": [
    "# Histograma da distribuição de idade dos passageiros\n",
    "titanic_mediana[\"age\"].hist(width=7)"
   ]
  },
  {
   "cell_type": "code",
   "execution_count": 25,
   "metadata": {},
   "outputs": [],
   "source": [
    "def survival_stacked_bar(variable):\n",
    "    Died = titanic_mediana[titanic_mediana[\"survived\"]==0][variable].value_counts()/len(titanic_mediana[\"survived\"]==0)\n",
    "    Survived = titanic_mediana[titanic_mediana[\"survived\"]==1][variable].value_counts()/len(titanic_mediana[\"survived\"]==1)\n",
    "    \n",
    "    data = pd.DataFrame([Died,Survived])\n",
    "    data.index=[\"Não sobreviveu\",\"Sobreviveu\"]\n",
    "    data.plot(kind=\"bar\",stacked=True,title=\"Porcentagem\")\n",
    "    \n",
    "    return data.head()"
   ]
  },
  {
   "cell_type": "code",
   "execution_count": 26,
   "metadata": {},
   "outputs": [
    {
     "data": {
      "text/html": [
       "<div>\n",
       "<style scoped>\n",
       "    .dataframe tbody tr th:only-of-type {\n",
       "        vertical-align: middle;\n",
       "    }\n",
       "\n",
       "    .dataframe tbody tr th {\n",
       "        vertical-align: top;\n",
       "    }\n",
       "\n",
       "    .dataframe thead th {\n",
       "        text-align: right;\n",
       "    }\n",
       "</style>\n",
       "<table border=\"1\" class=\"dataframe\">\n",
       "  <thead>\n",
       "    <tr style=\"text-align: right;\">\n",
       "      <th></th>\n",
       "      <th>sex</th>\n",
       "      <th>age</th>\n",
       "      <th>fare</th>\n",
       "      <th>survived</th>\n",
       "    </tr>\n",
       "  </thead>\n",
       "  <tbody>\n",
       "    <tr>\n",
       "      <th>0</th>\n",
       "      <td>0</td>\n",
       "      <td>29.00</td>\n",
       "      <td>211.3375</td>\n",
       "      <td>1</td>\n",
       "    </tr>\n",
       "    <tr>\n",
       "      <th>1</th>\n",
       "      <td>1</td>\n",
       "      <td>0.92</td>\n",
       "      <td>151.5500</td>\n",
       "      <td>1</td>\n",
       "    </tr>\n",
       "    <tr>\n",
       "      <th>2</th>\n",
       "      <td>0</td>\n",
       "      <td>2.00</td>\n",
       "      <td>151.5500</td>\n",
       "      <td>0</td>\n",
       "    </tr>\n",
       "  </tbody>\n",
       "</table>\n",
       "</div>"
      ],
      "text/plain": [
       "   sex    age      fare  survived\n",
       "0    0  29.00  211.3375         1\n",
       "1    1   0.92  151.5500         1\n",
       "2    0   2.00  151.5500         0"
      ]
     },
     "execution_count": 26,
     "metadata": {},
     "output_type": "execute_result"
    }
   ],
   "source": [
    "titanic_mediana['sex']\n",
    "titanic_mediana.head(3)"
   ]
  },
  {
   "cell_type": "code",
   "execution_count": 27,
   "metadata": {},
   "outputs": [
    {
     "data": {
      "text/html": [
       "<div>\n",
       "<style scoped>\n",
       "    .dataframe tbody tr th:only-of-type {\n",
       "        vertical-align: middle;\n",
       "    }\n",
       "\n",
       "    .dataframe tbody tr th {\n",
       "        vertical-align: top;\n",
       "    }\n",
       "\n",
       "    .dataframe thead th {\n",
       "        text-align: right;\n",
       "    }\n",
       "</style>\n",
       "<table border=\"1\" class=\"dataframe\">\n",
       "  <thead>\n",
       "    <tr style=\"text-align: right;\">\n",
       "      <th></th>\n",
       "      <th>0</th>\n",
       "      <th>1</th>\n",
       "    </tr>\n",
       "  </thead>\n",
       "  <tbody>\n",
       "    <tr>\n",
       "      <th>Não sobreviveu</th>\n",
       "      <td>0.097021</td>\n",
       "      <td>0.521008</td>\n",
       "    </tr>\n",
       "    <tr>\n",
       "      <th>Sobreviveu</th>\n",
       "      <td>0.258976</td>\n",
       "      <td>0.122995</td>\n",
       "    </tr>\n",
       "  </tbody>\n",
       "</table>\n",
       "</div>"
      ],
      "text/plain": [
       "                       0         1\n",
       "Não sobreviveu  0.097021  0.521008\n",
       "Sobreviveu      0.258976  0.122995"
      ]
     },
     "execution_count": 27,
     "metadata": {},
     "output_type": "execute_result"
    },
    {
     "data": {
      "image/png": "[encoded data removed]",
      "text/plain": [
       "<Figure size 432x288 with 1 Axes>"
      ]
     },
     "metadata": {
      "needs_background": "light"
     },
     "output_type": "display_data"
    }
   ],
   "source": [
    "# Utiliza a função criada acima com a variável Sexo 0=Masculino e 1=Feminino\n",
    "survival_stacked_bar(\"sex\")"
   ]
  },
  {
   "cell_type": "code",
   "execution_count": 28,
   "metadata": {},
   "outputs": [
    {
     "data": {
      "text/html": [
       "<div>\n",
       "<style scoped>\n",
       "    .dataframe tbody tr th:only-of-type {\n",
       "        vertical-align: middle;\n",
       "    }\n",
       "\n",
       "    .dataframe tbody tr th {\n",
       "        vertical-align: top;\n",
       "    }\n",
       "\n",
       "    .dataframe thead th {\n",
       "        text-align: right;\n",
       "    }\n",
       "</style>\n",
       "<table border=\"1\" class=\"dataframe\">\n",
       "  <thead>\n",
       "    <tr style=\"text-align: right;\">\n",
       "      <th></th>\n",
       "      <th>sex</th>\n",
       "      <th>age</th>\n",
       "      <th>fare</th>\n",
       "      <th>survived</th>\n",
       "    </tr>\n",
       "  </thead>\n",
       "  <tbody>\n",
       "    <tr>\n",
       "      <th>sex</th>\n",
       "      <td>1.000000</td>\n",
       "      <td>0.053663</td>\n",
       "      <td>-0.185681</td>\n",
       "      <td>-0.528693</td>\n",
       "    </tr>\n",
       "    <tr>\n",
       "      <th>age</th>\n",
       "      <td>0.053663</td>\n",
       "      <td>1.000000</td>\n",
       "      <td>0.178182</td>\n",
       "      <td>-0.043817</td>\n",
       "    </tr>\n",
       "    <tr>\n",
       "      <th>fare</th>\n",
       "      <td>-0.185681</td>\n",
       "      <td>0.178182</td>\n",
       "      <td>1.000000</td>\n",
       "      <td>0.244414</td>\n",
       "    </tr>\n",
       "    <tr>\n",
       "      <th>survived</th>\n",
       "      <td>-0.528693</td>\n",
       "      <td>-0.043817</td>\n",
       "      <td>0.244414</td>\n",
       "      <td>1.000000</td>\n",
       "    </tr>\n",
       "  </tbody>\n",
       "</table>\n",
       "</div>"
      ],
      "text/plain": [
       "               sex       age      fare  survived\n",
       "sex       1.000000  0.053663 -0.185681 -0.528693\n",
       "age       0.053663  1.000000  0.178182 -0.043817\n",
       "fare     -0.185681  0.178182  1.000000  0.244414\n",
       "survived -0.528693 -0.043817  0.244414  1.000000"
      ]
     },
     "execution_count": 28,
     "metadata": {},
     "output_type": "execute_result"
    }
   ],
   "source": [
    "# Próximo à -1 - quando 1 sobe outro desce\n",
    "# Próximo à 0 - correlação ótima\n",
    "# Próximo à 1 - quando 1 sobe o outro sobe\n",
    "titanic_mediana.corr()"
   ]
  },
  {
   "cell_type": "code",
   "execution_count": 29,
   "metadata": {},
   "outputs": [],
   "source": [
    "# Descrever minhas variáveis preditores e alvo\n",
    "preditores = titanic_mediana[['sex','age','fare']]\n",
    "alvo = titanic_mediana['survived']"
   ]
  },
  {
   "cell_type": "code",
   "execution_count": 30,
   "metadata": {},
   "outputs": [],
   "source": [
    "# Divisão dos conjuntos de treino e teste\n",
    "\n",
    "preditores_treino, preditores_teste, alvo_treino, alvo_teste = train_test_split(preditores, alvo, test_size=0.30, random_state=0)"
   ]
  },
  {
   "cell_type": "code",
   "execution_count": 31,
   "metadata": {},
   "outputs": [
    {
     "name": "stderr",
     "output_type": "stream",
     "text": [
      "C:\\Users\\PC\\Anaconda3\\lib\\site-packages\\sklearn\\linear_model\\logistic.py:432: FutureWarning: Default solver will be changed to 'lbfgs' in 0.22. Specify a solver to silence this warning.\n",
      "  FutureWarning)\n"
     ]
    }
   ],
   "source": [
    "# Instancia o modelo de regressão logística com parâmetros default\n",
    "modelo_reglog = LogisticRegression()\n",
    "\n",
    "# Treina o modelo com base nos preditores e variável alvo\n",
    "modelo_reglog.fit(preditores_treino, alvo_treino)\n",
    "\n",
    "# Prevê, para os dados do conjunto de teste, resultados para a variável alvo\n",
    "alvo_pred = modelo_reglog.predict(preditores_teste)"
   ]
  },
  {
   "cell_type": "code",
   "execution_count": 32,
   "metadata": {},
   "outputs": [
    {
     "name": "stdout",
     "output_type": "stream",
     "text": [
      "[[206  40]\n",
      " [ 49  98]]\n"
     ]
    }
   ],
   "source": [
    "# Matriz de confusão\n",
    "print(confusion_matrix(alvo_teste, alvo_pred))"
   ]
  },
  {
   "cell_type": "code",
   "execution_count": 33,
   "metadata": {},
   "outputs": [
    {
     "data": {
      "text/plain": [
       "<matplotlib.axes._subplots.AxesSubplot at 0x195b5f26240>"
      ]
     },
     "execution_count": 33,
     "metadata": {},
     "output_type": "execute_result"
    },
    {
     "data": {
      "image/png": "[encoded data removed]",
      "text/plain": [
       "<Figure size 432x288 with 2 Axes>"
      ]
     },
     "metadata": {
      "needs_background": "light"
     },
     "output_type": "display_data"
    }
   ],
   "source": [
    "matriz_confusao = pd.crosstab(alvo_teste, alvo_pred, rownames=['Atual'], colnames=['Previsto'])\n",
    "\n",
    "# Gera o gráfico da matriz de confusão\n",
    "sn.heatmap(matriz_confusao, annot=True)"
   ]
  },
  {
   "cell_type": "code",
   "execution_count": 34,
   "metadata": {},
   "outputs": [
    {
     "name": "stdout",
     "output_type": "stream",
     "text": [
      "Acurácia:  0.7735368956743003\n"
     ]
    }
   ],
   "source": [
    "# Acurácia do modelo\n",
    "print('Acurácia: ', metrics.accuracy_score(alvo_teste, alvo_pred))"
   ]
  },
  {
   "cell_type": "code",
   "execution_count": 35,
   "metadata": {},
   "outputs": [
    {
     "name": "stdout",
     "output_type": "stream",
     "text": [
      "Precisão:  0.7101449275362319\n",
      "Revocação:  0.6666666666666666\n",
      "F1-Measure:  0.6877192982456141\n",
      "ROC AUC:  0.7520325203252032\n"
     ]
    }
   ],
   "source": [
    "print('Precisão: ', metrics.precision_score(alvo_teste, alvo_pred))\n",
    "\n",
    "print('Revocação: ', metrics.recall_score(alvo_teste, alvo_pred))\n",
    "\n",
    "print('F1-Measure: ', metrics.f1_score(alvo_teste, alvo_pred))\n",
    "\n",
    "print('ROC AUC: ', metrics.roc_auc_score(alvo_teste, alvo_pred))"
   ]
  },
  {
   "cell_type": "code",
   "execution_count": 36,
   "metadata": {},
   "outputs": [
    {
     "name": "stdout",
     "output_type": "stream",
     "text": [
      "1139    0\n",
      "533     1\n",
      "459     0\n",
      "1150    0\n",
      "393     0\n",
      "1189    1\n",
      "5       1\n",
      "231     1\n",
      "330     0\n",
      "887     1\n",
      "531     0\n",
      "790     0\n",
      "427     1\n",
      "1260    1\n",
      "251     1\n",
      "486     0\n",
      "436     1\n",
      "31      1\n",
      "186     1\n",
      "1051    0\n",
      "769     0\n",
      "642     0\n",
      "1087    0\n",
      "55      1\n",
      "678     0\n",
      "358     1\n",
      "503     1\n",
      "995     0\n",
      "1005    0\n",
      "1279    0\n",
      "       ..\n",
      "1157    0\n",
      "936     1\n",
      "467     1\n",
      "97      1\n",
      "1003    1\n",
      "1253    0\n",
      "1140    0\n",
      "196     1\n",
      "883     0\n",
      "183     1\n",
      "1270    0\n",
      "431     0\n",
      "526     1\n",
      "815     0\n",
      "933     0\n",
      "1206    0\n",
      "175     0\n",
      "1292    0\n",
      "81      0\n",
      "267     0\n",
      "77      0\n",
      "1225    0\n",
      "452     1\n",
      "895     1\n",
      "900     0\n",
      "914     0\n",
      "580     1\n",
      "1080    1\n",
      "1249    0\n",
      "88      1\n",
      "Name: survived, Length: 393, dtype: int64\n",
      "[0 1 0 0 0 1 0 0 0 0 0 0 0 1 1 0 1 0 1 0 0 0 0 1 0 1 0 0 0 1 1 1 1 0 1 0 0\n",
      " 0 0 0 0 0 0 0 1 0 0 1 0 0 1 0 0 1 0 0 1 1 1 1 0 0 1 0 1 1 0 0 0 1 1 0 0 0\n",
      " 1 1 0 1 1 0 0 1 0 0 1 1 0 0 0 0 0 0 0 0 0 0 0 1 0 1 0 0 1 1 0 0 0 0 0 0 0\n",
      " 0 0 0 1 0 0 0 0 1 0 0 0 0 0 0 0 0 1 0 0 0 0 0 0 0 0 1 0 1 0 1 0 0 0 0 1 0\n",
      " 1 0 1 0 0 1 0 0 1 1 0 0 0 0 0 0 0 1 0 0 0 0 0 0 1 0 1 0 0 1 1 1 1 0 1 0 1\n",
      " 1 1 0 0 0 0 1 1 0 0 1 0 1 0 0 0 0 0 1 1 0 0 0 0 0 1 0 0 0 1 0 0 0 0 0 1 1\n",
      " 1 1 1 0 1 1 1 1 1 0 0 1 0 0 1 0 0 0 0 1 0 0 0 0 0 0 1 0 0 0 0 0 1 0 1 0 0\n",
      " 0 0 0 0 1 0 1 0 0 0 1 0 1 0 0 0 1 1 1 1 1 0 1 1 1 1 0 0 0 1 0 1 0 1 1 1 0\n",
      " 1 0 0 0 0 1 0 0 1 0 1 0 1 0 1 0 0 0 0 1 0 1 0 1 0 0 1 0 1 0 1 0 0 0 1 0 0\n",
      " 1 0 1 1 0 1 1 1 0 1 1 1 1 1 0 0 0 1 1 0 0 1 0 0 0 1 0 0 0 0 0 1 1 1 0 0 0\n",
      " 0 0 1 0 0 0 0 0 0 0 0 0 0 0 0 1 1 0 0 1 0 0 1]\n"
     ]
    }
   ],
   "source": [
    "print(alvo_teste)\n",
    "print(alvo_pred)"
   ]
  },
  {
   "cell_type": "markdown",
   "metadata": {},
   "source": [
    "# Árvore de Decisão"
   ]
  },
  {
   "cell_type": "code",
   "execution_count": 37,
   "metadata": {},
   "outputs": [
    {
     "name": "stdout",
     "output_type": "stream",
     "text": [
      "Preditores Treino\n",
      "      sex    age      fare\n",
      "501     0  13.00   19.5000\n",
      "588     0   4.00   23.0000\n",
      "402     0  30.00   13.8583\n",
      "1193    1  28.00    7.7250\n",
      "686     0  22.00    7.7250\n",
      "971     1  28.00    7.8792\n",
      "117     0  30.00   56.9292\n",
      "540     0   2.00   26.0000\n",
      "294     1  49.00  110.8833\n",
      "261     1  35.00   26.2875\n",
      "587     1   2.00   23.0000\n",
      "489     0  42.00   26.0000\n",
      "2       0   2.00  151.5500\n",
      "405     1  18.00   13.0000\n",
      "1284    1  28.00    8.0500\n",
      "338     1  28.00   26.0000\n",
      "356     1  25.00   13.0000\n",
      "985     1  24.00    7.1417\n",
      "182     0  30.00  106.4250\n",
      "1027    1  28.00    8.0500\n",
      "1023    0  28.00    7.8792\n",
      "657     0   0.75   19.2583\n",
      "891     1  33.00    8.6542\n",
      "716     1  26.00   14.4542\n",
      "1142    1   4.00   29.1250\n",
      "520     1  20.00   13.8625\n",
      "1267    0  30.00   24.1500\n",
      "395     0  18.00   23.0000\n",
      "905     1  32.00    7.8542\n",
      "278     1  32.00   30.5000\n",
      "...   ...    ...       ...\n",
      "659     0   5.00   19.2583\n",
      "797     1  40.50    7.7500\n",
      "1286    0  38.00    7.2292\n",
      "1201    1  22.00    7.2292\n",
      "99      0  48.00   39.6000\n",
      "850     1  21.00    7.8542\n",
      "448     1  36.00   13.0000\n",
      "755     1  17.00    8.0500\n",
      "976     1  28.00    7.8792\n",
      "115     1  64.00  263.0000\n",
      "777     1  19.00    8.0500\n",
      "72      0  26.00  136.7792\n",
      "845     0  24.00   15.8500\n",
      "537     1  34.00   13.0000\n",
      "849     1  26.00    7.8542\n",
      "174     1  58.00   29.7000\n",
      "87      1  27.00   30.5000\n",
      "551     0  50.00   10.5000\n",
      "705     1  28.00   14.4583\n",
      "314     0  50.00  211.5000\n",
      "600     1  42.00    7.5500\n",
      "1094    0  31.00    8.6833\n",
      "599     0  24.00   13.0000\n",
      "277     0  28.00  146.5208\n",
      "1033    1  28.00    7.7750\n",
      "763     0   0.17   20.5750\n",
      "835     1  28.00    8.0500\n",
      "1216    0  28.00    7.7333\n",
      "559     0  20.00   36.7500\n",
      "684     0  32.00   15.5000\n",
      "\n",
      "[916 rows x 3 columns]\n",
      "Preditores Teste\n",
      "      sex    age      fare\n",
      "1139    1  38.00    7.8958\n",
      "533     0  21.00   21.0000\n",
      "459     1  42.00   27.0000\n",
      "1150    1  28.00   14.5000\n",
      "393     1  25.00   31.5000\n",
      "1189    0   4.00   16.7000\n",
      "5       1  48.00   26.5500\n",
      "231     1  52.00   30.5000\n",
      "330     1  57.00   13.0000\n",
      "887     1  28.00    8.1125\n",
      "531     1  28.00   15.0500\n",
      "790     1  39.00    7.2292\n",
      "427     1   0.67   14.5000\n",
      "1260    0  18.00    9.8417\n",
      "251     0  21.00  262.3750\n",
      "486     1  24.00   10.5000\n",
      "436     0  45.00   26.2500\n",
      "31      1  40.00   31.0000\n",
      "186     0  55.00   27.7208\n",
      "1051    1  33.00    8.0500\n",
      "769     1  22.00    7.2500\n",
      "642     1  13.00   31.3875\n",
      "1087    1  28.00    7.8542\n",
      "55      0  14.00  120.0000\n",
      "678     1   6.00   15.2458\n",
      "358     0  42.00   13.0000\n",
      "503     1  19.00   10.5000\n",
      "995     1  35.00    7.8958\n",
      "1005    1  28.00   15.5000\n",
      "1279    0  14.00    7.8542\n",
      "...   ...    ...       ...\n",
      "1157    1  18.00   20.2125\n",
      "936     0  26.00   22.0250\n",
      "467     0  24.00   26.0000\n",
      "97      0  27.00  247.5208\n",
      "1003    1  28.00   23.2500\n",
      "1253    1  28.00    7.2292\n",
      "1140    1  21.00    8.0500\n",
      "196     1  28.00   29.7000\n",
      "883     1  20.00    7.8542\n",
      "183     1  35.00  512.3292\n",
      "1270    1  28.00    9.5000\n",
      "431     1  28.00   33.0000\n",
      "526     1  29.00   13.8583\n",
      "815     1  28.00   14.5000\n",
      "933     1  26.00    8.6625\n",
      "1206    1   4.00   27.9000\n",
      "175     1  41.00   51.8625\n",
      "1292    1  28.00    7.5500\n",
      "81      1  70.00   71.0000\n",
      "267     1  56.00   30.6958\n",
      "77      1  37.00   83.1583\n",
      "1225    1  60.50   14.4542\n",
      "452     0  29.00   26.0000\n",
      "895     0   1.00   11.1333\n",
      "900     1  28.00   23.4500\n",
      "914     1  33.00    7.8542\n",
      "580     0  31.00   21.0000\n",
      "1080    1  28.00    7.7500\n",
      "1249    1  28.00    7.7500\n",
      "88      0  33.00  151.5500\n",
      "\n",
      "[393 rows x 3 columns]\n",
      "Alvo Treino\n",
      "501     1\n",
      "588     1\n",
      "402     1\n",
      "1193    0\n",
      "686     1\n",
      "971     0\n",
      "117     1\n",
      "540     1\n",
      "294     0\n",
      "261     1\n",
      "587     1\n",
      "489     1\n",
      "2       0\n",
      "405     0\n",
      "1284    0\n",
      "338     0\n",
      "356     0\n",
      "985     1\n",
      "182     1\n",
      "1027    0\n",
      "1023    1\n",
      "657     1\n",
      "891     0\n",
      "716     0\n",
      "1142    0\n",
      "520     1\n",
      "1267    0\n",
      "395     1\n",
      "905     1\n",
      "278     1\n",
      "       ..\n",
      "659     1\n",
      "797     0\n",
      "1286    1\n",
      "1201    0\n",
      "99      1\n",
      "850     0\n",
      "448     0\n",
      "755     0\n",
      "976     0\n",
      "115     0\n",
      "777     1\n",
      "72      1\n",
      "845     1\n",
      "537     0\n",
      "849     0\n",
      "174     0\n",
      "87      1\n",
      "551     1\n",
      "705     0\n",
      "314     1\n",
      "600     0\n",
      "1094    1\n",
      "599     0\n",
      "277     1\n",
      "1033    1\n",
      "763     1\n",
      "835     0\n",
      "1216    1\n",
      "559     1\n",
      "684     0\n",
      "Name: survived, Length: 916, dtype: int64\n",
      "Alvo Teste\n",
      "1139    0\n",
      "533     1\n",
      "459     0\n",
      "1150    0\n",
      "393     0\n",
      "1189    1\n",
      "5       1\n",
      "231     1\n",
      "330     0\n",
      "887     1\n",
      "531     0\n",
      "790     0\n",
      "427     1\n",
      "1260    1\n",
      "251     1\n",
      "486     0\n",
      "436     1\n",
      "31      1\n",
      "186     1\n",
      "1051    0\n",
      "769     0\n",
      "642     0\n",
      "1087    0\n",
      "55      1\n",
      "678     0\n",
      "358     1\n",
      "503     1\n",
      "995     0\n",
      "1005    0\n",
      "1279    0\n",
      "       ..\n",
      "1157    0\n",
      "936     1\n",
      "467     1\n",
      "97      1\n",
      "1003    1\n",
      "1253    0\n",
      "1140    0\n",
      "196     1\n",
      "883     0\n",
      "183     1\n",
      "1270    0\n",
      "431     0\n",
      "526     1\n",
      "815     0\n",
      "933     0\n",
      "1206    0\n",
      "175     0\n",
      "1292    0\n",
      "81      0\n",
      "267     0\n",
      "77      0\n",
      "1225    0\n",
      "452     1\n",
      "895     1\n",
      "900     0\n",
      "914     0\n",
      "580     1\n",
      "1080    1\n",
      "1249    0\n",
      "88      1\n",
      "Name: survived, Length: 393, dtype: int64\n"
     ]
    }
   ],
   "source": [
    "print(\"Preditores Treino\")\n",
    "print(preditores_treino)\n",
    "\n",
    "print(\"Preditores Teste\")\n",
    "print(preditores_teste)\n",
    "\n",
    "print(\"Alvo Treino\")\n",
    "print(alvo_treino)\n",
    "\n",
    "print(\"Alvo Teste\")\n",
    "print(alvo_teste)"
   ]
  },
  {
   "cell_type": "code",
   "execution_count": 38,
   "metadata": {},
   "outputs": [],
   "source": [
    "from sklearn.tree import DecisionTreeClassifier\n",
    "\n",
    "# Cria uma instância default\n",
    "dt = DecisionTreeClassifier()\n",
    "\n",
    "# Treina o modelo com os dados dos alunos\n",
    "arvore_decisao = dt.fit(preditores_treino, alvo_treino)"
   ]
  },
  {
   "cell_type": "code",
   "execution_count": 39,
   "metadata": {},
   "outputs": [],
   "source": [
    "# Realiza a previsão nos dados de teste\n",
    "arvore_previsao = arvore_decisao.predict(preditores_teste)"
   ]
  },
  {
   "cell_type": "code",
   "execution_count": 40,
   "metadata": {},
   "outputs": [
    {
     "name": "stdout",
     "output_type": "stream",
     "text": [
      "Acurácia:  0.7684478371501272\n",
      "Precisão:  0.7121212121212122\n",
      "Revocação:  0.6394557823129252\n",
      "F1-Measure:  0.6738351254480287\n",
      "ROC AUC:  0.742492118798739\n"
     ]
    }
   ],
   "source": [
    "print(\"Acurácia: \", metrics.accuracy_score(alvo_teste, arvore_previsao))\n",
    "\n",
    "print('Precisão: ', metrics.precision_score(alvo_teste, arvore_previsao))\n",
    "\n",
    "print('Revocação: ', metrics.recall_score(alvo_teste, arvore_previsao))\n",
    "\n",
    "print('F1-Measure: ', metrics.f1_score(alvo_teste, arvore_previsao))\n",
    "\n",
    "print('ROC AUC: ', metrics.roc_auc_score(alvo_teste, arvore_previsao))"
   ]
  },
  {
   "cell_type": "code",
   "execution_count": 42,
   "metadata": {},
   "outputs": [
    {
     "name": "stdout",
     "output_type": "stream",
     "text": [
      "[[208  38]\n",
      " [ 53  94]]\n"
     ]
    },
    {
     "data": {
      "text/plain": [
       "<matplotlib.axes._subplots.AxesSubplot at 0x195b6221dd8>"
      ]
     },
     "execution_count": 42,
     "metadata": {},
     "output_type": "execute_result"
    },
    {
     "data": {
      "image/png": "[encoded data removed]",
      "text/plain": [
       "<Figure size 432x288 with 2 Axes>"
      ]
     },
     "metadata": {
      "needs_background": "light"
     },
     "output_type": "display_data"
    }
   ],
   "source": [
    "# Matriz de Confusão\n",
    "print(confusion_matrix(alvo_teste, arvore_previsao))\n",
    "\n",
    "\n",
    "matriz_confusao_arvore = pd.crosstab(alvo_teste, arvore_previsao, rownames=['Atual'], colnames=['Previsto'])\n",
    "\n",
    "# Gera o gráfico da matriz de confusão\n",
    "sn.heatmap(matriz_confusao_arvore, annot=True)"
   ]
  },
  {
   "cell_type": "markdown",
   "metadata": {},
   "source": [
    "# Floresta Aleatória"
   ]
  },
  {
   "cell_type": "code",
   "execution_count": 43,
   "metadata": {},
   "outputs": [],
   "source": [
    "from sklearn.ensemble import RandomForestClassifier"
   ]
  },
  {
   "cell_type": "code",
   "execution_count": 44,
   "metadata": {},
   "outputs": [],
   "source": [
    "# Instanciao objeto da Floresta Aleatória e define o número de árvores a serem utilizadas\n",
    "floresta = RandomForestClassifier(n_estimators=1000)"
   ]
  },
  {
   "cell_type": "code",
   "execution_count": 45,
   "metadata": {},
   "outputs": [],
   "source": [
    "# Separando a variável alvo das variáveis independentes\n",
    "x = titanic_mediana.drop([\"survived\"],axis=1)\n",
    "y = titanic_mediana[\"survived\"]"
   ]
  },
  {
   "cell_type": "code",
   "execution_count": 46,
   "metadata": {},
   "outputs": [],
   "source": [
    "# Dividindo o conjunto entre treino e teste\n",
    "x_train, x_test, y_train, y_test = train_test_split(x, y, test_size = 0.25, random_state=0)"
   ]
  },
  {
   "cell_type": "code",
   "execution_count": 47,
   "metadata": {},
   "outputs": [],
   "source": [
    "# algumas funções para auxiliar na visulização:\n",
    "\n",
    "def confusion_matrix_model(model_used):\n",
    "    cm = confusion_matrix(y_test, model_used.predict(x_test))\n",
    "    col = [\"Previsto Morto\",\"Previsto Sobrevivente\"]\n",
    "    cm = pd.DataFrame(cm)\n",
    "    cm.columns = [\"Previsto Morto\",\"Previsto Sobrevivente\"]\n",
    "    cm.index=[\"Realmente Morto\",\"Realmente Sobrevivente\"]\n",
    "    cm[col]=np.around(cm[col].div(cm[col].sum(axis=1),axis=0),decimals=2)\n",
    "    return cm"
   ]
  },
  {
   "cell_type": "code",
   "execution_count": 49,
   "metadata": {},
   "outputs": [],
   "source": [
    "# Treinamento do modelo\n",
    "floresta.fit(x_train, y_train)\n",
    "\n",
    "# Prevê a partir dos preditores de testes\n",
    "predicted = floresta.predict(x_test)"
   ]
  },
  {
   "cell_type": "code",
   "execution_count": 50,
   "metadata": {},
   "outputs": [
    {
     "data": {
      "text/plain": [
       "array([0, 0, 0, 0, 0, 1, 1, 0, 0, 0, 1, 0, 0, 1, 1, 1, 0, 0, 1, 0, 0, 0,\n",
       "       0, 1, 1, 1, 0, 0, 0, 1, 0, 1, 0, 1, 1, 0, 0, 0, 0, 0, 0, 0, 0, 1,\n",
       "       0, 0, 0, 1, 0, 0, 1, 0, 0, 1, 0, 0, 1, 0, 1, 1, 0, 1, 0, 1, 1, 1,\n",
       "       0, 0, 0, 1, 1, 0, 1, 0, 1, 1, 0, 1, 1, 0, 0, 1, 0, 0, 1, 1, 0, 0,\n",
       "       0, 0, 0, 0, 0, 0, 0, 0, 0, 1, 0, 1, 0, 0, 1, 1, 0, 0, 1, 0, 0, 0,\n",
       "       0, 0, 0, 0, 1, 0, 0, 0, 0, 1, 0, 0, 0, 0, 0, 0, 0, 0, 1, 0, 0, 0,\n",
       "       0, 0, 0, 0, 0, 0, 0, 0, 0, 1, 0, 1, 0, 0, 1, 0, 1, 1, 0, 0, 0, 1,\n",
       "       0, 0, 1, 1, 0, 0, 0, 0, 1, 0, 0, 1, 0, 0, 1, 0, 0, 0, 0, 0, 1, 0,\n",
       "       1, 1, 1, 1, 1, 0, 1, 0, 1, 0, 1, 0, 0, 0, 0, 0, 1, 0, 1, 1, 0, 1,\n",
       "       0, 1, 0, 0, 0, 1, 0, 0, 0, 0, 0, 0, 1, 1, 0, 0, 1, 0, 1, 0, 1, 0,\n",
       "       1, 1, 1, 1, 1, 0, 1, 1, 1, 1, 1, 0, 0, 0, 0, 0, 1, 0, 0, 1, 0, 1,\n",
       "       1, 0, 0, 1, 0, 1, 0, 0, 0, 0, 1, 0, 1, 0, 1, 0, 0, 0, 0, 0, 0, 1,\n",
       "       0, 1, 0, 0, 0, 0, 0, 1, 0, 0, 0, 1, 1, 1, 0, 0, 0, 1, 0, 0, 0, 0,\n",
       "       0, 0, 1, 1, 0, 0, 1, 1, 1, 0, 1, 0, 0, 0, 0, 0, 0, 0, 0, 0, 1, 0,\n",
       "       1, 0, 1, 0, 0, 0, 0, 1, 0, 1, 0, 1, 0, 0, 1, 0, 1, 0, 0, 0],\n",
       "      dtype=int64)"
      ]
     },
     "execution_count": 50,
     "metadata": {},
     "output_type": "execute_result"
    }
   ],
   "source": [
    "predicted"
   ]
  },
  {
   "cell_type": "code",
   "execution_count": 51,
   "metadata": {},
   "outputs": [
    {
     "name": "stdout",
     "output_type": "stream",
     "text": [
      "[[177  31]\n",
      " [ 37  83]]\n"
     ]
    }
   ],
   "source": [
    "# Matriz de Confusão\n",
    "print(confusion_matrix(y_test, predicted))"
   ]
  },
  {
   "cell_type": "code",
   "execution_count": 52,
   "metadata": {},
   "outputs": [
    {
     "data": {
      "text/plain": [
       "<matplotlib.axes._subplots.AxesSubplot at 0x195b74a07f0>"
      ]
     },
     "execution_count": 52,
     "metadata": {},
     "output_type": "execute_result"
    },
    {
     "data": {
      "image/png": "[encoded data removed]",
      "text/plain": [
       "<Figure size 432x288 with 2 Axes>"
      ]
     },
     "metadata": {
      "needs_background": "light"
     },
     "output_type": "display_data"
    }
   ],
   "source": [
    "matriz_confusao_arvore = pd.crosstab(y_test, predicted, rownames=['Atual'], colnames=['Previsto'])\n",
    "\n",
    "# Gera o gráfico da matriz de confusão\n",
    "sn.heatmap(matriz_confusao_arvore, annot=True)"
   ]
  },
  {
   "cell_type": "code",
   "execution_count": 53,
   "metadata": {},
   "outputs": [
    {
     "name": "stdout",
     "output_type": "stream",
     "text": [
      "Acurácia:  0.7926829268292683\n",
      "Precisão:  0.7280701754385965\n",
      "Revocação:  0.6916666666666667\n",
      "F1-Measure:  0.7094017094017094\n",
      "ROC AUC:  0.7713141025641026\n"
     ]
    }
   ],
   "source": [
    "print(\"Acurácia: \", metrics.accuracy_score(y_test, predicted))\n",
    "\n",
    "print('Precisão: ', metrics.precision_score(y_test, predicted))\n",
    "\n",
    "print('Revocação: ', metrics.recall_score(y_test, predicted))\n",
    "\n",
    "print('F1-Measure: ', metrics.f1_score(y_test, predicted))\n",
    "\n",
    "print('ROC AUC: ', metrics.roc_auc_score(y_test, predicted))"
   ]
  },
  {
   "cell_type": "code",
   "execution_count": null,
   "metadata": {},
   "outputs": [],
   "source": []
  }
 ],
 "metadata": {
  "kernelspec": {
   "display_name": "Python 3",
   "language": "python",
   "name": "python3"
  },
  "language_info": {
   "codemirror_mode": {
    "name": "ipython",
    "version": 3
   },
   "file_extension": ".py",
   "mimetype": "text/x-python",
   "name": "python",
   "nbconvert_exporter": "python",
   "pygments_lexer": "ipython3",
   "version": "3.6.4"
  }
 },
 "nbformat": 4,
 "nbformat_minor": 2
}
