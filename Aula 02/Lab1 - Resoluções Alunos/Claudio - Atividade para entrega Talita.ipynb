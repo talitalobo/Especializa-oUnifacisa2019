{
 "cells": [
  {
   "cell_type": "code",
   "execution_count": 306,
   "metadata": {},
   "outputs": [],
   "source": [
    "import matplotlib.pyplot as plt\n",
    "import seaborn as sns\n",
    "import pandas as pd\n",
    "import numpy as np\n",
    "%matplotlib inline\n",
    "import matplotlib.pyplot as plt\n",
    "import seaborn as sb"
   ]
  },
  {
   "cell_type": "code",
   "execution_count": 307,
   "metadata": {},
   "outputs": [],
   "source": [
    "dataset_tit = pd.read_csv('titanic3.csv')\n",
    "dataset_tit.rename(columns={'pclass': 'classe', 'survived': 'sobreviveu', 'name': 'nome', 'sex': 'sexo', 'age': 'idade', \n",
    "                            'sibsp': 'crianças a bordo','parch': ' idoso+pais ','ticket': 'N°. bilhete','fare': 'tarifa','cabin': 'cabine',\n",
    "                            'embarked': 'Porto de Embarque', 'boat': 'barco','body': 'peso do corpo'}, inplace=True)"
   ]
  },
  {
   "cell_type": "code",
   "execution_count": 308,
   "metadata": {},
   "outputs": [
    {
     "data": {
      "text/html": [
       "<div>\n",
       "<style scoped>\n",
       "    .dataframe tbody tr th:only-of-type {\n",
       "        vertical-align: middle;\n",
       "    }\n",
       "\n",
       "    .dataframe tbody tr th {\n",
       "        vertical-align: top;\n",
       "    }\n",
       "\n",
       "    .dataframe thead th {\n",
       "        text-align: right;\n",
       "    }\n",
       "</style>\n",
       "<table border=\"1\" class=\"dataframe\">\n",
       "  <thead>\n",
       "    <tr style=\"text-align: right;\">\n",
       "      <th></th>\n",
       "      <th>classe</th>\n",
       "      <th>sobreviveu</th>\n",
       "      <th>nome</th>\n",
       "      <th>idade</th>\n",
       "      <th>crianças a bordo</th>\n",
       "      <th>idoso+pais</th>\n",
       "      <th>N°. bilhete</th>\n",
       "      <th>tarifa</th>\n",
       "      <th>cabine</th>\n",
       "      <th>Porto de Embarque</th>\n",
       "      <th>barco</th>\n",
       "      <th>peso do corpo</th>\n",
       "      <th>home.dest</th>\n",
       "      <th>sexo_female</th>\n",
       "      <th>sexo_male</th>\n",
       "    </tr>\n",
       "  </thead>\n",
       "  <tbody>\n",
       "    <tr>\n",
       "      <th>0</th>\n",
       "      <td>1</td>\n",
       "      <td>1</td>\n",
       "      <td>Allen, Miss. Elisabeth Walton</td>\n",
       "      <td>29.00</td>\n",
       "      <td>0</td>\n",
       "      <td>0</td>\n",
       "      <td>24160</td>\n",
       "      <td>211.3375</td>\n",
       "      <td>B5</td>\n",
       "      <td>S</td>\n",
       "      <td>2</td>\n",
       "      <td>NaN</td>\n",
       "      <td>St Louis, MO</td>\n",
       "      <td>1</td>\n",
       "      <td>0</td>\n",
       "    </tr>\n",
       "    <tr>\n",
       "      <th>1</th>\n",
       "      <td>1</td>\n",
       "      <td>1</td>\n",
       "      <td>Allison, Master. Hudson Trevor</td>\n",
       "      <td>0.92</td>\n",
       "      <td>1</td>\n",
       "      <td>2</td>\n",
       "      <td>113781</td>\n",
       "      <td>151.5500</td>\n",
       "      <td>C22 C26</td>\n",
       "      <td>S</td>\n",
       "      <td>11</td>\n",
       "      <td>NaN</td>\n",
       "      <td>Montreal, PQ / Chesterville, ON</td>\n",
       "      <td>0</td>\n",
       "      <td>1</td>\n",
       "    </tr>\n",
       "    <tr>\n",
       "      <th>2</th>\n",
       "      <td>1</td>\n",
       "      <td>0</td>\n",
       "      <td>Allison, Miss. Helen Loraine</td>\n",
       "      <td>2.00</td>\n",
       "      <td>1</td>\n",
       "      <td>2</td>\n",
       "      <td>113781</td>\n",
       "      <td>151.5500</td>\n",
       "      <td>C22 C26</td>\n",
       "      <td>S</td>\n",
       "      <td>NaN</td>\n",
       "      <td>NaN</td>\n",
       "      <td>Montreal, PQ / Chesterville, ON</td>\n",
       "      <td>1</td>\n",
       "      <td>0</td>\n",
       "    </tr>\n",
       "    <tr>\n",
       "      <th>3</th>\n",
       "      <td>1</td>\n",
       "      <td>0</td>\n",
       "      <td>Allison, Mr. Hudson Joshua Creighton</td>\n",
       "      <td>30.00</td>\n",
       "      <td>1</td>\n",
       "      <td>2</td>\n",
       "      <td>113781</td>\n",
       "      <td>151.5500</td>\n",
       "      <td>C22 C26</td>\n",
       "      <td>S</td>\n",
       "      <td>NaN</td>\n",
       "      <td>135.0</td>\n",
       "      <td>Montreal, PQ / Chesterville, ON</td>\n",
       "      <td>0</td>\n",
       "      <td>1</td>\n",
       "    </tr>\n",
       "    <tr>\n",
       "      <th>4</th>\n",
       "      <td>1</td>\n",
       "      <td>0</td>\n",
       "      <td>Allison, Mrs. Hudson J C (Bessie Waldo Daniels)</td>\n",
       "      <td>25.00</td>\n",
       "      <td>1</td>\n",
       "      <td>2</td>\n",
       "      <td>113781</td>\n",
       "      <td>151.5500</td>\n",
       "      <td>C22 C26</td>\n",
       "      <td>S</td>\n",
       "      <td>NaN</td>\n",
       "      <td>NaN</td>\n",
       "      <td>Montreal, PQ / Chesterville, ON</td>\n",
       "      <td>1</td>\n",
       "      <td>0</td>\n",
       "    </tr>\n",
       "  </tbody>\n",
       "</table>\n",
       "</div>"
      ],
      "text/plain": [
       "   classe  sobreviveu                                             nome  idade  \\\n",
       "0       1           1                    Allen, Miss. Elisabeth Walton  29.00   \n",
       "1       1           1                   Allison, Master. Hudson Trevor   0.92   \n",
       "2       1           0                     Allison, Miss. Helen Loraine   2.00   \n",
       "3       1           0             Allison, Mr. Hudson Joshua Creighton  30.00   \n",
       "4       1           0  Allison, Mrs. Hudson J C (Bessie Waldo Daniels)  25.00   \n",
       "\n",
       "   crianças a bordo   idoso+pais  N°. bilhete    tarifa   cabine  \\\n",
       "0                 0             0       24160  211.3375       B5   \n",
       "1                 1             2      113781  151.5500  C22 C26   \n",
       "2                 1             2      113781  151.5500  C22 C26   \n",
       "3                 1             2      113781  151.5500  C22 C26   \n",
       "4                 1             2      113781  151.5500  C22 C26   \n",
       "\n",
       "  Porto de Embarque barco  peso do corpo                        home.dest  \\\n",
       "0                 S     2            NaN                     St Louis, MO   \n",
       "1                 S    11            NaN  Montreal, PQ / Chesterville, ON   \n",
       "2                 S   NaN            NaN  Montreal, PQ / Chesterville, ON   \n",
       "3                 S   NaN          135.0  Montreal, PQ / Chesterville, ON   \n",
       "4                 S   NaN            NaN  Montreal, PQ / Chesterville, ON   \n",
       "\n",
       "   sexo_female  sexo_male  \n",
       "0            1          0  \n",
       "1            0          1  \n",
       "2            1          0  \n",
       "3            0          1  \n",
       "4            1          0  "
      ]
     },
     "execution_count": 308,
     "metadata": {},
     "output_type": "execute_result"
    }
   ],
   "source": [
    "#dataset_tit = pd.get_dummies(dataset_tit)\n",
    "\n",
    "dataset_tit = pd.get_dummies(dataset_tit, columns=['sexo'])\n",
    "dataset_tit.head()"
   ]
  },
  {
   "cell_type": "code",
   "execution_count": 309,
   "metadata": {},
   "outputs": [
    {
     "name": "stdout",
     "output_type": "stream",
     "text": [
      "<class 'pandas.core.frame.DataFrame'>\n",
      "RangeIndex: 1309 entries, 0 to 1308\n",
      "Data columns (total 15 columns):\n",
      "classe               1309 non-null int64\n",
      "sobreviveu           1309 non-null int64\n",
      "nome                 1309 non-null object\n",
      "idade                1046 non-null float64\n",
      "crianças a bordo     1309 non-null int64\n",
      " idoso+pais          1309 non-null int64\n",
      "N°. bilhete          1309 non-null object\n",
      "tarifa               1308 non-null float64\n",
      "cabine               295 non-null object\n",
      "Porto de Embarque    1307 non-null object\n",
      "barco                486 non-null object\n",
      "peso do corpo        121 non-null float64\n",
      "home.dest            745 non-null object\n",
      "sexo_female          1309 non-null uint8\n",
      "sexo_male            1309 non-null uint8\n",
      "dtypes: float64(3), int64(4), object(6), uint8(2)\n",
      "memory usage: 104.9+ KB\n"
     ]
    }
   ],
   "source": [
    "# 1- Quais as minhas variáveis?\n",
    "\n",
    "dataset_tit.info()"
   ]
  },
  {
   "cell_type": "code",
   "execution_count": 310,
   "metadata": {},
   "outputs": [
    {
     "data": {
      "text/plain": [
       "classe                 int64\n",
       "sobreviveu             int64\n",
       "nome                  object\n",
       "idade                float64\n",
       "crianças a bordo       int64\n",
       " idoso+pais            int64\n",
       "N°. bilhete           object\n",
       "tarifa               float64\n",
       "cabine                object\n",
       "Porto de Embarque     object\n",
       "barco                 object\n",
       "peso do corpo        float64\n",
       "home.dest             object\n",
       "sexo_female            uint8\n",
       "sexo_male              uint8\n",
       "dtype: object"
      ]
     },
     "execution_count": 310,
     "metadata": {},
     "output_type": "execute_result"
    }
   ],
   "source": [
    "# 2- Quais os tipos das variáveis?\n",
    "\n",
    "# classe, sobreviveu, idade, sibsp, idoso+pais, N°. bilhete, barco = Quantitativas discreta \n",
    "# tarifa, peso do corpo = Quantitativas contínua\n",
    "# nome, sexo, home.dest = Qualitativas nominal\n",
    "# cabine, Porto de Embarque = Qualitativas ordinal\n",
    "\n",
    "dataset_tit.dtypes"
   ]
  },
  {
   "cell_type": "code",
   "execution_count": 311,
   "metadata": {},
   "outputs": [
    {
     "data": {
      "text/plain": [
       "Index(['idade', 'tarifa', 'cabine', 'Porto de Embarque', 'barco',\n",
       "       'peso do corpo', 'home.dest'],\n",
       "      dtype='object')"
      ]
     },
     "execution_count": 311,
     "metadata": {},
     "output_type": "execute_result"
    }
   ],
   "source": [
    "# 3- Tenho valores faltantes ou nulos?\n",
    "\n",
    "dataset_tit.columns[dataset_tit.isnull().any().values] \n",
    "\n",
    "## não existe valores nulos"
   ]
  },
  {
   "cell_type": "code",
   "execution_count": 312,
   "metadata": {},
   "outputs": [
    {
     "data": {
      "text/plain": [
       "classe                  0\n",
       "sobreviveu              0\n",
       "nome                    0\n",
       "idade                 263\n",
       "crianças a bordo        0\n",
       " idoso+pais             0\n",
       "N°. bilhete             0\n",
       "tarifa                  1\n",
       "cabine               1014\n",
       "Porto de Embarque       2\n",
       "barco                 823\n",
       "peso do corpo        1188\n",
       "home.dest             564\n",
       "sexo_female             0\n",
       "sexo_male               0\n",
       "dtype: int64"
      ]
     },
     "execution_count": 312,
     "metadata": {},
     "output_type": "execute_result"
    }
   ],
   "source": [
    "dataset_tit.isnull().sum() \n",
    "\n",
    "## Nas colunas idade, cabine, porto de embarque, barco, peso do corpo e home.dest \n",
    "## apresentaram faltantes"
   ]
  },
  {
   "cell_type": "code",
   "execution_count": 313,
   "metadata": {},
   "outputs": [
    {
     "data": {
      "text/plain": [
       "0"
      ]
     },
     "execution_count": 313,
     "metadata": {},
     "output_type": "execute_result"
    }
   ],
   "source": [
    "# 4- Interpreação dos sumário\n",
    "\n",
    "sum(dataset_tit.duplicated()) \n",
    "\n",
    "## Não tem valor duplicado nos dados "
   ]
  },
  {
   "cell_type": "code",
   "execution_count": 314,
   "metadata": {},
   "outputs": [
    {
     "data": {
      "text/html": [
       "<div>\n",
       "<style scoped>\n",
       "    .dataframe tbody tr th:only-of-type {\n",
       "        vertical-align: middle;\n",
       "    }\n",
       "\n",
       "    .dataframe tbody tr th {\n",
       "        vertical-align: top;\n",
       "    }\n",
       "\n",
       "    .dataframe thead th {\n",
       "        text-align: right;\n",
       "    }\n",
       "</style>\n",
       "<table border=\"1\" class=\"dataframe\">\n",
       "  <thead>\n",
       "    <tr style=\"text-align: right;\">\n",
       "      <th></th>\n",
       "      <th>classe</th>\n",
       "      <th>sobreviveu</th>\n",
       "      <th>idade</th>\n",
       "      <th>crianças a bordo</th>\n",
       "      <th>idoso+pais</th>\n",
       "      <th>tarifa</th>\n",
       "      <th>peso do corpo</th>\n",
       "      <th>sexo_female</th>\n",
       "      <th>sexo_male</th>\n",
       "    </tr>\n",
       "  </thead>\n",
       "  <tbody>\n",
       "    <tr>\n",
       "      <th>count</th>\n",
       "      <td>1309.000000</td>\n",
       "      <td>1309.000000</td>\n",
       "      <td>1046.000000</td>\n",
       "      <td>1309.000000</td>\n",
       "      <td>1309.000000</td>\n",
       "      <td>1308.000000</td>\n",
       "      <td>121.000000</td>\n",
       "      <td>1309.000000</td>\n",
       "      <td>1309.000000</td>\n",
       "    </tr>\n",
       "    <tr>\n",
       "      <th>mean</th>\n",
       "      <td>2.294882</td>\n",
       "      <td>0.381971</td>\n",
       "      <td>29.881138</td>\n",
       "      <td>0.498854</td>\n",
       "      <td>0.385027</td>\n",
       "      <td>33.295479</td>\n",
       "      <td>160.809917</td>\n",
       "      <td>0.355997</td>\n",
       "      <td>0.644003</td>\n",
       "    </tr>\n",
       "    <tr>\n",
       "      <th>std</th>\n",
       "      <td>0.837836</td>\n",
       "      <td>0.486055</td>\n",
       "      <td>14.413493</td>\n",
       "      <td>1.041658</td>\n",
       "      <td>0.865560</td>\n",
       "      <td>51.758668</td>\n",
       "      <td>97.696922</td>\n",
       "      <td>0.478997</td>\n",
       "      <td>0.478997</td>\n",
       "    </tr>\n",
       "    <tr>\n",
       "      <th>min</th>\n",
       "      <td>1.000000</td>\n",
       "      <td>0.000000</td>\n",
       "      <td>0.170000</td>\n",
       "      <td>0.000000</td>\n",
       "      <td>0.000000</td>\n",
       "      <td>0.000000</td>\n",
       "      <td>1.000000</td>\n",
       "      <td>0.000000</td>\n",
       "      <td>0.000000</td>\n",
       "    </tr>\n",
       "    <tr>\n",
       "      <th>25%</th>\n",
       "      <td>2.000000</td>\n",
       "      <td>0.000000</td>\n",
       "      <td>21.000000</td>\n",
       "      <td>0.000000</td>\n",
       "      <td>0.000000</td>\n",
       "      <td>7.895800</td>\n",
       "      <td>72.000000</td>\n",
       "      <td>0.000000</td>\n",
       "      <td>0.000000</td>\n",
       "    </tr>\n",
       "    <tr>\n",
       "      <th>50%</th>\n",
       "      <td>3.000000</td>\n",
       "      <td>0.000000</td>\n",
       "      <td>28.000000</td>\n",
       "      <td>0.000000</td>\n",
       "      <td>0.000000</td>\n",
       "      <td>14.454200</td>\n",
       "      <td>155.000000</td>\n",
       "      <td>0.000000</td>\n",
       "      <td>1.000000</td>\n",
       "    </tr>\n",
       "    <tr>\n",
       "      <th>75%</th>\n",
       "      <td>3.000000</td>\n",
       "      <td>1.000000</td>\n",
       "      <td>39.000000</td>\n",
       "      <td>1.000000</td>\n",
       "      <td>0.000000</td>\n",
       "      <td>31.275000</td>\n",
       "      <td>256.000000</td>\n",
       "      <td>1.000000</td>\n",
       "      <td>1.000000</td>\n",
       "    </tr>\n",
       "    <tr>\n",
       "      <th>max</th>\n",
       "      <td>3.000000</td>\n",
       "      <td>1.000000</td>\n",
       "      <td>80.000000</td>\n",
       "      <td>8.000000</td>\n",
       "      <td>9.000000</td>\n",
       "      <td>512.329200</td>\n",
       "      <td>328.000000</td>\n",
       "      <td>1.000000</td>\n",
       "      <td>1.000000</td>\n",
       "    </tr>\n",
       "  </tbody>\n",
       "</table>\n",
       "</div>"
      ],
      "text/plain": [
       "            classe   sobreviveu        idade  crianças a bordo   idoso+pais   \\\n",
       "count  1309.000000  1309.000000  1046.000000       1309.000000   1309.000000   \n",
       "mean      2.294882     0.381971    29.881138          0.498854      0.385027   \n",
       "std       0.837836     0.486055    14.413493          1.041658      0.865560   \n",
       "min       1.000000     0.000000     0.170000          0.000000      0.000000   \n",
       "25%       2.000000     0.000000    21.000000          0.000000      0.000000   \n",
       "50%       3.000000     0.000000    28.000000          0.000000      0.000000   \n",
       "75%       3.000000     1.000000    39.000000          1.000000      0.000000   \n",
       "max       3.000000     1.000000    80.000000          8.000000      9.000000   \n",
       "\n",
       "            tarifa  peso do corpo  sexo_female    sexo_male  \n",
       "count  1308.000000     121.000000  1309.000000  1309.000000  \n",
       "mean     33.295479     160.809917     0.355997     0.644003  \n",
       "std      51.758668      97.696922     0.478997     0.478997  \n",
       "min       0.000000       1.000000     0.000000     0.000000  \n",
       "25%       7.895800      72.000000     0.000000     0.000000  \n",
       "50%      14.454200     155.000000     0.000000     1.000000  \n",
       "75%      31.275000     256.000000     1.000000     1.000000  \n",
       "max     512.329200     328.000000     1.000000     1.000000  "
      ]
     },
     "execution_count": 314,
     "metadata": {},
     "output_type": "execute_result"
    }
   ],
   "source": [
    "dataset_tit.describe()\n",
    "\n",
    "## Na tabela abaixo foi observado uma diferença grande entre o valor mínimo e máximo da variável tarifa."
   ]
  },
  {
   "cell_type": "code",
   "execution_count": 315,
   "metadata": {},
   "outputs": [
    {
     "data": {
      "text/plain": [
       "<matplotlib.axes._subplots.AxesSubplot at 0xf2ed690>"
      ]
     },
     "execution_count": 315,
     "metadata": {},
     "output_type": "execute_result"
    },
    {
     "data": {
      "image/png": "[encoded data removed]",
      "text/plain": [
       "<Figure size 432x288 with 1 Axes>"
      ]
     },
     "metadata": {
      "needs_background": "light"
     },
     "output_type": "display_data"
    }
   ],
   "source": [
    "ax = sb.boxplot(data = dataset_tit, width=0.5)\n",
    "ax.set_title('Boxplot dos dados Titanic', fontsize = 10,)\n",
    "ax\n",
    "\n",
    "## No boxplot da variável tarifa foi verificamos valor outlier, ou seja, \n",
    "## uma observação que apresenta um grande afastamento das demais.  "
   ]
  },
  {
   "cell_type": "code",
   "execution_count": 316,
   "metadata": {},
   "outputs": [
    {
     "data": {
      "text/html": [
       "<div>\n",
       "<style scoped>\n",
       "    .dataframe tbody tr th:only-of-type {\n",
       "        vertical-align: middle;\n",
       "    }\n",
       "\n",
       "    .dataframe tbody tr th {\n",
       "        vertical-align: top;\n",
       "    }\n",
       "\n",
       "    .dataframe thead th {\n",
       "        text-align: right;\n",
       "    }\n",
       "</style>\n",
       "<table border=\"1\" class=\"dataframe\">\n",
       "  <thead>\n",
       "    <tr style=\"text-align: right;\">\n",
       "      <th></th>\n",
       "      <th>classe</th>\n",
       "      <th>sobreviveu</th>\n",
       "      <th>idade</th>\n",
       "      <th>crianças a bordo</th>\n",
       "      <th>idoso+pais</th>\n",
       "      <th>tarifa</th>\n",
       "      <th>peso do corpo</th>\n",
       "      <th>sexo_female</th>\n",
       "      <th>sexo_male</th>\n",
       "    </tr>\n",
       "  </thead>\n",
       "  <tbody>\n",
       "    <tr>\n",
       "      <th>classe</th>\n",
       "      <td>1.000000</td>\n",
       "      <td>-0.312469</td>\n",
       "      <td>-0.408106</td>\n",
       "      <td>0.060832</td>\n",
       "      <td>0.018322</td>\n",
       "      <td>-0.558629</td>\n",
       "      <td>-0.034642</td>\n",
       "      <td>-0.124617</td>\n",
       "      <td>0.124617</td>\n",
       "    </tr>\n",
       "    <tr>\n",
       "      <th>sobreviveu</th>\n",
       "      <td>-0.312469</td>\n",
       "      <td>1.000000</td>\n",
       "      <td>-0.055512</td>\n",
       "      <td>-0.027825</td>\n",
       "      <td>0.082660</td>\n",
       "      <td>0.244265</td>\n",
       "      <td>NaN</td>\n",
       "      <td>0.528693</td>\n",
       "      <td>-0.528693</td>\n",
       "    </tr>\n",
       "    <tr>\n",
       "      <th>idade</th>\n",
       "      <td>-0.408106</td>\n",
       "      <td>-0.055512</td>\n",
       "      <td>1.000000</td>\n",
       "      <td>-0.243699</td>\n",
       "      <td>-0.150917</td>\n",
       "      <td>0.178740</td>\n",
       "      <td>0.058809</td>\n",
       "      <td>-0.063645</td>\n",
       "      <td>0.063645</td>\n",
       "    </tr>\n",
       "    <tr>\n",
       "      <th>crianças a bordo</th>\n",
       "      <td>0.060832</td>\n",
       "      <td>-0.027825</td>\n",
       "      <td>-0.243699</td>\n",
       "      <td>1.000000</td>\n",
       "      <td>0.373587</td>\n",
       "      <td>0.160238</td>\n",
       "      <td>-0.099961</td>\n",
       "      <td>0.109609</td>\n",
       "      <td>-0.109609</td>\n",
       "    </tr>\n",
       "    <tr>\n",
       "      <th>idoso+pais</th>\n",
       "      <td>0.018322</td>\n",
       "      <td>0.082660</td>\n",
       "      <td>-0.150917</td>\n",
       "      <td>0.373587</td>\n",
       "      <td>1.000000</td>\n",
       "      <td>0.221539</td>\n",
       "      <td>0.051099</td>\n",
       "      <td>0.213125</td>\n",
       "      <td>-0.213125</td>\n",
       "    </tr>\n",
       "    <tr>\n",
       "      <th>tarifa</th>\n",
       "      <td>-0.558629</td>\n",
       "      <td>0.244265</td>\n",
       "      <td>0.178740</td>\n",
       "      <td>0.160238</td>\n",
       "      <td>0.221539</td>\n",
       "      <td>1.000000</td>\n",
       "      <td>-0.043110</td>\n",
       "      <td>0.185523</td>\n",
       "      <td>-0.185523</td>\n",
       "    </tr>\n",
       "    <tr>\n",
       "      <th>peso do corpo</th>\n",
       "      <td>-0.034642</td>\n",
       "      <td>NaN</td>\n",
       "      <td>0.058809</td>\n",
       "      <td>-0.099961</td>\n",
       "      <td>0.051099</td>\n",
       "      <td>-0.043110</td>\n",
       "      <td>1.000000</td>\n",
       "      <td>0.015903</td>\n",
       "      <td>-0.015903</td>\n",
       "    </tr>\n",
       "    <tr>\n",
       "      <th>sexo_female</th>\n",
       "      <td>-0.124617</td>\n",
       "      <td>0.528693</td>\n",
       "      <td>-0.063645</td>\n",
       "      <td>0.109609</td>\n",
       "      <td>0.213125</td>\n",
       "      <td>0.185523</td>\n",
       "      <td>0.015903</td>\n",
       "      <td>1.000000</td>\n",
       "      <td>-1.000000</td>\n",
       "    </tr>\n",
       "    <tr>\n",
       "      <th>sexo_male</th>\n",
       "      <td>0.124617</td>\n",
       "      <td>-0.528693</td>\n",
       "      <td>0.063645</td>\n",
       "      <td>-0.109609</td>\n",
       "      <td>-0.213125</td>\n",
       "      <td>-0.185523</td>\n",
       "      <td>-0.015903</td>\n",
       "      <td>-1.000000</td>\n",
       "      <td>1.000000</td>\n",
       "    </tr>\n",
       "  </tbody>\n",
       "</table>\n",
       "</div>"
      ],
      "text/plain": [
       "                    classe  sobreviveu     idade  crianças a bordo  \\\n",
       "classe            1.000000   -0.312469 -0.408106          0.060832   \n",
       "sobreviveu       -0.312469    1.000000 -0.055512         -0.027825   \n",
       "idade            -0.408106   -0.055512  1.000000         -0.243699   \n",
       "crianças a bordo  0.060832   -0.027825 -0.243699          1.000000   \n",
       " idoso+pais       0.018322    0.082660 -0.150917          0.373587   \n",
       "tarifa           -0.558629    0.244265  0.178740          0.160238   \n",
       "peso do corpo    -0.034642         NaN  0.058809         -0.099961   \n",
       "sexo_female      -0.124617    0.528693 -0.063645          0.109609   \n",
       "sexo_male         0.124617   -0.528693  0.063645         -0.109609   \n",
       "\n",
       "                   idoso+pais     tarifa  peso do corpo  sexo_female  \\\n",
       "classe                0.018322 -0.558629      -0.034642    -0.124617   \n",
       "sobreviveu            0.082660  0.244265            NaN     0.528693   \n",
       "idade                -0.150917  0.178740       0.058809    -0.063645   \n",
       "crianças a bordo      0.373587  0.160238      -0.099961     0.109609   \n",
       " idoso+pais           1.000000  0.221539       0.051099     0.213125   \n",
       "tarifa                0.221539  1.000000      -0.043110     0.185523   \n",
       "peso do corpo         0.051099 -0.043110       1.000000     0.015903   \n",
       "sexo_female           0.213125  0.185523       0.015903     1.000000   \n",
       "sexo_male            -0.213125 -0.185523      -0.015903    -1.000000   \n",
       "\n",
       "                  sexo_male  \n",
       "classe             0.124617  \n",
       "sobreviveu        -0.528693  \n",
       "idade              0.063645  \n",
       "crianças a bordo  -0.109609  \n",
       " idoso+pais       -0.213125  \n",
       "tarifa            -0.185523  \n",
       "peso do corpo     -0.015903  \n",
       "sexo_female       -1.000000  \n",
       "sexo_male          1.000000  "
      ]
     },
     "execution_count": 316,
     "metadata": {},
     "output_type": "execute_result"
    }
   ],
   "source": [
    "# 5- Tenho relação/correlação forte entre variáveis do meu dataset?\n",
    "\n",
    "dados_corr = dataset_tit.corr()\n",
    "dados_corr"
   ]
  },
  {
   "cell_type": "code",
   "execution_count": 317,
   "metadata": {},
   "outputs": [
    {
     "data": {
      "text/plain": [
       "<matplotlib.axes._subplots.AxesSubplot at 0xee9f450>"
      ]
     },
     "execution_count": 317,
     "metadata": {},
     "output_type": "execute_result"
    },
    {
     "data": {
      "image/png": "[encoded data removed]",
      "text/plain": [
       "<Figure size 432x288 with 2 Axes>"
      ]
     },
     "metadata": {
      "needs_background": "light"
     },
     "output_type": "display_data"
    }
   ],
   "source": [
    "matriz_correlacao = dados_corr.corr().round(2)\n",
    "sb.heatmap(data = matriz_correlacao)\n",
    "\n",
    "## As variáveis tarifa e classe, sobreviveu e sexo, apresentam correlação forte."
   ]
  },
  {
   "cell_type": "code",
   "execution_count": 318,
   "metadata": {},
   "outputs": [
    {
     "data": {
      "text/html": [
       "<div>\n",
       "<style scoped>\n",
       "    .dataframe tbody tr th:only-of-type {\n",
       "        vertical-align: middle;\n",
       "    }\n",
       "\n",
       "    .dataframe tbody tr th {\n",
       "        vertical-align: top;\n",
       "    }\n",
       "\n",
       "    .dataframe thead th {\n",
       "        text-align: right;\n",
       "    }\n",
       "</style>\n",
       "<table border=\"1\" class=\"dataframe\">\n",
       "  <thead>\n",
       "    <tr style=\"text-align: right;\">\n",
       "      <th></th>\n",
       "      <th>classe</th>\n",
       "      <th>crianças a bordo</th>\n",
       "      <th>sexo_female</th>\n",
       "      <th>sexo_male</th>\n",
       "    </tr>\n",
       "  </thead>\n",
       "  <tbody>\n",
       "    <tr>\n",
       "      <th>0</th>\n",
       "      <td>1</td>\n",
       "      <td>0</td>\n",
       "      <td>1</td>\n",
       "      <td>0</td>\n",
       "    </tr>\n",
       "    <tr>\n",
       "      <th>1</th>\n",
       "      <td>1</td>\n",
       "      <td>1</td>\n",
       "      <td>0</td>\n",
       "      <td>1</td>\n",
       "    </tr>\n",
       "    <tr>\n",
       "      <th>2</th>\n",
       "      <td>1</td>\n",
       "      <td>1</td>\n",
       "      <td>1</td>\n",
       "      <td>0</td>\n",
       "    </tr>\n",
       "    <tr>\n",
       "      <th>3</th>\n",
       "      <td>1</td>\n",
       "      <td>1</td>\n",
       "      <td>0</td>\n",
       "      <td>1</td>\n",
       "    </tr>\n",
       "    <tr>\n",
       "      <th>4</th>\n",
       "      <td>1</td>\n",
       "      <td>1</td>\n",
       "      <td>1</td>\n",
       "      <td>0</td>\n",
       "    </tr>\n",
       "  </tbody>\n",
       "</table>\n",
       "</div>"
      ],
      "text/plain": [
       "   classe  crianças a bordo  sexo_female  sexo_male\n",
       "0       1                 0            1          0\n",
       "1       1                 1            0          1\n",
       "2       1                 1            1          0\n",
       "3       1                 1            0          1\n",
       "4       1                 1            1          0"
      ]
     },
     "execution_count": 318,
     "metadata": {},
     "output_type": "execute_result"
    }
   ],
   "source": [
    "# 6- Quais variáveis imagino que terão influencia na pergunta que desejo responder?\n",
    "\n",
    "## classe, sobreviveu, idade, crianças a bordo,idoso+pais,sexo_female,sexo_male\n",
    "\n",
    "dados = dataset_tit[['classe','crianças a bordo','sexo_female','sexo_male']]#,axis=1,inplace=True)\n",
    "dados.head() "
   ]
  },
  {
   "cell_type": "code",
   "execution_count": 319,
   "metadata": {},
   "outputs": [
    {
     "data": {
      "text/plain": [
       "0    1\n",
       "1    1\n",
       "2    0\n",
       "3    0\n",
       "4    0\n",
       "Name: sobreviveu, dtype: int64"
      ]
     },
     "execution_count": 319,
     "metadata": {},
     "output_type": "execute_result"
    }
   ],
   "source": [
    "# 7- Qual o modelo que utilizarei para prever a chance de sobrevivência do passageiro?\n",
    "\n",
    "## Regressão Logística \n",
    "\n",
    "preditores = dataset_tit[['classe','crianças a bordo','sexo_female','sexo_male']]\n",
    "preditores.head()\n",
    "alvo = dataset_tit['sobreviveu']\n",
    "alvo.head()"
   ]
  },
  {
   "cell_type": "code",
   "execution_count": 320,
   "metadata": {},
   "outputs": [],
   "source": [
    "preditores_treino, preditores_teste, alvo_treino, alvo_teste = train_test_split(preditores, alvo, test_size=0.30, random_state=0)"
   ]
  },
  {
   "cell_type": "code",
   "execution_count": 321,
   "metadata": {},
   "outputs": [],
   "source": [
    "modelo_reglog = LogisticRegression()"
   ]
  },
  {
   "cell_type": "code",
   "execution_count": 322,
   "metadata": {},
   "outputs": [
    {
     "name": "stderr",
     "output_type": "stream",
     "text": [
      "C:\\ProgramData\\Anaconda3\\lib\\site-packages\\sklearn\\linear_model\\logistic.py:432: FutureWarning: Default solver will be changed to 'lbfgs' in 0.22. Specify a solver to silence this warning.\n",
      "  FutureWarning)\n"
     ]
    },
    {
     "data": {
      "text/plain": [
       "LogisticRegression(C=1.0, class_weight=None, dual=False, fit_intercept=True,\n",
       "                   intercept_scaling=1, l1_ratio=None, max_iter=100,\n",
       "                   multi_class='warn', n_jobs=None, penalty='l2',\n",
       "                   random_state=None, solver='warn', tol=0.0001, verbose=0,\n",
       "                   warm_start=False)"
      ]
     },
     "execution_count": 322,
     "metadata": {},
     "output_type": "execute_result"
    }
   ],
   "source": [
    "modelo_reglog.fit(preditores_treino, alvo_treino)"
   ]
  },
  {
   "cell_type": "code",
   "execution_count": 323,
   "metadata": {},
   "outputs": [],
   "source": [
    "alvo_pred = modelo_reglog.predict(preditores_teste)"
   ]
  },
  {
   "cell_type": "code",
   "execution_count": 324,
   "metadata": {},
   "outputs": [
    {
     "name": "stdout",
     "output_type": "stream",
     "text": [
      "[[216  30]\n",
      " [ 54  93]]\n"
     ]
    }
   ],
   "source": [
    "# 8- Quais métricas utilizarei para avaliar meu modelo?\n",
    "\n",
    "## Matriz de confusão \n",
    "\n",
    "print(confusion_matrix(alvo_teste, alvo_pred))"
   ]
  },
  {
   "cell_type": "code",
   "execution_count": 325,
   "metadata": {},
   "outputs": [
    {
     "data": {
      "text/plain": [
       "<matplotlib.axes._subplots.AxesSubplot at 0xf0d80d0>"
      ]
     },
     "execution_count": 325,
     "metadata": {},
     "output_type": "execute_result"
    },
    {
     "data": {
      "image/png": "[encoded data removed]",
      "text/plain": [
       "<Figure size 432x288 with 2 Axes>"
      ]
     },
     "metadata": {
      "needs_background": "light"
     },
     "output_type": "display_data"
    }
   ],
   "source": [
    "matriz_confusao = pd.crosstab(alvo_teste, alvo_pred, rownames=['Atual'], colnames=['Previsto'])\n",
    "\n",
    "# Gera o gráfico da matriz de confusão\n",
    "\n",
    "sn.heatmap(matriz_confusao, annot=True)"
   ]
  },
  {
   "cell_type": "code",
   "execution_count": 326,
   "metadata": {},
   "outputs": [
    {
     "name": "stdout",
     "output_type": "stream",
     "text": [
      "Acurácia:  0.7862595419847328\n"
     ]
    }
   ],
   "source": [
    "# Acurácia do modelo\n",
    "print('Acurácia: ', metrics.accuracy_score(alvo_teste, alvo_pred))\n",
    "\n",
    "## Acurácia apresentou 78,62% da sua eficiencia"
   ]
  },
  {
   "cell_type": "code",
   "execution_count": 327,
   "metadata": {},
   "outputs": [
    {
     "name": "stdout",
     "output_type": "stream",
     "text": [
      "Acurácia:  0.7862595419847328\n",
      "Precisão:  0.7560975609756098\n",
      "Revocação:  0.6326530612244898\n",
      "F1-Measure:  0.6888888888888889\n",
      "ROC AUC:  0.7553509208561474\n"
     ]
    }
   ],
   "source": [
    "print('Acurácia: ', metrics.accuracy_score(alvo_teste, alvo_pred))\n",
    "\n",
    "print('Precisão: ', metrics.precision_score(alvo_teste, alvo_pred))\n",
    "\n",
    "print('Revocação: ', metrics.recall_score(alvo_teste, alvo_pred))\n",
    "\n",
    "print('F1-Measure: ', metrics.f1_score(alvo_teste, alvo_pred))\n",
    "\n",
    "print('ROC AUC: ', metrics.roc_auc_score(alvo_teste, alvo_pred))"
   ]
  },
  {
   "cell_type": "code",
   "execution_count": 328,
   "metadata": {},
   "outputs": [
    {
     "name": "stdout",
     "output_type": "stream",
     "text": [
      "1139    0\n",
      "533     1\n",
      "459     0\n",
      "1150    0\n",
      "393     0\n",
      "1189    1\n",
      "5       1\n",
      "231     1\n",
      "330     0\n",
      "887     1\n",
      "531     0\n",
      "790     0\n",
      "427     1\n",
      "1260    1\n",
      "251     1\n",
      "486     0\n",
      "436     1\n",
      "31      1\n",
      "186     1\n",
      "1051    0\n",
      "769     0\n",
      "642     0\n",
      "1087    0\n",
      "55      1\n",
      "678     0\n",
      "358     1\n",
      "503     1\n",
      "995     0\n",
      "1005    0\n",
      "1279    0\n",
      "       ..\n",
      "1157    0\n",
      "936     1\n",
      "467     1\n",
      "97      1\n",
      "1003    1\n",
      "1253    0\n",
      "1140    0\n",
      "196     1\n",
      "883     0\n",
      "183     1\n",
      "1270    0\n",
      "431     0\n",
      "526     1\n",
      "815     0\n",
      "933     0\n",
      "1206    0\n",
      "175     0\n",
      "1292    0\n",
      "81      0\n",
      "267     0\n",
      "77      0\n",
      "1225    0\n",
      "452     1\n",
      "895     1\n",
      "900     0\n",
      "914     0\n",
      "580     1\n",
      "1080    1\n",
      "1249    0\n",
      "88      1\n",
      "Name: sobreviveu, Length: 393, dtype: int64\n",
      "[0 1 0 0 0 1 0 0 0 0 0 0 0 1 1 0 1 0 1 0 0 0 0 1 0 1 0 0 0 1 1 1 1 0 1 0 0\n",
      " 0 0 0 0 0 0 0 1 0 0 1 0 0 1 0 0 1 0 0 1 1 1 1 0 0 0 0 0 1 0 0 0 1 1 0 0 0\n",
      " 1 1 0 1 1 0 0 1 0 0 1 1 0 0 0 0 0 0 0 0 0 0 0 1 0 1 0 0 0 1 0 0 0 0 0 0 0\n",
      " 0 0 0 1 0 0 0 0 1 0 0 0 0 0 0 0 0 1 0 0 0 0 0 0 0 0 1 0 1 0 1 0 0 0 0 1 0\n",
      " 1 0 0 0 0 1 0 0 1 1 0 0 0 0 0 0 0 1 0 0 0 0 0 0 1 0 1 0 0 1 1 1 1 0 1 0 1\n",
      " 1 1 0 0 0 0 1 1 0 0 1 0 1 0 0 0 0 0 1 0 0 0 0 0 0 1 0 0 0 1 0 0 0 0 0 1 1\n",
      " 1 1 1 0 1 1 1 1 1 0 0 1 0 0 1 0 0 0 0 0 0 0 0 0 0 0 1 0 0 0 0 0 0 0 1 0 0\n",
      " 0 0 0 0 1 0 1 0 0 0 1 0 1 0 0 0 1 1 1 0 1 0 1 0 0 1 0 0 0 1 0 1 0 1 1 1 0\n",
      " 1 0 0 0 0 1 0 0 1 0 1 0 1 0 1 0 0 0 0 1 0 1 0 1 0 0 1 0 1 0 1 0 0 0 1 0 0\n",
      " 1 0 1 0 0 1 1 1 0 0 1 1 1 0 0 0 0 1 1 0 0 0 0 0 0 1 0 0 0 0 0 1 1 1 0 0 0\n",
      " 0 0 0 0 0 0 0 0 0 0 0 0 0 0 0 1 1 0 0 1 0 0 1]\n"
     ]
    }
   ],
   "source": [
    "print(alvo_teste)\n",
    "print(alvo_pred)"
   ]
  },
  {
   "cell_type": "code",
   "execution_count": 329,
   "metadata": {},
   "outputs": [
    {
     "name": "stdout",
     "output_type": "stream",
     "text": [
      "      classe  crianças a bordo  sexo_female  sexo_male\n",
      "1139       3                 0            0          1\n",
      "533        2                 0            1          0\n",
      "459        2                 1            0          1\n",
      "1150       3                 0            0          1\n",
      "393        2                 0            0          1\n",
      "1189       3                 1            1          0\n",
      "5          1                 0            0          1\n",
      "231        1                 0            0          1\n",
      "330        2                 0            0          1\n",
      "887        3                 0            0          1\n",
      "531        2                 0            0          1\n",
      "790        3                 0            0          1\n",
      "427        2                 1            0          1\n",
      "1260       3                 0            1          0\n",
      "251        1                 2            1          0\n",
      "486        2                 0            0          1\n",
      "436        2                 1            1          0\n",
      "31         1                 0            0          1\n",
      "186        1                 0            1          0\n",
      "1051       3                 0            0          1\n",
      "769        3                 0            0          1\n",
      "642        3                 4            0          1\n",
      "1087       3                 0            0          1\n",
      "55         1                 1            1          0\n",
      "678        3                 1            0          1\n",
      "358        2                 0            1          0\n",
      "503        2                 0            0          1\n",
      "995        3                 0            0          1\n",
      "1005       3                 0            0          1\n",
      "1279       3                 0            1          0\n",
      "...      ...               ...          ...        ...\n",
      "1157       3                 1            0          1\n",
      "936        3                 1            1          0\n",
      "467        2                 1            1          0\n",
      "97         1                 1            1          0\n",
      "1003       3                 2            0          1\n",
      "1253       3                 0            0          1\n",
      "1140       3                 0            0          1\n",
      "196        1                 0            0          1\n",
      "883        3                 0            0          1\n",
      "183        1                 0            0          1\n",
      "1270       3                 0            0          1\n",
      "431        2                 0            0          1\n",
      "526        2                 0            0          1\n",
      "815        3                 0            0          1\n",
      "933        3                 2            0          1\n",
      "1206       3                 3            0          1\n",
      "175        1                 1            0          1\n",
      "1292       3                 0            0          1\n",
      "81         1                 1            0          1\n",
      "267        1                 0            0          1\n",
      "77         1                 1            0          1\n",
      "1225       3                 0            0          1\n",
      "452        2                 1            1          0\n",
      "895        3                 1            1          0\n",
      "900        3                 1            0          1\n",
      "914        3                 0            0          1\n",
      "580        2                 0            1          0\n",
      "1080       3                 0            0          1\n",
      "1249       3                 0            0          1\n",
      "88         1                 0            1          0\n",
      "\n",
      "[393 rows x 4 columns]\n",
      "1139    0\n",
      "533     1\n",
      "459     0\n",
      "1150    0\n",
      "393     0\n",
      "1189    1\n",
      "5       1\n",
      "231     1\n",
      "330     0\n",
      "887     1\n",
      "531     0\n",
      "790     0\n",
      "427     1\n",
      "1260    1\n",
      "251     1\n",
      "486     0\n",
      "436     1\n",
      "31      1\n",
      "186     1\n",
      "1051    0\n",
      "769     0\n",
      "642     0\n",
      "1087    0\n",
      "55      1\n",
      "678     0\n",
      "358     1\n",
      "503     1\n",
      "995     0\n",
      "1005    0\n",
      "1279    0\n",
      "       ..\n",
      "1157    0\n",
      "936     1\n",
      "467     1\n",
      "97      1\n",
      "1003    1\n",
      "1253    0\n",
      "1140    0\n",
      "196     1\n",
      "883     0\n",
      "183     1\n",
      "1270    0\n",
      "431     0\n",
      "526     1\n",
      "815     0\n",
      "933     0\n",
      "1206    0\n",
      "175     0\n",
      "1292    0\n",
      "81      0\n",
      "267     0\n",
      "77      0\n",
      "1225    0\n",
      "452     1\n",
      "895     1\n",
      "900     0\n",
      "914     0\n",
      "580     1\n",
      "1080    1\n",
      "1249    0\n",
      "88      1\n",
      "Name: sobreviveu, Length: 393, dtype: int64\n",
      "[0 1 0 0 0 1 0 0 0 0 0 0 0 1 1 0 1 0 1 0 0 0 0 1 0 1 0 0 0 1 1 1 1 0 1 0 0\n",
      " 0 0 0 0 0 0 0 1 0 0 1 0 0 1 0 0 1 0 0 1 1 1 1 0 0 0 0 0 1 0 0 0 1 1 0 0 0\n",
      " 1 1 0 1 1 0 0 1 0 0 1 1 0 0 0 0 0 0 0 0 0 0 0 1 0 1 0 0 0 1 0 0 0 0 0 0 0\n",
      " 0 0 0 1 0 0 0 0 1 0 0 0 0 0 0 0 0 1 0 0 0 0 0 0 0 0 1 0 1 0 1 0 0 0 0 1 0\n",
      " 1 0 0 0 0 1 0 0 1 1 0 0 0 0 0 0 0 1 0 0 0 0 0 0 1 0 1 0 0 1 1 1 1 0 1 0 1\n",
      " 1 1 0 0 0 0 1 1 0 0 1 0 1 0 0 0 0 0 1 0 0 0 0 0 0 1 0 0 0 1 0 0 0 0 0 1 1\n",
      " 1 1 1 0 1 1 1 1 1 0 0 1 0 0 1 0 0 0 0 0 0 0 0 0 0 0 1 0 0 0 0 0 0 0 1 0 0\n",
      " 0 0 0 0 1 0 1 0 0 0 1 0 1 0 0 0 1 1 1 0 1 0 1 0 0 1 0 0 0 1 0 1 0 1 1 1 0\n",
      " 1 0 0 0 0 1 0 0 1 0 1 0 1 0 1 0 0 0 0 1 0 1 0 1 0 0 1 0 1 0 1 0 0 0 1 0 0\n",
      " 1 0 1 0 0 1 1 1 0 0 1 1 1 0 0 0 0 1 1 0 0 0 0 0 0 1 0 0 0 0 0 1 1 1 0 0 0\n",
      " 0 0 0 0 0 0 0 0 0 0 0 0 0 0 0 1 1 0 0 1 0 0 1]\n"
     ]
    }
   ],
   "source": [
    "# Só pra conferir:\n",
    "\n",
    "# A predição foi feita para os seguintes registros:\n",
    "print(preditores_teste) \n",
    "\n",
    "# Que possuíam a seguinte classificação:\n",
    "print(alvo_teste)\n",
    "\n",
    "# E Que obtiveram o seguinte resultado do modelo:\n",
    "print(alvo_pred)"
   ]
  },
  {
   "cell_type": "markdown",
   "metadata": {},
   "source": [
    "#  Árvore de Decisão"
   ]
  },
  {
   "cell_type": "code",
   "execution_count": 330,
   "metadata": {},
   "outputs": [
    {
     "name": "stdout",
     "output_type": "stream",
     "text": [
      "Preditores Treino\n",
      "      classe  crianças a bordo  sexo_female  sexo_male\n",
      "501        2                 0            1          0\n",
      "588        2                 1            1          0\n",
      "402        2                 1            1          0\n",
      "1193       3                 0            0          1\n",
      "686        3                 0            1          0\n",
      "971        3                 0            0          1\n",
      "117        1                 0            1          0\n",
      "540        2                 1            1          0\n",
      "294        1                 1            0          1\n",
      "261        1                 0            0          1\n",
      "587        2                 1            0          1\n",
      "489        2                 1            1          0\n",
      "2          1                 1            1          0\n",
      "405        2                 0            0          1\n",
      "1284       3                 0            0          1\n",
      "338        2                 0            0          1\n",
      "356        2                 0            0          1\n",
      "985        3                 0            0          1\n",
      "182        1                 0            1          0\n",
      "1027       3                 0            0          1\n",
      "1023       3                 0            1          0\n",
      "657        3                 2            1          0\n",
      "891        3                 0            0          1\n",
      "716        3                 1            0          1\n",
      "1142       3                 4            0          1\n",
      "520        2                 0            0          1\n",
      "1267       3                 1            1          0\n",
      "395        2                 0            1          0\n",
      "905        3                 0            0          1\n",
      "278        1                 0            0          1\n",
      "...      ...               ...          ...        ...\n",
      "659        3                 2            1          0\n",
      "797        3                 0            0          1\n",
      "1286       3                 0            1          0\n",
      "1201       3                 0            0          1\n",
      "99         1                 1            1          0\n",
      "850        3                 0            0          1\n",
      "448        2                 0            0          1\n",
      "755        3                 2            0          1\n",
      "976        3                 0            0          1\n",
      "115        1                 1            0          1\n",
      "777        3                 0            0          1\n",
      "72         1                 1            1          0\n",
      "845        3                 1            1          0\n",
      "537        2                 0            0          1\n",
      "849        3                 1            0          1\n",
      "174        1                 0            0          1\n",
      "87         1                 0            0          1\n",
      "551        2                 0            1          0\n",
      "705        3                 1            0          1\n",
      "314        1                 1            1          0\n",
      "600        3                 0            0          1\n",
      "1094       3                 0            1          0\n",
      "599        2                 0            1          0\n",
      "277        1                 1            1          0\n",
      "1033       3                 0            0          1\n",
      "763        3                 1            1          0\n",
      "835        3                 0            0          1\n",
      "1216       3                 0            1          0\n",
      "559        2                 0            1          0\n",
      "684        3                 1            1          0\n",
      "\n",
      "[916 rows x 4 columns]\n",
      "Preditores Teste\n",
      "      classe  crianças a bordo  sexo_female  sexo_male\n",
      "1139       3                 0            0          1\n",
      "533        2                 0            1          0\n",
      "459        2                 1            0          1\n",
      "1150       3                 0            0          1\n",
      "393        2                 0            0          1\n",
      "1189       3                 1            1          0\n",
      "5          1                 0            0          1\n",
      "231        1                 0            0          1\n",
      "330        2                 0            0          1\n",
      "887        3                 0            0          1\n",
      "531        2                 0            0          1\n",
      "790        3                 0            0          1\n",
      "427        2                 1            0          1\n",
      "1260       3                 0            1          0\n",
      "251        1                 2            1          0\n",
      "486        2                 0            0          1\n",
      "436        2                 1            1          0\n",
      "31         1                 0            0          1\n",
      "186        1                 0            1          0\n",
      "1051       3                 0            0          1\n",
      "769        3                 0            0          1\n",
      "642        3                 4            0          1\n",
      "1087       3                 0            0          1\n",
      "55         1                 1            1          0\n",
      "678        3                 1            0          1\n",
      "358        2                 0            1          0\n",
      "503        2                 0            0          1\n",
      "995        3                 0            0          1\n",
      "1005       3                 0            0          1\n",
      "1279       3                 0            1          0\n",
      "...      ...               ...          ...        ...\n",
      "1157       3                 1            0          1\n",
      "936        3                 1            1          0\n",
      "467        2                 1            1          0\n",
      "97         1                 1            1          0\n",
      "1003       3                 2            0          1\n",
      "1253       3                 0            0          1\n",
      "1140       3                 0            0          1\n",
      "196        1                 0            0          1\n",
      "883        3                 0            0          1\n",
      "183        1                 0            0          1\n",
      "1270       3                 0            0          1\n",
      "431        2                 0            0          1\n",
      "526        2                 0            0          1\n",
      "815        3                 0            0          1\n",
      "933        3                 2            0          1\n",
      "1206       3                 3            0          1\n",
      "175        1                 1            0          1\n",
      "1292       3                 0            0          1\n",
      "81         1                 1            0          1\n",
      "267        1                 0            0          1\n",
      "77         1                 1            0          1\n",
      "1225       3                 0            0          1\n",
      "452        2                 1            1          0\n",
      "895        3                 1            1          0\n",
      "900        3                 1            0          1\n",
      "914        3                 0            0          1\n",
      "580        2                 0            1          0\n",
      "1080       3                 0            0          1\n",
      "1249       3                 0            0          1\n",
      "88         1                 0            1          0\n",
      "\n",
      "[393 rows x 4 columns]\n",
      "Alvo Treino\n",
      "501     1\n",
      "588     1\n",
      "402     1\n",
      "1193    0\n",
      "686     1\n",
      "971     0\n",
      "117     1\n",
      "540     1\n",
      "294     0\n",
      "261     1\n",
      "587     1\n",
      "489     1\n",
      "2       0\n",
      "405     0\n",
      "1284    0\n",
      "338     0\n",
      "356     0\n",
      "985     1\n",
      "182     1\n",
      "1027    0\n",
      "1023    1\n",
      "657     1\n",
      "891     0\n",
      "716     0\n",
      "1142    0\n",
      "520     1\n",
      "1267    0\n",
      "395     1\n",
      "905     1\n",
      "278     1\n",
      "       ..\n",
      "659     1\n",
      "797     0\n",
      "1286    1\n",
      "1201    0\n",
      "99      1\n",
      "850     0\n",
      "448     0\n",
      "755     0\n",
      "976     0\n",
      "115     0\n",
      "777     1\n",
      "72      1\n",
      "845     1\n",
      "537     0\n",
      "849     0\n",
      "174     0\n",
      "87      1\n",
      "551     1\n",
      "705     0\n",
      "314     1\n",
      "600     0\n",
      "1094    1\n",
      "599     0\n",
      "277     1\n",
      "1033    1\n",
      "763     1\n",
      "835     0\n",
      "1216    1\n",
      "559     1\n",
      "684     0\n",
      "Name: sobreviveu, Length: 916, dtype: int64\n",
      "Alvo Teste\n",
      "1139    0\n",
      "533     1\n",
      "459     0\n",
      "1150    0\n",
      "393     0\n",
      "1189    1\n",
      "5       1\n",
      "231     1\n",
      "330     0\n",
      "887     1\n",
      "531     0\n",
      "790     0\n",
      "427     1\n",
      "1260    1\n",
      "251     1\n",
      "486     0\n",
      "436     1\n",
      "31      1\n",
      "186     1\n",
      "1051    0\n",
      "769     0\n",
      "642     0\n",
      "1087    0\n",
      "55      1\n",
      "678     0\n",
      "358     1\n",
      "503     1\n",
      "995     0\n",
      "1005    0\n",
      "1279    0\n",
      "       ..\n",
      "1157    0\n",
      "936     1\n",
      "467     1\n",
      "97      1\n",
      "1003    1\n",
      "1253    0\n",
      "1140    0\n",
      "196     1\n",
      "883     0\n",
      "183     1\n",
      "1270    0\n",
      "431     0\n",
      "526     1\n",
      "815     0\n",
      "933     0\n",
      "1206    0\n",
      "175     0\n",
      "1292    0\n",
      "81      0\n",
      "267     0\n",
      "77      0\n",
      "1225    0\n",
      "452     1\n",
      "895     1\n",
      "900     0\n",
      "914     0\n",
      "580     1\n",
      "1080    1\n",
      "1249    0\n",
      "88      1\n",
      "Name: sobreviveu, Length: 393, dtype: int64\n"
     ]
    }
   ],
   "source": [
    "print(\"Preditores Treino\")\n",
    "print(preditores_treino)\n",
    "\n",
    "print(\"Preditores Teste\")\n",
    "print(preditores_teste)\n",
    "\n",
    "print(\"Alvo Treino\")\n",
    "print(alvo_treino)\n",
    "\n",
    "print(\"Alvo Teste\")\n",
    "print(alvo_teste)"
   ]
  },
  {
   "cell_type": "code",
   "execution_count": 331,
   "metadata": {},
   "outputs": [],
   "source": [
    "from sklearn.tree import DecisionTreeClassifier\n",
    "\n",
    "# Cria uma instância default\n",
    "dt = DecisionTreeClassifier()\n",
    "\n",
    "# Treina o modelo com os dados dos alunos\n",
    "arvore_decisao = dt.fit(preditores_treino, alvo_treino)"
   ]
  },
  {
   "cell_type": "code",
   "execution_count": 332,
   "metadata": {},
   "outputs": [],
   "source": [
    "# Realiza a previsão nos dados de teste\n",
    "arvore_previsao = arvore_decisao.predict(preditores_teste)"
   ]
  },
  {
   "cell_type": "code",
   "execution_count": 333,
   "metadata": {},
   "outputs": [
    {
     "name": "stdout",
     "output_type": "stream",
     "text": [
      "Acurácia:  0.7659033078880407\n",
      "Precisão:  0.7722772277227723\n",
      "Revocação:  0.5306122448979592\n",
      "F1-Measure:  0.6290322580645162\n",
      "ROC AUC:  0.7185581549693049\n"
     ]
    }
   ],
   "source": [
    "print(\"Acurácia: \", metrics.accuracy_score(alvo_teste, arvore_previsao))\n",
    "\n",
    "print('Precisão: ', metrics.precision_score(alvo_teste, arvore_previsao))\n",
    "\n",
    "print('Revocação: ', metrics.recall_score(alvo_teste, arvore_previsao))\n",
    "\n",
    "print('F1-Measure: ', metrics.f1_score(alvo_teste, arvore_previsao))\n",
    "\n",
    "print('ROC AUC: ', metrics.roc_auc_score(alvo_teste, arvore_previsao))"
   ]
  },
  {
   "cell_type": "code",
   "execution_count": 361,
   "metadata": {},
   "outputs": [
    {
     "name": "stdout",
     "output_type": "stream",
     "text": [
      "[[223  23]\n",
      " [ 69  78]]\n"
     ]
    },
    {
     "data": {
      "text/plain": [
       "<matplotlib.axes._subplots.AxesSubplot at 0x10a12ed0>"
      ]
     },
     "execution_count": 361,
     "metadata": {},
     "output_type": "execute_result"
    },
    {
     "data": {
      "image/png": "[encoded data removed]",
      "text/plain": [
       "<Figure size 432x288 with 2 Axes>"
      ]
     },
     "metadata": {
      "needs_background": "light"
     },
     "output_type": "display_data"
    }
   ],
   "source": [
    "# Matriz de Confusão\n",
    "print(confusion_matrix(alvo_teste, arvore_previsao))\n",
    "\n",
    "matriz_confusao_arvore = pd.crosstab(alvo_teste, arvore_previsao, rownames=['Atual'], colnames=['Previsto'])\n",
    "\n",
    "# Gera o gráfico da matriz de confusão\n",
    "sn.heatmap(matriz_confusao_arvore, annot=True)\n"
   ]
  },
  {
   "cell_type": "markdown",
   "metadata": {},
   "source": [
    "# Floresta"
   ]
  },
  {
   "cell_type": "code",
   "execution_count": 335,
   "metadata": {},
   "outputs": [],
   "source": [
    "# filtrando apenas as variáveis desejadas\n",
    "\n",
    "filtradas = ['classe','crianças a bordo','sexo_female','sexo_male','sobreviveu']\n",
    "titanic_f = dataset_tit[filtradas]"
   ]
  },
  {
   "cell_type": "code",
   "execution_count": 336,
   "metadata": {},
   "outputs": [
    {
     "data": {
      "text/html": [
       "<div>\n",
       "<style scoped>\n",
       "    .dataframe tbody tr th:only-of-type {\n",
       "        vertical-align: middle;\n",
       "    }\n",
       "\n",
       "    .dataframe tbody tr th {\n",
       "        vertical-align: top;\n",
       "    }\n",
       "\n",
       "    .dataframe thead th {\n",
       "        text-align: right;\n",
       "    }\n",
       "</style>\n",
       "<table border=\"1\" class=\"dataframe\">\n",
       "  <thead>\n",
       "    <tr style=\"text-align: right;\">\n",
       "      <th></th>\n",
       "      <th>classe</th>\n",
       "      <th>crianças a bordo</th>\n",
       "      <th>sexo_female</th>\n",
       "      <th>sexo_male</th>\n",
       "      <th>sobreviveu</th>\n",
       "    </tr>\n",
       "  </thead>\n",
       "  <tbody>\n",
       "    <tr>\n",
       "      <th>0</th>\n",
       "      <td>1</td>\n",
       "      <td>0</td>\n",
       "      <td>1</td>\n",
       "      <td>0</td>\n",
       "      <td>1</td>\n",
       "    </tr>\n",
       "    <tr>\n",
       "      <th>1</th>\n",
       "      <td>1</td>\n",
       "      <td>1</td>\n",
       "      <td>0</td>\n",
       "      <td>1</td>\n",
       "      <td>1</td>\n",
       "    </tr>\n",
       "    <tr>\n",
       "      <th>2</th>\n",
       "      <td>1</td>\n",
       "      <td>1</td>\n",
       "      <td>1</td>\n",
       "      <td>0</td>\n",
       "      <td>0</td>\n",
       "    </tr>\n",
       "    <tr>\n",
       "      <th>3</th>\n",
       "      <td>1</td>\n",
       "      <td>1</td>\n",
       "      <td>0</td>\n",
       "      <td>1</td>\n",
       "      <td>0</td>\n",
       "    </tr>\n",
       "    <tr>\n",
       "      <th>4</th>\n",
       "      <td>1</td>\n",
       "      <td>1</td>\n",
       "      <td>1</td>\n",
       "      <td>0</td>\n",
       "      <td>0</td>\n",
       "    </tr>\n",
       "  </tbody>\n",
       "</table>\n",
       "</div>"
      ],
      "text/plain": [
       "   classe  crianças a bordo  sexo_female  sexo_male  sobreviveu\n",
       "0       1                 0            1          0           1\n",
       "1       1                 1            0          1           1\n",
       "2       1                 1            1          0           0\n",
       "3       1                 1            0          1           0\n",
       "4       1                 1            1          0           0"
      ]
     },
     "execution_count": 336,
     "metadata": {},
     "output_type": "execute_result"
    }
   ],
   "source": [
    "titanic_f.head()"
   ]
  },
  {
   "cell_type": "code",
   "execution_count": 337,
   "metadata": {},
   "outputs": [
    {
     "data": {
      "text/html": [
       "<div>\n",
       "<style scoped>\n",
       "    .dataframe tbody tr th:only-of-type {\n",
       "        vertical-align: middle;\n",
       "    }\n",
       "\n",
       "    .dataframe tbody tr th {\n",
       "        vertical-align: top;\n",
       "    }\n",
       "\n",
       "    .dataframe thead th {\n",
       "        text-align: right;\n",
       "    }\n",
       "</style>\n",
       "<table border=\"1\" class=\"dataframe\">\n",
       "  <thead>\n",
       "    <tr style=\"text-align: right;\">\n",
       "      <th></th>\n",
       "      <th>classe</th>\n",
       "      <th>crianças a bordo</th>\n",
       "      <th>sexo_female</th>\n",
       "      <th>sexo_male</th>\n",
       "      <th>sobreviveu</th>\n",
       "    </tr>\n",
       "  </thead>\n",
       "  <tbody>\n",
       "    <tr>\n",
       "      <th>0</th>\n",
       "      <td>1</td>\n",
       "      <td>0</td>\n",
       "      <td>1</td>\n",
       "      <td>0</td>\n",
       "      <td>1</td>\n",
       "    </tr>\n",
       "    <tr>\n",
       "      <th>1</th>\n",
       "      <td>1</td>\n",
       "      <td>1</td>\n",
       "      <td>0</td>\n",
       "      <td>1</td>\n",
       "      <td>1</td>\n",
       "    </tr>\n",
       "    <tr>\n",
       "      <th>2</th>\n",
       "      <td>1</td>\n",
       "      <td>1</td>\n",
       "      <td>1</td>\n",
       "      <td>0</td>\n",
       "      <td>0</td>\n",
       "    </tr>\n",
       "    <tr>\n",
       "      <th>3</th>\n",
       "      <td>1</td>\n",
       "      <td>1</td>\n",
       "      <td>0</td>\n",
       "      <td>1</td>\n",
       "      <td>0</td>\n",
       "    </tr>\n",
       "    <tr>\n",
       "      <th>4</th>\n",
       "      <td>1</td>\n",
       "      <td>1</td>\n",
       "      <td>1</td>\n",
       "      <td>0</td>\n",
       "      <td>0</td>\n",
       "    </tr>\n",
       "  </tbody>\n",
       "</table>\n",
       "</div>"
      ],
      "text/plain": [
       "   classe  crianças a bordo  sexo_female  sexo_male  sobreviveu\n",
       "0       1                 0            1          0           1\n",
       "1       1                 1            0          1           1\n",
       "2       1                 1            1          0           0\n",
       "3       1                 1            0          1           0\n",
       "4       1                 1            1          0           0"
      ]
     },
     "execution_count": 337,
     "metadata": {},
     "output_type": "execute_result"
    }
   ],
   "source": [
    "titanic_f.dropna().head()"
   ]
  },
  {
   "cell_type": "code",
   "execution_count": 338,
   "metadata": {},
   "outputs": [],
   "source": [
    "# Separando a variável alvo das variáveis independentes\n",
    "\n",
    "x = titanic_f.drop([\"sobreviveu\"],axis=1)\n",
    "y = titanic_f[\"sobreviveu\"]"
   ]
  },
  {
   "cell_type": "code",
   "execution_count": 339,
   "metadata": {},
   "outputs": [],
   "source": [
    "# Dividindo o conjunto entre treino e teste\n",
    "\n",
    "x_train, x_test, y_train, y_test = train_test_split(x, y, test_size = 0.25, random_state=0)"
   ]
  },
  {
   "cell_type": "code",
   "execution_count": 340,
   "metadata": {},
   "outputs": [],
   "source": [
    "# algumas funções para auxiliar na visulização:\n",
    "\n",
    "def confusion_matrix_model(model_used):\n",
    "    cm = confusion_matrix(y_test, model_used.predict(x_test))\n",
    "    col = [\"Previsto Morto\",\"Previsto Sobrevivente\"]\n",
    "    cm = pd.DataFrame(cm)\n",
    "    cm.columns = [\"Previsto Morto\",\"Previsto Sobrevivente\"]\n",
    "    cm.index=[\"Realmente Morto\",\"Realmente Sobrevivente\"]\n",
    "    cm[col]=np.around(cm[col].div(cm[col].sum(axis=1),axis=0),decimals=2)\n",
    "    return cm"
   ]
  },
  {
   "cell_type": "code",
   "execution_count": 341,
   "metadata": {},
   "outputs": [
    {
     "name": "stderr",
     "output_type": "stream",
     "text": [
      "C:\\ProgramData\\Anaconda3\\lib\\site-packages\\sklearn\\linear_model\\logistic.py:432: FutureWarning: Default solver will be changed to 'lbfgs' in 0.22. Specify a solver to silence this warning.\n",
      "  FutureWarning)\n"
     ]
    },
    {
     "data": {
      "text/plain": [
       "LogisticRegression(C=1.0, class_weight=None, dual=False, fit_intercept=True,\n",
       "                   intercept_scaling=1, l1_ratio=None, max_iter=100,\n",
       "                   multi_class='warn', n_jobs=None, penalty='l2',\n",
       "                   random_state=None, solver='warn', tol=0.0001, verbose=0,\n",
       "                   warm_start=False)"
      ]
     },
     "execution_count": 341,
     "metadata": {},
     "output_type": "execute_result"
    }
   ],
   "source": [
    "log_reg = LogisticRegression()\n",
    "\n",
    "log_reg = log_reg.fit(x_train, y_train)\n",
    "\n",
    "log_reg"
   ]
  },
  {
   "cell_type": "code",
   "execution_count": 342,
   "metadata": {},
   "outputs": [
    {
     "name": "stdout",
     "output_type": "stream",
     "text": [
      "Coeficientes: \n",
      " [[-0.77318127 -0.28889701  1.82448624 -0.7147848 ]]\n",
      "Interfacept: \n",
      " [1.10970144]\n"
     ]
    }
   ],
   "source": [
    "# Coeficientes relativos as variáveis independentes/preditoras\n",
    "\n",
    "print('Coeficientes: \\n', log_reg.coef_)\n",
    "\n",
    "\n",
    "print('Interfacept: \\n', log_reg.intercept_)"
   ]
  },
  {
   "cell_type": "code",
   "execution_count": 343,
   "metadata": {},
   "outputs": [],
   "source": [
    "# Prevê, para os dados do conjunto de teste, resultados para a variável alvo\n",
    "\n",
    "predicao_reglog = log_reg.predict(x_test)"
   ]
  },
  {
   "cell_type": "code",
   "execution_count": 344,
   "metadata": {},
   "outputs": [
    {
     "name": "stdout",
     "output_type": "stream",
     "text": [
      "[0 1 0 0 0 1 0 0 0 0 0 0 0 1 1 0 1 0 1 0 0 0 0 1 0 1 0 0 0 1 1 1 1 0 1 0 0\n",
      " 0 0 0 0 0 0 0 1 0 0 1 0 0 1 0 0 1 0 0 1 1 1 1 0 0 0 0 0 1 0 0 0 1 1 0 0 0\n",
      " 1 1 0 1 1 0 0 1 0 0 1 1 0 0 0 0 0 0 0 0 0 0 0 1 0 1 0 0 0 1 0 0 0 0 0 0 0\n",
      " 0 0 0 1 0 0 0 0 1 0 0 0 0 0 0 0 0 1 0 0 0 0 0 0 0 0 1 0 1 0 1 0 0 0 0 1 0\n",
      " 1 0 0 0 0 1 0 0 1 1 0 0 0 0 0 0 0 1 0 0 0 0 0 0 1 0 1 0 0 1 1 1 1 0 1 0 1\n",
      " 1 1 0 0 0 0 1 1 0 0 1 0 1 0 0 0 0 0 1 0 0 0 0 0 0 1 0 0 0 1 0 0 0 0 0 1 1\n",
      " 1 1 1 0 1 1 1 1 1 0 0 1 0 0 1 0 0 0 0 0 0 0 0 0 0 0 1 0 0 0 0 0 0 0 1 0 0\n",
      " 0 0 0 0 1 0 1 0 0 0 1 0 1 0 0 0 1 1 1 0 1 0 1 0 0 1 0 0 0 1 0 1 0 1 1 1 0\n",
      " 1 0 0 0 0 1 0 0 1 0 1 0 1 0 1 0 0 0 0 1 0 1 0 1 0 0 1 0 1 0 1 0]\n"
     ]
    }
   ],
   "source": [
    "print(predicao_reglog)"
   ]
  },
  {
   "cell_type": "code",
   "execution_count": 345,
   "metadata": {},
   "outputs": [
    {
     "name": "stdout",
     "output_type": "stream",
     "text": [
      "Acurácia:  0.7865853658536586\n"
     ]
    }
   ],
   "source": [
    "print('Acurácia: ', metrics.accuracy_score(y_test, predicao_reglog))"
   ]
  },
  {
   "cell_type": "code",
   "execution_count": 362,
   "metadata": {},
   "outputs": [
    {
     "name": "stdout",
     "output_type": "stream",
     "text": [
      "[[181  27]\n",
      " [ 43  77]]\n"
     ]
    }
   ],
   "source": [
    "# Matriz de Confusão simples\n",
    "      \n",
    "print(confusion_matrix(y_test, predicao_reglog)) "
   ]
  },
  {
   "cell_type": "code",
   "execution_count": 347,
   "metadata": {},
   "outputs": [
    {
     "data": {
      "text/html": [
       "<div>\n",
       "<style scoped>\n",
       "    .dataframe tbody tr th:only-of-type {\n",
       "        vertical-align: middle;\n",
       "    }\n",
       "\n",
       "    .dataframe tbody tr th {\n",
       "        vertical-align: top;\n",
       "    }\n",
       "\n",
       "    .dataframe thead th {\n",
       "        text-align: right;\n",
       "    }\n",
       "</style>\n",
       "<table border=\"1\" class=\"dataframe\">\n",
       "  <thead>\n",
       "    <tr style=\"text-align: right;\">\n",
       "      <th></th>\n",
       "      <th>Previsto Morto</th>\n",
       "      <th>Previsto Sobrevivente</th>\n",
       "    </tr>\n",
       "  </thead>\n",
       "  <tbody>\n",
       "    <tr>\n",
       "      <th>Realmente Morto</th>\n",
       "      <td>0.87</td>\n",
       "      <td>0.13</td>\n",
       "    </tr>\n",
       "    <tr>\n",
       "      <th>Realmente Sobrevivente</th>\n",
       "      <td>0.36</td>\n",
       "      <td>0.64</td>\n",
       "    </tr>\n",
       "  </tbody>\n",
       "</table>\n",
       "</div>"
      ],
      "text/plain": [
       "                        Previsto Morto  Previsto Sobrevivente\n",
       "Realmente Morto                   0.87                   0.13\n",
       "Realmente Sobrevivente            0.36                   0.64"
      ]
     },
     "execution_count": 347,
     "metadata": {},
     "output_type": "execute_result"
    }
   ],
   "source": [
    "# Matriz de Confusão com proporções\n",
    "\n",
    "confusion_matrix_model(log_reg)"
   ]
  },
  {
   "cell_type": "code",
   "execution_count": 348,
   "metadata": {},
   "outputs": [
    {
     "name": "stdout",
     "output_type": "stream",
     "text": [
      "Acurácia:  0.7865853658536586\n",
      "Precisão:  0.7403846153846154\n",
      "Revocação:  0.6416666666666667\n",
      "F1-Measure:  0.6875000000000001\n",
      "ROC AUC:  0.7559294871794872\n"
     ]
    }
   ],
   "source": [
    "print('Acurácia: ', metrics.accuracy_score(y_test, predicao_reglog))\n",
    "\n",
    "print('Precisão: ', metrics.precision_score(y_test, predicao_reglog))\n",
    "\n",
    "print('Revocação: ', metrics.recall_score(y_test, predicao_reglog))\n",
    "\n",
    "print('F1-Measure: ', metrics.f1_score(y_test, predicao_reglog))\n",
    "\n",
    "print('ROC AUC: ', metrics.roc_auc_score(y_test, predicao_reglog))"
   ]
  },
  {
   "cell_type": "code",
   "execution_count": 349,
   "metadata": {},
   "outputs": [],
   "source": [
    "# Calcula o \"False Positive Rate\" e o \"True Positive Rate\"\n",
    "\n",
    "fpr, tpr, thresholds = metrics.roc_curve(y_test, predicao_reglog, pos_label=1)\n",
    "\n",
    "\n",
    "AUC = metrics.auc(fpr, tpr)"
   ]
  },
  {
   "cell_type": "code",
   "execution_count": 350,
   "metadata": {},
   "outputs": [
    {
     "name": "stdout",
     "output_type": "stream",
     "text": [
      "Area Under the Curve:  0.7559294871794872\n"
     ]
    }
   ],
   "source": [
    "print('Area Under the Curve: ', AUC)"
   ]
  },
  {
   "cell_type": "code",
   "execution_count": 351,
   "metadata": {},
   "outputs": [],
   "source": [
    "# Código para treinamento da Floresta Aleatória\n",
    "\n",
    "from sklearn.ensemble import RandomForestClassifier"
   ]
  },
  {
   "cell_type": "code",
   "execution_count": 352,
   "metadata": {},
   "outputs": [
    {
     "name": "stdout",
     "output_type": "stream",
     "text": [
      "[0 1 0 0 0 0 0 0 0 0 0 0 0 1 1 0 1 0 1 0 0 0 0 1 0 1 0 0 0 1 1 1 1 0 1 0 0\n",
      " 0 0 0 0 0 0 0 0 0 0 1 0 0 1 0 0 1 0 0 1 0 1 1 0 0 0 0 0 1 0 0 0 1 1 0 0 0\n",
      " 1 1 0 1 0 0 0 1 0 0 0 1 0 0 0 0 0 0 0 0 0 0 0 0 0 1 0 0 0 0 0 0 0 0 0 0 0\n",
      " 0 0 0 1 0 0 0 0 1 0 0 0 0 0 0 0 0 0 0 0 0 0 0 0 0 0 1 0 1 0 1 0 0 0 0 0 0\n",
      " 1 0 0 0 0 1 0 0 1 1 0 0 0 0 0 0 0 0 0 0 0 0 0 0 1 0 1 0 0 1 1 1 1 0 1 0 1\n",
      " 0 1 0 0 0 0 0 1 0 0 0 0 1 0 0 0 0 0 1 0 0 0 0 0 0 1 0 0 0 1 0 0 0 0 0 1 0\n",
      " 1 1 1 0 0 1 1 1 1 0 0 1 0 0 1 0 0 0 0 0 0 0 0 0 0 0 0 0 0 0 0 0 0 0 1 0 0\n",
      " 0 0 0 0 1 0 1 0 0 0 1 0 1 0 0 0 1 1 1 0 1 0 1 0 0 1 0 0 0 1 0 1 0 1 1 1 0\n",
      " 0 0 0 0 0 1 0 0 0 0 1 0 1 0 1 0 0 0 0 1 0 1 0 1 0 0 1 0 1 0 0 0]\n"
     ]
    }
   ],
   "source": [
    "# Instanciao objeto da Floresta Aleatória e define o número de árvores a serem utilizadas\n",
    "\n",
    "floresta = RandomForestClassifier(n_estimators=1000)\n",
    "\n",
    "x_train, x_test, y_train, y_test\n",
    "\n",
    "# Treinamento do modelo\n",
    "\n",
    "floresta.fit(x_train, y_train)\n",
    "\n",
    "# Prevê a partir dos preditores de testes\n",
    "\n",
    "predicted = floresta.predict(x_test)\n",
    "print(predicted)"
   ]
  },
  {
   "cell_type": "markdown",
   "metadata": {},
   "source": [
    "# AUC ROC"
   ]
  },
  {
   "cell_type": "code",
   "execution_count": 353,
   "metadata": {},
   "outputs": [],
   "source": [
    "def plot_roc_curve(fper, tper, title):\n",
    "    plt.plot(fper, tper, color = 'red', label = 'ROC')\n",
    "    plt.plot([0, 1], [0, 1], color = 'darkblue', linestyle = '--')\n",
    "    plt.xlabel('Taxa Falso Positivo')\n",
    "    plt.ylabel('Taxa Verdadeiro Positivo')\n",
    "    plt.title(title)\n",
    "    plt.legend()\n",
    "    plt.show()"
   ]
  },
  {
   "cell_type": "code",
   "execution_count": 354,
   "metadata": {},
   "outputs": [
    {
     "name": "stdout",
     "output_type": "stream",
     "text": [
      "AUC= 0.8105746363586085\n"
     ]
    },
    {
     "data": {
      "image/png": "[encoded data removed]",
      "text/plain": [
       "<Figure size 432x288 with 1 Axes>"
      ]
     },
     "metadata": {
      "needs_background": "light"
     },
     "output_type": "display_data"
    }
   ],
   "source": [
    "### Regressão Logística ###\n",
    "\n",
    "probs = modelo_reglog.predict_proba(preditores_teste)\n",
    "probs = probs[:, 1]\n",
    "fper1, tper1, thresholds = roc_curve(alvo_teste, probs)\n",
    "roc_auc1 = metrics.auc(fper1, tper1)\n",
    "print(\"AUC=\", roc_auc1)\n",
    "plot_roc_curve(fper1, tper1, 'Regressão Logística - ROC Curve')"
   ]
  },
  {
   "cell_type": "code",
   "execution_count": 355,
   "metadata": {},
   "outputs": [
    {
     "name": "stdout",
     "output_type": "stream",
     "text": [
      "AUC= 0.8137271168630054\n"
     ]
    },
    {
     "data": {
      "image/png": "[encoded data removed]",
      "text/plain": [
       "<Figure size 432x288 with 1 Axes>"
      ]
     },
     "metadata": {
      "needs_background": "light"
     },
     "output_type": "display_data"
    }
   ],
   "source": [
    "### Árvore de Decisão ###\n",
    "\n",
    "probs = dt.predict_proba(preditores_teste)\n",
    "probs = probs[:, 1]\n",
    "fper2, tper2, thresholds = roc_curve(alvo_teste, probs)\n",
    "roc_auc2 = metrics.auc(fper2, tper2)\n",
    "print(\"AUC=\", roc_auc2)\n",
    "plot_roc_curve(fper2, tper2, 'Árvore de Decisão - ROC Curve')"
   ]
  },
  {
   "cell_type": "code",
   "execution_count": 356,
   "metadata": {},
   "outputs": [
    {
     "name": "stdout",
     "output_type": "stream",
     "text": [
      "AUC= 0.8105746363586085\n"
     ]
    },
    {
     "data": {
      "image/png": "[encoded data removed]",
      "text/plain": [
       "<Figure size 432x288 with 1 Axes>"
      ]
     },
     "metadata": {
      "needs_background": "light"
     },
     "output_type": "display_data"
    }
   ],
   "source": [
    " ### Floresta ###\n",
    "\n",
    "probs = floresta.predict_proba(preditores_teste)\n",
    "probs = probs[:, 1]\n",
    "fper3, tper3, thresholds = roc_curve(alvo_teste, probs)\n",
    "roc_auc3 = metrics.auc(fper3, tper3)\n",
    "print(\"AUC=\", roc_auc1)\n",
    "plot_roc_curve(fper3, tper3, 'Floresta - ROC Curve')"
   ]
  },
  {
   "cell_type": "code",
   "execution_count": 357,
   "metadata": {},
   "outputs": [],
   "source": [
    "def plot_roc_curves(fper1, tper1, title1, fper2, tper2,title2, fper3, tper3, title3):\n",
    "    plt.plot(fper1, tper1, color = 'gray', label = title1)\n",
    "    plt.plot(fper2, tper2, color = 'red', label = title2)\n",
    "    plt.plot(fper3, tper3, color = 'green', label = title3)\n",
    "    plt.plot([0, 1], [0, 1], color = 'darkblue', linestyle = '--')\n",
    "    plt.xlabel('Taxa Falso Positivo')\n",
    "    plt.ylabel('Taxa Verdadeiro Positivo')\n",
    "    plt.title(\"ROC Curve\")\n",
    "    plt.legend()\n",
    "    plt.show()"
   ]
  },
  {
   "cell_type": "code",
   "execution_count": 358,
   "metadata": {},
   "outputs": [
    {
     "data": {
      "image/png": "[encoded data removed]",
      "text/plain": [
       "<Figure size 432x288 with 1 Axes>"
      ]
     },
     "metadata": {
      "needs_background": "light"
     },
     "output_type": "display_data"
    }
   ],
   "source": [
    "plot_roc_curves(fper1, tper1, 'Regressão Logística', fper2, tper2, 'Árvore de Decisão', fper3, tper3, 'Floresta')"
   ]
  },
  {
   "cell_type": "code",
   "execution_count": null,
   "metadata": {},
   "outputs": [],
   "source": [
    "### Pecebemos no gráfico ROC Curve que os três modelos tem uma curva muito proxima \n",
    "### uma da outra. Mais a curva do modelo Floresta apresenta melhor resultado.\n"
   ]
  }
 ],
 "metadata": {
  "kernelspec": {
   "display_name": "Python 3",
   "language": "python",
   "name": "python3"
  },
  "language_info": {
   "codemirror_mode": {
    "name": "ipython",
    "version": 3
   },
   "file_extension": ".py",
   "mimetype": "text/x-python",
   "name": "python",
   "nbconvert_exporter": "python",
   "pygments_lexer": "ipython3",
   "version": "3.6.4"
  }
 },
 "nbformat": 4,
 "nbformat_minor": 2
}
