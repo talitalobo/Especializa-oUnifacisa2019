{
 "cells": [
  {
   "cell_type": "markdown",
   "metadata": {},
   "source": [
    "# Especialização em Ciência de Dados\n",
    "## Módulo de Machine Learning I"
   ]
  },
  {
   "cell_type": "markdown",
   "metadata": {},
   "source": [
    "### Sumário\n",
    "\n",
    "- 1) Regressão Logística\n",
    "- 2) Árvores de Decisão\n",
    "\n",
    "--------"
   ]
  },
  {
   "cell_type": "code",
   "execution_count": 2,
   "metadata": {},
   "outputs": [],
   "source": [
    "# Importação das bibliotecas necessárias\n",
    "\n",
    "import pandas as pd # para criação do data frame\n",
    "from sklearn.model_selection import train_test_split # para separação dos conjuntos de treino e teste\n",
    "from sklearn.linear_model import LogisticRegression # para construção do modelo de Regressão Logística\n",
    "from sklearn import metrics # para computação das métricas de avaliação\n",
    "from sklearn.metrics import confusion_matrix\n",
    "import seaborn as sn # para visualização dos resultados"
   ]
  },
  {
   "cell_type": "markdown",
   "metadata": {},
   "source": [
    "### Nosso Problema"
   ]
  },
  {
   "cell_type": "markdown",
   "metadata": {},
   "source": [
    "Neste problema, desejamos descobrir se um aluno será admitido ou não no processo seletivo de vestibular da Unifacisa com base no seu histórico escolar. \n",
    "\n",
    "Os dados históricos disponíveis sobre os alunos são:\n",
    "\n",
    "- enem: Nota do candidato no Exame Nacional do Ensino Médio\n",
    "- cra: Coeficiente de rendimento acadêmico proveniente da escola de origem\n",
    "- tempo_experiencia: Tempo de experiência em projetos extra-acadêmicos ou voluntariado\n",
    "- aprovado: Representa a admissão **(1)** ou não **(0)** do aluno pela universidade"
   ]
  },
  {
   "cell_type": "code",
   "execution_count": 3,
   "metadata": {},
   "outputs": [
    {
     "name": "stdout",
     "output_type": "stream",
     "text": [
      "    enem  cra  tempo_experiencia  aprovado\n",
      "0    780  4.0                  3         1\n",
      "1    750  3.9                  4         1\n",
      "2    690  3.3                  3         1\n",
      "3    710  3.7                  5         1\n",
      "4    680  3.9                  4         1\n",
      "5    730  3.7                  6         1\n",
      "6    690  2.3                  1         0\n",
      "7    720  3.3                  4         1\n",
      "8    740  3.3                  5         1\n",
      "9    690  1.7                  1         0\n",
      "10   610  2.7                  3         0\n",
      "11   690  3.7                  5         1\n",
      "12   710  3.7                  6         1\n",
      "13   680  3.3                  4         1\n",
      "14   770  3.3                  3         1\n",
      "15   610  3.0                  1         0\n",
      "16   580  2.7                  4         0\n",
      "17   650  3.7                  6         1\n",
      "18   540  2.7                  2         0\n",
      "19   590  2.3                  3         0\n",
      "20   620  3.3                  2         0\n",
      "21   600  2.0                  1         0\n",
      "22   550  2.3                  4         0\n",
      "23   550  2.7                  1         0\n",
      "24   570  3.0                  2         0\n",
      "25   670  3.3                  6         1\n",
      "26   660  3.7                  4         1\n",
      "27   580  2.3                  2         0\n",
      "28   650  3.7                  6         1\n",
      "29   660  3.3                  5         1\n",
      "30   640  3.0                  1         0\n",
      "31   620  2.7                  2         0\n",
      "32   660  4.0                  4         1\n",
      "33   660  3.3                  6         1\n",
      "34   680  3.3                  5         1\n",
      "35   650  2.3                  1         0\n",
      "36   670  2.7                  2         0\n",
      "37   580  3.3                  1         0\n",
      "38   590  1.7                  4         0\n",
      "39   690  3.7                  5         1\n"
     ]
    }
   ],
   "source": [
    "# Criação dos dados e transformação do dataset de Python em um data frame\n",
    "\n",
    "candidatos = {'enem': [780,750,690,710,680,730,690,720,740,690,610,690,710,680,770,610,580,650,540,590,620,600,550,550,570,670,660,580,650,660,640,620,660,660,680,650,670,580,590,690],\n",
    "              'cra': [4,3.9,3.3,3.7,3.9,3.7,2.3,3.3,3.3,1.7,2.7,3.7,3.7,3.3,3.3,3,2.7,3.7,2.7,2.3,3.3,2,2.3,2.7,3,3.3,3.7,2.3,3.7,3.3,3,2.7,4,3.3,3.3,2.3,2.7,3.3,1.7,3.7],\n",
    "              'tempo_experiencia': [3,4,3,5,4,6,1,4,5,1,3,5,6,4,3,1,4,6,2,3,2,1,4,1,2,6,4,2,6,5,1,2,4,6,5,1,2,1,4,5],\n",
    "              'aprovado': [1,1,1,1,1,1,0,1,1,0,0,1,1,1,1,0,0,1,0,0,0,0,0,0,0,1,1,0,1,1,0,0,1,1,1,0,0,0,0,1]\n",
    "              }\n",
    "\n",
    "candidatos_df = pd.DataFrame(candidatos,columns= ['enem', 'cra','tempo_experiencia','aprovado'])\n",
    "print (candidatos_df)"
   ]
  },
  {
   "cell_type": "markdown",
   "metadata": {},
   "source": [
    "### 1 - Regressão Logística"
   ]
  },
  {
   "cell_type": "markdown",
   "metadata": {},
   "source": [
    "A **Regressão Logística** é o algoritmo utilizado para quando, a partir de um conjunto de observações, desejamos prever valores assumidos por uma variável categórica binária (0 ou 1).\n",
    "\n",
    "*\"Ao invés de prever exatamente 0 ou 1, a Regressão Logística gera a probabilidade - valor entre 0 e 1. Por exemplo, considere um modelo de regressão logística para detecção de spam. Se o modelo infere um valor de 0.932 para uma mensagem de email, isso implica numa chance de 93.2% de que esta mesma mensagem seja spam\"*. \n",
    "\n",
    "\n",
    "Veja mais [aqui](https://developers.google.com/machine-learning/crash-course/logistic-regression/video-lecture).\n",
    "\n",
    "Nos dados vistos acima, vimos que existem **2** resultados possíveis esperados: *ser aceito (1)* ou *não ser aceito (0)*.\n"
   ]
  },
  {
   "cell_type": "markdown",
   "metadata": {},
   "source": [
    "Na Regressão Logística é importante ter em mente alguns pontos:\n",
    "\n",
    "- A Regressão Logística **Binária** requer que a variável alvo/prevista seja binária\n",
    "- A depender da biblioteca utilizada, o nível 1 do fator deve ser o resultado esperado\n",
    "- É preciso haver independência entre as variáveis independentes/preditores\n",
    "- Este tipo de modelo requer uma quantidade razoável de dados para performar bem "
   ]
  },
  {
   "cell_type": "markdown",
   "metadata": {},
   "source": [
    "O próximo passo, então, será identificar as variáveis independentes (enem, cra e tempo_experiencia) e a variável alvo (aprovado)."
   ]
  },
  {
   "cell_type": "code",
   "execution_count": 4,
   "metadata": {},
   "outputs": [],
   "source": [
    "preditores = candidatos_df[['enem', 'cra','tempo_experiencia']]\n",
    "alvo = candidatos_df['aprovado']"
   ]
  },
  {
   "cell_type": "markdown",
   "metadata": {},
   "source": [
    "Durante o treinamento de modelos é necessário separar o conjunto de dados de maneira a que consigamos treinar o modelo e também avaliá-lo.\n",
    "\n",
    "**Conjunto de Treino**: Amostra dos dados utilizada para o aprendizado/construção do modelo.\n",
    "\n",
    "**Dados de Validação**: Amostra dos dados utilizada para a tunagem dos hiperparâmetros do modelo (ou seja, sua arquitetura). Durante o ajuste dos parâmetros do modelo, para evitar *overfitting*, este conjunto é necessário.\n",
    "\n",
    "**Conjunto de Teste**: Amostra dos dados utilizada para avaliar a capacidade de predição do modelo em novos dados.\n",
    "\n",
    "Mais sobre estes conjuntos pode ser visto [aqui](https://stats.stackexchange.com/questions/19048/what-is-the-difference-between-test-set-and-validation-set), [aqui](https://www.youtube.com/watch?v=YnHv70YepZ0) ou [aqui](https://www.youtube.com/watch?v=pohax_OCUbs).\n",
    "\n",
    "Em geral, utiliza-se uma divisão de 80%/20% ou 70%/30% para treino e teste, respectivamente. "
   ]
  },
  {
   "cell_type": "code",
   "execution_count": 6,
   "metadata": {},
   "outputs": [],
   "source": [
    "# Divisão dos conjuntos de treino e teste\n",
    "\n",
    "preditores_treino, preditores_teste, alvo_treino, alvo_teste = train_test_split(preditores, alvo, test_size=0.30, random_state=0)"
   ]
  },
  {
   "cell_type": "markdown",
   "metadata": {},
   "source": [
    "Em seguida, já é possível construir o modelo de Regressão Logística:"
   ]
  },
  {
   "cell_type": "code",
   "execution_count": 8,
   "metadata": {},
   "outputs": [],
   "source": [
    "# Instancia o modelo de regressão logística com parâmetros default\n",
    "modelo_reglog = LogisticRegression()\n",
    "\n",
    "# Treina o modelo com base nos preditores e variável alvo\n",
    "modelo_reglog.fit(preditores_treino, alvo_treino)\n",
    "\n",
    "# Prevê, para os dados do conjunto de teste, resultados para a variável alvo\n",
    "alvo_pred = modelo_reglog.predict(preditores_teste)"
   ]
  },
  {
   "cell_type": "code",
   "execution_count": 9,
   "metadata": {},
   "outputs": [
    {
     "name": "stdout",
     "output_type": "stream",
     "text": [
      "[1 0 1 1 1 0 1 1 0 1 0 0]\n"
     ]
    }
   ],
   "source": [
    "print(alvo_pred)"
   ]
  },
  {
   "cell_type": "markdown",
   "metadata": {},
   "source": [
    "Modelo treinado! E agora?\n",
    "\n",
    "Agora é preciso avaliar o quão bem o aprendizado do modelo consegue ser generalizado para outros conjuntos de dados ainda não vistos por ele. Avaliamos o desempenho do modelo comparando os dados previstos por ele com os dados reais.\n",
    "\n",
    "A **Matriz de Confusão** é utilizada para fornecer um panorama do desempenho do modelo. Seus quadrantes estarão exemplificados mais abaixo."
   ]
  },
  {
   "cell_type": "code",
   "execution_count": 10,
   "metadata": {},
   "outputs": [
    {
     "name": "stdout",
     "output_type": "stream",
     "text": [
      "[[5 2]\n",
      " [0 5]]\n"
     ]
    }
   ],
   "source": [
    "# Matriz de confusão\n",
    "print(confusion_matrix(alvo_teste, alvo_pred))"
   ]
  },
  {
   "cell_type": "code",
   "execution_count": 11,
   "metadata": {},
   "outputs": [
    {
     "data": {
      "text/plain": [
       "<matplotlib.axes._subplots.AxesSubplot at 0x11808cfd0>"
      ]
     },
     "execution_count": 11,
     "metadata": {},
     "output_type": "execute_result"
    },
    {
     "data": {
      "image/png": "[encoded data removed]",
      "text/plain": [
       "<matplotlib.figure.Figure at 0x118011390>"
      ]
     },
     "metadata": {},
     "output_type": "display_data"
    }
   ],
   "source": [
    "matriz_confusao = pd.crosstab(alvo_teste, alvo_pred, rownames=['Atual'], colnames=['Previsto'])\n",
    "\n",
    "# Gera o gráfico da matriz de confusão\n",
    "sn.heatmap(matriz_confusao, annot=True)"
   ]
  },
  {
   "cell_type": "code",
   "execution_count": 12,
   "metadata": {},
   "outputs": [
    {
     "name": "stdout",
     "output_type": "stream",
     "text": [
      "Acurácia:  0.8333333333333334\n"
     ]
    }
   ],
   "source": [
    "# Acurácia do modelo\n",
    "print('Acurácia: ', metrics.accuracy_score(alvo_teste, alvo_pred))"
   ]
  },
  {
   "cell_type": "markdown",
   "metadata": {},
   "source": [
    "#### Interpretando a previsão\n",
    "\n",
    "\n",
    "![Matriz de Confusão](imagens/confusion-matrix.png)\n",
    "\n",
    "A partir da comparação dos valores reais dos dados e do previsto pelo modelo, é possível gerar a **Matriz de Confusão** da classificação:\n",
    "\n",
    "```\n",
    "- TP = True Positives = 5\n",
    "\n",
    "Dos alunos previstos como aprovados pelo modelo, 5 foram realmente aprovados.\n",
    "\n",
    "- TN = True Negatives = 5\n",
    "\n",
    "Dos alunos previstos como reprovados pelo modelo, 5 foram realmente reprovados.\n",
    "\n",
    "- FP = False Positives = 2\n",
    "\n",
    "Dos alunos previstos como aprovados pelo modelo, 2 haviam sido reprovados.\n",
    "\n",
    "- FN = False Negatives = 0\n",
    "\n",
    "Dos alunos previstos como reprovados pelo modelo, nenhum havia sido aprovado.\n",
    "```\n"
   ]
  },
  {
   "cell_type": "markdown",
   "metadata": {},
   "source": [
    "As demais medidas avaliativas são derivadas da matriz de confusão.\n",
    "\n",
    "![Métricas de Avaliação](imagens/metrics.png)\n"
   ]
  },
  {
   "cell_type": "code",
   "execution_count": 13,
   "metadata": {},
   "outputs": [
    {
     "name": "stdout",
     "output_type": "stream",
     "text": [
      "Precisão:  0.7142857142857143\n",
      "Revocação:  1.0\n",
      "F1-Measure:  0.8333333333333333\n",
      "ROC AUC:  0.8571428571428572\n"
     ]
    }
   ],
   "source": [
    "print('Precisão: ', metrics.precision_score(alvo_teste, alvo_pred))\n",
    "\n",
    "print('Revocação: ', metrics.recall_score(alvo_teste, alvo_pred))\n",
    "\n",
    "print('F1-Measure: ', metrics.f1_score(alvo_teste, alvo_pred))\n",
    "\n",
    "print('ROC AUC: ', metrics.roc_auc_score(alvo_teste, alvo_pred))"
   ]
  },
  {
   "cell_type": "code",
   "execution_count": 113,
   "metadata": {},
   "outputs": [
    {
     "name": "stdout",
     "output_type": "stream",
     "text": [
      "22    0\n",
      "20    0\n",
      "25    1\n",
      "4     1\n",
      "10    0\n",
      "15    0\n",
      "28    1\n",
      "11    1\n",
      "18    0\n",
      "29    1\n",
      "27    0\n",
      "35    0\n",
      "Name: aprovado, dtype: int64\n",
      "[1 0 1 1 1 0 1 1 0 1 0 0]\n"
     ]
    }
   ],
   "source": [
    "print(alvo_teste)\n",
    "print(alvo_pred)"
   ]
  },
  {
   "cell_type": "markdown",
   "metadata": {},
   "source": [
    "Entendendo as métricas acima:\n",
    "\n",
    "A precisão significa \"Quantos elementos selecionados são relevantes?\", ou seja: **Dos que meu modelo classificou como positivos, quantos realmente são positivos?**\n",
    "\n",
    "Enquanto a revocação nos dá \"Quantos elementos relevantes foram selecionados?\", ou seja: **Dos realmente positivos, quantos consegui selecionar?**\n",
    "\n",
    "Dificilmente a precisão ou revocação servirão isoladamente para avaliar a eficácia da classificação do modelo. A medida F1 é uma combinação da precisão e da revocação. \n",
    "Entretanto não há uma formula pronta para selecionar a melhor métrica de avaliação, é necessário compreender o contexto e o trade-off que cada medida traz.\n"
   ]
  },
  {
   "cell_type": "code",
   "execution_count": 104,
   "metadata": {},
   "outputs": [
    {
     "name": "stdout",
     "output_type": "stream",
     "text": [
      "    enem  cra  tempo_experiencia\n",
      "22   550  2.3                  4\n",
      "20   620  3.3                  2\n",
      "25   670  3.3                  6\n",
      "4    680  3.9                  4\n",
      "10   610  2.7                  3\n",
      "15   610  3.0                  1\n",
      "28   650  3.7                  6\n",
      "11   690  3.7                  5\n",
      "18   540  2.7                  2\n",
      "29   660  3.3                  5\n",
      "27   580  2.3                  2\n",
      "35   650  2.3                  1\n",
      "22    0\n",
      "20    0\n",
      "25    1\n",
      "4     1\n",
      "10    0\n",
      "15    0\n",
      "28    1\n",
      "11    1\n",
      "18    0\n",
      "29    1\n",
      "27    0\n",
      "35    0\n",
      "Name: aprovado, dtype: int64\n",
      "[1 0 1 1 1 0 1 1 0 1 0 0]\n"
     ]
    }
   ],
   "source": [
    "# Só pra conferir:\n",
    "\n",
    "# A predição foi feita para os seguintes registros:\n",
    "print(preditores_teste) \n",
    "\n",
    "# Que possuíam a seguinte classificação:\n",
    "print(alvo_teste)\n",
    "\n",
    "# E Que obtiveram o seguinte resultado do modelo:\n",
    "print(alvo_pred)"
   ]
  },
  {
   "cell_type": "markdown",
   "metadata": {},
   "source": [
    "O modelo acerta 10 das 12 observações previstas. 10/12 =~ 0.83 ou 83% de acurácia."
   ]
  },
  {
   "cell_type": "markdown",
   "metadata": {},
   "source": [
    "#### Aplicando o modelo\n",
    "\n",
    "Treinamos o modelo para que previsse a aceitação ou não de alunos na universidade com base no seu histórico. Utilizando dados de novos alunos aplicantes, podemos prever se estes alunos serão admitidos:"
   ]
  },
  {
   "cell_type": "code",
   "execution_count": 14,
   "metadata": {},
   "outputs": [],
   "source": [
    "dados2 = {'enem': [590,740,680,610,710],\n",
    "                  'cra': [2,3.7,3.3,2.3,3],\n",
    "                  'tempo_experiencia': [3,4,6,1,5]\n",
    "                  }\n",
    "\n",
    "novas_aplicacoes = pd.DataFrame(dados2, columns= ['enem', 'cra','tempo_experiencia'])"
   ]
  },
  {
   "cell_type": "code",
   "execution_count": 15,
   "metadata": {},
   "outputs": [
    {
     "name": "stdout",
     "output_type": "stream",
     "text": [
      "   enem  cra  tempo_experiencia\n",
      "0   590  2.0                  3\n",
      "1   740  3.7                  4\n",
      "2   680  3.3                  6\n",
      "3   610  2.3                  1\n",
      "4   710  3.0                  5\n",
      "[0 1 1 0 1]\n"
     ]
    }
   ],
   "source": [
    "# Utilização do modelo anteriormente treinado (modelo_reglog) para prever novas inscrições de candidatos\n",
    "novos_resultados = modelo_reglog.predict(novas_aplicacoes)\n",
    "\n",
    "print(novas_aplicacoes)\n",
    "print(novos_resultados)"
   ]
  },
  {
   "cell_type": "markdown",
   "metadata": {},
   "source": [
    "Assim, segundo o modelo treinado: dos 5 novos alunos que aplicaram 3 conseguirão passar no processo seletivo com base no seu histórico escolar."
   ]
  },
  {
   "cell_type": "markdown",
   "metadata": {},
   "source": [
    "### 2 - Árvore de Decisão"
   ]
  },
  {
   "cell_type": "markdown",
   "metadata": {},
   "source": [
    "**Árvores de Decisão** são algoritmos utilizados no contexto de tarefas de classificação (podendo também ser utilizadas para regressão). Diferente de muitos outros algoritmos, uma das vantagens de utilizar este algoritmo é a interpretabilidade e transparência fornecidos pela própria estrutura da árvore - já que nos nós conseguimos ver os critérios de decisão utilizados para ramificação. \n",
    "\n",
    "Por exemplo: \n",
    "\n",
    "![Is a person fit?](imagens/fit.png)\n",
    "\n",
    "\n",
    "\n",
    "Mais sobre Árvores de Decisão pode ser lido [aqui](https://www.datacamp.com/community/tutorials/decision-tree-classification-python), [aqui](http://dcm.ffclrp.usp.br/~augusto/publications/2003-sistemas-inteligentes-cap5.pdf) ou [aqui](https://www.youtube.com/watch?v=PCTEn3hWDxA).\n"
   ]
  },
  {
   "cell_type": "markdown",
   "metadata": {},
   "source": [
    "##### Vamos aplicar?\n",
    "\n",
    "Neste caso, iremos utilizar os mesmos dados do exemplo anterior para fins de comparação dos modelos treinados. Para comparar modelos corretamente, é preciso que seu treinamento seja realizado com os mesmos conjuntos de treino e teste.\n",
    "\n",
    "Note que durante esse passo, no exemplo acima, existe um fator aleatório: é feita uma amostragem no dado original para compor tanto o conjunto de treino com o conjunto de teste.\n",
    "\n",
    "Relembrando os conjuntos de treino e teste:"
   ]
  },
  {
   "cell_type": "code",
   "execution_count": 16,
   "metadata": {},
   "outputs": [
    {
     "name": "stdout",
     "output_type": "stream",
     "text": [
      "Preditores Treino\n",
      "    enem  cra  tempo_experiencia\n",
      "37   580  3.3                  1\n",
      "2    690  3.3                  3\n",
      "39   690  3.7                  5\n",
      "30   640  3.0                  1\n",
      "34   680  3.3                  5\n",
      "16   580  2.7                  4\n",
      "36   670  2.7                  2\n",
      "8    740  3.3                  5\n",
      "13   680  3.3                  4\n",
      "5    730  3.7                  6\n",
      "17   650  3.7                  6\n",
      "14   770  3.3                  3\n",
      "33   660  3.3                  6\n",
      "7    720  3.3                  4\n",
      "32   660  4.0                  4\n",
      "1    750  3.9                  4\n",
      "26   660  3.7                  4\n",
      "12   710  3.7                  6\n",
      "31   620  2.7                  2\n",
      "24   570  3.0                  2\n",
      "6    690  2.3                  1\n",
      "23   550  2.7                  1\n",
      "21   600  2.0                  1\n",
      "19   590  2.3                  3\n",
      "9    690  1.7                  1\n",
      "38   590  1.7                  4\n",
      "3    710  3.7                  5\n",
      "0    780  4.0                  3\n",
      "Preditores Teste\n",
      "    enem  cra  tempo_experiencia\n",
      "22   550  2.3                  4\n",
      "20   620  3.3                  2\n",
      "25   670  3.3                  6\n",
      "4    680  3.9                  4\n",
      "10   610  2.7                  3\n",
      "15   610  3.0                  1\n",
      "28   650  3.7                  6\n",
      "11   690  3.7                  5\n",
      "18   540  2.7                  2\n",
      "29   660  3.3                  5\n",
      "27   580  2.3                  2\n",
      "35   650  2.3                  1\n",
      "Alvo Treino\n",
      "37    0\n",
      "2     1\n",
      "39    1\n",
      "30    0\n",
      "34    1\n",
      "16    0\n",
      "36    0\n",
      "8     1\n",
      "13    1\n",
      "5     1\n",
      "17    1\n",
      "14    1\n",
      "33    1\n",
      "7     1\n",
      "32    1\n",
      "1     1\n",
      "26    1\n",
      "12    1\n",
      "31    0\n",
      "24    0\n",
      "6     0\n",
      "23    0\n",
      "21    0\n",
      "19    0\n",
      "9     0\n",
      "38    0\n",
      "3     1\n",
      "0     1\n",
      "Name: aprovado, dtype: int64\n",
      "Alvo Teste\n",
      "22    0\n",
      "20    0\n",
      "25    1\n",
      "4     1\n",
      "10    0\n",
      "15    0\n",
      "28    1\n",
      "11    1\n",
      "18    0\n",
      "29    1\n",
      "27    0\n",
      "35    0\n",
      "Name: aprovado, dtype: int64\n"
     ]
    }
   ],
   "source": [
    "print(\"Preditores Treino\")\n",
    "print(preditores_treino)\n",
    "\n",
    "print(\"Preditores Teste\")\n",
    "print(preditores_teste)\n",
    "\n",
    "print(\"Alvo Treino\")\n",
    "print(alvo_treino)\n",
    "\n",
    "print(\"Alvo Teste\")\n",
    "print(alvo_teste)"
   ]
  },
  {
   "cell_type": "markdown",
   "metadata": {},
   "source": [
    "Com isso, já conseguimos construir a árvore:"
   ]
  },
  {
   "cell_type": "code",
   "execution_count": 17,
   "metadata": {},
   "outputs": [],
   "source": [
    "from sklearn.tree import DecisionTreeClassifier\n",
    "\n",
    "# Cria uma instância default\n",
    "dt = DecisionTreeClassifier()\n",
    "\n",
    "# Treina o modelo com os dados dos alunos\n",
    "arvore_decisao = dt.fit(preditores_treino, alvo_treino)"
   ]
  },
  {
   "cell_type": "code",
   "execution_count": 18,
   "metadata": {},
   "outputs": [],
   "source": [
    "# Realiza a previsão nos dados de teste\n",
    "arvore_previsao = arvore_decisao.predict(preditores_teste)"
   ]
  },
  {
   "cell_type": "code",
   "execution_count": 19,
   "metadata": {},
   "outputs": [
    {
     "name": "stdout",
     "output_type": "stream",
     "text": [
      "[0 1 1 1 0 0 1 1 0 1 0 0]\n"
     ]
    }
   ],
   "source": [
    "print(arvore_previsao)"
   ]
  },
  {
   "cell_type": "markdown",
   "metadata": {},
   "source": [
    "Treinado o modelo e feita a predição no conjunto de teste, nos resta saber o quão acurada foi a previsão do nosso modelo de árvore.\n",
    "\n",
    "Para isso, usaremos as mesmas métricas utilizadas anteriormente."
   ]
  },
  {
   "cell_type": "code",
   "execution_count": 20,
   "metadata": {},
   "outputs": [
    {
     "name": "stdout",
     "output_type": "stream",
     "text": [
      "Acurácia:  0.9166666666666666\n",
      "Precisão:  0.8333333333333334\n",
      "Revocação:  1.0\n",
      "F1-Measure:  0.9090909090909091\n",
      "ROC AUC:  0.9285714285714286\n"
     ]
    }
   ],
   "source": [
    "print(\"Acurácia: \", metrics.accuracy_score(alvo_teste, arvore_previsao))\n",
    "\n",
    "print('Precisão: ', metrics.precision_score(alvo_teste, arvore_previsao))\n",
    "\n",
    "print('Revocação: ', metrics.recall_score(alvo_teste, arvore_previsao))\n",
    "\n",
    "print('F1-Measure: ', metrics.f1_score(alvo_teste, arvore_previsao))\n",
    "\n",
    "print('ROC AUC: ', metrics.roc_auc_score(alvo_teste, arvore_previsao))"
   ]
  },
  {
   "cell_type": "code",
   "execution_count": 21,
   "metadata": {},
   "outputs": [
    {
     "name": "stdout",
     "output_type": "stream",
     "text": [
      "[[6 1]\n",
      " [0 5]]\n"
     ]
    },
    {
     "data": {
      "text/plain": [
       "<matplotlib.axes._subplots.AxesSubplot at 0x10e8b4668>"
      ]
     },
     "execution_count": 21,
     "metadata": {},
     "output_type": "execute_result"
    },
    {
     "data": {
      "image/png": "[encoded data removed]",
      "text/plain": [
       "<matplotlib.figure.Figure at 0x10e8a4ef0>"
      ]
     },
     "metadata": {},
     "output_type": "display_data"
    }
   ],
   "source": [
    "# Matriz de Confusão\n",
    "print(confusion_matrix(alvo_teste, arvore_previsao))\n",
    "\n",
    "\n",
    "matriz_confusao_arvore = pd.crosstab(alvo_teste, arvore_previsao, rownames=['Atual'], colnames=['Previsto'])\n",
    "\n",
    "# Gera o gráfico da matriz de confusão\n",
    "sn.heatmap(matriz_confusao_arvore, annot=True)"
   ]
  },
  {
   "cell_type": "markdown",
   "metadata": {},
   "source": [
    "### Para refletir?\n",
    "\n",
    "\n",
    "- O que pode ter acontecido com a árvore?\n",
    "- Qual dos modelos é mais eficaz?\n",
    "- É possível melhorar a classificação?"
   ]
  },
  {
   "cell_type": "markdown",
   "metadata": {},
   "source": [
    "-----"
   ]
  },
  {
   "cell_type": "code",
   "execution_count": 24,
   "metadata": {},
   "outputs": [],
   "source": [
    "\n",
    "\n",
    "## Comentários e outros códigos\n",
    "\n",
    "# Como selecionar variáveis?\n",
    "\n",
    "# variaveis_desejadas = ['nome', 'idade', 'peso', 'altura']\n",
    "# X = dataset_original[variaveis_desejadas] # Features\n",
    "# y = pima.label # Target variable\n",
    "\n",
    "# transformar em dummy\n",
    "# loans_relevant_enconded = pd.get_dummies(loans_data_relevent)\n"
   ]
  }
 ],
 "metadata": {
  "kernelspec": {
   "display_name": "Python 3",
   "language": "python",
   "name": "python3"
  },
  "language_info": {
   "codemirror_mode": {
    "name": "ipython",
    "version": 3
   },
   "file_extension": ".py",
   "mimetype": "text/x-python",
   "name": "python",
   "nbconvert_exporter": "python",
   "pygments_lexer": "ipython3",
   "version": "3.6.4"
  }
 },
 "nbformat": 4,
 "nbformat_minor": 2
}
