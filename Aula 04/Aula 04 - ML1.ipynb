{
 "cells": [
  {
   "cell_type": "markdown",
   "metadata": {},
   "source": [
    "# Especialização em Ciência de Dados\n",
    "## Módulo de Machine Learning I"
   ]
  },
  {
   "cell_type": "markdown",
   "metadata": {},
   "source": [
    "### Sumário\n",
    "\n",
    "- 1) Agrupamento Hierárquico\n",
    "- 2) K-Means\n",
    "\n",
    "--------"
   ]
  },
  {
   "cell_type": "code",
   "execution_count": 154,
   "metadata": {},
   "outputs": [],
   "source": [
    "# Importação das bibliotecas necessárias\n",
    "\n",
    "import pandas as pd # para criação do data frame\n",
    "import seaborn as sn # para visualização dos resultados\n",
    "\n",
    "import numpy as np\n",
    "from matplotlib import pyplot as plt\n",
    "from sklearn.cluster import AgglomerativeClustering\n",
    "import scipy.cluster.hierarchy as sch\n",
    "\n",
    "from sklearn.cluster import KMeans\n",
    "from sklearn.preprocessing import StandardScaler\n",
    "from math import sqrt"
   ]
  },
  {
   "cell_type": "code",
   "execution_count": 61,
   "metadata": {},
   "outputs": [
    {
     "data": {
      "text/html": [
       "<div>\n",
       "<style scoped>\n",
       "    .dataframe tbody tr th:only-of-type {\n",
       "        vertical-align: middle;\n",
       "    }\n",
       "\n",
       "    .dataframe tbody tr th {\n",
       "        vertical-align: top;\n",
       "    }\n",
       "\n",
       "    .dataframe thead th {\n",
       "        text-align: right;\n",
       "    }\n",
       "</style>\n",
       "<table border=\"1\" class=\"dataframe\">\n",
       "  <thead>\n",
       "    <tr style=\"text-align: right;\">\n",
       "      <th></th>\n",
       "      <th>RATING</th>\n",
       "      <th>TITLE</th>\n",
       "      <th>CREDIT</th>\n",
       "      <th>BOX OFFICE</th>\n",
       "      <th>YEAR</th>\n",
       "    </tr>\n",
       "  </thead>\n",
       "  <tbody>\n",
       "    <tr>\n",
       "      <th>0</th>\n",
       "      <td>46.0</td>\n",
       "      <td>Ghost in the Shell</td>\n",
       "      <td>Major</td>\n",
       "      <td>37.1</td>\n",
       "      <td>2017</td>\n",
       "    </tr>\n",
       "    <tr>\n",
       "      <th>1</th>\n",
       "      <td>73.0</td>\n",
       "      <td>Sing</td>\n",
       "      <td>Ash</td>\n",
       "      <td>270.3</td>\n",
       "      <td>2016</td>\n",
       "    </tr>\n",
       "    <tr>\n",
       "      <th>2</th>\n",
       "      <td>90.0</td>\n",
       "      <td>Captain America: Civil War</td>\n",
       "      <td>Natasha Romanoff/Black Widow</td>\n",
       "      <td>408.1</td>\n",
       "      <td>2016</td>\n",
       "    </tr>\n",
       "    <tr>\n",
       "      <th>3</th>\n",
       "      <td>95.0</td>\n",
       "      <td>The Jungle Book</td>\n",
       "      <td>Kaa</td>\n",
       "      <td>364.0</td>\n",
       "      <td>2016</td>\n",
       "    </tr>\n",
       "    <tr>\n",
       "      <th>4</th>\n",
       "      <td>86.0</td>\n",
       "      <td>Hail, Caesar!</td>\n",
       "      <td>DeeAnna Moran</td>\n",
       "      <td>28.0</td>\n",
       "      <td>2016</td>\n",
       "    </tr>\n",
       "    <tr>\n",
       "      <th>5</th>\n",
       "      <td>75.0</td>\n",
       "      <td>Avengers: Age of Ultron</td>\n",
       "      <td>Natasha Romanoff/Black Widow</td>\n",
       "      <td>429.2</td>\n",
       "      <td>2015</td>\n",
       "    </tr>\n",
       "    <tr>\n",
       "      <th>6</th>\n",
       "      <td>67.0</td>\n",
       "      <td>Lucy</td>\n",
       "      <td>Lucy</td>\n",
       "      <td>108.6</td>\n",
       "      <td>2014</td>\n",
       "    </tr>\n",
       "    <tr>\n",
       "      <th>7</th>\n",
       "      <td>86.0</td>\n",
       "      <td>Chef</td>\n",
       "      <td>Molly</td>\n",
       "      <td>23.7</td>\n",
       "      <td>2014</td>\n",
       "    </tr>\n",
       "    <tr>\n",
       "      <th>8</th>\n",
       "      <td>89.0</td>\n",
       "      <td>Captain America: The Winter Soldier</td>\n",
       "      <td>Natasha Romanoff/Black Widow</td>\n",
       "      <td>228.7</td>\n",
       "      <td>2014</td>\n",
       "    </tr>\n",
       "    <tr>\n",
       "      <th>9</th>\n",
       "      <td>85.0</td>\n",
       "      <td>Under the Skin</td>\n",
       "      <td>Laura</td>\n",
       "      <td>2.4</td>\n",
       "      <td>2014</td>\n",
       "    </tr>\n",
       "    <tr>\n",
       "      <th>10</th>\n",
       "      <td>95.0</td>\n",
       "      <td>Her</td>\n",
       "      <td>Samantha</td>\n",
       "      <td>18.0</td>\n",
       "      <td>2013</td>\n",
       "    </tr>\n",
       "    <tr>\n",
       "      <th>11</th>\n",
       "      <td>62.0</td>\n",
       "      <td>Hitchcock</td>\n",
       "      <td>Janet Leigh</td>\n",
       "      <td>6.1</td>\n",
       "      <td>2012</td>\n",
       "    </tr>\n",
       "    <tr>\n",
       "      <th>12</th>\n",
       "      <td>96.0</td>\n",
       "      <td>Chasing Ice</td>\n",
       "      <td>Actor</td>\n",
       "      <td>1.4</td>\n",
       "      <td>2012</td>\n",
       "    </tr>\n",
       "    <tr>\n",
       "      <th>13</th>\n",
       "      <td>92.0</td>\n",
       "      <td>Marvel's The Avengers</td>\n",
       "      <td>Natasha Romanoff/Black Widow</td>\n",
       "      <td>623.3</td>\n",
       "      <td>2012</td>\n",
       "    </tr>\n",
       "    <tr>\n",
       "      <th>14</th>\n",
       "      <td>66.0</td>\n",
       "      <td>We Bought a Zoo</td>\n",
       "      <td>Kelly Foster</td>\n",
       "      <td>72.8</td>\n",
       "      <td>2011</td>\n",
       "    </tr>\n",
       "    <tr>\n",
       "      <th>15</th>\n",
       "      <td>72.0</td>\n",
       "      <td>Iron Man 2</td>\n",
       "      <td>Natalie Rushman/Black Widow</td>\n",
       "      <td>312.1</td>\n",
       "      <td>2010</td>\n",
       "    </tr>\n",
       "    <tr>\n",
       "      <th>16</th>\n",
       "      <td>40.0</td>\n",
       "      <td>He's Just Not That Into You</td>\n",
       "      <td>Anna</td>\n",
       "      <td>93.8</td>\n",
       "      <td>2009</td>\n",
       "    </tr>\n",
       "    <tr>\n",
       "      <th>17</th>\n",
       "      <td>14.0</td>\n",
       "      <td>The Spirit</td>\n",
       "      <td>Silken Floss</td>\n",
       "      <td>19.8</td>\n",
       "      <td>2008</td>\n",
       "    </tr>\n",
       "    <tr>\n",
       "      <th>18</th>\n",
       "      <td>81.0</td>\n",
       "      <td>Vicky Cristina Barcelona</td>\n",
       "      <td>Cristina</td>\n",
       "      <td>23.2</td>\n",
       "      <td>2008</td>\n",
       "    </tr>\n",
       "    <tr>\n",
       "      <th>19</th>\n",
       "      <td>42.0</td>\n",
       "      <td>The Other Boleyn Girl</td>\n",
       "      <td>Mary Boleyn</td>\n",
       "      <td>26.9</td>\n",
       "      <td>2008</td>\n",
       "    </tr>\n",
       "    <tr>\n",
       "      <th>20</th>\n",
       "      <td>34.0</td>\n",
       "      <td>The Nanny Diaries</td>\n",
       "      <td>Annie Braddock</td>\n",
       "      <td>25.9</td>\n",
       "      <td>2007</td>\n",
       "    </tr>\n",
       "    <tr>\n",
       "      <th>21</th>\n",
       "      <td>76.0</td>\n",
       "      <td>The Prestige</td>\n",
       "      <td>Olivia Wenscombe</td>\n",
       "      <td>53.1</td>\n",
       "      <td>2006</td>\n",
       "    </tr>\n",
       "    <tr>\n",
       "      <th>22</th>\n",
       "      <td>32.0</td>\n",
       "      <td>The Black Dahlia</td>\n",
       "      <td>Kay Lake</td>\n",
       "      <td>22.6</td>\n",
       "      <td>2006</td>\n",
       "    </tr>\n",
       "    <tr>\n",
       "      <th>23</th>\n",
       "      <td>40.0</td>\n",
       "      <td>Scoop</td>\n",
       "      <td>Sondra Pransky</td>\n",
       "      <td>10.5</td>\n",
       "      <td>2006</td>\n",
       "    </tr>\n",
       "    <tr>\n",
       "      <th>24</th>\n",
       "      <td>77.0</td>\n",
       "      <td>Match Point</td>\n",
       "      <td>Nola Rice</td>\n",
       "      <td>23.1</td>\n",
       "      <td>2005</td>\n",
       "    </tr>\n",
       "    <tr>\n",
       "      <th>25</th>\n",
       "      <td>40.0</td>\n",
       "      <td>The Island</td>\n",
       "      <td>Jordan Two Delta/Sarah Jordan</td>\n",
       "      <td>35.9</td>\n",
       "      <td>2005</td>\n",
       "    </tr>\n",
       "    <tr>\n",
       "      <th>26</th>\n",
       "      <td>83.0</td>\n",
       "      <td>In Good Company</td>\n",
       "      <td>Alex Foreman</td>\n",
       "      <td>45.5</td>\n",
       "      <td>2004</td>\n",
       "    </tr>\n",
       "    <tr>\n",
       "      <th>27</th>\n",
       "      <td>68.0</td>\n",
       "      <td>The Spongebob Squarepants Movie</td>\n",
       "      <td>Mindy</td>\n",
       "      <td>85.4</td>\n",
       "      <td>2004</td>\n",
       "    </tr>\n",
       "    <tr>\n",
       "      <th>28</th>\n",
       "      <td>17.0</td>\n",
       "      <td>The Perfect Score</td>\n",
       "      <td>Francesca</td>\n",
       "      <td>10.3</td>\n",
       "      <td>2004</td>\n",
       "    </tr>\n",
       "    <tr>\n",
       "      <th>29</th>\n",
       "      <td>72.0</td>\n",
       "      <td>Girl With a Pearl Earring</td>\n",
       "      <td>Griet</td>\n",
       "      <td>11.6</td>\n",
       "      <td>2004</td>\n",
       "    </tr>\n",
       "    <tr>\n",
       "      <th>30</th>\n",
       "      <td>95.0</td>\n",
       "      <td>Lost In Translation</td>\n",
       "      <td>Charlotte</td>\n",
       "      <td>44.6</td>\n",
       "      <td>2003</td>\n",
       "    </tr>\n",
       "    <tr>\n",
       "      <th>31</th>\n",
       "      <td>48.0</td>\n",
       "      <td>Eight Legged Freaks</td>\n",
       "      <td>Ashley Parker</td>\n",
       "      <td>17.3</td>\n",
       "      <td>2002</td>\n",
       "    </tr>\n",
       "    <tr>\n",
       "      <th>32</th>\n",
       "      <td>81.0</td>\n",
       "      <td>The Man Who Wasn't There</td>\n",
       "      <td>Birdy Abundas</td>\n",
       "      <td>7.5</td>\n",
       "      <td>2001</td>\n",
       "    </tr>\n",
       "    <tr>\n",
       "      <th>33</th>\n",
       "      <td>92.0</td>\n",
       "      <td>Ghost World</td>\n",
       "      <td>Rebecca</td>\n",
       "      <td>4.7</td>\n",
       "      <td>2001</td>\n",
       "    </tr>\n",
       "  </tbody>\n",
       "</table>\n",
       "</div>"
      ],
      "text/plain": [
       "    RATING                                TITLE  \\\n",
       "0     46.0                   Ghost in the Shell   \n",
       "1     73.0                                 Sing   \n",
       "2     90.0           Captain America: Civil War   \n",
       "3     95.0                      The Jungle Book   \n",
       "4     86.0                        Hail, Caesar!   \n",
       "5     75.0              Avengers: Age of Ultron   \n",
       "6     67.0                                 Lucy   \n",
       "7     86.0                                 Chef   \n",
       "8     89.0  Captain America: The Winter Soldier   \n",
       "9     85.0                       Under the Skin   \n",
       "10    95.0                                  Her   \n",
       "11    62.0                            Hitchcock   \n",
       "12    96.0                          Chasing Ice   \n",
       "13    92.0                Marvel's The Avengers   \n",
       "14    66.0                      We Bought a Zoo   \n",
       "15    72.0                           Iron Man 2   \n",
       "16    40.0          He's Just Not That Into You   \n",
       "17    14.0                           The Spirit   \n",
       "18    81.0             Vicky Cristina Barcelona   \n",
       "19    42.0                The Other Boleyn Girl   \n",
       "20    34.0                    The Nanny Diaries   \n",
       "21    76.0                         The Prestige   \n",
       "22    32.0                     The Black Dahlia   \n",
       "23    40.0                                Scoop   \n",
       "24    77.0                          Match Point   \n",
       "25    40.0                           The Island   \n",
       "26    83.0                      In Good Company   \n",
       "27    68.0      The Spongebob Squarepants Movie   \n",
       "28    17.0                    The Perfect Score   \n",
       "29    72.0            Girl With a Pearl Earring   \n",
       "30    95.0                  Lost In Translation   \n",
       "31    48.0                  Eight Legged Freaks   \n",
       "32    81.0             The Man Who Wasn't There   \n",
       "33    92.0                          Ghost World   \n",
       "\n",
       "                           CREDIT  BOX OFFICE  YEAR  \n",
       "0                           Major        37.1  2017  \n",
       "1                             Ash       270.3  2016  \n",
       "2    Natasha Romanoff/Black Widow       408.1  2016  \n",
       "3                             Kaa       364.0  2016  \n",
       "4                   DeeAnna Moran        28.0  2016  \n",
       "5    Natasha Romanoff/Black Widow       429.2  2015  \n",
       "6                            Lucy       108.6  2014  \n",
       "7                           Molly        23.7  2014  \n",
       "8    Natasha Romanoff/Black Widow       228.7  2014  \n",
       "9                           Laura         2.4  2014  \n",
       "10                       Samantha        18.0  2013  \n",
       "11                    Janet Leigh         6.1  2012  \n",
       "12                          Actor         1.4  2012  \n",
       "13   Natasha Romanoff/Black Widow       623.3  2012  \n",
       "14                   Kelly Foster        72.8  2011  \n",
       "15    Natalie Rushman/Black Widow       312.1  2010  \n",
       "16                           Anna        93.8  2009  \n",
       "17                   Silken Floss        19.8  2008  \n",
       "18                       Cristina        23.2  2008  \n",
       "19                    Mary Boleyn        26.9  2008  \n",
       "20                 Annie Braddock        25.9  2007  \n",
       "21               Olivia Wenscombe        53.1  2006  \n",
       "22                       Kay Lake        22.6  2006  \n",
       "23                 Sondra Pransky        10.5  2006  \n",
       "24                      Nola Rice        23.1  2005  \n",
       "25  Jordan Two Delta/Sarah Jordan        35.9  2005  \n",
       "26                   Alex Foreman        45.5  2004  \n",
       "27                          Mindy        85.4  2004  \n",
       "28                      Francesca        10.3  2004  \n",
       "29                          Griet        11.6  2004  \n",
       "30                      Charlotte        44.6  2003  \n",
       "31                  Ashley Parker        17.3  2002  \n",
       "32                  Birdy Abundas         7.5  2001  \n",
       "33                        Rebecca         4.7  2001  "
      ]
     },
     "execution_count": 61,
     "metadata": {},
     "output_type": "execute_result"
    }
   ],
   "source": [
    "# Importando os dados \n",
    "filmes = pd.read_csv(\"filmes-scarlett-johanssson.csv\")\n",
    "\n",
    "# Exibindo as primeiras linhas do dado\n",
    "filmes"
   ]
  },
  {
   "cell_type": "markdown",
   "metadata": {},
   "source": [
    "### Nosso Problema"
   ]
  },
  {
   "cell_type": "markdown",
   "metadata": {},
   "source": [
    "O tipo de problema que desejamos responder com agrupamentos é ligeiramente diferente do que respondemos com regressão e classificação. **O objetivo é encontrar padrões que denotem grupos, agrupamentos de ocorrências com características semelhantes**.\n",
    "\n",
    "Neste caso, queremos saber se *existem tipos de filmes claramente diferentes em termos de sucesso na crítica e público entre os filmes feitos por Scarlett Johansson*?"
   ]
  },
  {
   "cell_type": "markdown",
   "metadata": {},
   "source": [
    "### Dicionário de dados"
   ]
  },
  {
   "cell_type": "markdown",
   "metadata": {},
   "source": [
    "* `RATING`: Avaliação feita pelos usuários e críticos no Rotten Tomatoes\n",
    "* `TITLE`: O título do filme\n",
    "* `CREDIT`: Que papel Scarlett desempenhou neste filme\n",
    "* `BOX OFFICE`: Quantos milhões de dólares o filme lucrou em bilheterias nos EUA\n",
    "* `YEAR`: Ano de lançamento do filme"
   ]
  },
  {
   "cell_type": "code",
   "execution_count": 57,
   "metadata": {},
   "outputs": [
    {
     "name": "stdout",
     "output_type": "stream",
     "text": [
      "<class 'pandas.core.frame.DataFrame'>\n",
      "RangeIndex: 34 entries, 0 to 33\n",
      "Data columns (total 5 columns):\n",
      "RATING        34 non-null float64\n",
      "TITLE         34 non-null object\n",
      "CREDIT        34 non-null object\n",
      "BOX OFFICE    34 non-null float64\n",
      "YEAR          34 non-null int64\n",
      "dtypes: float64(2), int64(1), object(2)\n",
      "memory usage: 1.4+ KB\n"
     ]
    }
   ],
   "source": [
    "# Conhecendo os tipos dos dados\n",
    "filmes.info()"
   ]
  },
  {
   "cell_type": "code",
   "execution_count": 7,
   "metadata": {},
   "outputs": [
    {
     "data": {
      "text/html": [
       "<div>\n",
       "<style scoped>\n",
       "    .dataframe tbody tr th:only-of-type {\n",
       "        vertical-align: middle;\n",
       "    }\n",
       "\n",
       "    .dataframe tbody tr th {\n",
       "        vertical-align: top;\n",
       "    }\n",
       "\n",
       "    .dataframe thead th {\n",
       "        text-align: right;\n",
       "    }\n",
       "</style>\n",
       "<table border=\"1\" class=\"dataframe\">\n",
       "  <thead>\n",
       "    <tr style=\"text-align: right;\">\n",
       "      <th></th>\n",
       "      <th>RATING</th>\n",
       "      <th>BOX OFFICE</th>\n",
       "      <th>YEAR</th>\n",
       "    </tr>\n",
       "  </thead>\n",
       "  <tbody>\n",
       "    <tr>\n",
       "      <th>count</th>\n",
       "      <td>34.000000</td>\n",
       "      <td>34.000000</td>\n",
       "      <td>34.000000</td>\n",
       "    </tr>\n",
       "    <tr>\n",
       "      <th>mean</th>\n",
       "      <td>67.852941</td>\n",
       "      <td>102.808824</td>\n",
       "      <td>2009.205882</td>\n",
       "    </tr>\n",
       "    <tr>\n",
       "      <th>std</th>\n",
       "      <td>23.817656</td>\n",
       "      <td>154.105724</td>\n",
       "      <td>4.989561</td>\n",
       "    </tr>\n",
       "    <tr>\n",
       "      <th>min</th>\n",
       "      <td>14.000000</td>\n",
       "      <td>1.400000</td>\n",
       "      <td>2001.000000</td>\n",
       "    </tr>\n",
       "    <tr>\n",
       "      <th>25%</th>\n",
       "      <td>46.500000</td>\n",
       "      <td>17.475000</td>\n",
       "      <td>2005.000000</td>\n",
       "    </tr>\n",
       "    <tr>\n",
       "      <th>50%</th>\n",
       "      <td>74.000000</td>\n",
       "      <td>27.450000</td>\n",
       "      <td>2008.500000</td>\n",
       "    </tr>\n",
       "    <tr>\n",
       "      <th>75%</th>\n",
       "      <td>86.000000</td>\n",
       "      <td>91.700000</td>\n",
       "      <td>2014.000000</td>\n",
       "    </tr>\n",
       "    <tr>\n",
       "      <th>max</th>\n",
       "      <td>96.000000</td>\n",
       "      <td>623.300000</td>\n",
       "      <td>2017.000000</td>\n",
       "    </tr>\n",
       "  </tbody>\n",
       "</table>\n",
       "</div>"
      ],
      "text/plain": [
       "          RATING  BOX OFFICE         YEAR\n",
       "count  34.000000   34.000000    34.000000\n",
       "mean   67.852941  102.808824  2009.205882\n",
       "std    23.817656  154.105724     4.989561\n",
       "min    14.000000    1.400000  2001.000000\n",
       "25%    46.500000   17.475000  2005.000000\n",
       "50%    74.000000   27.450000  2008.500000\n",
       "75%    86.000000   91.700000  2014.000000\n",
       "max    96.000000  623.300000  2017.000000"
      ]
     },
     "execution_count": 7,
     "metadata": {},
     "output_type": "execute_result"
    }
   ],
   "source": [
    "# Sumário das características numéricas\n",
    "filmes.describe()"
   ]
  },
  {
   "cell_type": "markdown",
   "metadata": {},
   "source": [
    "No contexto do nosso problema, queremos diferenciar filmes em relação ao sucesso na crítica e público. Das características disponíveis no dataset, as variáveis que denotam isso são: **RATING** e **BOX OFFICE**.\n",
    "\n",
    "Selecionando apenas as colunas que temos interesse:"
   ]
  },
  {
   "cell_type": "code",
   "execution_count": 58,
   "metadata": {},
   "outputs": [],
   "source": [
    "filmes_filtro = filmes[['RATING', 'BOX OFFICE']] "
   ]
  },
  {
   "cell_type": "code",
   "execution_count": 59,
   "metadata": {},
   "outputs": [
    {
     "name": "stdout",
     "output_type": "stream",
     "text": [
      "<class 'pandas.core.frame.DataFrame'>\n",
      "RangeIndex: 34 entries, 0 to 33\n",
      "Data columns (total 2 columns):\n",
      "RATING        34 non-null float64\n",
      "BOX OFFICE    34 non-null float64\n",
      "dtypes: float64(2)\n",
      "memory usage: 624.0 bytes\n"
     ]
    }
   ],
   "source": [
    "filmes_filtro.info()"
   ]
  },
  {
   "cell_type": "markdown",
   "metadata": {},
   "source": [
    "## Agrupamento Hierárquico"
   ]
  },
  {
   "cell_type": "markdown",
   "metadata": {},
   "source": [
    "A partir disso já conseguimos realizar a primeira visualização de grupos nos dados:"
   ]
  },
  {
   "cell_type": "code",
   "execution_count": 64,
   "metadata": {},
   "outputs": [
    {
     "data": {
      "image/png": "[encoded data removed]",
      "text/plain": [
       "<matplotlib.figure.Figure at 0x1a21962550>"
      ]
     },
     "metadata": {},
     "output_type": "display_data"
    }
   ],
   "source": [
    "dendrograma = sch.dendrogram(sch.linkage(filmes_filtro, method='ward'))\n",
    "plt.title('Dendrograma')\n",
    "plt.xlabel('Filmes')\n",
    "plt.ylabel('Distâncias Euclidianas')\n",
    "plt.show()\n"
   ]
  },
  {
   "cell_type": "markdown",
   "metadata": {},
   "source": [
    "> A distância vertical no gráfico representa a distância entre as observações/grupos, a dissimilaridade entre aquelas observações ou grupos (a depender do nível observado). Uma maneira comum para analisar a quantidade de grupos no conjunto de dados é traçar linhas horizontais no dendrograma e verificar a quantidade de grupos evidentes e, em seguida, verificar a distância entre eles - nos interessa uma maior distância intergrupo. \n",
    "Outra maneira é através do [método do joelho/cotovelo](https://medium.com/pizzadedados/kmeans-e-metodo-do-cotovelo-94ded9fdf3a9)."
   ]
  },
  {
   "cell_type": "markdown",
   "metadata": {},
   "source": [
    "À primeira vista, vemos a presença de 2 grandes grupos. Com arestas verdes, há 3 agrupamentos de dados com uma distância pequena entre si, entretanto com uma distância maior em relação aos agrupamentos mais abaixo.\n",
    "\n",
    "Do lado vermelho, essa distância já é menos evidente. \n",
    "\n",
    "Traçando uma linha pouco abaixo de y=400, temos **3 agrupamentos de dados**. \n",
    "\n",
    "Traçando uma linha em ~y=100, temos **6 agrupamentos de dados**."
   ]
  },
  {
   "cell_type": "markdown",
   "metadata": {},
   "source": [
    "#### Construindo o taggeamento dos grupos"
   ]
  },
  {
   "cell_type": "code",
   "execution_count": 66,
   "metadata": {},
   "outputs": [],
   "source": [
    "modelo_hierarquico = AgglomerativeClustering(n_clusters = 3, affinity='euclidean', linkage='ward')\n",
    "\n",
    "# O Ward tenta minimizar a variância em cada grupo.\n",
    "# ward, single, average, and complete"
   ]
  },
  {
   "cell_type": "code",
   "execution_count": 48,
   "metadata": {},
   "outputs": [
    {
     "data": {
      "text/plain": [
       "AgglomerativeClustering(affinity='euclidean', compute_full_tree='auto',\n",
       "            connectivity=None, linkage='ward', memory=None, n_clusters=3,\n",
       "            pooling_func=<function mean at 0x1133fef28>)"
      ]
     },
     "execution_count": 48,
     "metadata": {},
     "output_type": "execute_result"
    }
   ],
   "source": [
    "modelo_hierarquico"
   ]
  },
  {
   "cell_type": "code",
   "execution_count": 80,
   "metadata": {},
   "outputs": [
    {
     "data": {
      "text/plain": [
       "array([1, 0, 0, 0, 1, 0, 1, 1, 0, 1, 1, 1, 1, 2, 1, 0, 1, 1, 1, 1, 1, 1,\n",
       "       1, 1, 1, 1, 1, 1, 1, 1, 1, 1, 1, 1])"
      ]
     },
     "execution_count": 80,
     "metadata": {},
     "output_type": "execute_result"
    }
   ],
   "source": [
    "modelo_hierarquico.fit_predict(filmes_filtro)"
   ]
  },
  {
   "cell_type": "code",
   "execution_count": 81,
   "metadata": {},
   "outputs": [
    {
     "name": "stdout",
     "output_type": "stream",
     "text": [
      "[1 0 0 0 1 0 1 1 0 1 1 1 1 2 1 0 1 1 1 1 1 1 1 1 1 1 1 1 1 1 1 1 1 1]\n"
     ]
    }
   ],
   "source": [
    "print(modelo_hierarquico.labels_)"
   ]
  },
  {
   "cell_type": "markdown",
   "metadata": {},
   "source": [
    "A predição retorna justamente um array de inteiros correspondentes a identificação dos grupos traçados."
   ]
  },
  {
   "cell_type": "markdown",
   "metadata": {},
   "source": [
    "Visualizando os grupos identificados:"
   ]
  },
  {
   "cell_type": "code",
   "execution_count": 122,
   "metadata": {},
   "outputs": [
    {
     "data": {
      "text/plain": [
       "<matplotlib.axes._subplots.AxesSubplot at 0x1a21d98518>"
      ]
     },
     "execution_count": 122,
     "metadata": {},
     "output_type": "execute_result"
    },
    {
     "data": {
      "image/png": "[encoded data removed]",
      "text/plain": [
       "<matplotlib.figure.Figure at 0x1a21abc0b8>"
      ]
     },
     "metadata": {},
     "output_type": "display_data"
    }
   ],
   "source": [
    "#plt.scatter(filmes_filtro.as_matrix(columns=filmes_filtro.columns[0:]),filmes_filtro.as_matrix(columns=filmes_filtro.columns[1:]),c=modelo_hierarquico.labels_, cmap='rainbow')\n",
    "\n",
    "filmes_filtro.plot.scatter(x='RATING', y='BOX OFFICE', c=modelo_hierarquico.labels_, cmap='rainbow')"
   ]
  },
  {
   "cell_type": "markdown",
   "metadata": {},
   "source": [
    "A partir do modelo foram identificados 3 grupos de filmes:\n",
    " \n",
    "* Vermelho: Filmes que faturaram muito dinheiro com bilheteria e que tiveram uma ótima boa avaliação dos usuários;\n",
    "* Verde: Filmes não faturaram muito em termos de bilheteria, entretanto a avaliação dos usuários varia bastante - podendo chegar até a ser melhor avaliado do que o filme que melhor faturou;\n",
    "* Roxo: Um grupo mediano, que faturou razoávelmente e que teve uma boa aceitação pela crítica."
   ]
  },
  {
   "cell_type": "markdown",
   "metadata": {},
   "source": [
    "### E se utilizássemos um número diferente de grupos?"
   ]
  },
  {
   "cell_type": "code",
   "execution_count": 68,
   "metadata": {},
   "outputs": [],
   "source": [
    "modelo_hierarquico_dois = AgglomerativeClustering(n_clusters = 5, affinity='euclidean', linkage='ward')"
   ]
  },
  {
   "cell_type": "code",
   "execution_count": 71,
   "metadata": {},
   "outputs": [],
   "source": [
    "modelo_hierarquico_dois.fit_predict(filmes_filtro)\n",
    "\n",
    "predicao_dois = modelo_hierarquico_dois.fit_predict(filmes_filtro)"
   ]
  },
  {
   "cell_type": "code",
   "execution_count": 73,
   "metadata": {},
   "outputs": [
    {
     "data": {
      "text/plain": [
       "array([0, 1, 3, 3, 0, 3, 4, 0, 1, 0, 0, 0, 0, 2, 4, 1, 4, 0, 0, 0, 0, 0,\n",
       "       0, 0, 0, 0, 0, 4, 0, 0, 0, 0, 0, 0])"
      ]
     },
     "execution_count": 73,
     "metadata": {},
     "output_type": "execute_result"
    }
   ],
   "source": [
    "predicao_dois"
   ]
  },
  {
   "cell_type": "code",
   "execution_count": 118,
   "metadata": {},
   "outputs": [
    {
     "data": {
      "text/plain": [
       "<matplotlib.axes._subplots.AxesSubplot at 0x1a21ad4b38>"
      ]
     },
     "execution_count": 118,
     "metadata": {},
     "output_type": "execute_result"
    },
    {
     "data": {
      "image/png": "[encoded data removed]",
      "text/plain": [
       "<matplotlib.figure.Figure at 0x1a21b5fc88>"
      ]
     },
     "metadata": {},
     "output_type": "display_data"
    }
   ],
   "source": [
    "filmes_filtro.plot.scatter(x='RATING', y='BOX OFFICE', c=modelo_hierarquico_dois.labels_, cmap='rainbow')"
   ]
  },
  {
   "cell_type": "markdown",
   "metadata": {},
   "source": [
    "### E se incluíssemos apenas a avaliação dos usuários? Geraríamos grupos diferentes?"
   ]
  },
  {
   "cell_type": "code",
   "execution_count": 119,
   "metadata": {},
   "outputs": [
    {
     "data": {
      "text/html": [
       "<div>\n",
       "<style scoped>\n",
       "    .dataframe tbody tr th:only-of-type {\n",
       "        vertical-align: middle;\n",
       "    }\n",
       "\n",
       "    .dataframe tbody tr th {\n",
       "        vertical-align: top;\n",
       "    }\n",
       "\n",
       "    .dataframe thead th {\n",
       "        text-align: right;\n",
       "    }\n",
       "</style>\n",
       "<table border=\"1\" class=\"dataframe\">\n",
       "  <thead>\n",
       "    <tr style=\"text-align: right;\">\n",
       "      <th></th>\n",
       "      <th>RATING</th>\n",
       "      <th>TITLE</th>\n",
       "      <th>CREDIT</th>\n",
       "      <th>BOX OFFICE</th>\n",
       "      <th>YEAR</th>\n",
       "    </tr>\n",
       "  </thead>\n",
       "  <tbody>\n",
       "    <tr>\n",
       "      <th>0</th>\n",
       "      <td>46.0</td>\n",
       "      <td>Ghost in the Shell</td>\n",
       "      <td>Major</td>\n",
       "      <td>37.1</td>\n",
       "      <td>2017</td>\n",
       "    </tr>\n",
       "    <tr>\n",
       "      <th>1</th>\n",
       "      <td>73.0</td>\n",
       "      <td>Sing</td>\n",
       "      <td>Ash</td>\n",
       "      <td>270.3</td>\n",
       "      <td>2016</td>\n",
       "    </tr>\n",
       "    <tr>\n",
       "      <th>2</th>\n",
       "      <td>90.0</td>\n",
       "      <td>Captain America: Civil War</td>\n",
       "      <td>Natasha Romanoff/Black Widow</td>\n",
       "      <td>408.1</td>\n",
       "      <td>2016</td>\n",
       "    </tr>\n",
       "    <tr>\n",
       "      <th>3</th>\n",
       "      <td>95.0</td>\n",
       "      <td>The Jungle Book</td>\n",
       "      <td>Kaa</td>\n",
       "      <td>364.0</td>\n",
       "      <td>2016</td>\n",
       "    </tr>\n",
       "    <tr>\n",
       "      <th>4</th>\n",
       "      <td>86.0</td>\n",
       "      <td>Hail, Caesar!</td>\n",
       "      <td>DeeAnna Moran</td>\n",
       "      <td>28.0</td>\n",
       "      <td>2016</td>\n",
       "    </tr>\n",
       "  </tbody>\n",
       "</table>\n",
       "</div>"
      ],
      "text/plain": [
       "   RATING                       TITLE                        CREDIT  \\\n",
       "0    46.0          Ghost in the Shell                         Major   \n",
       "1    73.0                        Sing                           Ash   \n",
       "2    90.0  Captain America: Civil War  Natasha Romanoff/Black Widow   \n",
       "3    95.0             The Jungle Book                           Kaa   \n",
       "4    86.0               Hail, Caesar!                 DeeAnna Moran   \n",
       "\n",
       "   BOX OFFICE  YEAR  \n",
       "0        37.1  2017  \n",
       "1       270.3  2016  \n",
       "2       408.1  2016  \n",
       "3       364.0  2016  \n",
       "4        28.0  2016  "
      ]
     },
     "execution_count": 119,
     "metadata": {},
     "output_type": "execute_result"
    }
   ],
   "source": [
    "filmes.head()"
   ]
  },
  {
   "cell_type": "code",
   "execution_count": 120,
   "metadata": {},
   "outputs": [],
   "source": [
    "filmes_filtod = filmes[['RATING']] "
   ]
  },
  {
   "cell_type": "code",
   "execution_count": 121,
   "metadata": {},
   "outputs": [
    {
     "data": {
      "image/png": "[encoded data removed]",
      "text/plain": [
       "<matplotlib.figure.Figure at 0x1a21c685f8>"
      ]
     },
     "metadata": {},
     "output_type": "display_data"
    }
   ],
   "source": [
    "dendrograma = sch.dendrogram(sch.linkage(filmes_filtod, method='ward'))\n",
    "plt.title('Dendrograma')\n",
    "plt.xlabel('Filmes')\n",
    "plt.ylabel('Distâncias Euclidianas')\n",
    "plt.show()"
   ]
  },
  {
   "cell_type": "markdown",
   "metadata": {},
   "source": [
    "Já vemos uma considerável mudança na configuração dos grupos. "
   ]
  },
  {
   "cell_type": "markdown",
   "metadata": {},
   "source": [
    "Agrupamentos sempre irão gerar grupos, o que não quer dizer que eles são úteis."
   ]
  },
  {
   "cell_type": "markdown",
   "metadata": {},
   "source": [
    "> **A escala das tem influência no cálculo das distâncias?**\n",
    "**Como solucionar isso?** Neste caso, Box Office tem uma escala completamente diferente (e desproporcional) a Rating. Já que isso influencia no cálculo das distâncias: SCALE!"
   ]
  },
  {
   "cell_type": "markdown",
   "metadata": {},
   "source": [
    "O que mais:\n",
    "    \n",
    "    * Plotar o nome/código dos filmes nos pontos do gráfico\n",
    "    * Scale e/ou PCA\n",
    "    * Variar o número de grupos e verificar a saída"
   ]
  },
  {
   "cell_type": "markdown",
   "metadata": {},
   "source": [
    "## K-Means"
   ]
  },
  {
   "cell_type": "markdown",
   "metadata": {},
   "source": [
    "O K-Means também é um algoritmo de agrupamento (não-hierárquico) bastante utilizado.\n",
    "Utilizaremos este algoritmo para responder a mesma questão acima e ver se temos uma diferenciação nos grupos gerados."
   ]
  },
  {
   "cell_type": "code",
   "execution_count": 126,
   "metadata": {},
   "outputs": [
    {
     "name": "stdout",
     "output_type": "stream",
     "text": [
      "<class 'pandas.core.frame.DataFrame'>\n",
      "RangeIndex: 34 entries, 0 to 33\n",
      "Data columns (total 2 columns):\n",
      "RATING        34 non-null float64\n",
      "BOX OFFICE    34 non-null float64\n",
      "dtypes: float64(2)\n",
      "memory usage: 624.0 bytes\n"
     ]
    }
   ],
   "source": [
    "filmes_filtro.info()"
   ]
  },
  {
   "cell_type": "markdown",
   "metadata": {},
   "source": [
    "Por intuição, se tivéssemos que determinar a quantidade ótima de grupos para passar como parâmetro do modelo, teríamos que rodar o K-Means n vezes e analisar cada resultado de agrupamento - o que é pouco prático. \n",
    "\n",
    "Quando aumentamos a quantidade de grupos indefinidamente, as dissimilaridade entre grupos cai - aumentando a heterogeneidade de cada grupo. Daí a importância de encontrar o valor ótimo para a quantidade de grupos buscado: encontrar uma alta similaridade entre membros do mesmo grupo e baixa similaridade entre grupos distintos (ou membros de grupos distintos).\n",
    "\n",
    "Outro modo (além da distância) de determinar o número de grupos a serem passados como parâmetro do modelo é o método do joelho ou do cotovelo.\n",
    "\n",
    "A função abaixo calcula 14 vezes o K-Means, gerando uma saída que pode resultar entre 2 e 15 grupos distintos."
   ]
  },
  {
   "cell_type": "code",
   "execution_count": 150,
   "metadata": {},
   "outputs": [],
   "source": [
    "def calculate_wcss(data):\n",
    "    wcss = []\n",
    "    for n in range(2, 16):\n",
    "        kmeans = KMeans(n_clusters = n)\n",
    "        kmeans.fit(X = data)\n",
    "        wcss.append(kmeans.inertia_)\n",
    "\n",
    "    return wcss"
   ]
  },
  {
   "cell_type": "markdown",
   "metadata": {},
   "source": [
    "Com isso, calculamos o WCSS (soma dos quadrados intra-cluster) para cada resultado do K-Means. Dado que o objetivo é minimizar o WCSS, vamos ao gráfico:"
   ]
  },
  {
   "cell_type": "code",
   "execution_count": 147,
   "metadata": {},
   "outputs": [
    {
     "data": {
      "text/plain": [
       "Text(0,0.5,'WCSS')"
      ]
     },
     "execution_count": 147,
     "metadata": {},
     "output_type": "execute_result"
    },
    {
     "data": {
      "image/png": "[encoded data removed]",
      "text/plain": [
       "<matplotlib.figure.Figure at 0x1a225b79e8>"
      ]
     },
     "metadata": {},
     "output_type": "display_data"
    }
   ],
   "source": [
    "# Soma dos quadrados intra-cluster - WCSS (within- clusters sum-of-squares) \n",
    "plt.plot(range(2, 16), calculate_wcss(filmes_filtro))\n",
    "plt.title('Método do Joelho ou Cotovelo')\n",
    "plt.xlabel('Número de clusters')\n",
    "plt.ylabel('WCSS')"
   ]
  },
  {
   "cell_type": "code",
   "execution_count": 148,
   "metadata": {},
   "outputs": [
    {
     "data": {
      "text/plain": [
       "[139777.59470899473,\n",
       " 68652.0051851852,\n",
       " 43163.33185185184,\n",
       " 27143.06695652174,\n",
       " 14192.688968253971,\n",
       " 11042.238968253967,\n",
       " 8346.562111111112,\n",
       " 6735.257111111112,\n",
       " 5445.43528138528,\n",
       " 4836.719857142856,\n",
       " 3885.397999999999,\n",
       " 3093.9593333333323,\n",
       " 2373.0911904761897,\n",
       " 1949.2793333333327]"
      ]
     },
     "execution_count": 148,
     "metadata": {},
     "output_type": "execute_result"
    }
   ],
   "source": [
    "soma_dos_quadrados = calculate_wcss(filmes_filtro)\n",
    "\n",
    "soma_dos_quadrados"
   ]
  },
  {
   "cell_type": "markdown",
   "metadata": {},
   "source": [
    "Já temos os valores da soma dos quadrados entra grupos. Como utilizamos isso para escolher o número de grupos?\n",
    "\n",
    "\"O ponto que indica o equilíbrio entre maior homogeneidade dentro do grupo e a maior diferença entre grupos, é o ponto da curva mais distante de uma reta traçada entre\" o primeiro e o último ponto do gráfico acima. Isso pode ser calculado a partir da distância entre um ponto e uma reta.\n",
    "\n",
    "A função abaixo calcula a distância entre cada ponto da curva e essa curva imaginária entre o primeiro o último ponto, nos retornando o ponto de distância máxima."
   ]
  },
  {
   "cell_type": "code",
   "execution_count": null,
   "metadata": {},
   "outputs": [],
   "source": [
    "def optimal_number_of_clusters(wcss):\n",
    "    x1, y1 = 2, wcss[0]\n",
    "    x2, y2 = 20, wcss[len(wcss)-1]\n",
    "\n",
    "    distances = []\n",
    "    for i in range(len(wcss)):\n",
    "        x0 = i+2\n",
    "        y0 = wcss[i]\n",
    "        numerator = abs((y2-y1)*x0 - (x2-x1)*y0 + x2*y1 - y2*x1)\n",
    "        denominator = sqrt((y2 - y1)**2 + (x2 - x1)**2)\n",
    "        distances.append(numerator/denominator)\n",
    "    \n",
    "    return distances.index(max(distances)) + 2"
   ]
  },
  {
   "cell_type": "code",
   "execution_count": 160,
   "metadata": {},
   "outputs": [
    {
     "data": {
      "text/plain": [
       "6"
      ]
     },
     "execution_count": 160,
     "metadata": {},
     "output_type": "execute_result"
    }
   ],
   "source": [
    "numero_de_grupos = optimal_number_of_clusters(soma_dos_quadrados)\n",
    "\n",
    "numero_de_grupos"
   ]
  },
  {
   "cell_type": "markdown",
   "metadata": {},
   "source": [
    ">Distintamente do exemplo com agrupamento hierárquico, encontramos que o número ótimo de grupos nesse caso são 6 grupos. Utilizaremos o valor para a construção do modelo:"
   ]
  },
  {
   "cell_type": "code",
   "execution_count": 157,
   "metadata": {},
   "outputs": [],
   "source": [
    "kmeans = KMeans(n_clusters = numero_de_grupos)\n",
    "\n",
    "grupos = kmeans.fit_predict(filmes_filtro)"
   ]
  },
  {
   "cell_type": "code",
   "execution_count": 158,
   "metadata": {},
   "outputs": [
    {
     "data": {
      "text/plain": [
       "<matplotlib.axes._subplots.AxesSubplot at 0x1a225ca6d8>"
      ]
     },
     "execution_count": 158,
     "metadata": {},
     "output_type": "execute_result"
    },
    {
     "data": {
      "image/png": "[encoded data removed]",
      "text/plain": [
       "<matplotlib.figure.Figure at 0x1a22931cf8>"
      ]
     },
     "metadata": {},
     "output_type": "display_data"
    }
   ],
   "source": [
    "filmes_filtro.plot.scatter(x='RATING', y='BOX OFFICE', c=kmeans.labels_, cmap='rainbow')"
   ]
  },
  {
   "cell_type": "markdown",
   "metadata": {},
   "source": [
    "Existem outras formas de determinar o número ótimo de grupos, esta apresentada acima foi apenas uma delas. Nas referências temos mais casos."
   ]
  }
 ],
 "metadata": {
  "kernelspec": {
   "display_name": "Python 3",
   "language": "python",
   "name": "python3"
  },
  "language_info": {
   "codemirror_mode": {
    "name": "ipython",
    "version": 3
   },
   "file_extension": ".py",
   "mimetype": "text/x-python",
   "name": "python",
   "nbconvert_exporter": "python",
   "pygments_lexer": "ipython3",
   "version": "3.6.4"
  }
 },
 "nbformat": 4,
 "nbformat_minor": 2
}
